{
 "cells": [
  {
   "cell_type": "markdown",
   "metadata": {},
   "source": [
    "# Lecture 6 - R packages and project introduction"
   ]
  },
  {
   "cell_type": "markdown",
   "metadata": {},
   "source": [
    "1. R package - dplyr & ggplot2\n",
    "2. Project introduction"
   ]
  },
  {
   "cell_type": "code",
   "execution_count": 1,
   "metadata": {},
   "outputs": [
    {
     "data": {
      "text/html": [
       "<ol class=list-inline>\n",
       "\t<li>2</li>\n",
       "\t<li>3</li>\n",
       "\t<li>4</li>\n",
       "\t<li>5</li>\n",
       "\t<li>6</li>\n",
       "\t<li>7</li>\n",
       "\t<li>8</li>\n",
       "\t<li>9</li>\n",
       "\t<li>10</li>\n",
       "\t<li>11</li>\n",
       "\t<li>12</li>\n",
       "</ol>\n"
      ],
      "text/latex": [
       "\\begin{enumerate*}\n",
       "\\item 2\n",
       "\\item 3\n",
       "\\item 4\n",
       "\\item 5\n",
       "\\item 6\n",
       "\\item 7\n",
       "\\item 8\n",
       "\\item 9\n",
       "\\item 10\n",
       "\\item 11\n",
       "\\item 12\n",
       "\\end{enumerate*}\n"
      ],
      "text/markdown": [
       "1. 2\n",
       "2. 3\n",
       "3. 4\n",
       "4. 5\n",
       "5. 6\n",
       "6. 7\n",
       "7. 8\n",
       "8. 9\n",
       "9. 10\n",
       "10. 11\n",
       "11. 12\n",
       "\n",
       "\n"
      ],
      "text/plain": [
       " [1]  2  3  4  5  6  7  8  9 10 11 12"
      ]
     },
     "metadata": {},
     "output_type": "display_data"
    }
   ],
   "source": [
    "l= seq(2,12)\n",
    "l"
   ]
  },
  {
   "cell_type": "markdown",
   "metadata": {},
   "source": [
    "## R pakcages"
   ]
  },
  {
   "cell_type": "markdown",
   "metadata": {},
   "source": [
    "For data manipulation/wrangling, two of the most important pakcages are __dplyr__ and __ggplot2__.  数据 和 画图"
   ]
  },
  {
   "cell_type": "markdown",
   "metadata": {},
   "source": [
    "### dplyr"
   ]
  },
  {
   "cell_type": "markdown",
   "metadata": {},
   "source": [
    "#### What is dplyr?  数据整理  主要用于table"
   ]
  },
  {
   "cell_type": "markdown",
   "metadata": {},
   "source": [
    "The dplyr is a powerful R-package to manipulate, clean and summarize unstructured data. In short, it makes data exploration and data manipulation easy and fast in R.\n",
    "\n",
    "The package \"dplyr\" comprises many functions that perform mostly used data manipulation operations such as applying filter, selecting specific columns, sorting data, adding or deleting columns and aggregating data. Another most important advantage of this package is that it's very easy to learn and use dplyr functions. Also easy to recall these functions. For example, filter() is used to filter rows."
   ]
  },
  {
   "cell_type": "code",
   "execution_count": 7,
   "metadata": {},
   "outputs": [
    {
     "name": "stderr",
     "output_type": "stream",
     "text": [
      "Your code contains a unicode char which cannot be displayed in your\n",
      "current locale and R will silently convert it to an escaped form when the\n",
      "R kernel executes this code. This can lead to subtle errors if you use\n",
      "such chars to do comparisons. For more information, please see\n",
      "https://github.com/IRkernel/repr/wiki/Problems-with-unicode-on-windows"
     ]
    }
   ],
   "source": [
    "require(dplyr) # 开始操作之前一定要调出 这个dplyr包\n",
    "library(dplyr)"
   ]
  },
  {
   "cell_type": "code",
   "execution_count": 37,
   "metadata": {
    "scrolled": true
   },
   "outputs": [],
   "source": [
    "# install.packages('dplyr')\n",
    "require(dplyr)"
   ]
  },
  {
   "cell_type": "markdown",
   "metadata": {},
   "source": [
    "#### Important dplyr functions"
   ]
  },
  {
   "cell_type": "code",
   "execution_count": 2,
   "metadata": {},
   "outputs": [
    {
     "name": "stderr",
     "output_type": "stream",
     "text": [
      "Installing package into 'C:/Users/kongg/Documents/R/win-library/3.6'\n",
      "(as 'lib' is unspecified)\n"
     ]
    },
    {
     "name": "stdout",
     "output_type": "stream",
     "text": [
      "package 'ggplot2' successfully unpacked and MD5 sums checked\n",
      "\n",
      "The downloaded binary packages are in\n",
      "\tC:\\Users\\kongg\\AppData\\Local\\Temp\\RtmpGyYreZ\\downloaded_packages\n"
     ]
    }
   ],
   "source": [
    "install.packages('ggplot2')"
   ]
  },
  {
   "attachments": {
    "dplyr.PNG": {
     "image/png": "[encoded data removed]"
    }
   },
   "cell_type": "markdown",
   "metadata": {},
   "source": [
    "![dplyr.PNG](attachment:dplyr.PNG)"
   ]
  },
  {
   "cell_type": "markdown",
   "metadata": {},
   "source": [
    "#### SQL vs dplyr"
   ]
  },
  {
   "cell_type": "markdown",
   "metadata": {},
   "source": [
    "Every modern data analysis software such as Python, R, SAS etc supports SQL commands. But SQL was never designed to perform data analysis. It was rather designed for querying and managing data. There are many data analysis operations where SQL fails or makes simple things difficult. For example, calculating median for multiple variables, converting wide format data to long format etc. Whereas, dplyr package was designed to do data analysis."
   ]
  },
  {
   "cell_type": "markdown",
   "metadata": {},
   "source": [
    "#### Import sample data"
   ]
  },
  {
   "cell_type": "code",
   "execution_count": null,
   "metadata": {},
   "outputs": [],
   "source": [
    "拿到数据之后基本上就是这样的顺序，首先清洗处理数据，产生更多有用的变量"
   ]
  },
  {
   "cell_type": "code",
   "execution_count": 2,
   "metadata": {},
   "outputs": [],
   "source": [
    "mydata = read.csv(\"https://raw.githubusercontent.com/deepanshu88/data/master/sampledata.csv\")"
   ]
  },
  {
   "cell_type": "code",
   "execution_count": 3,
   "metadata": {},
   "outputs": [
    {
     "data": {
      "text/html": [
       "<table>\n",
       "<caption>A data.frame: 6 × 16</caption>\n",
       "<thead>\n",
       "\t<tr><th scope=col>Index</th><th scope=col>State</th><th scope=col>Y2002</th><th scope=col>Y2003</th><th scope=col>Y2004</th><th scope=col>Y2005</th><th scope=col>Y2006</th><th scope=col>Y2007</th><th scope=col>Y2008</th><th scope=col>Y2009</th><th scope=col>Y2010</th><th scope=col>Y2011</th><th scope=col>Y2012</th><th scope=col>Y2013</th><th scope=col>Y2014</th><th scope=col>Y2015</th></tr>\n",
       "\t<tr><th scope=col>&lt;fct&gt;</th><th scope=col>&lt;fct&gt;</th><th scope=col>&lt;int&gt;</th><th scope=col>&lt;int&gt;</th><th scope=col>&lt;int&gt;</th><th scope=col>&lt;int&gt;</th><th scope=col>&lt;int&gt;</th><th scope=col>&lt;int&gt;</th><th scope=col>&lt;int&gt;</th><th scope=col>&lt;int&gt;</th><th scope=col>&lt;int&gt;</th><th scope=col>&lt;int&gt;</th><th scope=col>&lt;int&gt;</th><th scope=col>&lt;int&gt;</th><th scope=col>&lt;int&gt;</th><th scope=col>&lt;int&gt;</th></tr>\n",
       "</thead>\n",
       "<tbody>\n",
       "\t<tr><td>A</td><td>Alabama   </td><td>1296530</td><td>1317711</td><td>1118631</td><td>1492583</td><td>1107408</td><td>1440134</td><td>1945229</td><td>1944173</td><td>1237582</td><td>1440756</td><td>1186741</td><td>1852841</td><td>1558906</td><td>1916661</td></tr>\n",
       "\t<tr><td>A</td><td>Alaska    </td><td>1170302</td><td>1960378</td><td>1818085</td><td>1447852</td><td>1861639</td><td>1465841</td><td>1551826</td><td>1436541</td><td>1629616</td><td>1230866</td><td>1512804</td><td>1985302</td><td>1580394</td><td>1979143</td></tr>\n",
       "\t<tr><td>A</td><td>Arizona   </td><td>1742027</td><td>1968140</td><td>1377583</td><td>1782199</td><td>1102568</td><td>1109382</td><td>1752886</td><td>1554330</td><td>1300521</td><td>1130709</td><td>1907284</td><td>1363279</td><td>1525866</td><td>1647724</td></tr>\n",
       "\t<tr><td>A</td><td>Arkansas  </td><td>1485531</td><td>1994927</td><td>1119299</td><td>1947979</td><td>1669191</td><td>1801213</td><td>1188104</td><td>1628980</td><td>1669295</td><td>1928238</td><td>1216675</td><td>1591896</td><td>1360959</td><td>1329341</td></tr>\n",
       "\t<tr><td>C</td><td>California</td><td>1685349</td><td>1675807</td><td>1889570</td><td>1480280</td><td>1735069</td><td>1812546</td><td>1487315</td><td>1663809</td><td>1624509</td><td>1639670</td><td>1921845</td><td>1156536</td><td>1388461</td><td>1644607</td></tr>\n",
       "\t<tr><td>C</td><td>Colorado  </td><td>1343824</td><td>1878473</td><td>1886149</td><td>1236697</td><td>1871471</td><td>1814218</td><td>1875146</td><td>1752387</td><td>1913275</td><td>1665877</td><td>1491604</td><td>1178355</td><td>1383978</td><td>1330736</td></tr>\n",
       "</tbody>\n",
       "</table>\n"
      ],
      "text/latex": [
       "A data.frame: 6 × 16\n",
       "\\begin{tabular}{r|llllllllllllllll}\n",
       " Index & State & Y2002 & Y2003 & Y2004 & Y2005 & Y2006 & Y2007 & Y2008 & Y2009 & Y2010 & Y2011 & Y2012 & Y2013 & Y2014 & Y2015\\\\\n",
       " <fct> & <fct> & <int> & <int> & <int> & <int> & <int> & <int> & <int> & <int> & <int> & <int> & <int> & <int> & <int> & <int>\\\\\n",
       "\\hline\n",
       "\t A & Alabama    & 1296530 & 1317711 & 1118631 & 1492583 & 1107408 & 1440134 & 1945229 & 1944173 & 1237582 & 1440756 & 1186741 & 1852841 & 1558906 & 1916661\\\\\n",
       "\t A & Alaska     & 1170302 & 1960378 & 1818085 & 1447852 & 1861639 & 1465841 & 1551826 & 1436541 & 1629616 & 1230866 & 1512804 & 1985302 & 1580394 & 1979143\\\\\n",
       "\t A & Arizona    & 1742027 & 1968140 & 1377583 & 1782199 & 1102568 & 1109382 & 1752886 & 1554330 & 1300521 & 1130709 & 1907284 & 1363279 & 1525866 & 1647724\\\\\n",
       "\t A & Arkansas   & 1485531 & 1994927 & 1119299 & 1947979 & 1669191 & 1801213 & 1188104 & 1628980 & 1669295 & 1928238 & 1216675 & 1591896 & 1360959 & 1329341\\\\\n",
       "\t C & California & 1685349 & 1675807 & 1889570 & 1480280 & 1735069 & 1812546 & 1487315 & 1663809 & 1624509 & 1639670 & 1921845 & 1156536 & 1388461 & 1644607\\\\\n",
       "\t C & Colorado   & 1343824 & 1878473 & 1886149 & 1236697 & 1871471 & 1814218 & 1875146 & 1752387 & 1913275 & 1665877 & 1491604 & 1178355 & 1383978 & 1330736\\\\\n",
       "\\end{tabular}\n"
      ],
      "text/markdown": [
       "\n",
       "A data.frame: 6 × 16\n",
       "\n",
       "| Index &lt;fct&gt; | State &lt;fct&gt; | Y2002 &lt;int&gt; | Y2003 &lt;int&gt; | Y2004 &lt;int&gt; | Y2005 &lt;int&gt; | Y2006 &lt;int&gt; | Y2007 &lt;int&gt; | Y2008 &lt;int&gt; | Y2009 &lt;int&gt; | Y2010 &lt;int&gt; | Y2011 &lt;int&gt; | Y2012 &lt;int&gt; | Y2013 &lt;int&gt; | Y2014 &lt;int&gt; | Y2015 &lt;int&gt; |\n",
       "|---|---|---|---|---|---|---|---|---|---|---|---|---|---|---|---|\n",
       "| A | Alabama    | 1296530 | 1317711 | 1118631 | 1492583 | 1107408 | 1440134 | 1945229 | 1944173 | 1237582 | 1440756 | 1186741 | 1852841 | 1558906 | 1916661 |\n",
       "| A | Alaska     | 1170302 | 1960378 | 1818085 | 1447852 | 1861639 | 1465841 | 1551826 | 1436541 | 1629616 | 1230866 | 1512804 | 1985302 | 1580394 | 1979143 |\n",
       "| A | Arizona    | 1742027 | 1968140 | 1377583 | 1782199 | 1102568 | 1109382 | 1752886 | 1554330 | 1300521 | 1130709 | 1907284 | 1363279 | 1525866 | 1647724 |\n",
       "| A | Arkansas   | 1485531 | 1994927 | 1119299 | 1947979 | 1669191 | 1801213 | 1188104 | 1628980 | 1669295 | 1928238 | 1216675 | 1591896 | 1360959 | 1329341 |\n",
       "| C | California | 1685349 | 1675807 | 1889570 | 1480280 | 1735069 | 1812546 | 1487315 | 1663809 | 1624509 | 1639670 | 1921845 | 1156536 | 1388461 | 1644607 |\n",
       "| C | Colorado   | 1343824 | 1878473 | 1886149 | 1236697 | 1871471 | 1814218 | 1875146 | 1752387 | 1913275 | 1665877 | 1491604 | 1178355 | 1383978 | 1330736 |\n",
       "\n"
      ],
      "text/plain": [
       "  Index State      Y2002   Y2003   Y2004   Y2005   Y2006   Y2007   Y2008  \n",
       "1 A     Alabama    1296530 1317711 1118631 1492583 1107408 1440134 1945229\n",
       "2 A     Alaska     1170302 1960378 1818085 1447852 1861639 1465841 1551826\n",
       "3 A     Arizona    1742027 1968140 1377583 1782199 1102568 1109382 1752886\n",
       "4 A     Arkansas   1485531 1994927 1119299 1947979 1669191 1801213 1188104\n",
       "5 C     California 1685349 1675807 1889570 1480280 1735069 1812546 1487315\n",
       "6 C     Colorado   1343824 1878473 1886149 1236697 1871471 1814218 1875146\n",
       "  Y2009   Y2010   Y2011   Y2012   Y2013   Y2014   Y2015  \n",
       "1 1944173 1237582 1440756 1186741 1852841 1558906 1916661\n",
       "2 1436541 1629616 1230866 1512804 1985302 1580394 1979143\n",
       "3 1554330 1300521 1130709 1907284 1363279 1525866 1647724\n",
       "4 1628980 1669295 1928238 1216675 1591896 1360959 1329341\n",
       "5 1663809 1624509 1639670 1921845 1156536 1388461 1644607\n",
       "6 1752387 1913275 1665877 1491604 1178355 1383978 1330736"
      ]
     },
     "metadata": {},
     "output_type": "display_data"
    }
   ],
   "source": [
    "head(mydata)"
   ]
  },
  {
   "cell_type": "code",
   "execution_count": 41,
   "metadata": {},
   "outputs": [
    {
     "data": {
      "text/html": [
       "<ol class=list-inline>\n",
       "\t<li>51</li>\n",
       "\t<li>16</li>\n",
       "</ol>\n"
      ],
      "text/latex": [
       "\\begin{enumerate*}\n",
       "\\item 51\n",
       "\\item 16\n",
       "\\end{enumerate*}\n"
      ],
      "text/markdown": [
       "1. 51\n",
       "2. 16\n",
       "\n",
       "\n"
      ],
      "text/plain": [
       "[1] 51 16"
      ]
     },
     "metadata": {},
     "output_type": "display_data"
    }
   ],
   "source": [
    "# check number of columns and rows  查看行数和列数\n",
    "dim(mydata)  "
   ]
  },
  {
   "cell_type": "code",
   "execution_count": 42,
   "metadata": {},
   "outputs": [
    {
     "name": "stderr",
     "output_type": "stream",
     "text": [
      "Your code contains a unicode char which cannot be displayed in your\n",
      "current locale and R will silently convert it to an escaped form when the\n",
      "R kernel executes this code. This can lead to subtle errors if you use\n",
      "such chars to do comparisons. For more information, please see\n",
      "https://github.com/IRkernel/repr/wiki/Problems-with-unicode-on-windows"
     ]
    },
    {
     "name": "stdout",
     "output_type": "stream",
     "text": [
      "'data.frame':\t51 obs. of  16 variables:\n",
      " $ Index: Factor w/ 19 levels \"A\",\"C\",\"D\",\"F\",..: 1 1 1 1 2 2 2 3 3 4 ...\n",
      " $ State: Factor w/ 51 levels \"Alabama\",\"Alaska\",..: 1 2 3 4 5 6 7 8 9 10 ...\n",
      " $ Y2002: int  1296530 1170302 1742027 1485531 1685349 1343824 1610512 1330403 1111437 1964626 ...\n",
      " $ Y2003: int  1317711 1960378 1968140 1994927 1675807 1878473 1232844 1268673 1993741 1468852 ...\n",
      " $ Y2004: int  1118631 1818085 1377583 1119299 1889570 1886149 1181949 1706751 1374643 1419738 ...\n",
      " $ Y2005: int  1492583 1447852 1782199 1947979 1480280 1236697 1518933 1403759 1827949 1362787 ...\n",
      " $ Y2006: int  1107408 1861639 1102568 1669191 1735069 1871471 1841266 1441351 1803852 1339608 ...\n",
      " $ Y2007: int  1440134 1465841 1109382 1801213 1812546 1814218 1976976 1300836 1595981 1278550 ...\n",
      " $ Y2008: int  1945229 1551826 1752886 1188104 1487315 1875146 1764457 1762096 1193245 1756185 ...\n",
      " $ Y2009: int  1944173 1436541 1554330 1628980 1663809 1752387 1972730 1553585 1739748 1818438 ...\n",
      " $ Y2010: int  1237582 1629616 1300521 1669295 1624509 1913275 1968730 1370984 1707823 1198403 ...\n",
      " $ Y2011: int  1440756 1230866 1130709 1928238 1639670 1665877 1945524 1318669 1353449 1497051 ...\n",
      " $ Y2012: int  1186741 1512804 1907284 1216675 1921845 1491604 1228529 1984027 1979708 1131928 ...\n",
      " $ Y2013: int  1852841 1985302 1363279 1591896 1156536 1178355 1582249 1671279 1912654 1107448 ...\n",
      " $ Y2014: int  1558906 1580394 1525866 1360959 1388461 1383978 1503156 1803169 1782169 1407784 ...\n",
      " $ Y2015: int  1916661 1979143 1647724 1329341 1644607 1330736 1718072 1627508 1410183 1170389 ...\n"
     ]
    }
   ],
   "source": [
    "# view the structure of the dataset  看数据的格式\n",
    "str(mydata)"
   ]
  },
  {
   "cell_type": "code",
   "execution_count": 43,
   "metadata": {},
   "outputs": [
    {
     "name": "stderr",
     "output_type": "stream",
     "text": [
      "Your code contains a unicode char which cannot be displayed in your\n",
      "current locale and R will silently convert it to an escaped form when the\n",
      "R kernel executes this code. This can lead to subtle errors if you use\n",
      "such chars to do comparisons. For more information, please see\n",
      "https://github.com/IRkernel/repr/wiki/Problems-with-unicode-on-windows"
     ]
    },
    {
     "data": {
      "text/plain": [
       "     Index           State        Y2002             Y2003        \n",
       " M      : 8   Alabama   : 1   Min.   :1111437   Min.   :1110625  \n",
       " N      : 8   Alaska    : 1   1st Qu.:1374180   1st Qu.:1292391  \n",
       " A      : 4   Arizona   : 1   Median :1584734   Median :1485909  \n",
       " I      : 4   Arkansas  : 1   Mean   :1566034   Mean   :1509193  \n",
       " W      : 4   California: 1   3rd Qu.:1776054   3rd Qu.:1686698  \n",
       " C      : 3   Colorado  : 1   Max.   :1983285   Max.   :1994927  \n",
       " (Other):20   (Other)   :45                                      \n",
       "     Y2004             Y2005             Y2006             Y2007        \n",
       " Min.   :1118631   Min.   :1122030   Min.   :1102568   Min.   :1109382  \n",
       " 1st Qu.:1268292   1st Qu.:1267340   1st Qu.:1337236   1st Qu.:1322419  \n",
       " Median :1522230   Median :1480280   Median :1531641   Median :1563062  \n",
       " Mean   :1540555   Mean   :1522064   Mean   :1530969   Mean   :1553219  \n",
       " 3rd Qu.:1808109   3rd Qu.:1778171   3rd Qu.:1732259   3rd Qu.:1780589  \n",
       " Max.   :1979395   Max.   :1990062   Max.   :1985692   Max.   :1983568  \n",
       "                                                                        \n",
       "     Y2008             Y2009             Y2010             Y2011        \n",
       " Min.   :1112765   Min.   :1116168   Min.   :1103794   Min.   :1116203  \n",
       " 1st Qu.:1254244   1st Qu.:1553958   1st Qu.:1328439   1st Qu.:1371730  \n",
       " Median :1545621   Median :1658551   Median :1498662   Median :1575533  \n",
       " Mean   :1538398   Mean   :1658519   Mean   :1504108   Mean   :1574968  \n",
       " 3rd Qu.:1779538   3rd Qu.:1857747   3rd Qu.:1639186   3rd Qu.:1807767  \n",
       " Max.   :1990431   Max.   :1993136   Max.   :1999102   Max.   :1992996  \n",
       "                                                                        \n",
       "     Y2012             Y2013             Y2014             Y2015        \n",
       " Min.   :1108281   Min.   :1100990   Min.   :1110394   Min.   :1110655  \n",
       " 1st Qu.:1360654   1st Qu.:1285738   1st Qu.:1385703   1st Qu.:1372523  \n",
       " Median :1643855   Median :1531212   Median :1580394   Median :1627508  \n",
       " Mean   :1591135   Mean   :1530078   Mean   :1583360   Mean   :1588298  \n",
       " 3rd Qu.:1866322   3rd Qu.:1725377   3rd Qu.:1791594   3rd Qu.:1848316  \n",
       " Max.   :1988270   Max.   :1994022   Max.   :1990412   Max.   :1996005  \n",
       "                                                                        "
      ]
     },
     "metadata": {},
     "output_type": "display_data"
    }
   ],
   "source": [
    "# give a summary of variables  对每一列进行计算\n",
    "summary(mydata)  "
   ]
  },
  {
   "cell_type": "code",
   "execution_count": 44,
   "metadata": {},
   "outputs": [
    {
     "data": {
      "text/plain": [
       "\n",
       "             Alabama               Alaska              Arizona \n",
       "                   1                    1                    1 \n",
       "            Arkansas           California             Colorado \n",
       "                   1                    1                    1 \n",
       "         Connecticut             Delaware District of Columbia \n",
       "                   1                    1                    1 \n",
       "             Florida              Georgia               Hawaii \n",
       "                   1                    1                    1 \n",
       "               Idaho             Illinois              Indiana \n",
       "                   1                    1                    1 \n",
       "                Iowa               Kansas             Kentucky \n",
       "                   1                    1                    1 \n",
       "           Louisiana                Maine             Maryland \n",
       "                   1                    1                    1 \n",
       "       Massachusetts             Michigan            Minnesota \n",
       "                   1                    1                    1 \n",
       "         Mississippi             Missouri              Montana \n",
       "                   1                    1                    1 \n",
       "            Nebraska               Nevada        New Hampshire \n",
       "                   1                    1                    1 \n",
       "          New Jersey           New Mexico             New York \n",
       "                   1                    1                    1 \n",
       "      North Carolina         North Dakota                 Ohio \n",
       "                   1                    1                    1 \n",
       "            Oklahoma               Oregon         Pennsylvania \n",
       "                   1                    1                    1 \n",
       "        Rhode Island       South Carolina         South Dakota \n",
       "                   1                    1                    1 \n",
       "           Tennessee                Texas                 Utah \n",
       "                   1                    1                    1 \n",
       "             Vermont             Virginia           Washington \n",
       "                   1                    1                    1 \n",
       "       West Virginia            Wisconsin              Wyoming \n",
       "                   1                    1                    1 "
      ]
     },
     "metadata": {},
     "output_type": "display_data"
    }
   ],
   "source": [
    "# frequency table of states   每个州出现的次数\n",
    "table(mydata$State)"
   ]
  },
  {
   "cell_type": "code",
   "execution_count": 6,
   "metadata": {},
   "outputs": [
    {
     "name": "stderr",
     "output_type": "stream",
     "text": [
      "Your code contains a unicode char which cannot be displayed in your\n",
      "current locale and R will silently convert it to an escaped form when the\n",
      "R kernel executes this code. This can lead to subtle errors if you use\n",
      "such chars to do comparisons. For more information, please see\n",
      "https://github.com/IRkernel/repr/wiki/Problems-with-unicode-on-windows"
     ]
    },
    {
     "data": {
      "image/png": "[encoded data removed]",
      "text/plain": [
       "Plot with title \"Histogram of mydata$Y2015\""
      ]
     },
     "metadata": {},
     "output_type": "display_data"
    }
   ],
   "source": [
    "# plot one year of income  画图函数  直方图\n",
    "hist(mydata$Y2015)"
   ]
  },
  {
   "cell_type": "code",
   "execution_count": 46,
   "metadata": {},
   "outputs": [
    {
     "data": {
      "image/png": "[encoded data removed]",
      "text/plain": [
       "Plot with title \"Histogram of mydata$Y2009\""
      ]
     },
     "metadata": {},
     "output_type": "display_data"
    }
   ],
   "source": [
    "#画直方图\n",
    "hist(mydata$Y2009)"
   ]
  },
  {
   "cell_type": "markdown",
   "metadata": {},
   "source": [
    "#### Selecting Random N Rows"
   ]
  },
  {
   "cell_type": "markdown",
   "metadata": {},
   "source": [
    "The sample_n function selects random rows from a data frame (or table). The second parameter of the function tells R the number of rows to select."
   ]
  },
  {
   "cell_type": "code",
   "execution_count": 7,
   "metadata": {},
   "outputs": [
    {
     "name": "stderr",
     "output_type": "stream",
     "text": [
      "Your code contains a unicode char which cannot be displayed in your\n",
      "current locale and R will silently convert it to an escaped form when the\n",
      "R kernel executes this code. This can lead to subtle errors if you use\n",
      "such chars to do comparisons. For more information, please see\n",
      "https://github.com/IRkernel/repr/wiki/Problems-with-unicode-on-windows"
     ]
    },
    {
     "data": {
      "text/html": [
       "<table>\n",
       "<caption>A data.frame: 3 × 16</caption>\n",
       "<thead>\n",
       "\t<tr><th scope=col>Index</th><th scope=col>State</th><th scope=col>Y2002</th><th scope=col>Y2003</th><th scope=col>Y2004</th><th scope=col>Y2005</th><th scope=col>Y2006</th><th scope=col>Y2007</th><th scope=col>Y2008</th><th scope=col>Y2009</th><th scope=col>Y2010</th><th scope=col>Y2011</th><th scope=col>Y2012</th><th scope=col>Y2013</th><th scope=col>Y2014</th><th scope=col>Y2015</th></tr>\n",
       "\t<tr><th scope=col>&lt;fct&gt;</th><th scope=col>&lt;fct&gt;</th><th scope=col>&lt;int&gt;</th><th scope=col>&lt;int&gt;</th><th scope=col>&lt;int&gt;</th><th scope=col>&lt;int&gt;</th><th scope=col>&lt;int&gt;</th><th scope=col>&lt;int&gt;</th><th scope=col>&lt;int&gt;</th><th scope=col>&lt;int&gt;</th><th scope=col>&lt;int&gt;</th><th scope=col>&lt;int&gt;</th><th scope=col>&lt;int&gt;</th><th scope=col>&lt;int&gt;</th><th scope=col>&lt;int&gt;</th><th scope=col>&lt;int&gt;</th></tr>\n",
       "</thead>\n",
       "<tbody>\n",
       "\t<tr><td>M</td><td>Mississippi</td><td>1983285</td><td>1292558</td><td>1631325</td><td>1943311</td><td>1354579</td><td>1731643</td><td>1428291</td><td>1568049</td><td>1383227</td><td>1629132</td><td>1988270</td><td>1907777</td><td>1649668</td><td>1991232</td></tr>\n",
       "\t<tr><td>C</td><td>California </td><td>1685349</td><td>1675807</td><td>1889570</td><td>1480280</td><td>1735069</td><td>1812546</td><td>1487315</td><td>1663809</td><td>1624509</td><td>1639670</td><td>1921845</td><td>1156536</td><td>1388461</td><td>1644607</td></tr>\n",
       "\t<tr><td>O</td><td>Oregon     </td><td>1794912</td><td>1726665</td><td>1805445</td><td>1133510</td><td>1502242</td><td>1419251</td><td>1482786</td><td>1862351</td><td>1103794</td><td>1935687</td><td>1905378</td><td>1522129</td><td>1509171</td><td>1893515</td></tr>\n",
       "</tbody>\n",
       "</table>\n"
      ],
      "text/latex": [
       "A data.frame: 3 × 16\n",
       "\\begin{tabular}{r|llllllllllllllll}\n",
       " Index & State & Y2002 & Y2003 & Y2004 & Y2005 & Y2006 & Y2007 & Y2008 & Y2009 & Y2010 & Y2011 & Y2012 & Y2013 & Y2014 & Y2015\\\\\n",
       " <fct> & <fct> & <int> & <int> & <int> & <int> & <int> & <int> & <int> & <int> & <int> & <int> & <int> & <int> & <int> & <int>\\\\\n",
       "\\hline\n",
       "\t M & Mississippi & 1983285 & 1292558 & 1631325 & 1943311 & 1354579 & 1731643 & 1428291 & 1568049 & 1383227 & 1629132 & 1988270 & 1907777 & 1649668 & 1991232\\\\\n",
       "\t C & California  & 1685349 & 1675807 & 1889570 & 1480280 & 1735069 & 1812546 & 1487315 & 1663809 & 1624509 & 1639670 & 1921845 & 1156536 & 1388461 & 1644607\\\\\n",
       "\t O & Oregon      & 1794912 & 1726665 & 1805445 & 1133510 & 1502242 & 1419251 & 1482786 & 1862351 & 1103794 & 1935687 & 1905378 & 1522129 & 1509171 & 1893515\\\\\n",
       "\\end{tabular}\n"
      ],
      "text/markdown": [
       "\n",
       "A data.frame: 3 × 16\n",
       "\n",
       "| Index &lt;fct&gt; | State &lt;fct&gt; | Y2002 &lt;int&gt; | Y2003 &lt;int&gt; | Y2004 &lt;int&gt; | Y2005 &lt;int&gt; | Y2006 &lt;int&gt; | Y2007 &lt;int&gt; | Y2008 &lt;int&gt; | Y2009 &lt;int&gt; | Y2010 &lt;int&gt; | Y2011 &lt;int&gt; | Y2012 &lt;int&gt; | Y2013 &lt;int&gt; | Y2014 &lt;int&gt; | Y2015 &lt;int&gt; |\n",
       "|---|---|---|---|---|---|---|---|---|---|---|---|---|---|---|---|\n",
       "| M | Mississippi | 1983285 | 1292558 | 1631325 | 1943311 | 1354579 | 1731643 | 1428291 | 1568049 | 1383227 | 1629132 | 1988270 | 1907777 | 1649668 | 1991232 |\n",
       "| C | California  | 1685349 | 1675807 | 1889570 | 1480280 | 1735069 | 1812546 | 1487315 | 1663809 | 1624509 | 1639670 | 1921845 | 1156536 | 1388461 | 1644607 |\n",
       "| O | Oregon      | 1794912 | 1726665 | 1805445 | 1133510 | 1502242 | 1419251 | 1482786 | 1862351 | 1103794 | 1935687 | 1905378 | 1522129 | 1509171 | 1893515 |\n",
       "\n"
      ],
      "text/plain": [
       "  Index State       Y2002   Y2003   Y2004   Y2005   Y2006   Y2007   Y2008  \n",
       "1 M     Mississippi 1983285 1292558 1631325 1943311 1354579 1731643 1428291\n",
       "2 C     California  1685349 1675807 1889570 1480280 1735069 1812546 1487315\n",
       "3 O     Oregon      1794912 1726665 1805445 1133510 1502242 1419251 1482786\n",
       "  Y2009   Y2010   Y2011   Y2012   Y2013   Y2014   Y2015  \n",
       "1 1568049 1383227 1629132 1988270 1907777 1649668 1991232\n",
       "2 1663809 1624509 1639670 1921845 1156536 1388461 1644607\n",
       "3 1862351 1103794 1935687 1905378 1522129 1509171 1893515"
      ]
     },
     "metadata": {},
     "output_type": "display_data"
    }
   ],
   "source": [
    "sample_n(mydata,3)  #随机抽取  这里随机抽取3行"
   ]
  },
  {
   "cell_type": "code",
   "execution_count": 8,
   "metadata": {},
   "outputs": [
    {
     "data": {
      "text/html": [
       "<table>\n",
       "<caption>A data.frame: 10 × 16</caption>\n",
       "<thead>\n",
       "\t<tr><th scope=col>Index</th><th scope=col>State</th><th scope=col>Y2002</th><th scope=col>Y2003</th><th scope=col>Y2004</th><th scope=col>Y2005</th><th scope=col>Y2006</th><th scope=col>Y2007</th><th scope=col>Y2008</th><th scope=col>Y2009</th><th scope=col>Y2010</th><th scope=col>Y2011</th><th scope=col>Y2012</th><th scope=col>Y2013</th><th scope=col>Y2014</th><th scope=col>Y2015</th></tr>\n",
       "\t<tr><th scope=col>&lt;fct&gt;</th><th scope=col>&lt;fct&gt;</th><th scope=col>&lt;int&gt;</th><th scope=col>&lt;int&gt;</th><th scope=col>&lt;int&gt;</th><th scope=col>&lt;int&gt;</th><th scope=col>&lt;int&gt;</th><th scope=col>&lt;int&gt;</th><th scope=col>&lt;int&gt;</th><th scope=col>&lt;int&gt;</th><th scope=col>&lt;int&gt;</th><th scope=col>&lt;int&gt;</th><th scope=col>&lt;int&gt;</th><th scope=col>&lt;int&gt;</th><th scope=col>&lt;int&gt;</th><th scope=col>&lt;int&gt;</th></tr>\n",
       "</thead>\n",
       "<tbody>\n",
       "\t<tr><td>O</td><td>Oregon      </td><td>1794912</td><td>1726665</td><td>1805445</td><td>1133510</td><td>1502242</td><td>1419251</td><td>1482786</td><td>1862351</td><td>1103794</td><td>1935687</td><td>1905378</td><td>1522129</td><td>1509171</td><td>1893515</td></tr>\n",
       "\t<tr><td>W</td><td>Wisconsin   </td><td>1788920</td><td>1518578</td><td>1289663</td><td>1436888</td><td>1251678</td><td>1721874</td><td>1980167</td><td>1901394</td><td>1648755</td><td>1940943</td><td>1729177</td><td>1510119</td><td>1701650</td><td>1846238</td></tr>\n",
       "\t<tr><td>T</td><td>Texas       </td><td>1520591</td><td>1310777</td><td>1957713</td><td>1907326</td><td>1873544</td><td>1655483</td><td>1785986</td><td>1827503</td><td>1447457</td><td>1978374</td><td>1882532</td><td>1698698</td><td>1646508</td><td>1705322</td></tr>\n",
       "\t<tr><td>G</td><td>Georgia     </td><td>1929009</td><td>1541565</td><td>1810773</td><td>1779091</td><td>1326846</td><td>1223770</td><td>1773090</td><td>1630325</td><td>1145473</td><td>1851245</td><td>1850111</td><td>1887157</td><td>1259353</td><td>1725470</td></tr>\n",
       "\t<tr><td>P</td><td>Pennsylvania</td><td>1320191</td><td>1446723</td><td>1218591</td><td>1122030</td><td>1971479</td><td>1563062</td><td>1274168</td><td>1571032</td><td>1433835</td><td>1483292</td><td>1290329</td><td>1475344</td><td>1931500</td><td>1668232</td></tr>\n",
       "\t<tr><td>F</td><td>Florida     </td><td>1964626</td><td>1468852</td><td>1419738</td><td>1362787</td><td>1339608</td><td>1278550</td><td>1756185</td><td>1818438</td><td>1198403</td><td>1497051</td><td>1131928</td><td>1107448</td><td>1407784</td><td>1170389</td></tr>\n",
       "\t<tr><td>N</td><td>Nevada      </td><td>1426117</td><td>1114500</td><td>1119707</td><td>1758830</td><td>1694526</td><td>1765826</td><td>1903270</td><td>1231480</td><td>1526066</td><td>1143343</td><td>1980195</td><td>1283813</td><td>1225348</td><td>1903804</td></tr>\n",
       "\t<tr><td>D</td><td>Delaware    </td><td>1330403</td><td>1268673</td><td>1706751</td><td>1403759</td><td>1441351</td><td>1300836</td><td>1762096</td><td>1553585</td><td>1370984</td><td>1318669</td><td>1984027</td><td>1671279</td><td>1803169</td><td>1627508</td></tr>\n",
       "\t<tr><td>H</td><td>Hawaii      </td><td>1461570</td><td>1200280</td><td>1213993</td><td>1245931</td><td>1459383</td><td>1430465</td><td>1919423</td><td>1928416</td><td>1330509</td><td>1902816</td><td>1695126</td><td>1517184</td><td>1948108</td><td>1150882</td></tr>\n",
       "\t<tr><td>N</td><td>New York    </td><td>1395149</td><td>1611371</td><td>1170675</td><td>1446810</td><td>1426941</td><td>1463171</td><td>1732098</td><td>1426216</td><td>1604531</td><td>1683687</td><td>1500089</td><td>1718837</td><td>1619033</td><td>1367705</td></tr>\n",
       "</tbody>\n",
       "</table>\n"
      ],
      "text/latex": [
       "A data.frame: 10 × 16\n",
       "\\begin{tabular}{r|llllllllllllllll}\n",
       " Index & State & Y2002 & Y2003 & Y2004 & Y2005 & Y2006 & Y2007 & Y2008 & Y2009 & Y2010 & Y2011 & Y2012 & Y2013 & Y2014 & Y2015\\\\\n",
       " <fct> & <fct> & <int> & <int> & <int> & <int> & <int> & <int> & <int> & <int> & <int> & <int> & <int> & <int> & <int> & <int>\\\\\n",
       "\\hline\n",
       "\t O & Oregon       & 1794912 & 1726665 & 1805445 & 1133510 & 1502242 & 1419251 & 1482786 & 1862351 & 1103794 & 1935687 & 1905378 & 1522129 & 1509171 & 1893515\\\\\n",
       "\t W & Wisconsin    & 1788920 & 1518578 & 1289663 & 1436888 & 1251678 & 1721874 & 1980167 & 1901394 & 1648755 & 1940943 & 1729177 & 1510119 & 1701650 & 1846238\\\\\n",
       "\t T & Texas        & 1520591 & 1310777 & 1957713 & 1907326 & 1873544 & 1655483 & 1785986 & 1827503 & 1447457 & 1978374 & 1882532 & 1698698 & 1646508 & 1705322\\\\\n",
       "\t G & Georgia      & 1929009 & 1541565 & 1810773 & 1779091 & 1326846 & 1223770 & 1773090 & 1630325 & 1145473 & 1851245 & 1850111 & 1887157 & 1259353 & 1725470\\\\\n",
       "\t P & Pennsylvania & 1320191 & 1446723 & 1218591 & 1122030 & 1971479 & 1563062 & 1274168 & 1571032 & 1433835 & 1483292 & 1290329 & 1475344 & 1931500 & 1668232\\\\\n",
       "\t F & Florida      & 1964626 & 1468852 & 1419738 & 1362787 & 1339608 & 1278550 & 1756185 & 1818438 & 1198403 & 1497051 & 1131928 & 1107448 & 1407784 & 1170389\\\\\n",
       "\t N & Nevada       & 1426117 & 1114500 & 1119707 & 1758830 & 1694526 & 1765826 & 1903270 & 1231480 & 1526066 & 1143343 & 1980195 & 1283813 & 1225348 & 1903804\\\\\n",
       "\t D & Delaware     & 1330403 & 1268673 & 1706751 & 1403759 & 1441351 & 1300836 & 1762096 & 1553585 & 1370984 & 1318669 & 1984027 & 1671279 & 1803169 & 1627508\\\\\n",
       "\t H & Hawaii       & 1461570 & 1200280 & 1213993 & 1245931 & 1459383 & 1430465 & 1919423 & 1928416 & 1330509 & 1902816 & 1695126 & 1517184 & 1948108 & 1150882\\\\\n",
       "\t N & New York     & 1395149 & 1611371 & 1170675 & 1446810 & 1426941 & 1463171 & 1732098 & 1426216 & 1604531 & 1683687 & 1500089 & 1718837 & 1619033 & 1367705\\\\\n",
       "\\end{tabular}\n"
      ],
      "text/markdown": [
       "\n",
       "A data.frame: 10 × 16\n",
       "\n",
       "| Index &lt;fct&gt; | State &lt;fct&gt; | Y2002 &lt;int&gt; | Y2003 &lt;int&gt; | Y2004 &lt;int&gt; | Y2005 &lt;int&gt; | Y2006 &lt;int&gt; | Y2007 &lt;int&gt; | Y2008 &lt;int&gt; | Y2009 &lt;int&gt; | Y2010 &lt;int&gt; | Y2011 &lt;int&gt; | Y2012 &lt;int&gt; | Y2013 &lt;int&gt; | Y2014 &lt;int&gt; | Y2015 &lt;int&gt; |\n",
       "|---|---|---|---|---|---|---|---|---|---|---|---|---|---|---|---|\n",
       "| O | Oregon       | 1794912 | 1726665 | 1805445 | 1133510 | 1502242 | 1419251 | 1482786 | 1862351 | 1103794 | 1935687 | 1905378 | 1522129 | 1509171 | 1893515 |\n",
       "| W | Wisconsin    | 1788920 | 1518578 | 1289663 | 1436888 | 1251678 | 1721874 | 1980167 | 1901394 | 1648755 | 1940943 | 1729177 | 1510119 | 1701650 | 1846238 |\n",
       "| T | Texas        | 1520591 | 1310777 | 1957713 | 1907326 | 1873544 | 1655483 | 1785986 | 1827503 | 1447457 | 1978374 | 1882532 | 1698698 | 1646508 | 1705322 |\n",
       "| G | Georgia      | 1929009 | 1541565 | 1810773 | 1779091 | 1326846 | 1223770 | 1773090 | 1630325 | 1145473 | 1851245 | 1850111 | 1887157 | 1259353 | 1725470 |\n",
       "| P | Pennsylvania | 1320191 | 1446723 | 1218591 | 1122030 | 1971479 | 1563062 | 1274168 | 1571032 | 1433835 | 1483292 | 1290329 | 1475344 | 1931500 | 1668232 |\n",
       "| F | Florida      | 1964626 | 1468852 | 1419738 | 1362787 | 1339608 | 1278550 | 1756185 | 1818438 | 1198403 | 1497051 | 1131928 | 1107448 | 1407784 | 1170389 |\n",
       "| N | Nevada       | 1426117 | 1114500 | 1119707 | 1758830 | 1694526 | 1765826 | 1903270 | 1231480 | 1526066 | 1143343 | 1980195 | 1283813 | 1225348 | 1903804 |\n",
       "| D | Delaware     | 1330403 | 1268673 | 1706751 | 1403759 | 1441351 | 1300836 | 1762096 | 1553585 | 1370984 | 1318669 | 1984027 | 1671279 | 1803169 | 1627508 |\n",
       "| H | Hawaii       | 1461570 | 1200280 | 1213993 | 1245931 | 1459383 | 1430465 | 1919423 | 1928416 | 1330509 | 1902816 | 1695126 | 1517184 | 1948108 | 1150882 |\n",
       "| N | New York     | 1395149 | 1611371 | 1170675 | 1446810 | 1426941 | 1463171 | 1732098 | 1426216 | 1604531 | 1683687 | 1500089 | 1718837 | 1619033 | 1367705 |\n",
       "\n"
      ],
      "text/plain": [
       "   Index State        Y2002   Y2003   Y2004   Y2005   Y2006   Y2007   Y2008  \n",
       "1  O     Oregon       1794912 1726665 1805445 1133510 1502242 1419251 1482786\n",
       "2  W     Wisconsin    1788920 1518578 1289663 1436888 1251678 1721874 1980167\n",
       "3  T     Texas        1520591 1310777 1957713 1907326 1873544 1655483 1785986\n",
       "4  G     Georgia      1929009 1541565 1810773 1779091 1326846 1223770 1773090\n",
       "5  P     Pennsylvania 1320191 1446723 1218591 1122030 1971479 1563062 1274168\n",
       "6  F     Florida      1964626 1468852 1419738 1362787 1339608 1278550 1756185\n",
       "7  N     Nevada       1426117 1114500 1119707 1758830 1694526 1765826 1903270\n",
       "8  D     Delaware     1330403 1268673 1706751 1403759 1441351 1300836 1762096\n",
       "9  H     Hawaii       1461570 1200280 1213993 1245931 1459383 1430465 1919423\n",
       "10 N     New York     1395149 1611371 1170675 1446810 1426941 1463171 1732098\n",
       "   Y2009   Y2010   Y2011   Y2012   Y2013   Y2014   Y2015  \n",
       "1  1862351 1103794 1935687 1905378 1522129 1509171 1893515\n",
       "2  1901394 1648755 1940943 1729177 1510119 1701650 1846238\n",
       "3  1827503 1447457 1978374 1882532 1698698 1646508 1705322\n",
       "4  1630325 1145473 1851245 1850111 1887157 1259353 1725470\n",
       "5  1571032 1433835 1483292 1290329 1475344 1931500 1668232\n",
       "6  1818438 1198403 1497051 1131928 1107448 1407784 1170389\n",
       "7  1231480 1526066 1143343 1980195 1283813 1225348 1903804\n",
       "8  1553585 1370984 1318669 1984027 1671279 1803169 1627508\n",
       "9  1928416 1330509 1902816 1695126 1517184 1948108 1150882\n",
       "10 1426216 1604531 1683687 1500089 1718837 1619033 1367705"
      ]
     },
     "metadata": {},
     "output_type": "display_data"
    }
   ],
   "source": [
    "sample_n(mydata,10)  # 随机抽取10行"
   ]
  },
  {
   "cell_type": "markdown",
   "metadata": {},
   "source": [
    "#### Selecting Random Fraction of Rows"
   ]
  },
  {
   "cell_type": "markdown",
   "metadata": {},
   "source": [
    "The sample_frac function returns randomly N% of rows. In the example below, it returns randomly 10% of rows."
   ]
  },
  {
   "cell_type": "code",
   "execution_count": 9,
   "metadata": {
    "scrolled": true
   },
   "outputs": [
    {
     "data": {
      "text/html": [
       "<table>\n",
       "<caption>A data.frame: 5 × 16</caption>\n",
       "<thead>\n",
       "\t<tr><th scope=col>Index</th><th scope=col>State</th><th scope=col>Y2002</th><th scope=col>Y2003</th><th scope=col>Y2004</th><th scope=col>Y2005</th><th scope=col>Y2006</th><th scope=col>Y2007</th><th scope=col>Y2008</th><th scope=col>Y2009</th><th scope=col>Y2010</th><th scope=col>Y2011</th><th scope=col>Y2012</th><th scope=col>Y2013</th><th scope=col>Y2014</th><th scope=col>Y2015</th></tr>\n",
       "\t<tr><th scope=col>&lt;fct&gt;</th><th scope=col>&lt;fct&gt;</th><th scope=col>&lt;int&gt;</th><th scope=col>&lt;int&gt;</th><th scope=col>&lt;int&gt;</th><th scope=col>&lt;int&gt;</th><th scope=col>&lt;int&gt;</th><th scope=col>&lt;int&gt;</th><th scope=col>&lt;int&gt;</th><th scope=col>&lt;int&gt;</th><th scope=col>&lt;int&gt;</th><th scope=col>&lt;int&gt;</th><th scope=col>&lt;int&gt;</th><th scope=col>&lt;int&gt;</th><th scope=col>&lt;int&gt;</th><th scope=col>&lt;int&gt;</th></tr>\n",
       "</thead>\n",
       "<tbody>\n",
       "\t<tr><td>M</td><td>Missouri  </td><td>1221316</td><td>1858368</td><td>1773451</td><td>1573967</td><td>1374863</td><td>1486197</td><td>1735099</td><td>1800620</td><td>1164202</td><td>1425363</td><td>1800052</td><td>1698105</td><td>1767835</td><td>1996005</td></tr>\n",
       "\t<tr><td>W</td><td>Wisconsin </td><td>1788920</td><td>1518578</td><td>1289663</td><td>1436888</td><td>1251678</td><td>1721874</td><td>1980167</td><td>1901394</td><td>1648755</td><td>1940943</td><td>1729177</td><td>1510119</td><td>1701650</td><td>1846238</td></tr>\n",
       "\t<tr><td>N</td><td>New Mexico</td><td>1819239</td><td>1226057</td><td>1935991</td><td>1124400</td><td>1723493</td><td>1475985</td><td>1237704</td><td>1820856</td><td>1801430</td><td>1653384</td><td>1475715</td><td>1623388</td><td>1533494</td><td>1868612</td></tr>\n",
       "\t<tr><td>K</td><td>Kentucky  </td><td>1813878</td><td>1448846</td><td>1800760</td><td>1250524</td><td>1137913</td><td>1911227</td><td>1301848</td><td>1956681</td><td>1350895</td><td>1512894</td><td>1916616</td><td>1878271</td><td>1722762</td><td>1913350</td></tr>\n",
       "\t<tr><td>T</td><td>Tennessee </td><td>1811867</td><td>1485909</td><td>1974179</td><td>1157059</td><td>1786132</td><td>1399191</td><td>1826406</td><td>1326460</td><td>1231739</td><td>1469785</td><td>1849041</td><td>1560887</td><td>1349173</td><td>1162164</td></tr>\n",
       "</tbody>\n",
       "</table>\n"
      ],
      "text/latex": [
       "A data.frame: 5 × 16\n",
       "\\begin{tabular}{r|llllllllllllllll}\n",
       " Index & State & Y2002 & Y2003 & Y2004 & Y2005 & Y2006 & Y2007 & Y2008 & Y2009 & Y2010 & Y2011 & Y2012 & Y2013 & Y2014 & Y2015\\\\\n",
       " <fct> & <fct> & <int> & <int> & <int> & <int> & <int> & <int> & <int> & <int> & <int> & <int> & <int> & <int> & <int> & <int>\\\\\n",
       "\\hline\n",
       "\t M & Missouri   & 1221316 & 1858368 & 1773451 & 1573967 & 1374863 & 1486197 & 1735099 & 1800620 & 1164202 & 1425363 & 1800052 & 1698105 & 1767835 & 1996005\\\\\n",
       "\t W & Wisconsin  & 1788920 & 1518578 & 1289663 & 1436888 & 1251678 & 1721874 & 1980167 & 1901394 & 1648755 & 1940943 & 1729177 & 1510119 & 1701650 & 1846238\\\\\n",
       "\t N & New Mexico & 1819239 & 1226057 & 1935991 & 1124400 & 1723493 & 1475985 & 1237704 & 1820856 & 1801430 & 1653384 & 1475715 & 1623388 & 1533494 & 1868612\\\\\n",
       "\t K & Kentucky   & 1813878 & 1448846 & 1800760 & 1250524 & 1137913 & 1911227 & 1301848 & 1956681 & 1350895 & 1512894 & 1916616 & 1878271 & 1722762 & 1913350\\\\\n",
       "\t T & Tennessee  & 1811867 & 1485909 & 1974179 & 1157059 & 1786132 & 1399191 & 1826406 & 1326460 & 1231739 & 1469785 & 1849041 & 1560887 & 1349173 & 1162164\\\\\n",
       "\\end{tabular}\n"
      ],
      "text/markdown": [
       "\n",
       "A data.frame: 5 × 16\n",
       "\n",
       "| Index &lt;fct&gt; | State &lt;fct&gt; | Y2002 &lt;int&gt; | Y2003 &lt;int&gt; | Y2004 &lt;int&gt; | Y2005 &lt;int&gt; | Y2006 &lt;int&gt; | Y2007 &lt;int&gt; | Y2008 &lt;int&gt; | Y2009 &lt;int&gt; | Y2010 &lt;int&gt; | Y2011 &lt;int&gt; | Y2012 &lt;int&gt; | Y2013 &lt;int&gt; | Y2014 &lt;int&gt; | Y2015 &lt;int&gt; |\n",
       "|---|---|---|---|---|---|---|---|---|---|---|---|---|---|---|---|\n",
       "| M | Missouri   | 1221316 | 1858368 | 1773451 | 1573967 | 1374863 | 1486197 | 1735099 | 1800620 | 1164202 | 1425363 | 1800052 | 1698105 | 1767835 | 1996005 |\n",
       "| W | Wisconsin  | 1788920 | 1518578 | 1289663 | 1436888 | 1251678 | 1721874 | 1980167 | 1901394 | 1648755 | 1940943 | 1729177 | 1510119 | 1701650 | 1846238 |\n",
       "| N | New Mexico | 1819239 | 1226057 | 1935991 | 1124400 | 1723493 | 1475985 | 1237704 | 1820856 | 1801430 | 1653384 | 1475715 | 1623388 | 1533494 | 1868612 |\n",
       "| K | Kentucky   | 1813878 | 1448846 | 1800760 | 1250524 | 1137913 | 1911227 | 1301848 | 1956681 | 1350895 | 1512894 | 1916616 | 1878271 | 1722762 | 1913350 |\n",
       "| T | Tennessee  | 1811867 | 1485909 | 1974179 | 1157059 | 1786132 | 1399191 | 1826406 | 1326460 | 1231739 | 1469785 | 1849041 | 1560887 | 1349173 | 1162164 |\n",
       "\n"
      ],
      "text/plain": [
       "  Index State      Y2002   Y2003   Y2004   Y2005   Y2006   Y2007   Y2008  \n",
       "1 M     Missouri   1221316 1858368 1773451 1573967 1374863 1486197 1735099\n",
       "2 W     Wisconsin  1788920 1518578 1289663 1436888 1251678 1721874 1980167\n",
       "3 N     New Mexico 1819239 1226057 1935991 1124400 1723493 1475985 1237704\n",
       "4 K     Kentucky   1813878 1448846 1800760 1250524 1137913 1911227 1301848\n",
       "5 T     Tennessee  1811867 1485909 1974179 1157059 1786132 1399191 1826406\n",
       "  Y2009   Y2010   Y2011   Y2012   Y2013   Y2014   Y2015  \n",
       "1 1800620 1164202 1425363 1800052 1698105 1767835 1996005\n",
       "2 1901394 1648755 1940943 1729177 1510119 1701650 1846238\n",
       "3 1820856 1801430 1653384 1475715 1623388 1533494 1868612\n",
       "4 1956681 1350895 1512894 1916616 1878271 1722762 1913350\n",
       "5 1326460 1231739 1469785 1849041 1560887 1349173 1162164"
      ]
     },
     "metadata": {},
     "output_type": "display_data"
    }
   ],
   "source": [
    "#按百分比抽样\n",
    "sample_frac(mydata,0.1)"
   ]
  },
  {
   "cell_type": "markdown",
   "metadata": {},
   "source": [
    "#### Remove Duplicate Rows based on all the variables (Complete Row)"
   ]
  },
  {
   "cell_type": "code",
   "execution_count": 49,
   "metadata": {
    "scrolled": true
   },
   "outputs": [
    {
     "name": "stderr",
     "output_type": "stream",
     "text": [
      "Your code contains a unicode char which cannot be displayed in your\n",
      "current locale and R will silently convert it to an escaped form when the\n",
      "R kernel executes this code. This can lead to subtle errors if you use\n",
      "such chars to do comparisons. For more information, please see\n",
      "https://github.com/IRkernel/repr/wiki/Problems-with-unicode-on-windows"
     ]
    }
   ],
   "source": [
    "#去重复\n",
    "x1 = distinct(mydata)  "
   ]
  },
  {
   "cell_type": "markdown",
   "metadata": {},
   "source": [
    "#### Remove Duplicate Rows based on a variable"
   ]
  },
  {
   "cell_type": "markdown",
   "metadata": {},
   "source": [
    "The .keep_all function is used to retain all other variables in the output data frame."
   ]
  },
  {
   "cell_type": "code",
   "execution_count": 50,
   "metadata": {
    "scrolled": false
   },
   "outputs": [
    {
     "data": {
      "text/html": [
       "<ol class=list-inline>\n",
       "\t<li>19</li>\n",
       "\t<li>16</li>\n",
       "</ol>\n"
      ],
      "text/latex": [
       "\\begin{enumerate*}\n",
       "\\item 19\n",
       "\\item 16\n",
       "\\end{enumerate*}\n"
      ],
      "text/markdown": [
       "1. 19\n",
       "2. 16\n",
       "\n",
       "\n"
      ],
      "text/plain": [
       "[1] 19 16"
      ]
     },
     "metadata": {},
     "output_type": "display_data"
    },
    {
     "data": {
      "text/html": [
       "<table>\n",
       "<caption>A data.frame: 6 × 16</caption>\n",
       "<thead>\n",
       "\t<tr><th scope=col>Index</th><th scope=col>State</th><th scope=col>Y2002</th><th scope=col>Y2003</th><th scope=col>Y2004</th><th scope=col>Y2005</th><th scope=col>Y2006</th><th scope=col>Y2007</th><th scope=col>Y2008</th><th scope=col>Y2009</th><th scope=col>Y2010</th><th scope=col>Y2011</th><th scope=col>Y2012</th><th scope=col>Y2013</th><th scope=col>Y2014</th><th scope=col>Y2015</th></tr>\n",
       "\t<tr><th scope=col>&lt;fct&gt;</th><th scope=col>&lt;fct&gt;</th><th scope=col>&lt;int&gt;</th><th scope=col>&lt;int&gt;</th><th scope=col>&lt;int&gt;</th><th scope=col>&lt;int&gt;</th><th scope=col>&lt;int&gt;</th><th scope=col>&lt;int&gt;</th><th scope=col>&lt;int&gt;</th><th scope=col>&lt;int&gt;</th><th scope=col>&lt;int&gt;</th><th scope=col>&lt;int&gt;</th><th scope=col>&lt;int&gt;</th><th scope=col>&lt;int&gt;</th><th scope=col>&lt;int&gt;</th><th scope=col>&lt;int&gt;</th></tr>\n",
       "</thead>\n",
       "<tbody>\n",
       "\t<tr><td>A</td><td>Alabama   </td><td>1296530</td><td>1317711</td><td>1118631</td><td>1492583</td><td>1107408</td><td>1440134</td><td>1945229</td><td>1944173</td><td>1237582</td><td>1440756</td><td>1186741</td><td>1852841</td><td>1558906</td><td>1916661</td></tr>\n",
       "\t<tr><td>C</td><td>California</td><td>1685349</td><td>1675807</td><td>1889570</td><td>1480280</td><td>1735069</td><td>1812546</td><td>1487315</td><td>1663809</td><td>1624509</td><td>1639670</td><td>1921845</td><td>1156536</td><td>1388461</td><td>1644607</td></tr>\n",
       "\t<tr><td>D</td><td>Delaware  </td><td>1330403</td><td>1268673</td><td>1706751</td><td>1403759</td><td>1441351</td><td>1300836</td><td>1762096</td><td>1553585</td><td>1370984</td><td>1318669</td><td>1984027</td><td>1671279</td><td>1803169</td><td>1627508</td></tr>\n",
       "\t<tr><td>F</td><td>Florida   </td><td>1964626</td><td>1468852</td><td>1419738</td><td>1362787</td><td>1339608</td><td>1278550</td><td>1756185</td><td>1818438</td><td>1198403</td><td>1497051</td><td>1131928</td><td>1107448</td><td>1407784</td><td>1170389</td></tr>\n",
       "\t<tr><td>G</td><td>Georgia   </td><td>1929009</td><td>1541565</td><td>1810773</td><td>1779091</td><td>1326846</td><td>1223770</td><td>1773090</td><td>1630325</td><td>1145473</td><td>1851245</td><td>1850111</td><td>1887157</td><td>1259353</td><td>1725470</td></tr>\n",
       "\t<tr><td>H</td><td>Hawaii    </td><td>1461570</td><td>1200280</td><td>1213993</td><td>1245931</td><td>1459383</td><td>1430465</td><td>1919423</td><td>1928416</td><td>1330509</td><td>1902816</td><td>1695126</td><td>1517184</td><td>1948108</td><td>1150882</td></tr>\n",
       "</tbody>\n",
       "</table>\n"
      ],
      "text/latex": [
       "A data.frame: 6 × 16\n",
       "\\begin{tabular}{r|llllllllllllllll}\n",
       " Index & State & Y2002 & Y2003 & Y2004 & Y2005 & Y2006 & Y2007 & Y2008 & Y2009 & Y2010 & Y2011 & Y2012 & Y2013 & Y2014 & Y2015\\\\\n",
       " <fct> & <fct> & <int> & <int> & <int> & <int> & <int> & <int> & <int> & <int> & <int> & <int> & <int> & <int> & <int> & <int>\\\\\n",
       "\\hline\n",
       "\t A & Alabama    & 1296530 & 1317711 & 1118631 & 1492583 & 1107408 & 1440134 & 1945229 & 1944173 & 1237582 & 1440756 & 1186741 & 1852841 & 1558906 & 1916661\\\\\n",
       "\t C & California & 1685349 & 1675807 & 1889570 & 1480280 & 1735069 & 1812546 & 1487315 & 1663809 & 1624509 & 1639670 & 1921845 & 1156536 & 1388461 & 1644607\\\\\n",
       "\t D & Delaware   & 1330403 & 1268673 & 1706751 & 1403759 & 1441351 & 1300836 & 1762096 & 1553585 & 1370984 & 1318669 & 1984027 & 1671279 & 1803169 & 1627508\\\\\n",
       "\t F & Florida    & 1964626 & 1468852 & 1419738 & 1362787 & 1339608 & 1278550 & 1756185 & 1818438 & 1198403 & 1497051 & 1131928 & 1107448 & 1407784 & 1170389\\\\\n",
       "\t G & Georgia    & 1929009 & 1541565 & 1810773 & 1779091 & 1326846 & 1223770 & 1773090 & 1630325 & 1145473 & 1851245 & 1850111 & 1887157 & 1259353 & 1725470\\\\\n",
       "\t H & Hawaii     & 1461570 & 1200280 & 1213993 & 1245931 & 1459383 & 1430465 & 1919423 & 1928416 & 1330509 & 1902816 & 1695126 & 1517184 & 1948108 & 1150882\\\\\n",
       "\\end{tabular}\n"
      ],
      "text/markdown": [
       "\n",
       "A data.frame: 6 × 16\n",
       "\n",
       "| Index &lt;fct&gt; | State &lt;fct&gt; | Y2002 &lt;int&gt; | Y2003 &lt;int&gt; | Y2004 &lt;int&gt; | Y2005 &lt;int&gt; | Y2006 &lt;int&gt; | Y2007 &lt;int&gt; | Y2008 &lt;int&gt; | Y2009 &lt;int&gt; | Y2010 &lt;int&gt; | Y2011 &lt;int&gt; | Y2012 &lt;int&gt; | Y2013 &lt;int&gt; | Y2014 &lt;int&gt; | Y2015 &lt;int&gt; |\n",
       "|---|---|---|---|---|---|---|---|---|---|---|---|---|---|---|---|\n",
       "| A | Alabama    | 1296530 | 1317711 | 1118631 | 1492583 | 1107408 | 1440134 | 1945229 | 1944173 | 1237582 | 1440756 | 1186741 | 1852841 | 1558906 | 1916661 |\n",
       "| C | California | 1685349 | 1675807 | 1889570 | 1480280 | 1735069 | 1812546 | 1487315 | 1663809 | 1624509 | 1639670 | 1921845 | 1156536 | 1388461 | 1644607 |\n",
       "| D | Delaware   | 1330403 | 1268673 | 1706751 | 1403759 | 1441351 | 1300836 | 1762096 | 1553585 | 1370984 | 1318669 | 1984027 | 1671279 | 1803169 | 1627508 |\n",
       "| F | Florida    | 1964626 | 1468852 | 1419738 | 1362787 | 1339608 | 1278550 | 1756185 | 1818438 | 1198403 | 1497051 | 1131928 | 1107448 | 1407784 | 1170389 |\n",
       "| G | Georgia    | 1929009 | 1541565 | 1810773 | 1779091 | 1326846 | 1223770 | 1773090 | 1630325 | 1145473 | 1851245 | 1850111 | 1887157 | 1259353 | 1725470 |\n",
       "| H | Hawaii     | 1461570 | 1200280 | 1213993 | 1245931 | 1459383 | 1430465 | 1919423 | 1928416 | 1330509 | 1902816 | 1695126 | 1517184 | 1948108 | 1150882 |\n",
       "\n"
      ],
      "text/plain": [
       "  Index State      Y2002   Y2003   Y2004   Y2005   Y2006   Y2007   Y2008  \n",
       "1 A     Alabama    1296530 1317711 1118631 1492583 1107408 1440134 1945229\n",
       "2 C     California 1685349 1675807 1889570 1480280 1735069 1812546 1487315\n",
       "3 D     Delaware   1330403 1268673 1706751 1403759 1441351 1300836 1762096\n",
       "4 F     Florida    1964626 1468852 1419738 1362787 1339608 1278550 1756185\n",
       "5 G     Georgia    1929009 1541565 1810773 1779091 1326846 1223770 1773090\n",
       "6 H     Hawaii     1461570 1200280 1213993 1245931 1459383 1430465 1919423\n",
       "  Y2009   Y2010   Y2011   Y2012   Y2013   Y2014   Y2015  \n",
       "1 1944173 1237582 1440756 1186741 1852841 1558906 1916661\n",
       "2 1663809 1624509 1639670 1921845 1156536 1388461 1644607\n",
       "3 1553585 1370984 1318669 1984027 1671279 1803169 1627508\n",
       "4 1818438 1198403 1497051 1131928 1107448 1407784 1170389\n",
       "5 1630325 1145473 1851245 1850111 1887157 1259353 1725470\n",
       "6 1928416 1330509 1902816 1695126 1517184 1948108 1150882"
      ]
     },
     "metadata": {},
     "output_type": "display_data"
    }
   ],
   "source": [
    "x2 = distinct(mydata, Index, .keep_all= TRUE)\n",
    "dim(x2) # check number of columns and rows  查看行数和列数\n",
    "head(x2) #查看数据"
   ]
  },
  {
   "cell_type": "markdown",
   "metadata": {},
   "source": [
    "#### Remove Duplicates Rows based on multiple variables"
   ]
  },
  {
   "cell_type": "markdown",
   "metadata": {},
   "source": [
    "In the example below, we are using two variables - Index, Y2010 to determine uniqueness."
   ]
  },
  {
   "cell_type": "code",
   "execution_count": 11,
   "metadata": {
    "scrolled": true
   },
   "outputs": [
    {
     "name": "stderr",
     "output_type": "stream",
     "text": [
      "Your code contains a unicode char which cannot be displayed in your\n",
      "current locale and R will silently convert it to an escaped form when the\n",
      "R kernel executes this code. This can lead to subtle errors if you use\n",
      "such chars to do comparisons. For more information, please see\n",
      "https://github.com/IRkernel/repr/wiki/Problems-with-unicode-on-windows"
     ]
    },
    {
     "data": {
      "text/html": [
       "<ol class=list-inline>\n",
       "\t<li>51</li>\n",
       "\t<li>16</li>\n",
       "</ol>\n"
      ],
      "text/latex": [
       "\\begin{enumerate*}\n",
       "\\item 51\n",
       "\\item 16\n",
       "\\end{enumerate*}\n"
      ],
      "text/markdown": [
       "1. 51\n",
       "2. 16\n",
       "\n",
       "\n"
      ],
      "text/plain": [
       "[1] 51 16"
      ]
     },
     "metadata": {},
     "output_type": "display_data"
    },
    {
     "data": {
      "text/html": [
       "<table>\n",
       "<caption>A data.frame: 6 × 16</caption>\n",
       "<thead>\n",
       "\t<tr><th scope=col>Index</th><th scope=col>State</th><th scope=col>Y2002</th><th scope=col>Y2003</th><th scope=col>Y2004</th><th scope=col>Y2005</th><th scope=col>Y2006</th><th scope=col>Y2007</th><th scope=col>Y2008</th><th scope=col>Y2009</th><th scope=col>Y2010</th><th scope=col>Y2011</th><th scope=col>Y2012</th><th scope=col>Y2013</th><th scope=col>Y2014</th><th scope=col>Y2015</th></tr>\n",
       "\t<tr><th scope=col>&lt;fct&gt;</th><th scope=col>&lt;fct&gt;</th><th scope=col>&lt;int&gt;</th><th scope=col>&lt;int&gt;</th><th scope=col>&lt;int&gt;</th><th scope=col>&lt;int&gt;</th><th scope=col>&lt;int&gt;</th><th scope=col>&lt;int&gt;</th><th scope=col>&lt;int&gt;</th><th scope=col>&lt;int&gt;</th><th scope=col>&lt;int&gt;</th><th scope=col>&lt;int&gt;</th><th scope=col>&lt;int&gt;</th><th scope=col>&lt;int&gt;</th><th scope=col>&lt;int&gt;</th><th scope=col>&lt;int&gt;</th></tr>\n",
       "</thead>\n",
       "<tbody>\n",
       "\t<tr><td>A</td><td>Alabama   </td><td>1296530</td><td>1317711</td><td>1118631</td><td>1492583</td><td>1107408</td><td>1440134</td><td>1945229</td><td>1944173</td><td>1237582</td><td>1440756</td><td>1186741</td><td>1852841</td><td>1558906</td><td>1916661</td></tr>\n",
       "\t<tr><td>A</td><td>Alaska    </td><td>1170302</td><td>1960378</td><td>1818085</td><td>1447852</td><td>1861639</td><td>1465841</td><td>1551826</td><td>1436541</td><td>1629616</td><td>1230866</td><td>1512804</td><td>1985302</td><td>1580394</td><td>1979143</td></tr>\n",
       "\t<tr><td>A</td><td>Arizona   </td><td>1742027</td><td>1968140</td><td>1377583</td><td>1782199</td><td>1102568</td><td>1109382</td><td>1752886</td><td>1554330</td><td>1300521</td><td>1130709</td><td>1907284</td><td>1363279</td><td>1525866</td><td>1647724</td></tr>\n",
       "\t<tr><td>A</td><td>Arkansas  </td><td>1485531</td><td>1994927</td><td>1119299</td><td>1947979</td><td>1669191</td><td>1801213</td><td>1188104</td><td>1628980</td><td>1669295</td><td>1928238</td><td>1216675</td><td>1591896</td><td>1360959</td><td>1329341</td></tr>\n",
       "\t<tr><td>C</td><td>California</td><td>1685349</td><td>1675807</td><td>1889570</td><td>1480280</td><td>1735069</td><td>1812546</td><td>1487315</td><td>1663809</td><td>1624509</td><td>1639670</td><td>1921845</td><td>1156536</td><td>1388461</td><td>1644607</td></tr>\n",
       "\t<tr><td>C</td><td>Colorado  </td><td>1343824</td><td>1878473</td><td>1886149</td><td>1236697</td><td>1871471</td><td>1814218</td><td>1875146</td><td>1752387</td><td>1913275</td><td>1665877</td><td>1491604</td><td>1178355</td><td>1383978</td><td>1330736</td></tr>\n",
       "</tbody>\n",
       "</table>\n"
      ],
      "text/latex": [
       "A data.frame: 6 × 16\n",
       "\\begin{tabular}{r|llllllllllllllll}\n",
       " Index & State & Y2002 & Y2003 & Y2004 & Y2005 & Y2006 & Y2007 & Y2008 & Y2009 & Y2010 & Y2011 & Y2012 & Y2013 & Y2014 & Y2015\\\\\n",
       " <fct> & <fct> & <int> & <int> & <int> & <int> & <int> & <int> & <int> & <int> & <int> & <int> & <int> & <int> & <int> & <int>\\\\\n",
       "\\hline\n",
       "\t A & Alabama    & 1296530 & 1317711 & 1118631 & 1492583 & 1107408 & 1440134 & 1945229 & 1944173 & 1237582 & 1440756 & 1186741 & 1852841 & 1558906 & 1916661\\\\\n",
       "\t A & Alaska     & 1170302 & 1960378 & 1818085 & 1447852 & 1861639 & 1465841 & 1551826 & 1436541 & 1629616 & 1230866 & 1512804 & 1985302 & 1580394 & 1979143\\\\\n",
       "\t A & Arizona    & 1742027 & 1968140 & 1377583 & 1782199 & 1102568 & 1109382 & 1752886 & 1554330 & 1300521 & 1130709 & 1907284 & 1363279 & 1525866 & 1647724\\\\\n",
       "\t A & Arkansas   & 1485531 & 1994927 & 1119299 & 1947979 & 1669191 & 1801213 & 1188104 & 1628980 & 1669295 & 1928238 & 1216675 & 1591896 & 1360959 & 1329341\\\\\n",
       "\t C & California & 1685349 & 1675807 & 1889570 & 1480280 & 1735069 & 1812546 & 1487315 & 1663809 & 1624509 & 1639670 & 1921845 & 1156536 & 1388461 & 1644607\\\\\n",
       "\t C & Colorado   & 1343824 & 1878473 & 1886149 & 1236697 & 1871471 & 1814218 & 1875146 & 1752387 & 1913275 & 1665877 & 1491604 & 1178355 & 1383978 & 1330736\\\\\n",
       "\\end{tabular}\n"
      ],
      "text/markdown": [
       "\n",
       "A data.frame: 6 × 16\n",
       "\n",
       "| Index &lt;fct&gt; | State &lt;fct&gt; | Y2002 &lt;int&gt; | Y2003 &lt;int&gt; | Y2004 &lt;int&gt; | Y2005 &lt;int&gt; | Y2006 &lt;int&gt; | Y2007 &lt;int&gt; | Y2008 &lt;int&gt; | Y2009 &lt;int&gt; | Y2010 &lt;int&gt; | Y2011 &lt;int&gt; | Y2012 &lt;int&gt; | Y2013 &lt;int&gt; | Y2014 &lt;int&gt; | Y2015 &lt;int&gt; |\n",
       "|---|---|---|---|---|---|---|---|---|---|---|---|---|---|---|---|\n",
       "| A | Alabama    | 1296530 | 1317711 | 1118631 | 1492583 | 1107408 | 1440134 | 1945229 | 1944173 | 1237582 | 1440756 | 1186741 | 1852841 | 1558906 | 1916661 |\n",
       "| A | Alaska     | 1170302 | 1960378 | 1818085 | 1447852 | 1861639 | 1465841 | 1551826 | 1436541 | 1629616 | 1230866 | 1512804 | 1985302 | 1580394 | 1979143 |\n",
       "| A | Arizona    | 1742027 | 1968140 | 1377583 | 1782199 | 1102568 | 1109382 | 1752886 | 1554330 | 1300521 | 1130709 | 1907284 | 1363279 | 1525866 | 1647724 |\n",
       "| A | Arkansas   | 1485531 | 1994927 | 1119299 | 1947979 | 1669191 | 1801213 | 1188104 | 1628980 | 1669295 | 1928238 | 1216675 | 1591896 | 1360959 | 1329341 |\n",
       "| C | California | 1685349 | 1675807 | 1889570 | 1480280 | 1735069 | 1812546 | 1487315 | 1663809 | 1624509 | 1639670 | 1921845 | 1156536 | 1388461 | 1644607 |\n",
       "| C | Colorado   | 1343824 | 1878473 | 1886149 | 1236697 | 1871471 | 1814218 | 1875146 | 1752387 | 1913275 | 1665877 | 1491604 | 1178355 | 1383978 | 1330736 |\n",
       "\n"
      ],
      "text/plain": [
       "  Index State      Y2002   Y2003   Y2004   Y2005   Y2006   Y2007   Y2008  \n",
       "1 A     Alabama    1296530 1317711 1118631 1492583 1107408 1440134 1945229\n",
       "2 A     Alaska     1170302 1960378 1818085 1447852 1861639 1465841 1551826\n",
       "3 A     Arizona    1742027 1968140 1377583 1782199 1102568 1109382 1752886\n",
       "4 A     Arkansas   1485531 1994927 1119299 1947979 1669191 1801213 1188104\n",
       "5 C     California 1685349 1675807 1889570 1480280 1735069 1812546 1487315\n",
       "6 C     Colorado   1343824 1878473 1886149 1236697 1871471 1814218 1875146\n",
       "  Y2009   Y2010   Y2011   Y2012   Y2013   Y2014   Y2015  \n",
       "1 1944173 1237582 1440756 1186741 1852841 1558906 1916661\n",
       "2 1436541 1629616 1230866 1512804 1985302 1580394 1979143\n",
       "3 1554330 1300521 1130709 1907284 1363279 1525866 1647724\n",
       "4 1628980 1669295 1928238 1216675 1591896 1360959 1329341\n",
       "5 1663809 1624509 1639670 1921845 1156536 1388461 1644607\n",
       "6 1752387 1913275 1665877 1491604 1178355 1383978 1330736"
      ]
     },
     "metadata": {},
     "output_type": "display_data"
    }
   ],
   "source": [
    "x2 = distinct(mydata, Index, Y2010, .keep_all= TRUE)\n",
    "dim(x2)# check number of columns and rows  查看行数和列数\n",
    "head(x2)"
   ]
  },
  {
   "cell_type": "markdown",
   "metadata": {},
   "source": [
    "#### select( ) Function  作用于列"
   ]
  },
  {
   "cell_type": "markdown",
   "metadata": {},
   "source": [
    "It is used to select only desired variables."
   ]
  },
  {
   "cell_type": "markdown",
   "metadata": {},
   "source": [
    "#### Selecting Variables (or Columns)"
   ]
  },
  {
   "cell_type": "markdown",
   "metadata": {},
   "source": [
    "Suppose you are asked to select only a few variables. The code below selects variables \"Index\", columns from \"State\" to \"Y2008\"."
   ]
  },
  {
   "cell_type": "code",
   "execution_count": 12,
   "metadata": {
    "scrolled": true
   },
   "outputs": [
    {
     "name": "stderr",
     "output_type": "stream",
     "text": [
      "Your code contains a unicode char which cannot be displayed in your\n",
      "current locale and R will silently convert it to an escaped form when the\n",
      "R kernel executes this code. This can lead to subtle errors if you use\n",
      "such chars to do comparisons. For more information, please see\n",
      "https://github.com/IRkernel/repr/wiki/Problems-with-unicode-on-windows"
     ]
    }
   ],
   "source": [
    "mydata2 = select(mydata, Index, State:Y2008)  #选择数据"
   ]
  },
  {
   "cell_type": "markdown",
   "metadata": {},
   "source": [
    "#### Dropping Variables"
   ]
  },
  {
   "cell_type": "markdown",
   "metadata": {},
   "source": [
    "The minus sign before a variable tells R to drop the variable."
   ]
  },
  {
   "cell_type": "code",
   "execution_count": 13,
   "metadata": {
    "scrolled": true
   },
   "outputs": [
    {
     "name": "stderr",
     "output_type": "stream",
     "text": [
      "Your code contains a unicode char which cannot be displayed in your\n",
      "current locale and R will silently convert it to an escaped form when the\n",
      "R kernel executes this code. This can lead to subtle errors if you use\n",
      "such chars to do comparisons. For more information, please see\n",
      "https://github.com/IRkernel/repr/wiki/Problems-with-unicode-on-windows"
     ]
    }
   ],
   "source": [
    "mydata3 = select(mydata, -Index, -State)  # - 意思是去掉这一列\n",
    "mydata3 = select(mydata, -c(Index,State))"
   ]
  },
  {
   "cell_type": "markdown",
   "metadata": {},
   "source": [
    "#### Selecting or Dropping Variables starts with 'Y'"
   ]
  },
  {
   "cell_type": "markdown",
   "metadata": {},
   "source": [
    "The starts_with() function is used to select variables starts with an alphabet."
   ]
  },
  {
   "cell_type": "code",
   "execution_count": 54,
   "metadata": {
    "scrolled": true
   },
   "outputs": [
    {
     "name": "stderr",
     "output_type": "stream",
     "text": [
      "Your code contains a unicode char which cannot be displayed in your\n",
      "current locale and R will silently convert it to an escaped form when the\n",
      "R kernel executes this code. This can lead to subtle errors if you use\n",
      "such chars to do comparisons. For more information, please see\n",
      "https://github.com/IRkernel/repr/wiki/Problems-with-unicode-on-windows"
     ]
    }
   ],
   "source": [
    "mydata3 = select(mydata, starts_with(\"Y\"))  #  mydata3 新的数据从mydata里面选择 但是只选取以Y开头的列"
   ]
  },
  {
   "cell_type": "markdown",
   "metadata": {},
   "source": [
    "Adding a negative sign before starts_with() implies dropping the variables starts with 'Y'"
   ]
  },
  {
   "cell_type": "code",
   "execution_count": 55,
   "metadata": {},
   "outputs": [],
   "source": [
    "mydata33 = select(mydata, -starts_with(\"Y\"))"
   ]
  },
  {
   "cell_type": "markdown",
   "metadata": {},
   "source": [
    "The following functions helps you to select variables based on their names."
   ]
  },
  {
   "attachments": {
    "dplyr_matchname.PNG": {
     "image/png": "[encoded data removed]"
    }
   },
   "cell_type": "markdown",
   "metadata": {},
   "source": [
    "![dplyr_matchname.PNG](attachment:dplyr_matchname.PNG)"
   ]
  },
  {
   "cell_type": "markdown",
   "metadata": {},
   "source": [
    "#### Selecting Variables contain 'I' in their names"
   ]
  },
  {
   "cell_type": "code",
   "execution_count": 3,
   "metadata": {
    "scrolled": true
   },
   "outputs": [
    {
     "name": "stderr",
     "output_type": "stream",
     "text": [
      "Your code contains a unicode char which cannot be displayed in your\n",
      "current locale and R will silently convert it to an escaped form when the\n",
      "R kernel executes this code. This can lead to subtle errors if you use\n",
      "such chars to do comparisons. For more information, please see\n",
      "https://github.com/IRkernel/repr/wiki/Problems-with-unicode-on-windows"
     ]
    },
    {
     "ename": "ERROR",
     "evalue": "Error in select(mydata, contains(\"I\")): object 'mydata' not found\n",
     "output_type": "error",
     "traceback": [
      "Error in select(mydata, contains(\"I\")): object 'mydata' not found\nTraceback:\n",
      "1. select(mydata, contains(\"I\"))"
     ]
    }
   ],
   "source": [
    "mydata4 = select(mydata, contains(\"I\"))  # 选择包含 I 的列  "
   ]
  },
  {
   "cell_type": "markdown",
   "metadata": {},
   "source": [
    "#### Reorder Variables"
   ]
  },
  {
   "cell_type": "markdown",
   "metadata": {},
   "source": [
    "The code below keeps variable 'State' in the front and the remaining variables follow that."
   ]
  },
  {
   "cell_type": "code",
   "execution_count": 57,
   "metadata": {},
   "outputs": [
    {
     "data": {
      "text/html": [
       "<ol class=list-inline>\n",
       "\t<li>'State'</li>\n",
       "\t<li>'Index'</li>\n",
       "\t<li>'Y2002'</li>\n",
       "\t<li>'Y2003'</li>\n",
       "\t<li>'Y2004'</li>\n",
       "\t<li>'Y2005'</li>\n",
       "\t<li>'Y2006'</li>\n",
       "\t<li>'Y2007'</li>\n",
       "\t<li>'Y2008'</li>\n",
       "\t<li>'Y2009'</li>\n",
       "\t<li>'Y2010'</li>\n",
       "\t<li>'Y2011'</li>\n",
       "\t<li>'Y2012'</li>\n",
       "\t<li>'Y2013'</li>\n",
       "\t<li>'Y2014'</li>\n",
       "\t<li>'Y2015'</li>\n",
       "</ol>\n"
      ],
      "text/latex": [
       "\\begin{enumerate*}\n",
       "\\item 'State'\n",
       "\\item 'Index'\n",
       "\\item 'Y2002'\n",
       "\\item 'Y2003'\n",
       "\\item 'Y2004'\n",
       "\\item 'Y2005'\n",
       "\\item 'Y2006'\n",
       "\\item 'Y2007'\n",
       "\\item 'Y2008'\n",
       "\\item 'Y2009'\n",
       "\\item 'Y2010'\n",
       "\\item 'Y2011'\n",
       "\\item 'Y2012'\n",
       "\\item 'Y2013'\n",
       "\\item 'Y2014'\n",
       "\\item 'Y2015'\n",
       "\\end{enumerate*}\n"
      ],
      "text/markdown": [
       "1. 'State'\n",
       "2. 'Index'\n",
       "3. 'Y2002'\n",
       "4. 'Y2003'\n",
       "5. 'Y2004'\n",
       "6. 'Y2005'\n",
       "7. 'Y2006'\n",
       "8. 'Y2007'\n",
       "9. 'Y2008'\n",
       "10. 'Y2009'\n",
       "11. 'Y2010'\n",
       "12. 'Y2011'\n",
       "13. 'Y2012'\n",
       "14. 'Y2013'\n",
       "15. 'Y2014'\n",
       "16. 'Y2015'\n",
       "\n",
       "\n"
      ],
      "text/plain": [
       " [1] \"State\" \"Index\" \"Y2002\" \"Y2003\" \"Y2004\" \"Y2005\" \"Y2006\" \"Y2007\" \"Y2008\"\n",
       "[10] \"Y2009\" \"Y2010\" \"Y2011\" \"Y2012\" \"Y2013\" \"Y2014\" \"Y2015\""
      ]
     },
     "metadata": {},
     "output_type": "display_data"
    }
   ],
   "source": [
    "mydata5 = select(mydata, State, everything())\n",
    "names(mydata5)"
   ]
  },
  {
   "cell_type": "markdown",
   "metadata": {},
   "source": [
    "#### rename( ) Function  更改变量名称"
   ]
  },
  {
   "cell_type": "markdown",
   "metadata": {},
   "source": [
    "It is used to change variable name."
   ]
  },
  {
   "cell_type": "markdown",
   "metadata": {},
   "source": [
    "#### Rename Variables"
   ]
  },
  {
   "cell_type": "markdown",
   "metadata": {},
   "source": [
    "n the following code, we are renaming 'Index' variable to 'Index1'."
   ]
  },
  {
   "cell_type": "code",
   "execution_count": 16,
   "metadata": {},
   "outputs": [
    {
     "name": "stderr",
     "output_type": "stream",
     "text": [
      "Your code contains a unicode char which cannot be displayed in your\n",
      "current locale and R will silently convert it to an escaped form when the\n",
      "R kernel executes this code. This can lead to subtle errors if you use\n",
      "such chars to do comparisons. For more information, please see\n",
      "https://github.com/IRkernel/repr/wiki/Problems-with-unicode-on-windows"
     ]
    },
    {
     "data": {
      "text/html": [
       "<table>\n",
       "<caption>A data.frame: 51 × 16</caption>\n",
       "<thead>\n",
       "\t<tr><th scope=col>Index1</th><th scope=col>State</th><th scope=col>Y2002</th><th scope=col>Y2003</th><th scope=col>Y2004</th><th scope=col>Y2005</th><th scope=col>Y2006</th><th scope=col>Y2007</th><th scope=col>Y2008</th><th scope=col>Y2009</th><th scope=col>Y2010</th><th scope=col>Y2011</th><th scope=col>Y2012</th><th scope=col>Y2013</th><th scope=col>Y2014</th><th scope=col>Y2015</th></tr>\n",
       "\t<tr><th scope=col>&lt;fct&gt;</th><th scope=col>&lt;fct&gt;</th><th scope=col>&lt;int&gt;</th><th scope=col>&lt;int&gt;</th><th scope=col>&lt;int&gt;</th><th scope=col>&lt;int&gt;</th><th scope=col>&lt;int&gt;</th><th scope=col>&lt;int&gt;</th><th scope=col>&lt;int&gt;</th><th scope=col>&lt;int&gt;</th><th scope=col>&lt;int&gt;</th><th scope=col>&lt;int&gt;</th><th scope=col>&lt;int&gt;</th><th scope=col>&lt;int&gt;</th><th scope=col>&lt;int&gt;</th><th scope=col>&lt;int&gt;</th></tr>\n",
       "</thead>\n",
       "<tbody>\n",
       "\t<tr><td>A</td><td>Alabama             </td><td>1296530</td><td>1317711</td><td>1118631</td><td>1492583</td><td>1107408</td><td>1440134</td><td>1945229</td><td>1944173</td><td>1237582</td><td>1440756</td><td>1186741</td><td>1852841</td><td>1558906</td><td>1916661</td></tr>\n",
       "\t<tr><td>A</td><td>Alaska              </td><td>1170302</td><td>1960378</td><td>1818085</td><td>1447852</td><td>1861639</td><td>1465841</td><td>1551826</td><td>1436541</td><td>1629616</td><td>1230866</td><td>1512804</td><td>1985302</td><td>1580394</td><td>1979143</td></tr>\n",
       "\t<tr><td>A</td><td>Arizona             </td><td>1742027</td><td>1968140</td><td>1377583</td><td>1782199</td><td>1102568</td><td>1109382</td><td>1752886</td><td>1554330</td><td>1300521</td><td>1130709</td><td>1907284</td><td>1363279</td><td>1525866</td><td>1647724</td></tr>\n",
       "\t<tr><td>A</td><td>Arkansas            </td><td>1485531</td><td>1994927</td><td>1119299</td><td>1947979</td><td>1669191</td><td>1801213</td><td>1188104</td><td>1628980</td><td>1669295</td><td>1928238</td><td>1216675</td><td>1591896</td><td>1360959</td><td>1329341</td></tr>\n",
       "\t<tr><td>C</td><td>California          </td><td>1685349</td><td>1675807</td><td>1889570</td><td>1480280</td><td>1735069</td><td>1812546</td><td>1487315</td><td>1663809</td><td>1624509</td><td>1639670</td><td>1921845</td><td>1156536</td><td>1388461</td><td>1644607</td></tr>\n",
       "\t<tr><td>C</td><td>Colorado            </td><td>1343824</td><td>1878473</td><td>1886149</td><td>1236697</td><td>1871471</td><td>1814218</td><td>1875146</td><td>1752387</td><td>1913275</td><td>1665877</td><td>1491604</td><td>1178355</td><td>1383978</td><td>1330736</td></tr>\n",
       "\t<tr><td>C</td><td>Connecticut         </td><td>1610512</td><td>1232844</td><td>1181949</td><td>1518933</td><td>1841266</td><td>1976976</td><td>1764457</td><td>1972730</td><td>1968730</td><td>1945524</td><td>1228529</td><td>1582249</td><td>1503156</td><td>1718072</td></tr>\n",
       "\t<tr><td>D</td><td>Delaware            </td><td>1330403</td><td>1268673</td><td>1706751</td><td>1403759</td><td>1441351</td><td>1300836</td><td>1762096</td><td>1553585</td><td>1370984</td><td>1318669</td><td>1984027</td><td>1671279</td><td>1803169</td><td>1627508</td></tr>\n",
       "\t<tr><td>D</td><td>District of Columbia</td><td>1111437</td><td>1993741</td><td>1374643</td><td>1827949</td><td>1803852</td><td>1595981</td><td>1193245</td><td>1739748</td><td>1707823</td><td>1353449</td><td>1979708</td><td>1912654</td><td>1782169</td><td>1410183</td></tr>\n",
       "\t<tr><td>F</td><td>Florida             </td><td>1964626</td><td>1468852</td><td>1419738</td><td>1362787</td><td>1339608</td><td>1278550</td><td>1756185</td><td>1818438</td><td>1198403</td><td>1497051</td><td>1131928</td><td>1107448</td><td>1407784</td><td>1170389</td></tr>\n",
       "\t<tr><td>G</td><td>Georgia             </td><td>1929009</td><td>1541565</td><td>1810773</td><td>1779091</td><td>1326846</td><td>1223770</td><td>1773090</td><td>1630325</td><td>1145473</td><td>1851245</td><td>1850111</td><td>1887157</td><td>1259353</td><td>1725470</td></tr>\n",
       "\t<tr><td>H</td><td>Hawaii              </td><td>1461570</td><td>1200280</td><td>1213993</td><td>1245931</td><td>1459383</td><td>1430465</td><td>1919423</td><td>1928416</td><td>1330509</td><td>1902816</td><td>1695126</td><td>1517184</td><td>1948108</td><td>1150882</td></tr>\n",
       "\t<tr><td>I</td><td>Idaho               </td><td>1353210</td><td>1438538</td><td>1739154</td><td>1541015</td><td>1122387</td><td>1772050</td><td>1335481</td><td>1748608</td><td>1436809</td><td>1456340</td><td>1643855</td><td>1312561</td><td>1713718</td><td>1757171</td></tr>\n",
       "\t<tr><td>I</td><td>Illinois            </td><td>1508356</td><td>1527440</td><td>1493029</td><td>1261353</td><td>1540274</td><td>1747614</td><td>1871645</td><td>1658551</td><td>1422021</td><td>1751422</td><td>1696729</td><td>1915435</td><td>1645465</td><td>1583516</td></tr>\n",
       "\t<tr><td>I</td><td>Indiana             </td><td>1776918</td><td>1734104</td><td>1269927</td><td>1204117</td><td>1848073</td><td>1129546</td><td>1139551</td><td>1883976</td><td>1999102</td><td>1559924</td><td>1905760</td><td>1129794</td><td>1988394</td><td>1467614</td></tr>\n",
       "\t<tr><td>I</td><td>Iowa                </td><td>1499269</td><td>1444576</td><td>1576367</td><td>1388924</td><td>1554813</td><td>1452911</td><td>1317983</td><td>1150783</td><td>1751389</td><td>1992996</td><td>1501879</td><td>1173694</td><td>1431705</td><td>1641866</td></tr>\n",
       "\t<tr><td>K</td><td>Kansas              </td><td>1509054</td><td>1290700</td><td>1522230</td><td>1532094</td><td>1104256</td><td>1863278</td><td>1949478</td><td>1561528</td><td>1550433</td><td>1465812</td><td>1882929</td><td>1410249</td><td>1930090</td><td>1385528</td></tr>\n",
       "\t<tr><td>K</td><td>Kentucky            </td><td>1813878</td><td>1448846</td><td>1800760</td><td>1250524</td><td>1137913</td><td>1911227</td><td>1301848</td><td>1956681</td><td>1350895</td><td>1512894</td><td>1916616</td><td>1878271</td><td>1722762</td><td>1913350</td></tr>\n",
       "\t<tr><td>L</td><td>Louisiana           </td><td>1584734</td><td>1110625</td><td>1868456</td><td>1751920</td><td>1233709</td><td>1920301</td><td>1185085</td><td>1124853</td><td>1498662</td><td>1210385</td><td>1234234</td><td>1287663</td><td>1908602</td><td>1403857</td></tr>\n",
       "\t<tr><td>M</td><td>Maine               </td><td>1582720</td><td>1678622</td><td>1208496</td><td>1912040</td><td>1438549</td><td>1330014</td><td>1295877</td><td>1969163</td><td>1627262</td><td>1706080</td><td>1437088</td><td>1318546</td><td>1116792</td><td>1529233</td></tr>\n",
       "\t<tr><td>M</td><td>Maryland            </td><td>1579713</td><td>1404700</td><td>1849798</td><td>1397738</td><td>1310270</td><td>1789128</td><td>1112765</td><td>1967225</td><td>1486246</td><td>1872327</td><td>1175819</td><td>1314343</td><td>1979529</td><td>1569566</td></tr>\n",
       "\t<tr><td>M</td><td>Massachusetts       </td><td>1647582</td><td>1686259</td><td>1620601</td><td>1777250</td><td>1531641</td><td>1380529</td><td>1978904</td><td>1567651</td><td>1761048</td><td>1658538</td><td>1482203</td><td>1731917</td><td>1669749</td><td>1963337</td></tr>\n",
       "\t<tr><td>M</td><td>Michigan            </td><td>1295635</td><td>1149931</td><td>1601027</td><td>1340716</td><td>1729449</td><td>1567494</td><td>1990431</td><td>1575185</td><td>1267626</td><td>1274673</td><td>1709853</td><td>1815596</td><td>1965196</td><td>1646634</td></tr>\n",
       "\t<tr><td>M</td><td>Minnesota           </td><td>1729921</td><td>1675204</td><td>1903907</td><td>1561839</td><td>1985692</td><td>1148621</td><td>1328133</td><td>1890633</td><td>1995304</td><td>1575533</td><td>1910216</td><td>1972021</td><td>1515366</td><td>1864553</td></tr>\n",
       "\t<tr><td>M</td><td>Mississippi         </td><td>1983285</td><td>1292558</td><td>1631325</td><td>1943311</td><td>1354579</td><td>1731643</td><td>1428291</td><td>1568049</td><td>1383227</td><td>1629132</td><td>1988270</td><td>1907777</td><td>1649668</td><td>1991232</td></tr>\n",
       "\t<tr><td>M</td><td>Missouri            </td><td>1221316</td><td>1858368</td><td>1773451</td><td>1573967</td><td>1374863</td><td>1486197</td><td>1735099</td><td>1800620</td><td>1164202</td><td>1425363</td><td>1800052</td><td>1698105</td><td>1767835</td><td>1996005</td></tr>\n",
       "\t<tr><td>M</td><td>Montana             </td><td>1877154</td><td>1540099</td><td>1332722</td><td>1273327</td><td>1625721</td><td>1983568</td><td>1251742</td><td>1592690</td><td>1350619</td><td>1520064</td><td>1185225</td><td>1465705</td><td>1110394</td><td>1125903</td></tr>\n",
       "\t<tr><td>N</td><td>Nebraska            </td><td>1885081</td><td>1309769</td><td>1425527</td><td>1240465</td><td>1500594</td><td>1278272</td><td>1140598</td><td>1270585</td><td>1128711</td><td>1187207</td><td>1569665</td><td>1690920</td><td>1459243</td><td>1802211</td></tr>\n",
       "\t<tr><td>N</td><td>Nevada              </td><td>1426117</td><td>1114500</td><td>1119707</td><td>1758830</td><td>1694526</td><td>1765826</td><td>1903270</td><td>1231480</td><td>1526066</td><td>1143343</td><td>1980195</td><td>1283813</td><td>1225348</td><td>1903804</td></tr>\n",
       "\t<tr><td>N</td><td>New Hampshire       </td><td>1419776</td><td>1854370</td><td>1195119</td><td>1990062</td><td>1645430</td><td>1286967</td><td>1762936</td><td>1763211</td><td>1265642</td><td>1704297</td><td>1131298</td><td>1197576</td><td>1242623</td><td>1963313</td></tr>\n",
       "\t<tr><td>N</td><td>New Jersey          </td><td>1605532</td><td>1141514</td><td>1613550</td><td>1181452</td><td>1541327</td><td>1156804</td><td>1568034</td><td>1357418</td><td>1443718</td><td>1390010</td><td>1202326</td><td>1100990</td><td>1850165</td><td>1183568</td></tr>\n",
       "\t<tr><td>N</td><td>New Mexico          </td><td>1819239</td><td>1226057</td><td>1935991</td><td>1124400</td><td>1723493</td><td>1475985</td><td>1237704</td><td>1820856</td><td>1801430</td><td>1653384</td><td>1475715</td><td>1623388</td><td>1533494</td><td>1868612</td></tr>\n",
       "\t<tr><td>N</td><td>New York            </td><td>1395149</td><td>1611371</td><td>1170675</td><td>1446810</td><td>1426941</td><td>1463171</td><td>1732098</td><td>1426216</td><td>1604531</td><td>1683687</td><td>1500089</td><td>1718837</td><td>1619033</td><td>1367705</td></tr>\n",
       "\t<tr><td>N</td><td>North Carolina      </td><td>1616742</td><td>1292223</td><td>1482792</td><td>1532347</td><td>1158716</td><td>1827420</td><td>1267737</td><td>1116168</td><td>1791535</td><td>1553750</td><td>1472258</td><td>1104893</td><td>1596452</td><td>1229085</td></tr>\n",
       "\t<tr><td>N</td><td>North Dakota        </td><td>1618807</td><td>1510193</td><td>1876940</td><td>1443172</td><td>1425030</td><td>1868788</td><td>1720352</td><td>1671468</td><td>1534571</td><td>1271132</td><td>1430978</td><td>1529024</td><td>1563898</td><td>1604118</td></tr>\n",
       "\t<tr><td>O</td><td>Ohio                </td><td>1802132</td><td>1648498</td><td>1441386</td><td>1670280</td><td>1534888</td><td>1314824</td><td>1516621</td><td>1511460</td><td>1585465</td><td>1887714</td><td>1227303</td><td>1840898</td><td>1880804</td><td>1573117</td></tr>\n",
       "\t<tr><td>O</td><td>Oklahoma            </td><td>1173918</td><td>1334639</td><td>1663622</td><td>1798714</td><td>1312574</td><td>1708245</td><td>1256746</td><td>1853142</td><td>1673831</td><td>1822933</td><td>1674707</td><td>1900523</td><td>1956742</td><td>1307678</td></tr>\n",
       "\t<tr><td>O</td><td>Oregon              </td><td>1794912</td><td>1726665</td><td>1805445</td><td>1133510</td><td>1502242</td><td>1419251</td><td>1482786</td><td>1862351</td><td>1103794</td><td>1935687</td><td>1905378</td><td>1522129</td><td>1509171</td><td>1893515</td></tr>\n",
       "\t<tr><td>P</td><td>Pennsylvania        </td><td>1320191</td><td>1446723</td><td>1218591</td><td>1122030</td><td>1971479</td><td>1563062</td><td>1274168</td><td>1571032</td><td>1433835</td><td>1483292</td><td>1290329</td><td>1475344</td><td>1931500</td><td>1668232</td></tr>\n",
       "\t<tr><td>R</td><td>Rhode Island        </td><td>1501744</td><td>1942942</td><td>1266657</td><td>1961923</td><td>1835983</td><td>1234040</td><td>1151409</td><td>1993136</td><td>1983569</td><td>1781016</td><td>1909119</td><td>1531212</td><td>1990412</td><td>1611730</td></tr>\n",
       "\t<tr><td>S</td><td>South Carolina      </td><td>1631522</td><td>1803455</td><td>1425193</td><td>1458191</td><td>1538731</td><td>1825195</td><td>1250499</td><td>1864685</td><td>1345102</td><td>1116203</td><td>1532332</td><td>1591735</td><td>1188417</td><td>1110655</td></tr>\n",
       "\t<tr><td>S</td><td>South Dakota        </td><td>1159037</td><td>1150689</td><td>1660148</td><td>1417141</td><td>1418586</td><td>1279134</td><td>1171870</td><td>1852424</td><td>1554782</td><td>1647245</td><td>1811156</td><td>1147488</td><td>1302834</td><td>1136443</td></tr>\n",
       "\t<tr><td>T</td><td>Tennessee           </td><td>1811867</td><td>1485909</td><td>1974179</td><td>1157059</td><td>1786132</td><td>1399191</td><td>1826406</td><td>1326460</td><td>1231739</td><td>1469785</td><td>1849041</td><td>1560887</td><td>1349173</td><td>1162164</td></tr>\n",
       "\t<tr><td>T</td><td>Texas               </td><td>1520591</td><td>1310777</td><td>1957713</td><td>1907326</td><td>1873544</td><td>1655483</td><td>1785986</td><td>1827503</td><td>1447457</td><td>1978374</td><td>1882532</td><td>1698698</td><td>1646508</td><td>1705322</td></tr>\n",
       "\t<tr><td>U</td><td>Utah                </td><td>1771096</td><td>1195861</td><td>1979395</td><td>1241662</td><td>1437456</td><td>1859416</td><td>1939284</td><td>1915865</td><td>1619186</td><td>1288285</td><td>1108281</td><td>1123353</td><td>1801019</td><td>1729273</td></tr>\n",
       "\t<tr><td>V</td><td>Vermont             </td><td>1146902</td><td>1832249</td><td>1492704</td><td>1579265</td><td>1332048</td><td>1563537</td><td>1123567</td><td>1618583</td><td>1326369</td><td>1792600</td><td>1714960</td><td>1146278</td><td>1282790</td><td>1565924</td></tr>\n",
       "\t<tr><td>V</td><td>Virginia            </td><td>1134317</td><td>1163996</td><td>1891068</td><td>1853855</td><td>1708715</td><td>1197698</td><td>1803330</td><td>1590043</td><td>1516758</td><td>1171686</td><td>1262342</td><td>1647032</td><td>1706707</td><td>1850394</td></tr>\n",
       "\t<tr><td>W</td><td>Washington          </td><td>1977749</td><td>1687136</td><td>1199490</td><td>1163092</td><td>1334864</td><td>1621989</td><td>1545621</td><td>1555554</td><td>1179331</td><td>1150089</td><td>1775787</td><td>1273834</td><td>1387428</td><td>1377341</td></tr>\n",
       "\t<tr><td>W</td><td>West Virginia       </td><td>1677347</td><td>1380662</td><td>1176100</td><td>1888948</td><td>1922085</td><td>1740826</td><td>1238174</td><td>1539322</td><td>1539603</td><td>1872519</td><td>1462137</td><td>1683127</td><td>1204344</td><td>1198791</td></tr>\n",
       "\t<tr><td>W</td><td>Wisconsin           </td><td>1788920</td><td>1518578</td><td>1289663</td><td>1436888</td><td>1251678</td><td>1721874</td><td>1980167</td><td>1901394</td><td>1648755</td><td>1940943</td><td>1729177</td><td>1510119</td><td>1701650</td><td>1846238</td></tr>\n",
       "\t<tr><td>W</td><td>Wyoming             </td><td>1775190</td><td>1498098</td><td>1198212</td><td>1881688</td><td>1750527</td><td>1523124</td><td>1587602</td><td>1504455</td><td>1282142</td><td>1881814</td><td>1673668</td><td>1994022</td><td>1204029</td><td>1853858</td></tr>\n",
       "</tbody>\n",
       "</table>\n"
      ],
      "text/latex": [
       "A data.frame: 51 × 16\n",
       "\\begin{tabular}{r|llllllllllllllll}\n",
       " Index1 & State & Y2002 & Y2003 & Y2004 & Y2005 & Y2006 & Y2007 & Y2008 & Y2009 & Y2010 & Y2011 & Y2012 & Y2013 & Y2014 & Y2015\\\\\n",
       " <fct> & <fct> & <int> & <int> & <int> & <int> & <int> & <int> & <int> & <int> & <int> & <int> & <int> & <int> & <int> & <int>\\\\\n",
       "\\hline\n",
       "\t A & Alabama              & 1296530 & 1317711 & 1118631 & 1492583 & 1107408 & 1440134 & 1945229 & 1944173 & 1237582 & 1440756 & 1186741 & 1852841 & 1558906 & 1916661\\\\\n",
       "\t A & Alaska               & 1170302 & 1960378 & 1818085 & 1447852 & 1861639 & 1465841 & 1551826 & 1436541 & 1629616 & 1230866 & 1512804 & 1985302 & 1580394 & 1979143\\\\\n",
       "\t A & Arizona              & 1742027 & 1968140 & 1377583 & 1782199 & 1102568 & 1109382 & 1752886 & 1554330 & 1300521 & 1130709 & 1907284 & 1363279 & 1525866 & 1647724\\\\\n",
       "\t A & Arkansas             & 1485531 & 1994927 & 1119299 & 1947979 & 1669191 & 1801213 & 1188104 & 1628980 & 1669295 & 1928238 & 1216675 & 1591896 & 1360959 & 1329341\\\\\n",
       "\t C & California           & 1685349 & 1675807 & 1889570 & 1480280 & 1735069 & 1812546 & 1487315 & 1663809 & 1624509 & 1639670 & 1921845 & 1156536 & 1388461 & 1644607\\\\\n",
       "\t C & Colorado             & 1343824 & 1878473 & 1886149 & 1236697 & 1871471 & 1814218 & 1875146 & 1752387 & 1913275 & 1665877 & 1491604 & 1178355 & 1383978 & 1330736\\\\\n",
       "\t C & Connecticut          & 1610512 & 1232844 & 1181949 & 1518933 & 1841266 & 1976976 & 1764457 & 1972730 & 1968730 & 1945524 & 1228529 & 1582249 & 1503156 & 1718072\\\\\n",
       "\t D & Delaware             & 1330403 & 1268673 & 1706751 & 1403759 & 1441351 & 1300836 & 1762096 & 1553585 & 1370984 & 1318669 & 1984027 & 1671279 & 1803169 & 1627508\\\\\n",
       "\t D & District of Columbia & 1111437 & 1993741 & 1374643 & 1827949 & 1803852 & 1595981 & 1193245 & 1739748 & 1707823 & 1353449 & 1979708 & 1912654 & 1782169 & 1410183\\\\\n",
       "\t F & Florida              & 1964626 & 1468852 & 1419738 & 1362787 & 1339608 & 1278550 & 1756185 & 1818438 & 1198403 & 1497051 & 1131928 & 1107448 & 1407784 & 1170389\\\\\n",
       "\t G & Georgia              & 1929009 & 1541565 & 1810773 & 1779091 & 1326846 & 1223770 & 1773090 & 1630325 & 1145473 & 1851245 & 1850111 & 1887157 & 1259353 & 1725470\\\\\n",
       "\t H & Hawaii               & 1461570 & 1200280 & 1213993 & 1245931 & 1459383 & 1430465 & 1919423 & 1928416 & 1330509 & 1902816 & 1695126 & 1517184 & 1948108 & 1150882\\\\\n",
       "\t I & Idaho                & 1353210 & 1438538 & 1739154 & 1541015 & 1122387 & 1772050 & 1335481 & 1748608 & 1436809 & 1456340 & 1643855 & 1312561 & 1713718 & 1757171\\\\\n",
       "\t I & Illinois             & 1508356 & 1527440 & 1493029 & 1261353 & 1540274 & 1747614 & 1871645 & 1658551 & 1422021 & 1751422 & 1696729 & 1915435 & 1645465 & 1583516\\\\\n",
       "\t I & Indiana              & 1776918 & 1734104 & 1269927 & 1204117 & 1848073 & 1129546 & 1139551 & 1883976 & 1999102 & 1559924 & 1905760 & 1129794 & 1988394 & 1467614\\\\\n",
       "\t I & Iowa                 & 1499269 & 1444576 & 1576367 & 1388924 & 1554813 & 1452911 & 1317983 & 1150783 & 1751389 & 1992996 & 1501879 & 1173694 & 1431705 & 1641866\\\\\n",
       "\t K & Kansas               & 1509054 & 1290700 & 1522230 & 1532094 & 1104256 & 1863278 & 1949478 & 1561528 & 1550433 & 1465812 & 1882929 & 1410249 & 1930090 & 1385528\\\\\n",
       "\t K & Kentucky             & 1813878 & 1448846 & 1800760 & 1250524 & 1137913 & 1911227 & 1301848 & 1956681 & 1350895 & 1512894 & 1916616 & 1878271 & 1722762 & 1913350\\\\\n",
       "\t L & Louisiana            & 1584734 & 1110625 & 1868456 & 1751920 & 1233709 & 1920301 & 1185085 & 1124853 & 1498662 & 1210385 & 1234234 & 1287663 & 1908602 & 1403857\\\\\n",
       "\t M & Maine                & 1582720 & 1678622 & 1208496 & 1912040 & 1438549 & 1330014 & 1295877 & 1969163 & 1627262 & 1706080 & 1437088 & 1318546 & 1116792 & 1529233\\\\\n",
       "\t M & Maryland             & 1579713 & 1404700 & 1849798 & 1397738 & 1310270 & 1789128 & 1112765 & 1967225 & 1486246 & 1872327 & 1175819 & 1314343 & 1979529 & 1569566\\\\\n",
       "\t M & Massachusetts        & 1647582 & 1686259 & 1620601 & 1777250 & 1531641 & 1380529 & 1978904 & 1567651 & 1761048 & 1658538 & 1482203 & 1731917 & 1669749 & 1963337\\\\\n",
       "\t M & Michigan             & 1295635 & 1149931 & 1601027 & 1340716 & 1729449 & 1567494 & 1990431 & 1575185 & 1267626 & 1274673 & 1709853 & 1815596 & 1965196 & 1646634\\\\\n",
       "\t M & Minnesota            & 1729921 & 1675204 & 1903907 & 1561839 & 1985692 & 1148621 & 1328133 & 1890633 & 1995304 & 1575533 & 1910216 & 1972021 & 1515366 & 1864553\\\\\n",
       "\t M & Mississippi          & 1983285 & 1292558 & 1631325 & 1943311 & 1354579 & 1731643 & 1428291 & 1568049 & 1383227 & 1629132 & 1988270 & 1907777 & 1649668 & 1991232\\\\\n",
       "\t M & Missouri             & 1221316 & 1858368 & 1773451 & 1573967 & 1374863 & 1486197 & 1735099 & 1800620 & 1164202 & 1425363 & 1800052 & 1698105 & 1767835 & 1996005\\\\\n",
       "\t M & Montana              & 1877154 & 1540099 & 1332722 & 1273327 & 1625721 & 1983568 & 1251742 & 1592690 & 1350619 & 1520064 & 1185225 & 1465705 & 1110394 & 1125903\\\\\n",
       "\t N & Nebraska             & 1885081 & 1309769 & 1425527 & 1240465 & 1500594 & 1278272 & 1140598 & 1270585 & 1128711 & 1187207 & 1569665 & 1690920 & 1459243 & 1802211\\\\\n",
       "\t N & Nevada               & 1426117 & 1114500 & 1119707 & 1758830 & 1694526 & 1765826 & 1903270 & 1231480 & 1526066 & 1143343 & 1980195 & 1283813 & 1225348 & 1903804\\\\\n",
       "\t N & New Hampshire        & 1419776 & 1854370 & 1195119 & 1990062 & 1645430 & 1286967 & 1762936 & 1763211 & 1265642 & 1704297 & 1131298 & 1197576 & 1242623 & 1963313\\\\\n",
       "\t N & New Jersey           & 1605532 & 1141514 & 1613550 & 1181452 & 1541327 & 1156804 & 1568034 & 1357418 & 1443718 & 1390010 & 1202326 & 1100990 & 1850165 & 1183568\\\\\n",
       "\t N & New Mexico           & 1819239 & 1226057 & 1935991 & 1124400 & 1723493 & 1475985 & 1237704 & 1820856 & 1801430 & 1653384 & 1475715 & 1623388 & 1533494 & 1868612\\\\\n",
       "\t N & New York             & 1395149 & 1611371 & 1170675 & 1446810 & 1426941 & 1463171 & 1732098 & 1426216 & 1604531 & 1683687 & 1500089 & 1718837 & 1619033 & 1367705\\\\\n",
       "\t N & North Carolina       & 1616742 & 1292223 & 1482792 & 1532347 & 1158716 & 1827420 & 1267737 & 1116168 & 1791535 & 1553750 & 1472258 & 1104893 & 1596452 & 1229085\\\\\n",
       "\t N & North Dakota         & 1618807 & 1510193 & 1876940 & 1443172 & 1425030 & 1868788 & 1720352 & 1671468 & 1534571 & 1271132 & 1430978 & 1529024 & 1563898 & 1604118\\\\\n",
       "\t O & Ohio                 & 1802132 & 1648498 & 1441386 & 1670280 & 1534888 & 1314824 & 1516621 & 1511460 & 1585465 & 1887714 & 1227303 & 1840898 & 1880804 & 1573117\\\\\n",
       "\t O & Oklahoma             & 1173918 & 1334639 & 1663622 & 1798714 & 1312574 & 1708245 & 1256746 & 1853142 & 1673831 & 1822933 & 1674707 & 1900523 & 1956742 & 1307678\\\\\n",
       "\t O & Oregon               & 1794912 & 1726665 & 1805445 & 1133510 & 1502242 & 1419251 & 1482786 & 1862351 & 1103794 & 1935687 & 1905378 & 1522129 & 1509171 & 1893515\\\\\n",
       "\t P & Pennsylvania         & 1320191 & 1446723 & 1218591 & 1122030 & 1971479 & 1563062 & 1274168 & 1571032 & 1433835 & 1483292 & 1290329 & 1475344 & 1931500 & 1668232\\\\\n",
       "\t R & Rhode Island         & 1501744 & 1942942 & 1266657 & 1961923 & 1835983 & 1234040 & 1151409 & 1993136 & 1983569 & 1781016 & 1909119 & 1531212 & 1990412 & 1611730\\\\\n",
       "\t S & South Carolina       & 1631522 & 1803455 & 1425193 & 1458191 & 1538731 & 1825195 & 1250499 & 1864685 & 1345102 & 1116203 & 1532332 & 1591735 & 1188417 & 1110655\\\\\n",
       "\t S & South Dakota         & 1159037 & 1150689 & 1660148 & 1417141 & 1418586 & 1279134 & 1171870 & 1852424 & 1554782 & 1647245 & 1811156 & 1147488 & 1302834 & 1136443\\\\\n",
       "\t T & Tennessee            & 1811867 & 1485909 & 1974179 & 1157059 & 1786132 & 1399191 & 1826406 & 1326460 & 1231739 & 1469785 & 1849041 & 1560887 & 1349173 & 1162164\\\\\n",
       "\t T & Texas                & 1520591 & 1310777 & 1957713 & 1907326 & 1873544 & 1655483 & 1785986 & 1827503 & 1447457 & 1978374 & 1882532 & 1698698 & 1646508 & 1705322\\\\\n",
       "\t U & Utah                 & 1771096 & 1195861 & 1979395 & 1241662 & 1437456 & 1859416 & 1939284 & 1915865 & 1619186 & 1288285 & 1108281 & 1123353 & 1801019 & 1729273\\\\\n",
       "\t V & Vermont              & 1146902 & 1832249 & 1492704 & 1579265 & 1332048 & 1563537 & 1123567 & 1618583 & 1326369 & 1792600 & 1714960 & 1146278 & 1282790 & 1565924\\\\\n",
       "\t V & Virginia             & 1134317 & 1163996 & 1891068 & 1853855 & 1708715 & 1197698 & 1803330 & 1590043 & 1516758 & 1171686 & 1262342 & 1647032 & 1706707 & 1850394\\\\\n",
       "\t W & Washington           & 1977749 & 1687136 & 1199490 & 1163092 & 1334864 & 1621989 & 1545621 & 1555554 & 1179331 & 1150089 & 1775787 & 1273834 & 1387428 & 1377341\\\\\n",
       "\t W & West Virginia        & 1677347 & 1380662 & 1176100 & 1888948 & 1922085 & 1740826 & 1238174 & 1539322 & 1539603 & 1872519 & 1462137 & 1683127 & 1204344 & 1198791\\\\\n",
       "\t W & Wisconsin            & 1788920 & 1518578 & 1289663 & 1436888 & 1251678 & 1721874 & 1980167 & 1901394 & 1648755 & 1940943 & 1729177 & 1510119 & 1701650 & 1846238\\\\\n",
       "\t W & Wyoming              & 1775190 & 1498098 & 1198212 & 1881688 & 1750527 & 1523124 & 1587602 & 1504455 & 1282142 & 1881814 & 1673668 & 1994022 & 1204029 & 1853858\\\\\n",
       "\\end{tabular}\n"
      ],
      "text/markdown": [
       "\n",
       "A data.frame: 51 × 16\n",
       "\n",
       "| Index1 &lt;fct&gt; | State &lt;fct&gt; | Y2002 &lt;int&gt; | Y2003 &lt;int&gt; | Y2004 &lt;int&gt; | Y2005 &lt;int&gt; | Y2006 &lt;int&gt; | Y2007 &lt;int&gt; | Y2008 &lt;int&gt; | Y2009 &lt;int&gt; | Y2010 &lt;int&gt; | Y2011 &lt;int&gt; | Y2012 &lt;int&gt; | Y2013 &lt;int&gt; | Y2014 &lt;int&gt; | Y2015 &lt;int&gt; |\n",
       "|---|---|---|---|---|---|---|---|---|---|---|---|---|---|---|---|\n",
       "| A | Alabama              | 1296530 | 1317711 | 1118631 | 1492583 | 1107408 | 1440134 | 1945229 | 1944173 | 1237582 | 1440756 | 1186741 | 1852841 | 1558906 | 1916661 |\n",
       "| A | Alaska               | 1170302 | 1960378 | 1818085 | 1447852 | 1861639 | 1465841 | 1551826 | 1436541 | 1629616 | 1230866 | 1512804 | 1985302 | 1580394 | 1979143 |\n",
       "| A | Arizona              | 1742027 | 1968140 | 1377583 | 1782199 | 1102568 | 1109382 | 1752886 | 1554330 | 1300521 | 1130709 | 1907284 | 1363279 | 1525866 | 1647724 |\n",
       "| A | Arkansas             | 1485531 | 1994927 | 1119299 | 1947979 | 1669191 | 1801213 | 1188104 | 1628980 | 1669295 | 1928238 | 1216675 | 1591896 | 1360959 | 1329341 |\n",
       "| C | California           | 1685349 | 1675807 | 1889570 | 1480280 | 1735069 | 1812546 | 1487315 | 1663809 | 1624509 | 1639670 | 1921845 | 1156536 | 1388461 | 1644607 |\n",
       "| C | Colorado             | 1343824 | 1878473 | 1886149 | 1236697 | 1871471 | 1814218 | 1875146 | 1752387 | 1913275 | 1665877 | 1491604 | 1178355 | 1383978 | 1330736 |\n",
       "| C | Connecticut          | 1610512 | 1232844 | 1181949 | 1518933 | 1841266 | 1976976 | 1764457 | 1972730 | 1968730 | 1945524 | 1228529 | 1582249 | 1503156 | 1718072 |\n",
       "| D | Delaware             | 1330403 | 1268673 | 1706751 | 1403759 | 1441351 | 1300836 | 1762096 | 1553585 | 1370984 | 1318669 | 1984027 | 1671279 | 1803169 | 1627508 |\n",
       "| D | District of Columbia | 1111437 | 1993741 | 1374643 | 1827949 | 1803852 | 1595981 | 1193245 | 1739748 | 1707823 | 1353449 | 1979708 | 1912654 | 1782169 | 1410183 |\n",
       "| F | Florida              | 1964626 | 1468852 | 1419738 | 1362787 | 1339608 | 1278550 | 1756185 | 1818438 | 1198403 | 1497051 | 1131928 | 1107448 | 1407784 | 1170389 |\n",
       "| G | Georgia              | 1929009 | 1541565 | 1810773 | 1779091 | 1326846 | 1223770 | 1773090 | 1630325 | 1145473 | 1851245 | 1850111 | 1887157 | 1259353 | 1725470 |\n",
       "| H | Hawaii               | 1461570 | 1200280 | 1213993 | 1245931 | 1459383 | 1430465 | 1919423 | 1928416 | 1330509 | 1902816 | 1695126 | 1517184 | 1948108 | 1150882 |\n",
       "| I | Idaho                | 1353210 | 1438538 | 1739154 | 1541015 | 1122387 | 1772050 | 1335481 | 1748608 | 1436809 | 1456340 | 1643855 | 1312561 | 1713718 | 1757171 |\n",
       "| I | Illinois             | 1508356 | 1527440 | 1493029 | 1261353 | 1540274 | 1747614 | 1871645 | 1658551 | 1422021 | 1751422 | 1696729 | 1915435 | 1645465 | 1583516 |\n",
       "| I | Indiana              | 1776918 | 1734104 | 1269927 | 1204117 | 1848073 | 1129546 | 1139551 | 1883976 | 1999102 | 1559924 | 1905760 | 1129794 | 1988394 | 1467614 |\n",
       "| I | Iowa                 | 1499269 | 1444576 | 1576367 | 1388924 | 1554813 | 1452911 | 1317983 | 1150783 | 1751389 | 1992996 | 1501879 | 1173694 | 1431705 | 1641866 |\n",
       "| K | Kansas               | 1509054 | 1290700 | 1522230 | 1532094 | 1104256 | 1863278 | 1949478 | 1561528 | 1550433 | 1465812 | 1882929 | 1410249 | 1930090 | 1385528 |\n",
       "| K | Kentucky             | 1813878 | 1448846 | 1800760 | 1250524 | 1137913 | 1911227 | 1301848 | 1956681 | 1350895 | 1512894 | 1916616 | 1878271 | 1722762 | 1913350 |\n",
       "| L | Louisiana            | 1584734 | 1110625 | 1868456 | 1751920 | 1233709 | 1920301 | 1185085 | 1124853 | 1498662 | 1210385 | 1234234 | 1287663 | 1908602 | 1403857 |\n",
       "| M | Maine                | 1582720 | 1678622 | 1208496 | 1912040 | 1438549 | 1330014 | 1295877 | 1969163 | 1627262 | 1706080 | 1437088 | 1318546 | 1116792 | 1529233 |\n",
       "| M | Maryland             | 1579713 | 1404700 | 1849798 | 1397738 | 1310270 | 1789128 | 1112765 | 1967225 | 1486246 | 1872327 | 1175819 | 1314343 | 1979529 | 1569566 |\n",
       "| M | Massachusetts        | 1647582 | 1686259 | 1620601 | 1777250 | 1531641 | 1380529 | 1978904 | 1567651 | 1761048 | 1658538 | 1482203 | 1731917 | 1669749 | 1963337 |\n",
       "| M | Michigan             | 1295635 | 1149931 | 1601027 | 1340716 | 1729449 | 1567494 | 1990431 | 1575185 | 1267626 | 1274673 | 1709853 | 1815596 | 1965196 | 1646634 |\n",
       "| M | Minnesota            | 1729921 | 1675204 | 1903907 | 1561839 | 1985692 | 1148621 | 1328133 | 1890633 | 1995304 | 1575533 | 1910216 | 1972021 | 1515366 | 1864553 |\n",
       "| M | Mississippi          | 1983285 | 1292558 | 1631325 | 1943311 | 1354579 | 1731643 | 1428291 | 1568049 | 1383227 | 1629132 | 1988270 | 1907777 | 1649668 | 1991232 |\n",
       "| M | Missouri             | 1221316 | 1858368 | 1773451 | 1573967 | 1374863 | 1486197 | 1735099 | 1800620 | 1164202 | 1425363 | 1800052 | 1698105 | 1767835 | 1996005 |\n",
       "| M | Montana              | 1877154 | 1540099 | 1332722 | 1273327 | 1625721 | 1983568 | 1251742 | 1592690 | 1350619 | 1520064 | 1185225 | 1465705 | 1110394 | 1125903 |\n",
       "| N | Nebraska             | 1885081 | 1309769 | 1425527 | 1240465 | 1500594 | 1278272 | 1140598 | 1270585 | 1128711 | 1187207 | 1569665 | 1690920 | 1459243 | 1802211 |\n",
       "| N | Nevada               | 1426117 | 1114500 | 1119707 | 1758830 | 1694526 | 1765826 | 1903270 | 1231480 | 1526066 | 1143343 | 1980195 | 1283813 | 1225348 | 1903804 |\n",
       "| N | New Hampshire        | 1419776 | 1854370 | 1195119 | 1990062 | 1645430 | 1286967 | 1762936 | 1763211 | 1265642 | 1704297 | 1131298 | 1197576 | 1242623 | 1963313 |\n",
       "| N | New Jersey           | 1605532 | 1141514 | 1613550 | 1181452 | 1541327 | 1156804 | 1568034 | 1357418 | 1443718 | 1390010 | 1202326 | 1100990 | 1850165 | 1183568 |\n",
       "| N | New Mexico           | 1819239 | 1226057 | 1935991 | 1124400 | 1723493 | 1475985 | 1237704 | 1820856 | 1801430 | 1653384 | 1475715 | 1623388 | 1533494 | 1868612 |\n",
       "| N | New York             | 1395149 | 1611371 | 1170675 | 1446810 | 1426941 | 1463171 | 1732098 | 1426216 | 1604531 | 1683687 | 1500089 | 1718837 | 1619033 | 1367705 |\n",
       "| N | North Carolina       | 1616742 | 1292223 | 1482792 | 1532347 | 1158716 | 1827420 | 1267737 | 1116168 | 1791535 | 1553750 | 1472258 | 1104893 | 1596452 | 1229085 |\n",
       "| N | North Dakota         | 1618807 | 1510193 | 1876940 | 1443172 | 1425030 | 1868788 | 1720352 | 1671468 | 1534571 | 1271132 | 1430978 | 1529024 | 1563898 | 1604118 |\n",
       "| O | Ohio                 | 1802132 | 1648498 | 1441386 | 1670280 | 1534888 | 1314824 | 1516621 | 1511460 | 1585465 | 1887714 | 1227303 | 1840898 | 1880804 | 1573117 |\n",
       "| O | Oklahoma             | 1173918 | 1334639 | 1663622 | 1798714 | 1312574 | 1708245 | 1256746 | 1853142 | 1673831 | 1822933 | 1674707 | 1900523 | 1956742 | 1307678 |\n",
       "| O | Oregon               | 1794912 | 1726665 | 1805445 | 1133510 | 1502242 | 1419251 | 1482786 | 1862351 | 1103794 | 1935687 | 1905378 | 1522129 | 1509171 | 1893515 |\n",
       "| P | Pennsylvania         | 1320191 | 1446723 | 1218591 | 1122030 | 1971479 | 1563062 | 1274168 | 1571032 | 1433835 | 1483292 | 1290329 | 1475344 | 1931500 | 1668232 |\n",
       "| R | Rhode Island         | 1501744 | 1942942 | 1266657 | 1961923 | 1835983 | 1234040 | 1151409 | 1993136 | 1983569 | 1781016 | 1909119 | 1531212 | 1990412 | 1611730 |\n",
       "| S | South Carolina       | 1631522 | 1803455 | 1425193 | 1458191 | 1538731 | 1825195 | 1250499 | 1864685 | 1345102 | 1116203 | 1532332 | 1591735 | 1188417 | 1110655 |\n",
       "| S | South Dakota         | 1159037 | 1150689 | 1660148 | 1417141 | 1418586 | 1279134 | 1171870 | 1852424 | 1554782 | 1647245 | 1811156 | 1147488 | 1302834 | 1136443 |\n",
       "| T | Tennessee            | 1811867 | 1485909 | 1974179 | 1157059 | 1786132 | 1399191 | 1826406 | 1326460 | 1231739 | 1469785 | 1849041 | 1560887 | 1349173 | 1162164 |\n",
       "| T | Texas                | 1520591 | 1310777 | 1957713 | 1907326 | 1873544 | 1655483 | 1785986 | 1827503 | 1447457 | 1978374 | 1882532 | 1698698 | 1646508 | 1705322 |\n",
       "| U | Utah                 | 1771096 | 1195861 | 1979395 | 1241662 | 1437456 | 1859416 | 1939284 | 1915865 | 1619186 | 1288285 | 1108281 | 1123353 | 1801019 | 1729273 |\n",
       "| V | Vermont              | 1146902 | 1832249 | 1492704 | 1579265 | 1332048 | 1563537 | 1123567 | 1618583 | 1326369 | 1792600 | 1714960 | 1146278 | 1282790 | 1565924 |\n",
       "| V | Virginia             | 1134317 | 1163996 | 1891068 | 1853855 | 1708715 | 1197698 | 1803330 | 1590043 | 1516758 | 1171686 | 1262342 | 1647032 | 1706707 | 1850394 |\n",
       "| W | Washington           | 1977749 | 1687136 | 1199490 | 1163092 | 1334864 | 1621989 | 1545621 | 1555554 | 1179331 | 1150089 | 1775787 | 1273834 | 1387428 | 1377341 |\n",
       "| W | West Virginia        | 1677347 | 1380662 | 1176100 | 1888948 | 1922085 | 1740826 | 1238174 | 1539322 | 1539603 | 1872519 | 1462137 | 1683127 | 1204344 | 1198791 |\n",
       "| W | Wisconsin            | 1788920 | 1518578 | 1289663 | 1436888 | 1251678 | 1721874 | 1980167 | 1901394 | 1648755 | 1940943 | 1729177 | 1510119 | 1701650 | 1846238 |\n",
       "| W | Wyoming              | 1775190 | 1498098 | 1198212 | 1881688 | 1750527 | 1523124 | 1587602 | 1504455 | 1282142 | 1881814 | 1673668 | 1994022 | 1204029 | 1853858 |\n",
       "\n"
      ],
      "text/plain": [
       "   Index1 State                Y2002   Y2003   Y2004   Y2005   Y2006   Y2007  \n",
       "1  A      Alabama              1296530 1317711 1118631 1492583 1107408 1440134\n",
       "2  A      Alaska               1170302 1960378 1818085 1447852 1861639 1465841\n",
       "3  A      Arizona              1742027 1968140 1377583 1782199 1102568 1109382\n",
       "4  A      Arkansas             1485531 1994927 1119299 1947979 1669191 1801213\n",
       "5  C      California           1685349 1675807 1889570 1480280 1735069 1812546\n",
       "6  C      Colorado             1343824 1878473 1886149 1236697 1871471 1814218\n",
       "7  C      Connecticut          1610512 1232844 1181949 1518933 1841266 1976976\n",
       "8  D      Delaware             1330403 1268673 1706751 1403759 1441351 1300836\n",
       "9  D      District of Columbia 1111437 1993741 1374643 1827949 1803852 1595981\n",
       "10 F      Florida              1964626 1468852 1419738 1362787 1339608 1278550\n",
       "11 G      Georgia              1929009 1541565 1810773 1779091 1326846 1223770\n",
       "12 H      Hawaii               1461570 1200280 1213993 1245931 1459383 1430465\n",
       "13 I      Idaho                1353210 1438538 1739154 1541015 1122387 1772050\n",
       "14 I      Illinois             1508356 1527440 1493029 1261353 1540274 1747614\n",
       "15 I      Indiana              1776918 1734104 1269927 1204117 1848073 1129546\n",
       "16 I      Iowa                 1499269 1444576 1576367 1388924 1554813 1452911\n",
       "17 K      Kansas               1509054 1290700 1522230 1532094 1104256 1863278\n",
       "18 K      Kentucky             1813878 1448846 1800760 1250524 1137913 1911227\n",
       "19 L      Louisiana            1584734 1110625 1868456 1751920 1233709 1920301\n",
       "20 M      Maine                1582720 1678622 1208496 1912040 1438549 1330014\n",
       "21 M      Maryland             1579713 1404700 1849798 1397738 1310270 1789128\n",
       "22 M      Massachusetts        1647582 1686259 1620601 1777250 1531641 1380529\n",
       "23 M      Michigan             1295635 1149931 1601027 1340716 1729449 1567494\n",
       "24 M      Minnesota            1729921 1675204 1903907 1561839 1985692 1148621\n",
       "25 M      Mississippi          1983285 1292558 1631325 1943311 1354579 1731643\n",
       "26 M      Missouri             1221316 1858368 1773451 1573967 1374863 1486197\n",
       "27 M      Montana              1877154 1540099 1332722 1273327 1625721 1983568\n",
       "28 N      Nebraska             1885081 1309769 1425527 1240465 1500594 1278272\n",
       "29 N      Nevada               1426117 1114500 1119707 1758830 1694526 1765826\n",
       "30 N      New Hampshire        1419776 1854370 1195119 1990062 1645430 1286967\n",
       "31 N      New Jersey           1605532 1141514 1613550 1181452 1541327 1156804\n",
       "32 N      New Mexico           1819239 1226057 1935991 1124400 1723493 1475985\n",
       "33 N      New York             1395149 1611371 1170675 1446810 1426941 1463171\n",
       "34 N      North Carolina       1616742 1292223 1482792 1532347 1158716 1827420\n",
       "35 N      North Dakota         1618807 1510193 1876940 1443172 1425030 1868788\n",
       "36 O      Ohio                 1802132 1648498 1441386 1670280 1534888 1314824\n",
       "37 O      Oklahoma             1173918 1334639 1663622 1798714 1312574 1708245\n",
       "38 O      Oregon               1794912 1726665 1805445 1133510 1502242 1419251\n",
       "39 P      Pennsylvania         1320191 1446723 1218591 1122030 1971479 1563062\n",
       "40 R      Rhode Island         1501744 1942942 1266657 1961923 1835983 1234040\n",
       "41 S      South Carolina       1631522 1803455 1425193 1458191 1538731 1825195\n",
       "42 S      South Dakota         1159037 1150689 1660148 1417141 1418586 1279134\n",
       "43 T      Tennessee            1811867 1485909 1974179 1157059 1786132 1399191\n",
       "44 T      Texas                1520591 1310777 1957713 1907326 1873544 1655483\n",
       "45 U      Utah                 1771096 1195861 1979395 1241662 1437456 1859416\n",
       "46 V      Vermont              1146902 1832249 1492704 1579265 1332048 1563537\n",
       "47 V      Virginia             1134317 1163996 1891068 1853855 1708715 1197698\n",
       "48 W      Washington           1977749 1687136 1199490 1163092 1334864 1621989\n",
       "49 W      West Virginia        1677347 1380662 1176100 1888948 1922085 1740826\n",
       "50 W      Wisconsin            1788920 1518578 1289663 1436888 1251678 1721874\n",
       "51 W      Wyoming              1775190 1498098 1198212 1881688 1750527 1523124\n",
       "   Y2008   Y2009   Y2010   Y2011   Y2012   Y2013   Y2014   Y2015  \n",
       "1  1945229 1944173 1237582 1440756 1186741 1852841 1558906 1916661\n",
       "2  1551826 1436541 1629616 1230866 1512804 1985302 1580394 1979143\n",
       "3  1752886 1554330 1300521 1130709 1907284 1363279 1525866 1647724\n",
       "4  1188104 1628980 1669295 1928238 1216675 1591896 1360959 1329341\n",
       "5  1487315 1663809 1624509 1639670 1921845 1156536 1388461 1644607\n",
       "6  1875146 1752387 1913275 1665877 1491604 1178355 1383978 1330736\n",
       "7  1764457 1972730 1968730 1945524 1228529 1582249 1503156 1718072\n",
       "8  1762096 1553585 1370984 1318669 1984027 1671279 1803169 1627508\n",
       "9  1193245 1739748 1707823 1353449 1979708 1912654 1782169 1410183\n",
       "10 1756185 1818438 1198403 1497051 1131928 1107448 1407784 1170389\n",
       "11 1773090 1630325 1145473 1851245 1850111 1887157 1259353 1725470\n",
       "12 1919423 1928416 1330509 1902816 1695126 1517184 1948108 1150882\n",
       "13 1335481 1748608 1436809 1456340 1643855 1312561 1713718 1757171\n",
       "14 1871645 1658551 1422021 1751422 1696729 1915435 1645465 1583516\n",
       "15 1139551 1883976 1999102 1559924 1905760 1129794 1988394 1467614\n",
       "16 1317983 1150783 1751389 1992996 1501879 1173694 1431705 1641866\n",
       "17 1949478 1561528 1550433 1465812 1882929 1410249 1930090 1385528\n",
       "18 1301848 1956681 1350895 1512894 1916616 1878271 1722762 1913350\n",
       "19 1185085 1124853 1498662 1210385 1234234 1287663 1908602 1403857\n",
       "20 1295877 1969163 1627262 1706080 1437088 1318546 1116792 1529233\n",
       "21 1112765 1967225 1486246 1872327 1175819 1314343 1979529 1569566\n",
       "22 1978904 1567651 1761048 1658538 1482203 1731917 1669749 1963337\n",
       "23 1990431 1575185 1267626 1274673 1709853 1815596 1965196 1646634\n",
       "24 1328133 1890633 1995304 1575533 1910216 1972021 1515366 1864553\n",
       "25 1428291 1568049 1383227 1629132 1988270 1907777 1649668 1991232\n",
       "26 1735099 1800620 1164202 1425363 1800052 1698105 1767835 1996005\n",
       "27 1251742 1592690 1350619 1520064 1185225 1465705 1110394 1125903\n",
       "28 1140598 1270585 1128711 1187207 1569665 1690920 1459243 1802211\n",
       "29 1903270 1231480 1526066 1143343 1980195 1283813 1225348 1903804\n",
       "30 1762936 1763211 1265642 1704297 1131298 1197576 1242623 1963313\n",
       "31 1568034 1357418 1443718 1390010 1202326 1100990 1850165 1183568\n",
       "32 1237704 1820856 1801430 1653384 1475715 1623388 1533494 1868612\n",
       "33 1732098 1426216 1604531 1683687 1500089 1718837 1619033 1367705\n",
       "34 1267737 1116168 1791535 1553750 1472258 1104893 1596452 1229085\n",
       "35 1720352 1671468 1534571 1271132 1430978 1529024 1563898 1604118\n",
       "36 1516621 1511460 1585465 1887714 1227303 1840898 1880804 1573117\n",
       "37 1256746 1853142 1673831 1822933 1674707 1900523 1956742 1307678\n",
       "38 1482786 1862351 1103794 1935687 1905378 1522129 1509171 1893515\n",
       "39 1274168 1571032 1433835 1483292 1290329 1475344 1931500 1668232\n",
       "40 1151409 1993136 1983569 1781016 1909119 1531212 1990412 1611730\n",
       "41 1250499 1864685 1345102 1116203 1532332 1591735 1188417 1110655\n",
       "42 1171870 1852424 1554782 1647245 1811156 1147488 1302834 1136443\n",
       "43 1826406 1326460 1231739 1469785 1849041 1560887 1349173 1162164\n",
       "44 1785986 1827503 1447457 1978374 1882532 1698698 1646508 1705322\n",
       "45 1939284 1915865 1619186 1288285 1108281 1123353 1801019 1729273\n",
       "46 1123567 1618583 1326369 1792600 1714960 1146278 1282790 1565924\n",
       "47 1803330 1590043 1516758 1171686 1262342 1647032 1706707 1850394\n",
       "48 1545621 1555554 1179331 1150089 1775787 1273834 1387428 1377341\n",
       "49 1238174 1539322 1539603 1872519 1462137 1683127 1204344 1198791\n",
       "50 1980167 1901394 1648755 1940943 1729177 1510119 1701650 1846238\n",
       "51 1587602 1504455 1282142 1881814 1673668 1994022 1204029 1853858"
      ]
     },
     "metadata": {},
     "output_type": "display_data"
    },
    {
     "data": {
      "text/html": [
       "<table>\n",
       "<caption>A data.frame: 51 × 16</caption>\n",
       "<thead>\n",
       "\t<tr><th scope=col>Index1</th><th scope=col>State</th><th scope=col>Y2002</th><th scope=col>Y2003</th><th scope=col>Y2004</th><th scope=col>Y2005</th><th scope=col>Y2006</th><th scope=col>Y2007</th><th scope=col>Y2008</th><th scope=col>Y2009</th><th scope=col>Y2010</th><th scope=col>Y2011</th><th scope=col>Y2012</th><th scope=col>Y2013</th><th scope=col>Y2014</th><th scope=col>Y2015</th></tr>\n",
       "\t<tr><th scope=col>&lt;fct&gt;</th><th scope=col>&lt;fct&gt;</th><th scope=col>&lt;int&gt;</th><th scope=col>&lt;int&gt;</th><th scope=col>&lt;int&gt;</th><th scope=col>&lt;int&gt;</th><th scope=col>&lt;int&gt;</th><th scope=col>&lt;int&gt;</th><th scope=col>&lt;int&gt;</th><th scope=col>&lt;int&gt;</th><th scope=col>&lt;int&gt;</th><th scope=col>&lt;int&gt;</th><th scope=col>&lt;int&gt;</th><th scope=col>&lt;int&gt;</th><th scope=col>&lt;int&gt;</th><th scope=col>&lt;int&gt;</th></tr>\n",
       "</thead>\n",
       "<tbody>\n",
       "\t<tr><td>A</td><td>Alabama             </td><td>1296530</td><td>1317711</td><td>1118631</td><td>1492583</td><td>1107408</td><td>1440134</td><td>1945229</td><td>1944173</td><td>1237582</td><td>1440756</td><td>1186741</td><td>1852841</td><td>1558906</td><td>1916661</td></tr>\n",
       "\t<tr><td>A</td><td>Alaska              </td><td>1170302</td><td>1960378</td><td>1818085</td><td>1447852</td><td>1861639</td><td>1465841</td><td>1551826</td><td>1436541</td><td>1629616</td><td>1230866</td><td>1512804</td><td>1985302</td><td>1580394</td><td>1979143</td></tr>\n",
       "\t<tr><td>A</td><td>Arizona             </td><td>1742027</td><td>1968140</td><td>1377583</td><td>1782199</td><td>1102568</td><td>1109382</td><td>1752886</td><td>1554330</td><td>1300521</td><td>1130709</td><td>1907284</td><td>1363279</td><td>1525866</td><td>1647724</td></tr>\n",
       "\t<tr><td>A</td><td>Arkansas            </td><td>1485531</td><td>1994927</td><td>1119299</td><td>1947979</td><td>1669191</td><td>1801213</td><td>1188104</td><td>1628980</td><td>1669295</td><td>1928238</td><td>1216675</td><td>1591896</td><td>1360959</td><td>1329341</td></tr>\n",
       "\t<tr><td>C</td><td>California          </td><td>1685349</td><td>1675807</td><td>1889570</td><td>1480280</td><td>1735069</td><td>1812546</td><td>1487315</td><td>1663809</td><td>1624509</td><td>1639670</td><td>1921845</td><td>1156536</td><td>1388461</td><td>1644607</td></tr>\n",
       "\t<tr><td>C</td><td>Colorado            </td><td>1343824</td><td>1878473</td><td>1886149</td><td>1236697</td><td>1871471</td><td>1814218</td><td>1875146</td><td>1752387</td><td>1913275</td><td>1665877</td><td>1491604</td><td>1178355</td><td>1383978</td><td>1330736</td></tr>\n",
       "\t<tr><td>C</td><td>Connecticut         </td><td>1610512</td><td>1232844</td><td>1181949</td><td>1518933</td><td>1841266</td><td>1976976</td><td>1764457</td><td>1972730</td><td>1968730</td><td>1945524</td><td>1228529</td><td>1582249</td><td>1503156</td><td>1718072</td></tr>\n",
       "\t<tr><td>D</td><td>Delaware            </td><td>1330403</td><td>1268673</td><td>1706751</td><td>1403759</td><td>1441351</td><td>1300836</td><td>1762096</td><td>1553585</td><td>1370984</td><td>1318669</td><td>1984027</td><td>1671279</td><td>1803169</td><td>1627508</td></tr>\n",
       "\t<tr><td>D</td><td>District of Columbia</td><td>1111437</td><td>1993741</td><td>1374643</td><td>1827949</td><td>1803852</td><td>1595981</td><td>1193245</td><td>1739748</td><td>1707823</td><td>1353449</td><td>1979708</td><td>1912654</td><td>1782169</td><td>1410183</td></tr>\n",
       "\t<tr><td>F</td><td>Florida             </td><td>1964626</td><td>1468852</td><td>1419738</td><td>1362787</td><td>1339608</td><td>1278550</td><td>1756185</td><td>1818438</td><td>1198403</td><td>1497051</td><td>1131928</td><td>1107448</td><td>1407784</td><td>1170389</td></tr>\n",
       "\t<tr><td>G</td><td>Georgia             </td><td>1929009</td><td>1541565</td><td>1810773</td><td>1779091</td><td>1326846</td><td>1223770</td><td>1773090</td><td>1630325</td><td>1145473</td><td>1851245</td><td>1850111</td><td>1887157</td><td>1259353</td><td>1725470</td></tr>\n",
       "\t<tr><td>H</td><td>Hawaii              </td><td>1461570</td><td>1200280</td><td>1213993</td><td>1245931</td><td>1459383</td><td>1430465</td><td>1919423</td><td>1928416</td><td>1330509</td><td>1902816</td><td>1695126</td><td>1517184</td><td>1948108</td><td>1150882</td></tr>\n",
       "\t<tr><td>I</td><td>Idaho               </td><td>1353210</td><td>1438538</td><td>1739154</td><td>1541015</td><td>1122387</td><td>1772050</td><td>1335481</td><td>1748608</td><td>1436809</td><td>1456340</td><td>1643855</td><td>1312561</td><td>1713718</td><td>1757171</td></tr>\n",
       "\t<tr><td>I</td><td>Illinois            </td><td>1508356</td><td>1527440</td><td>1493029</td><td>1261353</td><td>1540274</td><td>1747614</td><td>1871645</td><td>1658551</td><td>1422021</td><td>1751422</td><td>1696729</td><td>1915435</td><td>1645465</td><td>1583516</td></tr>\n",
       "\t<tr><td>I</td><td>Indiana             </td><td>1776918</td><td>1734104</td><td>1269927</td><td>1204117</td><td>1848073</td><td>1129546</td><td>1139551</td><td>1883976</td><td>1999102</td><td>1559924</td><td>1905760</td><td>1129794</td><td>1988394</td><td>1467614</td></tr>\n",
       "\t<tr><td>I</td><td>Iowa                </td><td>1499269</td><td>1444576</td><td>1576367</td><td>1388924</td><td>1554813</td><td>1452911</td><td>1317983</td><td>1150783</td><td>1751389</td><td>1992996</td><td>1501879</td><td>1173694</td><td>1431705</td><td>1641866</td></tr>\n",
       "\t<tr><td>K</td><td>Kansas              </td><td>1509054</td><td>1290700</td><td>1522230</td><td>1532094</td><td>1104256</td><td>1863278</td><td>1949478</td><td>1561528</td><td>1550433</td><td>1465812</td><td>1882929</td><td>1410249</td><td>1930090</td><td>1385528</td></tr>\n",
       "\t<tr><td>K</td><td>Kentucky            </td><td>1813878</td><td>1448846</td><td>1800760</td><td>1250524</td><td>1137913</td><td>1911227</td><td>1301848</td><td>1956681</td><td>1350895</td><td>1512894</td><td>1916616</td><td>1878271</td><td>1722762</td><td>1913350</td></tr>\n",
       "\t<tr><td>L</td><td>Louisiana           </td><td>1584734</td><td>1110625</td><td>1868456</td><td>1751920</td><td>1233709</td><td>1920301</td><td>1185085</td><td>1124853</td><td>1498662</td><td>1210385</td><td>1234234</td><td>1287663</td><td>1908602</td><td>1403857</td></tr>\n",
       "\t<tr><td>M</td><td>Maine               </td><td>1582720</td><td>1678622</td><td>1208496</td><td>1912040</td><td>1438549</td><td>1330014</td><td>1295877</td><td>1969163</td><td>1627262</td><td>1706080</td><td>1437088</td><td>1318546</td><td>1116792</td><td>1529233</td></tr>\n",
       "\t<tr><td>M</td><td>Maryland            </td><td>1579713</td><td>1404700</td><td>1849798</td><td>1397738</td><td>1310270</td><td>1789128</td><td>1112765</td><td>1967225</td><td>1486246</td><td>1872327</td><td>1175819</td><td>1314343</td><td>1979529</td><td>1569566</td></tr>\n",
       "\t<tr><td>M</td><td>Massachusetts       </td><td>1647582</td><td>1686259</td><td>1620601</td><td>1777250</td><td>1531641</td><td>1380529</td><td>1978904</td><td>1567651</td><td>1761048</td><td>1658538</td><td>1482203</td><td>1731917</td><td>1669749</td><td>1963337</td></tr>\n",
       "\t<tr><td>M</td><td>Michigan            </td><td>1295635</td><td>1149931</td><td>1601027</td><td>1340716</td><td>1729449</td><td>1567494</td><td>1990431</td><td>1575185</td><td>1267626</td><td>1274673</td><td>1709853</td><td>1815596</td><td>1965196</td><td>1646634</td></tr>\n",
       "\t<tr><td>M</td><td>Minnesota           </td><td>1729921</td><td>1675204</td><td>1903907</td><td>1561839</td><td>1985692</td><td>1148621</td><td>1328133</td><td>1890633</td><td>1995304</td><td>1575533</td><td>1910216</td><td>1972021</td><td>1515366</td><td>1864553</td></tr>\n",
       "\t<tr><td>M</td><td>Mississippi         </td><td>1983285</td><td>1292558</td><td>1631325</td><td>1943311</td><td>1354579</td><td>1731643</td><td>1428291</td><td>1568049</td><td>1383227</td><td>1629132</td><td>1988270</td><td>1907777</td><td>1649668</td><td>1991232</td></tr>\n",
       "\t<tr><td>M</td><td>Missouri            </td><td>1221316</td><td>1858368</td><td>1773451</td><td>1573967</td><td>1374863</td><td>1486197</td><td>1735099</td><td>1800620</td><td>1164202</td><td>1425363</td><td>1800052</td><td>1698105</td><td>1767835</td><td>1996005</td></tr>\n",
       "\t<tr><td>M</td><td>Montana             </td><td>1877154</td><td>1540099</td><td>1332722</td><td>1273327</td><td>1625721</td><td>1983568</td><td>1251742</td><td>1592690</td><td>1350619</td><td>1520064</td><td>1185225</td><td>1465705</td><td>1110394</td><td>1125903</td></tr>\n",
       "\t<tr><td>N</td><td>Nebraska            </td><td>1885081</td><td>1309769</td><td>1425527</td><td>1240465</td><td>1500594</td><td>1278272</td><td>1140598</td><td>1270585</td><td>1128711</td><td>1187207</td><td>1569665</td><td>1690920</td><td>1459243</td><td>1802211</td></tr>\n",
       "\t<tr><td>N</td><td>Nevada              </td><td>1426117</td><td>1114500</td><td>1119707</td><td>1758830</td><td>1694526</td><td>1765826</td><td>1903270</td><td>1231480</td><td>1526066</td><td>1143343</td><td>1980195</td><td>1283813</td><td>1225348</td><td>1903804</td></tr>\n",
       "\t<tr><td>N</td><td>New Hampshire       </td><td>1419776</td><td>1854370</td><td>1195119</td><td>1990062</td><td>1645430</td><td>1286967</td><td>1762936</td><td>1763211</td><td>1265642</td><td>1704297</td><td>1131298</td><td>1197576</td><td>1242623</td><td>1963313</td></tr>\n",
       "\t<tr><td>N</td><td>New Jersey          </td><td>1605532</td><td>1141514</td><td>1613550</td><td>1181452</td><td>1541327</td><td>1156804</td><td>1568034</td><td>1357418</td><td>1443718</td><td>1390010</td><td>1202326</td><td>1100990</td><td>1850165</td><td>1183568</td></tr>\n",
       "\t<tr><td>N</td><td>New Mexico          </td><td>1819239</td><td>1226057</td><td>1935991</td><td>1124400</td><td>1723493</td><td>1475985</td><td>1237704</td><td>1820856</td><td>1801430</td><td>1653384</td><td>1475715</td><td>1623388</td><td>1533494</td><td>1868612</td></tr>\n",
       "\t<tr><td>N</td><td>New York            </td><td>1395149</td><td>1611371</td><td>1170675</td><td>1446810</td><td>1426941</td><td>1463171</td><td>1732098</td><td>1426216</td><td>1604531</td><td>1683687</td><td>1500089</td><td>1718837</td><td>1619033</td><td>1367705</td></tr>\n",
       "\t<tr><td>N</td><td>North Carolina      </td><td>1616742</td><td>1292223</td><td>1482792</td><td>1532347</td><td>1158716</td><td>1827420</td><td>1267737</td><td>1116168</td><td>1791535</td><td>1553750</td><td>1472258</td><td>1104893</td><td>1596452</td><td>1229085</td></tr>\n",
       "\t<tr><td>N</td><td>North Dakota        </td><td>1618807</td><td>1510193</td><td>1876940</td><td>1443172</td><td>1425030</td><td>1868788</td><td>1720352</td><td>1671468</td><td>1534571</td><td>1271132</td><td>1430978</td><td>1529024</td><td>1563898</td><td>1604118</td></tr>\n",
       "\t<tr><td>O</td><td>Ohio                </td><td>1802132</td><td>1648498</td><td>1441386</td><td>1670280</td><td>1534888</td><td>1314824</td><td>1516621</td><td>1511460</td><td>1585465</td><td>1887714</td><td>1227303</td><td>1840898</td><td>1880804</td><td>1573117</td></tr>\n",
       "\t<tr><td>O</td><td>Oklahoma            </td><td>1173918</td><td>1334639</td><td>1663622</td><td>1798714</td><td>1312574</td><td>1708245</td><td>1256746</td><td>1853142</td><td>1673831</td><td>1822933</td><td>1674707</td><td>1900523</td><td>1956742</td><td>1307678</td></tr>\n",
       "\t<tr><td>O</td><td>Oregon              </td><td>1794912</td><td>1726665</td><td>1805445</td><td>1133510</td><td>1502242</td><td>1419251</td><td>1482786</td><td>1862351</td><td>1103794</td><td>1935687</td><td>1905378</td><td>1522129</td><td>1509171</td><td>1893515</td></tr>\n",
       "\t<tr><td>P</td><td>Pennsylvania        </td><td>1320191</td><td>1446723</td><td>1218591</td><td>1122030</td><td>1971479</td><td>1563062</td><td>1274168</td><td>1571032</td><td>1433835</td><td>1483292</td><td>1290329</td><td>1475344</td><td>1931500</td><td>1668232</td></tr>\n",
       "\t<tr><td>R</td><td>Rhode Island        </td><td>1501744</td><td>1942942</td><td>1266657</td><td>1961923</td><td>1835983</td><td>1234040</td><td>1151409</td><td>1993136</td><td>1983569</td><td>1781016</td><td>1909119</td><td>1531212</td><td>1990412</td><td>1611730</td></tr>\n",
       "\t<tr><td>S</td><td>South Carolina      </td><td>1631522</td><td>1803455</td><td>1425193</td><td>1458191</td><td>1538731</td><td>1825195</td><td>1250499</td><td>1864685</td><td>1345102</td><td>1116203</td><td>1532332</td><td>1591735</td><td>1188417</td><td>1110655</td></tr>\n",
       "\t<tr><td>S</td><td>South Dakota        </td><td>1159037</td><td>1150689</td><td>1660148</td><td>1417141</td><td>1418586</td><td>1279134</td><td>1171870</td><td>1852424</td><td>1554782</td><td>1647245</td><td>1811156</td><td>1147488</td><td>1302834</td><td>1136443</td></tr>\n",
       "\t<tr><td>T</td><td>Tennessee           </td><td>1811867</td><td>1485909</td><td>1974179</td><td>1157059</td><td>1786132</td><td>1399191</td><td>1826406</td><td>1326460</td><td>1231739</td><td>1469785</td><td>1849041</td><td>1560887</td><td>1349173</td><td>1162164</td></tr>\n",
       "\t<tr><td>T</td><td>Texas               </td><td>1520591</td><td>1310777</td><td>1957713</td><td>1907326</td><td>1873544</td><td>1655483</td><td>1785986</td><td>1827503</td><td>1447457</td><td>1978374</td><td>1882532</td><td>1698698</td><td>1646508</td><td>1705322</td></tr>\n",
       "\t<tr><td>U</td><td>Utah                </td><td>1771096</td><td>1195861</td><td>1979395</td><td>1241662</td><td>1437456</td><td>1859416</td><td>1939284</td><td>1915865</td><td>1619186</td><td>1288285</td><td>1108281</td><td>1123353</td><td>1801019</td><td>1729273</td></tr>\n",
       "\t<tr><td>V</td><td>Vermont             </td><td>1146902</td><td>1832249</td><td>1492704</td><td>1579265</td><td>1332048</td><td>1563537</td><td>1123567</td><td>1618583</td><td>1326369</td><td>1792600</td><td>1714960</td><td>1146278</td><td>1282790</td><td>1565924</td></tr>\n",
       "\t<tr><td>V</td><td>Virginia            </td><td>1134317</td><td>1163996</td><td>1891068</td><td>1853855</td><td>1708715</td><td>1197698</td><td>1803330</td><td>1590043</td><td>1516758</td><td>1171686</td><td>1262342</td><td>1647032</td><td>1706707</td><td>1850394</td></tr>\n",
       "\t<tr><td>W</td><td>Washington          </td><td>1977749</td><td>1687136</td><td>1199490</td><td>1163092</td><td>1334864</td><td>1621989</td><td>1545621</td><td>1555554</td><td>1179331</td><td>1150089</td><td>1775787</td><td>1273834</td><td>1387428</td><td>1377341</td></tr>\n",
       "\t<tr><td>W</td><td>West Virginia       </td><td>1677347</td><td>1380662</td><td>1176100</td><td>1888948</td><td>1922085</td><td>1740826</td><td>1238174</td><td>1539322</td><td>1539603</td><td>1872519</td><td>1462137</td><td>1683127</td><td>1204344</td><td>1198791</td></tr>\n",
       "\t<tr><td>W</td><td>Wisconsin           </td><td>1788920</td><td>1518578</td><td>1289663</td><td>1436888</td><td>1251678</td><td>1721874</td><td>1980167</td><td>1901394</td><td>1648755</td><td>1940943</td><td>1729177</td><td>1510119</td><td>1701650</td><td>1846238</td></tr>\n",
       "\t<tr><td>W</td><td>Wyoming             </td><td>1775190</td><td>1498098</td><td>1198212</td><td>1881688</td><td>1750527</td><td>1523124</td><td>1587602</td><td>1504455</td><td>1282142</td><td>1881814</td><td>1673668</td><td>1994022</td><td>1204029</td><td>1853858</td></tr>\n",
       "</tbody>\n",
       "</table>\n"
      ],
      "text/latex": [
       "A data.frame: 51 × 16\n",
       "\\begin{tabular}{r|llllllllllllllll}\n",
       " Index1 & State & Y2002 & Y2003 & Y2004 & Y2005 & Y2006 & Y2007 & Y2008 & Y2009 & Y2010 & Y2011 & Y2012 & Y2013 & Y2014 & Y2015\\\\\n",
       " <fct> & <fct> & <int> & <int> & <int> & <int> & <int> & <int> & <int> & <int> & <int> & <int> & <int> & <int> & <int> & <int>\\\\\n",
       "\\hline\n",
       "\t A & Alabama              & 1296530 & 1317711 & 1118631 & 1492583 & 1107408 & 1440134 & 1945229 & 1944173 & 1237582 & 1440756 & 1186741 & 1852841 & 1558906 & 1916661\\\\\n",
       "\t A & Alaska               & 1170302 & 1960378 & 1818085 & 1447852 & 1861639 & 1465841 & 1551826 & 1436541 & 1629616 & 1230866 & 1512804 & 1985302 & 1580394 & 1979143\\\\\n",
       "\t A & Arizona              & 1742027 & 1968140 & 1377583 & 1782199 & 1102568 & 1109382 & 1752886 & 1554330 & 1300521 & 1130709 & 1907284 & 1363279 & 1525866 & 1647724\\\\\n",
       "\t A & Arkansas             & 1485531 & 1994927 & 1119299 & 1947979 & 1669191 & 1801213 & 1188104 & 1628980 & 1669295 & 1928238 & 1216675 & 1591896 & 1360959 & 1329341\\\\\n",
       "\t C & California           & 1685349 & 1675807 & 1889570 & 1480280 & 1735069 & 1812546 & 1487315 & 1663809 & 1624509 & 1639670 & 1921845 & 1156536 & 1388461 & 1644607\\\\\n",
       "\t C & Colorado             & 1343824 & 1878473 & 1886149 & 1236697 & 1871471 & 1814218 & 1875146 & 1752387 & 1913275 & 1665877 & 1491604 & 1178355 & 1383978 & 1330736\\\\\n",
       "\t C & Connecticut          & 1610512 & 1232844 & 1181949 & 1518933 & 1841266 & 1976976 & 1764457 & 1972730 & 1968730 & 1945524 & 1228529 & 1582249 & 1503156 & 1718072\\\\\n",
       "\t D & Delaware             & 1330403 & 1268673 & 1706751 & 1403759 & 1441351 & 1300836 & 1762096 & 1553585 & 1370984 & 1318669 & 1984027 & 1671279 & 1803169 & 1627508\\\\\n",
       "\t D & District of Columbia & 1111437 & 1993741 & 1374643 & 1827949 & 1803852 & 1595981 & 1193245 & 1739748 & 1707823 & 1353449 & 1979708 & 1912654 & 1782169 & 1410183\\\\\n",
       "\t F & Florida              & 1964626 & 1468852 & 1419738 & 1362787 & 1339608 & 1278550 & 1756185 & 1818438 & 1198403 & 1497051 & 1131928 & 1107448 & 1407784 & 1170389\\\\\n",
       "\t G & Georgia              & 1929009 & 1541565 & 1810773 & 1779091 & 1326846 & 1223770 & 1773090 & 1630325 & 1145473 & 1851245 & 1850111 & 1887157 & 1259353 & 1725470\\\\\n",
       "\t H & Hawaii               & 1461570 & 1200280 & 1213993 & 1245931 & 1459383 & 1430465 & 1919423 & 1928416 & 1330509 & 1902816 & 1695126 & 1517184 & 1948108 & 1150882\\\\\n",
       "\t I & Idaho                & 1353210 & 1438538 & 1739154 & 1541015 & 1122387 & 1772050 & 1335481 & 1748608 & 1436809 & 1456340 & 1643855 & 1312561 & 1713718 & 1757171\\\\\n",
       "\t I & Illinois             & 1508356 & 1527440 & 1493029 & 1261353 & 1540274 & 1747614 & 1871645 & 1658551 & 1422021 & 1751422 & 1696729 & 1915435 & 1645465 & 1583516\\\\\n",
       "\t I & Indiana              & 1776918 & 1734104 & 1269927 & 1204117 & 1848073 & 1129546 & 1139551 & 1883976 & 1999102 & 1559924 & 1905760 & 1129794 & 1988394 & 1467614\\\\\n",
       "\t I & Iowa                 & 1499269 & 1444576 & 1576367 & 1388924 & 1554813 & 1452911 & 1317983 & 1150783 & 1751389 & 1992996 & 1501879 & 1173694 & 1431705 & 1641866\\\\\n",
       "\t K & Kansas               & 1509054 & 1290700 & 1522230 & 1532094 & 1104256 & 1863278 & 1949478 & 1561528 & 1550433 & 1465812 & 1882929 & 1410249 & 1930090 & 1385528\\\\\n",
       "\t K & Kentucky             & 1813878 & 1448846 & 1800760 & 1250524 & 1137913 & 1911227 & 1301848 & 1956681 & 1350895 & 1512894 & 1916616 & 1878271 & 1722762 & 1913350\\\\\n",
       "\t L & Louisiana            & 1584734 & 1110625 & 1868456 & 1751920 & 1233709 & 1920301 & 1185085 & 1124853 & 1498662 & 1210385 & 1234234 & 1287663 & 1908602 & 1403857\\\\\n",
       "\t M & Maine                & 1582720 & 1678622 & 1208496 & 1912040 & 1438549 & 1330014 & 1295877 & 1969163 & 1627262 & 1706080 & 1437088 & 1318546 & 1116792 & 1529233\\\\\n",
       "\t M & Maryland             & 1579713 & 1404700 & 1849798 & 1397738 & 1310270 & 1789128 & 1112765 & 1967225 & 1486246 & 1872327 & 1175819 & 1314343 & 1979529 & 1569566\\\\\n",
       "\t M & Massachusetts        & 1647582 & 1686259 & 1620601 & 1777250 & 1531641 & 1380529 & 1978904 & 1567651 & 1761048 & 1658538 & 1482203 & 1731917 & 1669749 & 1963337\\\\\n",
       "\t M & Michigan             & 1295635 & 1149931 & 1601027 & 1340716 & 1729449 & 1567494 & 1990431 & 1575185 & 1267626 & 1274673 & 1709853 & 1815596 & 1965196 & 1646634\\\\\n",
       "\t M & Minnesota            & 1729921 & 1675204 & 1903907 & 1561839 & 1985692 & 1148621 & 1328133 & 1890633 & 1995304 & 1575533 & 1910216 & 1972021 & 1515366 & 1864553\\\\\n",
       "\t M & Mississippi          & 1983285 & 1292558 & 1631325 & 1943311 & 1354579 & 1731643 & 1428291 & 1568049 & 1383227 & 1629132 & 1988270 & 1907777 & 1649668 & 1991232\\\\\n",
       "\t M & Missouri             & 1221316 & 1858368 & 1773451 & 1573967 & 1374863 & 1486197 & 1735099 & 1800620 & 1164202 & 1425363 & 1800052 & 1698105 & 1767835 & 1996005\\\\\n",
       "\t M & Montana              & 1877154 & 1540099 & 1332722 & 1273327 & 1625721 & 1983568 & 1251742 & 1592690 & 1350619 & 1520064 & 1185225 & 1465705 & 1110394 & 1125903\\\\\n",
       "\t N & Nebraska             & 1885081 & 1309769 & 1425527 & 1240465 & 1500594 & 1278272 & 1140598 & 1270585 & 1128711 & 1187207 & 1569665 & 1690920 & 1459243 & 1802211\\\\\n",
       "\t N & Nevada               & 1426117 & 1114500 & 1119707 & 1758830 & 1694526 & 1765826 & 1903270 & 1231480 & 1526066 & 1143343 & 1980195 & 1283813 & 1225348 & 1903804\\\\\n",
       "\t N & New Hampshire        & 1419776 & 1854370 & 1195119 & 1990062 & 1645430 & 1286967 & 1762936 & 1763211 & 1265642 & 1704297 & 1131298 & 1197576 & 1242623 & 1963313\\\\\n",
       "\t N & New Jersey           & 1605532 & 1141514 & 1613550 & 1181452 & 1541327 & 1156804 & 1568034 & 1357418 & 1443718 & 1390010 & 1202326 & 1100990 & 1850165 & 1183568\\\\\n",
       "\t N & New Mexico           & 1819239 & 1226057 & 1935991 & 1124400 & 1723493 & 1475985 & 1237704 & 1820856 & 1801430 & 1653384 & 1475715 & 1623388 & 1533494 & 1868612\\\\\n",
       "\t N & New York             & 1395149 & 1611371 & 1170675 & 1446810 & 1426941 & 1463171 & 1732098 & 1426216 & 1604531 & 1683687 & 1500089 & 1718837 & 1619033 & 1367705\\\\\n",
       "\t N & North Carolina       & 1616742 & 1292223 & 1482792 & 1532347 & 1158716 & 1827420 & 1267737 & 1116168 & 1791535 & 1553750 & 1472258 & 1104893 & 1596452 & 1229085\\\\\n",
       "\t N & North Dakota         & 1618807 & 1510193 & 1876940 & 1443172 & 1425030 & 1868788 & 1720352 & 1671468 & 1534571 & 1271132 & 1430978 & 1529024 & 1563898 & 1604118\\\\\n",
       "\t O & Ohio                 & 1802132 & 1648498 & 1441386 & 1670280 & 1534888 & 1314824 & 1516621 & 1511460 & 1585465 & 1887714 & 1227303 & 1840898 & 1880804 & 1573117\\\\\n",
       "\t O & Oklahoma             & 1173918 & 1334639 & 1663622 & 1798714 & 1312574 & 1708245 & 1256746 & 1853142 & 1673831 & 1822933 & 1674707 & 1900523 & 1956742 & 1307678\\\\\n",
       "\t O & Oregon               & 1794912 & 1726665 & 1805445 & 1133510 & 1502242 & 1419251 & 1482786 & 1862351 & 1103794 & 1935687 & 1905378 & 1522129 & 1509171 & 1893515\\\\\n",
       "\t P & Pennsylvania         & 1320191 & 1446723 & 1218591 & 1122030 & 1971479 & 1563062 & 1274168 & 1571032 & 1433835 & 1483292 & 1290329 & 1475344 & 1931500 & 1668232\\\\\n",
       "\t R & Rhode Island         & 1501744 & 1942942 & 1266657 & 1961923 & 1835983 & 1234040 & 1151409 & 1993136 & 1983569 & 1781016 & 1909119 & 1531212 & 1990412 & 1611730\\\\\n",
       "\t S & South Carolina       & 1631522 & 1803455 & 1425193 & 1458191 & 1538731 & 1825195 & 1250499 & 1864685 & 1345102 & 1116203 & 1532332 & 1591735 & 1188417 & 1110655\\\\\n",
       "\t S & South Dakota         & 1159037 & 1150689 & 1660148 & 1417141 & 1418586 & 1279134 & 1171870 & 1852424 & 1554782 & 1647245 & 1811156 & 1147488 & 1302834 & 1136443\\\\\n",
       "\t T & Tennessee            & 1811867 & 1485909 & 1974179 & 1157059 & 1786132 & 1399191 & 1826406 & 1326460 & 1231739 & 1469785 & 1849041 & 1560887 & 1349173 & 1162164\\\\\n",
       "\t T & Texas                & 1520591 & 1310777 & 1957713 & 1907326 & 1873544 & 1655483 & 1785986 & 1827503 & 1447457 & 1978374 & 1882532 & 1698698 & 1646508 & 1705322\\\\\n",
       "\t U & Utah                 & 1771096 & 1195861 & 1979395 & 1241662 & 1437456 & 1859416 & 1939284 & 1915865 & 1619186 & 1288285 & 1108281 & 1123353 & 1801019 & 1729273\\\\\n",
       "\t V & Vermont              & 1146902 & 1832249 & 1492704 & 1579265 & 1332048 & 1563537 & 1123567 & 1618583 & 1326369 & 1792600 & 1714960 & 1146278 & 1282790 & 1565924\\\\\n",
       "\t V & Virginia             & 1134317 & 1163996 & 1891068 & 1853855 & 1708715 & 1197698 & 1803330 & 1590043 & 1516758 & 1171686 & 1262342 & 1647032 & 1706707 & 1850394\\\\\n",
       "\t W & Washington           & 1977749 & 1687136 & 1199490 & 1163092 & 1334864 & 1621989 & 1545621 & 1555554 & 1179331 & 1150089 & 1775787 & 1273834 & 1387428 & 1377341\\\\\n",
       "\t W & West Virginia        & 1677347 & 1380662 & 1176100 & 1888948 & 1922085 & 1740826 & 1238174 & 1539322 & 1539603 & 1872519 & 1462137 & 1683127 & 1204344 & 1198791\\\\\n",
       "\t W & Wisconsin            & 1788920 & 1518578 & 1289663 & 1436888 & 1251678 & 1721874 & 1980167 & 1901394 & 1648755 & 1940943 & 1729177 & 1510119 & 1701650 & 1846238\\\\\n",
       "\t W & Wyoming              & 1775190 & 1498098 & 1198212 & 1881688 & 1750527 & 1523124 & 1587602 & 1504455 & 1282142 & 1881814 & 1673668 & 1994022 & 1204029 & 1853858\\\\\n",
       "\\end{tabular}\n"
      ],
      "text/markdown": [
       "\n",
       "A data.frame: 51 × 16\n",
       "\n",
       "| Index1 &lt;fct&gt; | State &lt;fct&gt; | Y2002 &lt;int&gt; | Y2003 &lt;int&gt; | Y2004 &lt;int&gt; | Y2005 &lt;int&gt; | Y2006 &lt;int&gt; | Y2007 &lt;int&gt; | Y2008 &lt;int&gt; | Y2009 &lt;int&gt; | Y2010 &lt;int&gt; | Y2011 &lt;int&gt; | Y2012 &lt;int&gt; | Y2013 &lt;int&gt; | Y2014 &lt;int&gt; | Y2015 &lt;int&gt; |\n",
       "|---|---|---|---|---|---|---|---|---|---|---|---|---|---|---|---|\n",
       "| A | Alabama              | 1296530 | 1317711 | 1118631 | 1492583 | 1107408 | 1440134 | 1945229 | 1944173 | 1237582 | 1440756 | 1186741 | 1852841 | 1558906 | 1916661 |\n",
       "| A | Alaska               | 1170302 | 1960378 | 1818085 | 1447852 | 1861639 | 1465841 | 1551826 | 1436541 | 1629616 | 1230866 | 1512804 | 1985302 | 1580394 | 1979143 |\n",
       "| A | Arizona              | 1742027 | 1968140 | 1377583 | 1782199 | 1102568 | 1109382 | 1752886 | 1554330 | 1300521 | 1130709 | 1907284 | 1363279 | 1525866 | 1647724 |\n",
       "| A | Arkansas             | 1485531 | 1994927 | 1119299 | 1947979 | 1669191 | 1801213 | 1188104 | 1628980 | 1669295 | 1928238 | 1216675 | 1591896 | 1360959 | 1329341 |\n",
       "| C | California           | 1685349 | 1675807 | 1889570 | 1480280 | 1735069 | 1812546 | 1487315 | 1663809 | 1624509 | 1639670 | 1921845 | 1156536 | 1388461 | 1644607 |\n",
       "| C | Colorado             | 1343824 | 1878473 | 1886149 | 1236697 | 1871471 | 1814218 | 1875146 | 1752387 | 1913275 | 1665877 | 1491604 | 1178355 | 1383978 | 1330736 |\n",
       "| C | Connecticut          | 1610512 | 1232844 | 1181949 | 1518933 | 1841266 | 1976976 | 1764457 | 1972730 | 1968730 | 1945524 | 1228529 | 1582249 | 1503156 | 1718072 |\n",
       "| D | Delaware             | 1330403 | 1268673 | 1706751 | 1403759 | 1441351 | 1300836 | 1762096 | 1553585 | 1370984 | 1318669 | 1984027 | 1671279 | 1803169 | 1627508 |\n",
       "| D | District of Columbia | 1111437 | 1993741 | 1374643 | 1827949 | 1803852 | 1595981 | 1193245 | 1739748 | 1707823 | 1353449 | 1979708 | 1912654 | 1782169 | 1410183 |\n",
       "| F | Florida              | 1964626 | 1468852 | 1419738 | 1362787 | 1339608 | 1278550 | 1756185 | 1818438 | 1198403 | 1497051 | 1131928 | 1107448 | 1407784 | 1170389 |\n",
       "| G | Georgia              | 1929009 | 1541565 | 1810773 | 1779091 | 1326846 | 1223770 | 1773090 | 1630325 | 1145473 | 1851245 | 1850111 | 1887157 | 1259353 | 1725470 |\n",
       "| H | Hawaii               | 1461570 | 1200280 | 1213993 | 1245931 | 1459383 | 1430465 | 1919423 | 1928416 | 1330509 | 1902816 | 1695126 | 1517184 | 1948108 | 1150882 |\n",
       "| I | Idaho                | 1353210 | 1438538 | 1739154 | 1541015 | 1122387 | 1772050 | 1335481 | 1748608 | 1436809 | 1456340 | 1643855 | 1312561 | 1713718 | 1757171 |\n",
       "| I | Illinois             | 1508356 | 1527440 | 1493029 | 1261353 | 1540274 | 1747614 | 1871645 | 1658551 | 1422021 | 1751422 | 1696729 | 1915435 | 1645465 | 1583516 |\n",
       "| I | Indiana              | 1776918 | 1734104 | 1269927 | 1204117 | 1848073 | 1129546 | 1139551 | 1883976 | 1999102 | 1559924 | 1905760 | 1129794 | 1988394 | 1467614 |\n",
       "| I | Iowa                 | 1499269 | 1444576 | 1576367 | 1388924 | 1554813 | 1452911 | 1317983 | 1150783 | 1751389 | 1992996 | 1501879 | 1173694 | 1431705 | 1641866 |\n",
       "| K | Kansas               | 1509054 | 1290700 | 1522230 | 1532094 | 1104256 | 1863278 | 1949478 | 1561528 | 1550433 | 1465812 | 1882929 | 1410249 | 1930090 | 1385528 |\n",
       "| K | Kentucky             | 1813878 | 1448846 | 1800760 | 1250524 | 1137913 | 1911227 | 1301848 | 1956681 | 1350895 | 1512894 | 1916616 | 1878271 | 1722762 | 1913350 |\n",
       "| L | Louisiana            | 1584734 | 1110625 | 1868456 | 1751920 | 1233709 | 1920301 | 1185085 | 1124853 | 1498662 | 1210385 | 1234234 | 1287663 | 1908602 | 1403857 |\n",
       "| M | Maine                | 1582720 | 1678622 | 1208496 | 1912040 | 1438549 | 1330014 | 1295877 | 1969163 | 1627262 | 1706080 | 1437088 | 1318546 | 1116792 | 1529233 |\n",
       "| M | Maryland             | 1579713 | 1404700 | 1849798 | 1397738 | 1310270 | 1789128 | 1112765 | 1967225 | 1486246 | 1872327 | 1175819 | 1314343 | 1979529 | 1569566 |\n",
       "| M | Massachusetts        | 1647582 | 1686259 | 1620601 | 1777250 | 1531641 | 1380529 | 1978904 | 1567651 | 1761048 | 1658538 | 1482203 | 1731917 | 1669749 | 1963337 |\n",
       "| M | Michigan             | 1295635 | 1149931 | 1601027 | 1340716 | 1729449 | 1567494 | 1990431 | 1575185 | 1267626 | 1274673 | 1709853 | 1815596 | 1965196 | 1646634 |\n",
       "| M | Minnesota            | 1729921 | 1675204 | 1903907 | 1561839 | 1985692 | 1148621 | 1328133 | 1890633 | 1995304 | 1575533 | 1910216 | 1972021 | 1515366 | 1864553 |\n",
       "| M | Mississippi          | 1983285 | 1292558 | 1631325 | 1943311 | 1354579 | 1731643 | 1428291 | 1568049 | 1383227 | 1629132 | 1988270 | 1907777 | 1649668 | 1991232 |\n",
       "| M | Missouri             | 1221316 | 1858368 | 1773451 | 1573967 | 1374863 | 1486197 | 1735099 | 1800620 | 1164202 | 1425363 | 1800052 | 1698105 | 1767835 | 1996005 |\n",
       "| M | Montana              | 1877154 | 1540099 | 1332722 | 1273327 | 1625721 | 1983568 | 1251742 | 1592690 | 1350619 | 1520064 | 1185225 | 1465705 | 1110394 | 1125903 |\n",
       "| N | Nebraska             | 1885081 | 1309769 | 1425527 | 1240465 | 1500594 | 1278272 | 1140598 | 1270585 | 1128711 | 1187207 | 1569665 | 1690920 | 1459243 | 1802211 |\n",
       "| N | Nevada               | 1426117 | 1114500 | 1119707 | 1758830 | 1694526 | 1765826 | 1903270 | 1231480 | 1526066 | 1143343 | 1980195 | 1283813 | 1225348 | 1903804 |\n",
       "| N | New Hampshire        | 1419776 | 1854370 | 1195119 | 1990062 | 1645430 | 1286967 | 1762936 | 1763211 | 1265642 | 1704297 | 1131298 | 1197576 | 1242623 | 1963313 |\n",
       "| N | New Jersey           | 1605532 | 1141514 | 1613550 | 1181452 | 1541327 | 1156804 | 1568034 | 1357418 | 1443718 | 1390010 | 1202326 | 1100990 | 1850165 | 1183568 |\n",
       "| N | New Mexico           | 1819239 | 1226057 | 1935991 | 1124400 | 1723493 | 1475985 | 1237704 | 1820856 | 1801430 | 1653384 | 1475715 | 1623388 | 1533494 | 1868612 |\n",
       "| N | New York             | 1395149 | 1611371 | 1170675 | 1446810 | 1426941 | 1463171 | 1732098 | 1426216 | 1604531 | 1683687 | 1500089 | 1718837 | 1619033 | 1367705 |\n",
       "| N | North Carolina       | 1616742 | 1292223 | 1482792 | 1532347 | 1158716 | 1827420 | 1267737 | 1116168 | 1791535 | 1553750 | 1472258 | 1104893 | 1596452 | 1229085 |\n",
       "| N | North Dakota         | 1618807 | 1510193 | 1876940 | 1443172 | 1425030 | 1868788 | 1720352 | 1671468 | 1534571 | 1271132 | 1430978 | 1529024 | 1563898 | 1604118 |\n",
       "| O | Ohio                 | 1802132 | 1648498 | 1441386 | 1670280 | 1534888 | 1314824 | 1516621 | 1511460 | 1585465 | 1887714 | 1227303 | 1840898 | 1880804 | 1573117 |\n",
       "| O | Oklahoma             | 1173918 | 1334639 | 1663622 | 1798714 | 1312574 | 1708245 | 1256746 | 1853142 | 1673831 | 1822933 | 1674707 | 1900523 | 1956742 | 1307678 |\n",
       "| O | Oregon               | 1794912 | 1726665 | 1805445 | 1133510 | 1502242 | 1419251 | 1482786 | 1862351 | 1103794 | 1935687 | 1905378 | 1522129 | 1509171 | 1893515 |\n",
       "| P | Pennsylvania         | 1320191 | 1446723 | 1218591 | 1122030 | 1971479 | 1563062 | 1274168 | 1571032 | 1433835 | 1483292 | 1290329 | 1475344 | 1931500 | 1668232 |\n",
       "| R | Rhode Island         | 1501744 | 1942942 | 1266657 | 1961923 | 1835983 | 1234040 | 1151409 | 1993136 | 1983569 | 1781016 | 1909119 | 1531212 | 1990412 | 1611730 |\n",
       "| S | South Carolina       | 1631522 | 1803455 | 1425193 | 1458191 | 1538731 | 1825195 | 1250499 | 1864685 | 1345102 | 1116203 | 1532332 | 1591735 | 1188417 | 1110655 |\n",
       "| S | South Dakota         | 1159037 | 1150689 | 1660148 | 1417141 | 1418586 | 1279134 | 1171870 | 1852424 | 1554782 | 1647245 | 1811156 | 1147488 | 1302834 | 1136443 |\n",
       "| T | Tennessee            | 1811867 | 1485909 | 1974179 | 1157059 | 1786132 | 1399191 | 1826406 | 1326460 | 1231739 | 1469785 | 1849041 | 1560887 | 1349173 | 1162164 |\n",
       "| T | Texas                | 1520591 | 1310777 | 1957713 | 1907326 | 1873544 | 1655483 | 1785986 | 1827503 | 1447457 | 1978374 | 1882532 | 1698698 | 1646508 | 1705322 |\n",
       "| U | Utah                 | 1771096 | 1195861 | 1979395 | 1241662 | 1437456 | 1859416 | 1939284 | 1915865 | 1619186 | 1288285 | 1108281 | 1123353 | 1801019 | 1729273 |\n",
       "| V | Vermont              | 1146902 | 1832249 | 1492704 | 1579265 | 1332048 | 1563537 | 1123567 | 1618583 | 1326369 | 1792600 | 1714960 | 1146278 | 1282790 | 1565924 |\n",
       "| V | Virginia             | 1134317 | 1163996 | 1891068 | 1853855 | 1708715 | 1197698 | 1803330 | 1590043 | 1516758 | 1171686 | 1262342 | 1647032 | 1706707 | 1850394 |\n",
       "| W | Washington           | 1977749 | 1687136 | 1199490 | 1163092 | 1334864 | 1621989 | 1545621 | 1555554 | 1179331 | 1150089 | 1775787 | 1273834 | 1387428 | 1377341 |\n",
       "| W | West Virginia        | 1677347 | 1380662 | 1176100 | 1888948 | 1922085 | 1740826 | 1238174 | 1539322 | 1539603 | 1872519 | 1462137 | 1683127 | 1204344 | 1198791 |\n",
       "| W | Wisconsin            | 1788920 | 1518578 | 1289663 | 1436888 | 1251678 | 1721874 | 1980167 | 1901394 | 1648755 | 1940943 | 1729177 | 1510119 | 1701650 | 1846238 |\n",
       "| W | Wyoming              | 1775190 | 1498098 | 1198212 | 1881688 | 1750527 | 1523124 | 1587602 | 1504455 | 1282142 | 1881814 | 1673668 | 1994022 | 1204029 | 1853858 |\n",
       "\n"
      ],
      "text/plain": [
       "   Index1 State                Y2002   Y2003   Y2004   Y2005   Y2006   Y2007  \n",
       "1  A      Alabama              1296530 1317711 1118631 1492583 1107408 1440134\n",
       "2  A      Alaska               1170302 1960378 1818085 1447852 1861639 1465841\n",
       "3  A      Arizona              1742027 1968140 1377583 1782199 1102568 1109382\n",
       "4  A      Arkansas             1485531 1994927 1119299 1947979 1669191 1801213\n",
       "5  C      California           1685349 1675807 1889570 1480280 1735069 1812546\n",
       "6  C      Colorado             1343824 1878473 1886149 1236697 1871471 1814218\n",
       "7  C      Connecticut          1610512 1232844 1181949 1518933 1841266 1976976\n",
       "8  D      Delaware             1330403 1268673 1706751 1403759 1441351 1300836\n",
       "9  D      District of Columbia 1111437 1993741 1374643 1827949 1803852 1595981\n",
       "10 F      Florida              1964626 1468852 1419738 1362787 1339608 1278550\n",
       "11 G      Georgia              1929009 1541565 1810773 1779091 1326846 1223770\n",
       "12 H      Hawaii               1461570 1200280 1213993 1245931 1459383 1430465\n",
       "13 I      Idaho                1353210 1438538 1739154 1541015 1122387 1772050\n",
       "14 I      Illinois             1508356 1527440 1493029 1261353 1540274 1747614\n",
       "15 I      Indiana              1776918 1734104 1269927 1204117 1848073 1129546\n",
       "16 I      Iowa                 1499269 1444576 1576367 1388924 1554813 1452911\n",
       "17 K      Kansas               1509054 1290700 1522230 1532094 1104256 1863278\n",
       "18 K      Kentucky             1813878 1448846 1800760 1250524 1137913 1911227\n",
       "19 L      Louisiana            1584734 1110625 1868456 1751920 1233709 1920301\n",
       "20 M      Maine                1582720 1678622 1208496 1912040 1438549 1330014\n",
       "21 M      Maryland             1579713 1404700 1849798 1397738 1310270 1789128\n",
       "22 M      Massachusetts        1647582 1686259 1620601 1777250 1531641 1380529\n",
       "23 M      Michigan             1295635 1149931 1601027 1340716 1729449 1567494\n",
       "24 M      Minnesota            1729921 1675204 1903907 1561839 1985692 1148621\n",
       "25 M      Mississippi          1983285 1292558 1631325 1943311 1354579 1731643\n",
       "26 M      Missouri             1221316 1858368 1773451 1573967 1374863 1486197\n",
       "27 M      Montana              1877154 1540099 1332722 1273327 1625721 1983568\n",
       "28 N      Nebraska             1885081 1309769 1425527 1240465 1500594 1278272\n",
       "29 N      Nevada               1426117 1114500 1119707 1758830 1694526 1765826\n",
       "30 N      New Hampshire        1419776 1854370 1195119 1990062 1645430 1286967\n",
       "31 N      New Jersey           1605532 1141514 1613550 1181452 1541327 1156804\n",
       "32 N      New Mexico           1819239 1226057 1935991 1124400 1723493 1475985\n",
       "33 N      New York             1395149 1611371 1170675 1446810 1426941 1463171\n",
       "34 N      North Carolina       1616742 1292223 1482792 1532347 1158716 1827420\n",
       "35 N      North Dakota         1618807 1510193 1876940 1443172 1425030 1868788\n",
       "36 O      Ohio                 1802132 1648498 1441386 1670280 1534888 1314824\n",
       "37 O      Oklahoma             1173918 1334639 1663622 1798714 1312574 1708245\n",
       "38 O      Oregon               1794912 1726665 1805445 1133510 1502242 1419251\n",
       "39 P      Pennsylvania         1320191 1446723 1218591 1122030 1971479 1563062\n",
       "40 R      Rhode Island         1501744 1942942 1266657 1961923 1835983 1234040\n",
       "41 S      South Carolina       1631522 1803455 1425193 1458191 1538731 1825195\n",
       "42 S      South Dakota         1159037 1150689 1660148 1417141 1418586 1279134\n",
       "43 T      Tennessee            1811867 1485909 1974179 1157059 1786132 1399191\n",
       "44 T      Texas                1520591 1310777 1957713 1907326 1873544 1655483\n",
       "45 U      Utah                 1771096 1195861 1979395 1241662 1437456 1859416\n",
       "46 V      Vermont              1146902 1832249 1492704 1579265 1332048 1563537\n",
       "47 V      Virginia             1134317 1163996 1891068 1853855 1708715 1197698\n",
       "48 W      Washington           1977749 1687136 1199490 1163092 1334864 1621989\n",
       "49 W      West Virginia        1677347 1380662 1176100 1888948 1922085 1740826\n",
       "50 W      Wisconsin            1788920 1518578 1289663 1436888 1251678 1721874\n",
       "51 W      Wyoming              1775190 1498098 1198212 1881688 1750527 1523124\n",
       "   Y2008   Y2009   Y2010   Y2011   Y2012   Y2013   Y2014   Y2015  \n",
       "1  1945229 1944173 1237582 1440756 1186741 1852841 1558906 1916661\n",
       "2  1551826 1436541 1629616 1230866 1512804 1985302 1580394 1979143\n",
       "3  1752886 1554330 1300521 1130709 1907284 1363279 1525866 1647724\n",
       "4  1188104 1628980 1669295 1928238 1216675 1591896 1360959 1329341\n",
       "5  1487315 1663809 1624509 1639670 1921845 1156536 1388461 1644607\n",
       "6  1875146 1752387 1913275 1665877 1491604 1178355 1383978 1330736\n",
       "7  1764457 1972730 1968730 1945524 1228529 1582249 1503156 1718072\n",
       "8  1762096 1553585 1370984 1318669 1984027 1671279 1803169 1627508\n",
       "9  1193245 1739748 1707823 1353449 1979708 1912654 1782169 1410183\n",
       "10 1756185 1818438 1198403 1497051 1131928 1107448 1407784 1170389\n",
       "11 1773090 1630325 1145473 1851245 1850111 1887157 1259353 1725470\n",
       "12 1919423 1928416 1330509 1902816 1695126 1517184 1948108 1150882\n",
       "13 1335481 1748608 1436809 1456340 1643855 1312561 1713718 1757171\n",
       "14 1871645 1658551 1422021 1751422 1696729 1915435 1645465 1583516\n",
       "15 1139551 1883976 1999102 1559924 1905760 1129794 1988394 1467614\n",
       "16 1317983 1150783 1751389 1992996 1501879 1173694 1431705 1641866\n",
       "17 1949478 1561528 1550433 1465812 1882929 1410249 1930090 1385528\n",
       "18 1301848 1956681 1350895 1512894 1916616 1878271 1722762 1913350\n",
       "19 1185085 1124853 1498662 1210385 1234234 1287663 1908602 1403857\n",
       "20 1295877 1969163 1627262 1706080 1437088 1318546 1116792 1529233\n",
       "21 1112765 1967225 1486246 1872327 1175819 1314343 1979529 1569566\n",
       "22 1978904 1567651 1761048 1658538 1482203 1731917 1669749 1963337\n",
       "23 1990431 1575185 1267626 1274673 1709853 1815596 1965196 1646634\n",
       "24 1328133 1890633 1995304 1575533 1910216 1972021 1515366 1864553\n",
       "25 1428291 1568049 1383227 1629132 1988270 1907777 1649668 1991232\n",
       "26 1735099 1800620 1164202 1425363 1800052 1698105 1767835 1996005\n",
       "27 1251742 1592690 1350619 1520064 1185225 1465705 1110394 1125903\n",
       "28 1140598 1270585 1128711 1187207 1569665 1690920 1459243 1802211\n",
       "29 1903270 1231480 1526066 1143343 1980195 1283813 1225348 1903804\n",
       "30 1762936 1763211 1265642 1704297 1131298 1197576 1242623 1963313\n",
       "31 1568034 1357418 1443718 1390010 1202326 1100990 1850165 1183568\n",
       "32 1237704 1820856 1801430 1653384 1475715 1623388 1533494 1868612\n",
       "33 1732098 1426216 1604531 1683687 1500089 1718837 1619033 1367705\n",
       "34 1267737 1116168 1791535 1553750 1472258 1104893 1596452 1229085\n",
       "35 1720352 1671468 1534571 1271132 1430978 1529024 1563898 1604118\n",
       "36 1516621 1511460 1585465 1887714 1227303 1840898 1880804 1573117\n",
       "37 1256746 1853142 1673831 1822933 1674707 1900523 1956742 1307678\n",
       "38 1482786 1862351 1103794 1935687 1905378 1522129 1509171 1893515\n",
       "39 1274168 1571032 1433835 1483292 1290329 1475344 1931500 1668232\n",
       "40 1151409 1993136 1983569 1781016 1909119 1531212 1990412 1611730\n",
       "41 1250499 1864685 1345102 1116203 1532332 1591735 1188417 1110655\n",
       "42 1171870 1852424 1554782 1647245 1811156 1147488 1302834 1136443\n",
       "43 1826406 1326460 1231739 1469785 1849041 1560887 1349173 1162164\n",
       "44 1785986 1827503 1447457 1978374 1882532 1698698 1646508 1705322\n",
       "45 1939284 1915865 1619186 1288285 1108281 1123353 1801019 1729273\n",
       "46 1123567 1618583 1326369 1792600 1714960 1146278 1282790 1565924\n",
       "47 1803330 1590043 1516758 1171686 1262342 1647032 1706707 1850394\n",
       "48 1545621 1555554 1179331 1150089 1775787 1273834 1387428 1377341\n",
       "49 1238174 1539322 1539603 1872519 1462137 1683127 1204344 1198791\n",
       "50 1980167 1901394 1648755 1940943 1729177 1510119 1701650 1846238\n",
       "51 1587602 1504455 1282142 1881814 1673668 1994022 1204029 1853858"
      ]
     },
     "metadata": {},
     "output_type": "display_data"
    }
   ],
   "source": [
    "mydata6 = rename(mydata, Index1=Index) #重新命名  但是不会更改原来数据库的列的名字mydata没有改变，只是产生一个新的mydata table\n",
    "mydata6\n",
    "rename(mydata, Index1=Index)  #等同于上面，只是没有赋值，直接打印出来了"
   ]
  },
  {
   "cell_type": "markdown",
   "metadata": {},
   "source": [
    "#### filter( ) Function   对行进行操作  作用于行"
   ]
  },
  {
   "cell_type": "markdown",
   "metadata": {},
   "source": [
    "It is used to subset data with matching logical conditions."
   ]
  },
  {
   "cell_type": "markdown",
   "metadata": {},
   "source": [
    "#### Filter Rows"
   ]
  },
  {
   "cell_type": "markdown",
   "metadata": {},
   "source": [
    "Suppose you need to subset data. You want to filter rows and retain only those values in which Index is equal to A."
   ]
  },
  {
   "cell_type": "code",
   "execution_count": 15,
   "metadata": {},
   "outputs": [
    {
     "name": "stderr",
     "output_type": "stream",
     "text": [
      "Your code contains a unicode char which cannot be displayed in your\n",
      "current locale and R will silently convert it to an escaped form when the\n",
      "R kernel executes this code. This can lead to subtle errors if you use\n",
      "such chars to do comparisons. For more information, please see\n",
      "https://github.com/IRkernel/repr/wiki/Problems-with-unicode-on-windows"
     ]
    },
    {
     "data": {
      "text/html": [
       "<table>\n",
       "<caption>A data.frame: 4 × 16</caption>\n",
       "<thead>\n",
       "\t<tr><th scope=col>Index</th><th scope=col>State</th><th scope=col>Y2002</th><th scope=col>Y2003</th><th scope=col>Y2004</th><th scope=col>Y2005</th><th scope=col>Y2006</th><th scope=col>Y2007</th><th scope=col>Y2008</th><th scope=col>Y2009</th><th scope=col>Y2010</th><th scope=col>Y2011</th><th scope=col>Y2012</th><th scope=col>Y2013</th><th scope=col>Y2014</th><th scope=col>Y2015</th></tr>\n",
       "\t<tr><th scope=col>&lt;fct&gt;</th><th scope=col>&lt;fct&gt;</th><th scope=col>&lt;int&gt;</th><th scope=col>&lt;int&gt;</th><th scope=col>&lt;int&gt;</th><th scope=col>&lt;int&gt;</th><th scope=col>&lt;int&gt;</th><th scope=col>&lt;int&gt;</th><th scope=col>&lt;int&gt;</th><th scope=col>&lt;int&gt;</th><th scope=col>&lt;int&gt;</th><th scope=col>&lt;int&gt;</th><th scope=col>&lt;int&gt;</th><th scope=col>&lt;int&gt;</th><th scope=col>&lt;int&gt;</th><th scope=col>&lt;int&gt;</th></tr>\n",
       "</thead>\n",
       "<tbody>\n",
       "\t<tr><td>A</td><td>Alabama </td><td>1296530</td><td>1317711</td><td>1118631</td><td>1492583</td><td>1107408</td><td>1440134</td><td>1945229</td><td>1944173</td><td>1237582</td><td>1440756</td><td>1186741</td><td>1852841</td><td>1558906</td><td>1916661</td></tr>\n",
       "\t<tr><td>A</td><td>Alaska  </td><td>1170302</td><td>1960378</td><td>1818085</td><td>1447852</td><td>1861639</td><td>1465841</td><td>1551826</td><td>1436541</td><td>1629616</td><td>1230866</td><td>1512804</td><td>1985302</td><td>1580394</td><td>1979143</td></tr>\n",
       "\t<tr><td>A</td><td>Arizona </td><td>1742027</td><td>1968140</td><td>1377583</td><td>1782199</td><td>1102568</td><td>1109382</td><td>1752886</td><td>1554330</td><td>1300521</td><td>1130709</td><td>1907284</td><td>1363279</td><td>1525866</td><td>1647724</td></tr>\n",
       "\t<tr><td>A</td><td>Arkansas</td><td>1485531</td><td>1994927</td><td>1119299</td><td>1947979</td><td>1669191</td><td>1801213</td><td>1188104</td><td>1628980</td><td>1669295</td><td>1928238</td><td>1216675</td><td>1591896</td><td>1360959</td><td>1329341</td></tr>\n",
       "</tbody>\n",
       "</table>\n"
      ],
      "text/latex": [
       "A data.frame: 4 × 16\n",
       "\\begin{tabular}{r|llllllllllllllll}\n",
       " Index & State & Y2002 & Y2003 & Y2004 & Y2005 & Y2006 & Y2007 & Y2008 & Y2009 & Y2010 & Y2011 & Y2012 & Y2013 & Y2014 & Y2015\\\\\n",
       " <fct> & <fct> & <int> & <int> & <int> & <int> & <int> & <int> & <int> & <int> & <int> & <int> & <int> & <int> & <int> & <int>\\\\\n",
       "\\hline\n",
       "\t A & Alabama  & 1296530 & 1317711 & 1118631 & 1492583 & 1107408 & 1440134 & 1945229 & 1944173 & 1237582 & 1440756 & 1186741 & 1852841 & 1558906 & 1916661\\\\\n",
       "\t A & Alaska   & 1170302 & 1960378 & 1818085 & 1447852 & 1861639 & 1465841 & 1551826 & 1436541 & 1629616 & 1230866 & 1512804 & 1985302 & 1580394 & 1979143\\\\\n",
       "\t A & Arizona  & 1742027 & 1968140 & 1377583 & 1782199 & 1102568 & 1109382 & 1752886 & 1554330 & 1300521 & 1130709 & 1907284 & 1363279 & 1525866 & 1647724\\\\\n",
       "\t A & Arkansas & 1485531 & 1994927 & 1119299 & 1947979 & 1669191 & 1801213 & 1188104 & 1628980 & 1669295 & 1928238 & 1216675 & 1591896 & 1360959 & 1329341\\\\\n",
       "\\end{tabular}\n"
      ],
      "text/markdown": [
       "\n",
       "A data.frame: 4 × 16\n",
       "\n",
       "| Index &lt;fct&gt; | State &lt;fct&gt; | Y2002 &lt;int&gt; | Y2003 &lt;int&gt; | Y2004 &lt;int&gt; | Y2005 &lt;int&gt; | Y2006 &lt;int&gt; | Y2007 &lt;int&gt; | Y2008 &lt;int&gt; | Y2009 &lt;int&gt; | Y2010 &lt;int&gt; | Y2011 &lt;int&gt; | Y2012 &lt;int&gt; | Y2013 &lt;int&gt; | Y2014 &lt;int&gt; | Y2015 &lt;int&gt; |\n",
       "|---|---|---|---|---|---|---|---|---|---|---|---|---|---|---|---|\n",
       "| A | Alabama  | 1296530 | 1317711 | 1118631 | 1492583 | 1107408 | 1440134 | 1945229 | 1944173 | 1237582 | 1440756 | 1186741 | 1852841 | 1558906 | 1916661 |\n",
       "| A | Alaska   | 1170302 | 1960378 | 1818085 | 1447852 | 1861639 | 1465841 | 1551826 | 1436541 | 1629616 | 1230866 | 1512804 | 1985302 | 1580394 | 1979143 |\n",
       "| A | Arizona  | 1742027 | 1968140 | 1377583 | 1782199 | 1102568 | 1109382 | 1752886 | 1554330 | 1300521 | 1130709 | 1907284 | 1363279 | 1525866 | 1647724 |\n",
       "| A | Arkansas | 1485531 | 1994927 | 1119299 | 1947979 | 1669191 | 1801213 | 1188104 | 1628980 | 1669295 | 1928238 | 1216675 | 1591896 | 1360959 | 1329341 |\n",
       "\n"
      ],
      "text/plain": [
       "  Index State    Y2002   Y2003   Y2004   Y2005   Y2006   Y2007   Y2008  \n",
       "1 A     Alabama  1296530 1317711 1118631 1492583 1107408 1440134 1945229\n",
       "2 A     Alaska   1170302 1960378 1818085 1447852 1861639 1465841 1551826\n",
       "3 A     Arizona  1742027 1968140 1377583 1782199 1102568 1109382 1752886\n",
       "4 A     Arkansas 1485531 1994927 1119299 1947979 1669191 1801213 1188104\n",
       "  Y2009   Y2010   Y2011   Y2012   Y2013   Y2014   Y2015  \n",
       "1 1944173 1237582 1440756 1186741 1852841 1558906 1916661\n",
       "2 1436541 1629616 1230866 1512804 1985302 1580394 1979143\n",
       "3 1554330 1300521 1130709 1907284 1363279 1525866 1647724\n",
       "4 1628980 1669295 1928238 1216675 1591896 1360959 1329341"
      ]
     },
     "metadata": {},
     "output_type": "display_data"
    }
   ],
   "source": [
    "mydata7 = filter(mydata, Index == \"A\")  # 判断是 ==  两个等号，选择满足条件的行，赋值到mydata7里面\n",
    "mydata7"
   ]
  },
  {
   "cell_type": "markdown",
   "metadata": {},
   "source": [
    "Other approaches"
   ]
  },
  {
   "cell_type": "code",
   "execution_count": 60,
   "metadata": {},
   "outputs": [],
   "source": [
    "mydata7 = subset(mydata, Index == 'A')"
   ]
  },
  {
   "cell_type": "code",
   "execution_count": 61,
   "metadata": {},
   "outputs": [],
   "source": [
    "mydata7 = mydata[mydata$Index == 'A']  #mydata$Index == 'A' 输出index=A 这一列的值  $ 的作用是输出这一列的值"
   ]
  },
  {
   "cell_type": "code",
   "execution_count": 17,
   "metadata": {},
   "outputs": [
    {
     "data": {
      "text/html": [
       "<ol class=list-inline>\n",
       "\t<li>3</li>\n",
       "\t<li>4</li>\n",
       "\t<li>5</li>\n",
       "\t<li>6</li>\n",
       "\t<li>7</li>\n",
       "\t<li>8</li>\n",
       "</ol>\n"
      ],
      "text/latex": [
       "\\begin{enumerate*}\n",
       "\\item 3\n",
       "\\item 4\n",
       "\\item 5\n",
       "\\item 6\n",
       "\\item 7\n",
       "\\item 8\n",
       "\\end{enumerate*}\n"
      ],
      "text/markdown": [
       "1. 3\n",
       "2. 4\n",
       "3. 5\n",
       "4. 6\n",
       "5. 7\n",
       "6. 8\n",
       "\n",
       "\n"
      ],
      "text/plain": [
       "[1] 3 4 5 6 7 8"
      ]
     },
     "metadata": {},
     "output_type": "display_data"
    }
   ],
   "source": [
    "myvector = c(1,2,3,4,5,6,7,8)\n",
    "myvector[myvector >= 3]  #不会对原来的数据进行更改"
   ]
  },
  {
   "cell_type": "markdown",
   "metadata": {},
   "source": [
    "Multiple selections"
   ]
  },
  {
   "cell_type": "code",
   "execution_count": 62,
   "metadata": {},
   "outputs": [],
   "source": [
    "mydata7 = filter(mydata, Index %in% c(\"A\", \"C\"))  #%in% 固定语法写法"
   ]
  },
  {
   "cell_type": "code",
   "execution_count": 63,
   "metadata": {},
   "outputs": [],
   "source": [
    "mydata8 = filter(mydata, Index %in% c(\"A\", \"C\") & Y2002 >= 1300000 )  # &=and   index 要在A C 当中 and  2002 年要大于130000"
   ]
  },
  {
   "cell_type": "code",
   "execution_count": 64,
   "metadata": {},
   "outputs": [],
   "source": [
    "mydata9 = filter(mydata, Index %in% c(\"A\", \"C\") | Y2002 >= 1300000) # \\ or"
   ]
  },
  {
   "cell_type": "code",
   "execution_count": 65,
   "metadata": {},
   "outputs": [],
   "source": [
    "mydata10 = filter(mydata, !Index %in% c(\"A\", \"C\")) # ！否定的意思  index 不再A C 当中"
   ]
  },
  {
   "cell_type": "code",
   "execution_count": 66,
   "metadata": {},
   "outputs": [],
   "source": [
    "mydata11 = filter(mydata, grepl(\"Ar\", State))"
   ]
  },
  {
   "cell_type": "markdown",
   "metadata": {},
   "source": [
    "#### summarise( ) Function   结果都是 table"
   ]
  },
  {
   "cell_type": "markdown",
   "metadata": {},
   "source": [
    "It is used to summarize data. 用来总结数据"
   ]
  },
  {
   "cell_type": "markdown",
   "metadata": {},
   "source": [
    "#### Summarize selected variables"
   ]
  },
  {
   "cell_type": "markdown",
   "metadata": {},
   "source": [
    "we are calculating mean and median for the variable Y2015."
   ]
  },
  {
   "cell_type": "code",
   "execution_count": 67,
   "metadata": {},
   "outputs": [
    {
     "name": "stderr",
     "output_type": "stream",
     "text": [
      "Your code contains a unicode char which cannot be displayed in your\n",
      "current locale and R will silently convert it to an escaped form when the\n",
      "R kernel executes this code. This can lead to subtle errors if you use\n",
      "such chars to do comparisons. For more information, please see\n",
      "https://github.com/IRkernel/repr/wiki/Problems-with-unicode-on-windows"
     ]
    },
    {
     "data": {
      "text/html": [
       "<table>\n",
       "<caption>A data.frame: 1 × 2</caption>\n",
       "<thead>\n",
       "\t<tr><th scope=col>Y2015_mean</th><th scope=col>Y2015_med</th></tr>\n",
       "\t<tr><th scope=col>&lt;dbl&gt;</th><th scope=col>&lt;int&gt;</th></tr>\n",
       "</thead>\n",
       "<tbody>\n",
       "\t<tr><td>1588297</td><td>1627508</td></tr>\n",
       "</tbody>\n",
       "</table>\n"
      ],
      "text/latex": [
       "A data.frame: 1 × 2\n",
       "\\begin{tabular}{r|ll}\n",
       " Y2015\\_mean & Y2015\\_med\\\\\n",
       " <dbl> & <int>\\\\\n",
       "\\hline\n",
       "\t 1588297 & 1627508\\\\\n",
       "\\end{tabular}\n"
      ],
      "text/markdown": [
       "\n",
       "A data.frame: 1 × 2\n",
       "\n",
       "| Y2015_mean &lt;dbl&gt; | Y2015_med &lt;int&gt; |\n",
       "|---|---|\n",
       "| 1588297 | 1627508 |\n",
       "\n"
      ],
      "text/plain": [
       "  Y2015_mean Y2015_med\n",
       "1 1588297    1627508  "
      ]
     },
     "metadata": {},
     "output_type": "display_data"
    }
   ],
   "source": [
    "summarise(mydata, Y2015_mean = mean(Y2015), Y2015_med=median(Y2015))  # mean 均值  median 中间值\n",
    "# 也可以直接赋值给变量\n",
    "table2015 = summarise(mydata, Y2015_mean = mean(Y2015), Y2015_med=median(Y2015)) "
   ]
  },
  {
   "cell_type": "code",
   "execution_count": 68,
   "metadata": {},
   "outputs": [
    {
     "name": "stderr",
     "output_type": "stream",
     "text": [
      "Your code contains a unicode char which cannot be displayed in your\n",
      "current locale and R will silently convert it to an escaped form when the\n",
      "R kernel executes this code. This can lead to subtle errors if you use\n",
      "such chars to do comparisons. For more information, please see\n",
      "https://github.com/IRkernel/repr/wiki/Problems-with-unicode-on-windows"
     ]
    },
    {
     "data": {
      "text/html": [
       "'data.frame'"
      ],
      "text/latex": [
       "'data.frame'"
      ],
      "text/markdown": [
       "'data.frame'"
      ],
      "text/plain": [
       "[1] \"data.frame\""
      ]
     },
     "metadata": {},
     "output_type": "display_data"
    }
   ],
   "source": [
    "class(summarise(mydata, Y2015_mean = mean(Y2015), Y2015_med=median(Y2015)))  # class 查看返回数据的格式"
   ]
  },
  {
   "cell_type": "markdown",
   "metadata": {},
   "source": [
    "#### Summarize Multiple Variables"
   ]
  },
  {
   "cell_type": "markdown",
   "metadata": {},
   "source": [
    "we are calculating number of records, mean and median for variables Y2005 and Y2006. The summarise_at function allows us to select multiple variables by their names."
   ]
  },
  {
   "cell_type": "code",
   "execution_count": 69,
   "metadata": {},
   "outputs": [
    {
     "name": "stderr",
     "output_type": "stream",
     "text": [
      "Your code contains a unicode char which cannot be displayed in your\n",
      "current locale and R will silently convert it to an escaped form when the\n",
      "R kernel executes this code. This can lead to subtle errors if you use\n",
      "such chars to do comparisons. For more information, please see\n",
      "https://github.com/IRkernel/repr/wiki/Problems-with-unicode-on-windowsWarning message:\n",
      "\"funs() is soft deprecated as of dplyr 0.8.0\n",
      "Please use a list of either functions or lambdas: \n",
      "\n",
      "  # Simple named list: \n",
      "  list(mean = mean, median = median)\n",
      "\n",
      "  # Auto named with `tibble::lst()`: \n",
      "  tibble::lst(mean, median)\n",
      "\n",
      "  # Using lambdas\n",
      "  list(~ mean(., trim = .2), ~ median(., na.rm = TRUE))\n",
      "\u001b[90mThis warning is displayed once per session.\u001b[39m\""
     ]
    },
    {
     "data": {
      "text/html": [
       "<table>\n",
       "<caption>A data.frame: 1 × 6</caption>\n",
       "<thead>\n",
       "\t<tr><th scope=col>Y2005_n</th><th scope=col>Y2006_n</th><th scope=col>Y2005_mean</th><th scope=col>Y2006_mean</th><th scope=col>Y2005_median</th><th scope=col>Y2006_median</th></tr>\n",
       "\t<tr><th scope=col>&lt;int&gt;</th><th scope=col>&lt;int&gt;</th><th scope=col>&lt;dbl&gt;</th><th scope=col>&lt;dbl&gt;</th><th scope=col>&lt;int&gt;</th><th scope=col>&lt;int&gt;</th></tr>\n",
       "</thead>\n",
       "<tbody>\n",
       "\t<tr><td>51</td><td>51</td><td>1522064</td><td>1530969</td><td>1480280</td><td>1531641</td></tr>\n",
       "</tbody>\n",
       "</table>\n"
      ],
      "text/latex": [
       "A data.frame: 1 × 6\n",
       "\\begin{tabular}{r|llllll}\n",
       " Y2005\\_n & Y2006\\_n & Y2005\\_mean & Y2006\\_mean & Y2005\\_median & Y2006\\_median\\\\\n",
       " <int> & <int> & <dbl> & <dbl> & <int> & <int>\\\\\n",
       "\\hline\n",
       "\t 51 & 51 & 1522064 & 1530969 & 1480280 & 1531641\\\\\n",
       "\\end{tabular}\n"
      ],
      "text/markdown": [
       "\n",
       "A data.frame: 1 × 6\n",
       "\n",
       "| Y2005_n &lt;int&gt; | Y2006_n &lt;int&gt; | Y2005_mean &lt;dbl&gt; | Y2006_mean &lt;dbl&gt; | Y2005_median &lt;int&gt; | Y2006_median &lt;int&gt; |\n",
       "|---|---|---|---|---|---|\n",
       "| 51 | 51 | 1522064 | 1530969 | 1480280 | 1531641 |\n",
       "\n"
      ],
      "text/plain": [
       "  Y2005_n Y2006_n Y2005_mean Y2006_mean Y2005_median Y2006_median\n",
       "1 51      51      1522064    1530969    1480280      1531641     "
      ]
     },
     "metadata": {},
     "output_type": "display_data"
    }
   ],
   "source": [
    "summarise_at(mydata, vars(Y2005, Y2006), funs(n(), mean, median))  # n() =count 多少行"
   ]
  },
  {
   "cell_type": "code",
   "execution_count": 70,
   "metadata": {},
   "outputs": [
    {
     "data": {
      "text/html": [
       "<table>\n",
       "<caption>A data.frame: 1 × 6</caption>\n",
       "<thead>\n",
       "\t<tr><th scope=col>Y2005_n</th><th scope=col>Y2006_n</th><th scope=col>Y2005_mean</th><th scope=col>Y2006_mean</th><th scope=col>Y2005_median</th><th scope=col>Y2006_median</th></tr>\n",
       "\t<tr><th scope=col>&lt;int&gt;</th><th scope=col>&lt;int&gt;</th><th scope=col>&lt;dbl&gt;</th><th scope=col>&lt;dbl&gt;</th><th scope=col>&lt;int&gt;</th><th scope=col>&lt;int&gt;</th></tr>\n",
       "</thead>\n",
       "<tbody>\n",
       "\t<tr><td>51</td><td>51</td><td>1522064</td><td>1530969</td><td>1480280</td><td>1531641</td></tr>\n",
       "</tbody>\n",
       "</table>\n"
      ],
      "text/latex": [
       "A data.frame: 1 × 6\n",
       "\\begin{tabular}{r|llllll}\n",
       " Y2005\\_n & Y2006\\_n & Y2005\\_mean & Y2006\\_mean & Y2005\\_median & Y2006\\_median\\\\\n",
       " <int> & <int> & <dbl> & <dbl> & <int> & <int>\\\\\n",
       "\\hline\n",
       "\t 51 & 51 & 1522064 & 1530969 & 1480280 & 1531641\\\\\n",
       "\\end{tabular}\n"
      ],
      "text/markdown": [
       "\n",
       "A data.frame: 1 × 6\n",
       "\n",
       "| Y2005_n &lt;int&gt; | Y2006_n &lt;int&gt; | Y2005_mean &lt;dbl&gt; | Y2006_mean &lt;dbl&gt; | Y2005_median &lt;int&gt; | Y2006_median &lt;int&gt; |\n",
       "|---|---|---|---|---|---|\n",
       "| 51 | 51 | 1522064 | 1530969 | 1480280 | 1531641 |\n",
       "\n"
      ],
      "text/plain": [
       "  Y2005_n Y2006_n Y2005_mean Y2006_mean Y2005_median Y2006_median\n",
       "1 51      51      1522064    1530969    1480280      1531641     "
      ]
     },
     "metadata": {},
     "output_type": "display_data"
    }
   ],
   "source": [
    "summarise_at(mydata, vars(Y2005, Y2006), list(n = ~n(), mean = mean, median = median))"
   ]
  },
  {
   "cell_type": "markdown",
   "metadata": {},
   "source": [
    "#### Summarize with Custom Functions"
   ]
  },
  {
   "cell_type": "markdown",
   "metadata": {},
   "source": [
    "Incase you want to add additional arguments for the functions mean and median (for example na.rm = TRUE), you can do it like the code below."
   ]
  },
  {
   "cell_type": "code",
   "execution_count": 71,
   "metadata": {},
   "outputs": [
    {
     "name": "stderr",
     "output_type": "stream",
     "text": [
      "Your code contains a unicode char which cannot be displayed in your\n",
      "current locale and R will silently convert it to an escaped form when the\n",
      "R kernel executes this code. This can lead to subtle errors if you use\n",
      "such chars to do comparisons. For more information, please see\n",
      "https://github.com/IRkernel/repr/wiki/Problems-with-unicode-on-windows"
     ]
    },
    {
     "data": {
      "text/html": [
       "<table>\n",
       "<caption>A data.frame: 1 × 4</caption>\n",
       "<thead>\n",
       "\t<tr><th scope=col>Y2011_mean</th><th scope=col>Y2012_mean</th><th scope=col>Y2011_median</th><th scope=col>Y2012_median</th></tr>\n",
       "\t<tr><th scope=col>&lt;dbl&gt;</th><th scope=col>&lt;dbl&gt;</th><th scope=col>&lt;int&gt;</th><th scope=col>&lt;int&gt;</th></tr>\n",
       "</thead>\n",
       "<tbody>\n",
       "\t<tr><td>1574968</td><td>1591135</td><td>1575533</td><td>1643855</td></tr>\n",
       "</tbody>\n",
       "</table>\n"
      ],
      "text/latex": [
       "A data.frame: 1 × 4\n",
       "\\begin{tabular}{r|llll}\n",
       " Y2011\\_mean & Y2012\\_mean & Y2011\\_median & Y2012\\_median\\\\\n",
       " <dbl> & <dbl> & <int> & <int>\\\\\n",
       "\\hline\n",
       "\t 1574968 & 1591135 & 1575533 & 1643855\\\\\n",
       "\\end{tabular}\n"
      ],
      "text/markdown": [
       "\n",
       "A data.frame: 1 × 4\n",
       "\n",
       "| Y2011_mean &lt;dbl&gt; | Y2012_mean &lt;dbl&gt; | Y2011_median &lt;int&gt; | Y2012_median &lt;int&gt; |\n",
       "|---|---|---|---|\n",
       "| 1574968 | 1591135 | 1575533 | 1643855 |\n",
       "\n"
      ],
      "text/plain": [
       "  Y2011_mean Y2012_mean Y2011_median Y2012_median\n",
       "1 1574968    1591135    1575533      1643855     "
      ]
     },
     "metadata": {},
     "output_type": "display_data"
    }
   ],
   "source": [
    "summarise_at(mydata, vars(Y2011, Y2012),funs(mean, median), na.rm = TRUE)  #  na.rm = TRUE  剔除掉无法识别的数据"
   ]
  },
  {
   "cell_type": "code",
   "execution_count": 72,
   "metadata": {
    "scrolled": true
   },
   "outputs": [
    {
     "data": {
      "text/html": [
       "<table>\n",
       "<caption>A data.frame: 1 × 8</caption>\n",
       "<thead>\n",
       "\t<tr><th scope=col>Y2011_n</th><th scope=col>Y2012_n</th><th scope=col>Y2011_missing</th><th scope=col>Y2012_missing</th><th scope=col>Y2011_mean</th><th scope=col>Y2012_mean</th><th scope=col>Y2011_median</th><th scope=col>Y2012_median</th></tr>\n",
       "\t<tr><th scope=col>&lt;int&gt;</th><th scope=col>&lt;int&gt;</th><th scope=col>&lt;int&gt;</th><th scope=col>&lt;int&gt;</th><th scope=col>&lt;dbl&gt;</th><th scope=col>&lt;dbl&gt;</th><th scope=col>&lt;int&gt;</th><th scope=col>&lt;int&gt;</th></tr>\n",
       "</thead>\n",
       "<tbody>\n",
       "\t<tr><td>51</td><td>51</td><td>0</td><td>0</td><td>1574968</td><td>1591135</td><td>1575533</td><td>1643855</td></tr>\n",
       "</tbody>\n",
       "</table>\n"
      ],
      "text/latex": [
       "A data.frame: 1 × 8\n",
       "\\begin{tabular}{r|llllllll}\n",
       " Y2011\\_n & Y2012\\_n & Y2011\\_missing & Y2012\\_missing & Y2011\\_mean & Y2012\\_mean & Y2011\\_median & Y2012\\_median\\\\\n",
       " <int> & <int> & <int> & <int> & <dbl> & <dbl> & <int> & <int>\\\\\n",
       "\\hline\n",
       "\t 51 & 51 & 0 & 0 & 1574968 & 1591135 & 1575533 & 1643855\\\\\n",
       "\\end{tabular}\n"
      ],
      "text/markdown": [
       "\n",
       "A data.frame: 1 × 8\n",
       "\n",
       "| Y2011_n &lt;int&gt; | Y2012_n &lt;int&gt; | Y2011_missing &lt;int&gt; | Y2012_missing &lt;int&gt; | Y2011_mean &lt;dbl&gt; | Y2012_mean &lt;dbl&gt; | Y2011_median &lt;int&gt; | Y2012_median &lt;int&gt; |\n",
       "|---|---|---|---|---|---|---|---|\n",
       "| 51 | 51 | 0 | 0 | 1574968 | 1591135 | 1575533 | 1643855 |\n",
       "\n"
      ],
      "text/plain": [
       "  Y2011_n Y2012_n Y2011_missing Y2012_missing Y2011_mean Y2012_mean\n",
       "1 51      51      0             0             1574968    1591135   \n",
       "  Y2011_median Y2012_median\n",
       "1 1575533      1643855     "
      ]
     },
     "metadata": {},
     "output_type": "display_data"
    }
   ],
   "source": [
    "summarise_at(mydata, vars(Y2011, Y2012),\n",
    "funs(n(), missing = sum(is.na(.)), mean(., na.rm = TRUE), median(.,na.rm = TRUE)))  #  na.rm = TRUE  剔除掉无法识别的数据"
   ]
  },
  {
   "cell_type": "markdown",
   "metadata": {},
   "source": [
    "#### Summarize all Numeric Variables"
   ]
  },
  {
   "cell_type": "markdown",
   "metadata": {},
   "source": [
    "The   summarise_if     function allows you to summarise conditionally.  这些都是summary函数的变体"
   ]
  },
  {
   "cell_type": "code",
   "execution_count": 73,
   "metadata": {},
   "outputs": [
    {
     "data": {
      "text/html": [
       "<table>\n",
       "<caption>A data.frame: 1 × 42</caption>\n",
       "<thead>\n",
       "\t<tr><th scope=col>Y2002_n</th><th scope=col>Y2003_n</th><th scope=col>Y2004_n</th><th scope=col>Y2005_n</th><th scope=col>Y2006_n</th><th scope=col>Y2007_n</th><th scope=col>Y2008_n</th><th scope=col>Y2009_n</th><th scope=col>Y2010_n</th><th scope=col>Y2011_n</th><th scope=col>...</th><th scope=col>Y2006_median</th><th scope=col>Y2007_median</th><th scope=col>Y2008_median</th><th scope=col>Y2009_median</th><th scope=col>Y2010_median</th><th scope=col>Y2011_median</th><th scope=col>Y2012_median</th><th scope=col>Y2013_median</th><th scope=col>Y2014_median</th><th scope=col>Y2015_median</th></tr>\n",
       "\t<tr><th scope=col>&lt;int&gt;</th><th scope=col>&lt;int&gt;</th><th scope=col>&lt;int&gt;</th><th scope=col>&lt;int&gt;</th><th scope=col>&lt;int&gt;</th><th scope=col>&lt;int&gt;</th><th scope=col>&lt;int&gt;</th><th scope=col>&lt;int&gt;</th><th scope=col>&lt;int&gt;</th><th scope=col>&lt;int&gt;</th><th scope=col>...</th><th scope=col>&lt;int&gt;</th><th scope=col>&lt;int&gt;</th><th scope=col>&lt;int&gt;</th><th scope=col>&lt;int&gt;</th><th scope=col>&lt;int&gt;</th><th scope=col>&lt;int&gt;</th><th scope=col>&lt;int&gt;</th><th scope=col>&lt;int&gt;</th><th scope=col>&lt;int&gt;</th><th scope=col>&lt;int&gt;</th></tr>\n",
       "</thead>\n",
       "<tbody>\n",
       "\t<tr><td>51</td><td>51</td><td>51</td><td>51</td><td>51</td><td>51</td><td>51</td><td>51</td><td>51</td><td>51</td><td>...</td><td>1531641</td><td>1563062</td><td>1545621</td><td>1658551</td><td>1498662</td><td>1575533</td><td>1643855</td><td>1531212</td><td>1580394</td><td>1627508</td></tr>\n",
       "</tbody>\n",
       "</table>\n"
      ],
      "text/latex": [
       "A data.frame: 1 × 42\n",
       "\\begin{tabular}{r|llllllllllllllllllllllllllllllllllllllllll}\n",
       " Y2002\\_n & Y2003\\_n & Y2004\\_n & Y2005\\_n & Y2006\\_n & Y2007\\_n & Y2008\\_n & Y2009\\_n & Y2010\\_n & Y2011\\_n & Y2012\\_n & Y2013\\_n & Y2014\\_n & Y2015\\_n & Y2002\\_mean & Y2003\\_mean & Y2004\\_mean & Y2005\\_mean & Y2006\\_mean & Y2007\\_mean & Y2008\\_mean & Y2009\\_mean & Y2010\\_mean & Y2011\\_mean & Y2012\\_mean & Y2013\\_mean & Y2014\\_mean & Y2015\\_mean & Y2002\\_median & Y2003\\_median & Y2004\\_median & Y2005\\_median & Y2006\\_median & Y2007\\_median & Y2008\\_median & Y2009\\_median & Y2010\\_median & Y2011\\_median & Y2012\\_median & Y2013\\_median & Y2014\\_median & Y2015\\_median\\\\\n",
       " <int> & <int> & <int> & <int> & <int> & <int> & <int> & <int> & <int> & <int> & <int> & <int> & <int> & <int> & <dbl> & <dbl> & <dbl> & <dbl> & <dbl> & <dbl> & <dbl> & <dbl> & <dbl> & <dbl> & <dbl> & <dbl> & <dbl> & <dbl> & <int> & <int> & <int> & <int> & <int> & <int> & <int> & <int> & <int> & <int> & <int> & <int> & <int> & <int>\\\\\n",
       "\\hline\n",
       "\t 51 & 51 & 51 & 51 & 51 & 51 & 51 & 51 & 51 & 51 & 51 & 51 & 51 & 51 & 1566034 & 1509193 & 1540555 & 1522064 & 1530969 & 1553219 & 1538398 & 1658519 & 1504108 & 1574968 & 1591135 & 1530078 & 1583360 & 1588297 & 1584734 & 1485909 & 1522230 & 1480280 & 1531641 & 1563062 & 1545621 & 1658551 & 1498662 & 1575533 & 1643855 & 1531212 & 1580394 & 1627508\\\\\n",
       "\\end{tabular}\n"
      ],
      "text/markdown": [
       "\n",
       "A data.frame: 1 × 42\n",
       "\n",
       "| Y2002_n &lt;int&gt; | Y2003_n &lt;int&gt; | Y2004_n &lt;int&gt; | Y2005_n &lt;int&gt; | Y2006_n &lt;int&gt; | Y2007_n &lt;int&gt; | Y2008_n &lt;int&gt; | Y2009_n &lt;int&gt; | Y2010_n &lt;int&gt; | Y2011_n &lt;int&gt; | ... ... | Y2006_median &lt;int&gt; | Y2007_median &lt;int&gt; | Y2008_median &lt;int&gt; | Y2009_median &lt;int&gt; | Y2010_median &lt;int&gt; | Y2011_median &lt;int&gt; | Y2012_median &lt;int&gt; | Y2013_median &lt;int&gt; | Y2014_median &lt;int&gt; | Y2015_median &lt;int&gt; |\n",
       "|---|---|---|---|---|---|---|---|---|---|---|---|---|---|---|---|---|---|---|---|---|\n",
       "| 51 | 51 | 51 | 51 | 51 | 51 | 51 | 51 | 51 | 51 | ... | 1531641 | 1563062 | 1545621 | 1658551 | 1498662 | 1575533 | 1643855 | 1531212 | 1580394 | 1627508 |\n",
       "\n"
      ],
      "text/plain": [
       "  Y2002_n Y2003_n Y2004_n Y2005_n Y2006_n Y2007_n Y2008_n Y2009_n Y2010_n\n",
       "1 51      51      51      51      51      51      51      51      51     \n",
       "  Y2011_n ... Y2006_median Y2007_median Y2008_median Y2009_median Y2010_median\n",
       "1 51      ... 1531641      1563062      1545621      1658551      1498662     \n",
       "  Y2011_median Y2012_median Y2013_median Y2014_median Y2015_median\n",
       "1 1575533      1643855      1531212      1580394      1627508     "
      ]
     },
     "metadata": {},
     "output_type": "display_data"
    }
   ],
   "source": [
    "summarise_if(mydata, is.numeric, funs(n(),mean,median)) #is.numeric 只对numeric做计算"
   ]
  },
  {
   "cell_type": "markdown",
   "metadata": {},
   "source": [
    "Alternative Method:"
   ]
  },
  {
   "cell_type": "markdown",
   "metadata": {},
   "source": [
    "First, store data for all the numeric variables"
   ]
  },
  {
   "cell_type": "code",
   "execution_count": 19,
   "metadata": {
    "collapsed": true
   },
   "outputs": [
    {
     "name": "stderr",
     "output_type": "stream",
     "text": [
      "Your code contains a unicode char which cannot be displayed in your\n",
      "current locale and R will silently convert it to an escaped form when the\n",
      "R kernel executes this code. This can lead to subtle errors if you use\n",
      "such chars to do comparisons. For more information, please see\n",
      "https://github.com/IRkernel/repr/wiki/Problems-with-unicode-on-windows"
     ]
    },
    {
     "data": {
      "text/html": [
       "<table>\n",
       "<caption>A data.frame: 51 × 14</caption>\n",
       "<thead>\n",
       "\t<tr><th scope=col>Y2002</th><th scope=col>Y2003</th><th scope=col>Y2004</th><th scope=col>Y2005</th><th scope=col>Y2006</th><th scope=col>Y2007</th><th scope=col>Y2008</th><th scope=col>Y2009</th><th scope=col>Y2010</th><th scope=col>Y2011</th><th scope=col>Y2012</th><th scope=col>Y2013</th><th scope=col>Y2014</th><th scope=col>Y2015</th></tr>\n",
       "\t<tr><th scope=col>&lt;int&gt;</th><th scope=col>&lt;int&gt;</th><th scope=col>&lt;int&gt;</th><th scope=col>&lt;int&gt;</th><th scope=col>&lt;int&gt;</th><th scope=col>&lt;int&gt;</th><th scope=col>&lt;int&gt;</th><th scope=col>&lt;int&gt;</th><th scope=col>&lt;int&gt;</th><th scope=col>&lt;int&gt;</th><th scope=col>&lt;int&gt;</th><th scope=col>&lt;int&gt;</th><th scope=col>&lt;int&gt;</th><th scope=col>&lt;int&gt;</th></tr>\n",
       "</thead>\n",
       "<tbody>\n",
       "\t<tr><td>1296530</td><td>1317711</td><td>1118631</td><td>1492583</td><td>1107408</td><td>1440134</td><td>1945229</td><td>1944173</td><td>1237582</td><td>1440756</td><td>1186741</td><td>1852841</td><td>1558906</td><td>1916661</td></tr>\n",
       "\t<tr><td>1170302</td><td>1960378</td><td>1818085</td><td>1447852</td><td>1861639</td><td>1465841</td><td>1551826</td><td>1436541</td><td>1629616</td><td>1230866</td><td>1512804</td><td>1985302</td><td>1580394</td><td>1979143</td></tr>\n",
       "\t<tr><td>1742027</td><td>1968140</td><td>1377583</td><td>1782199</td><td>1102568</td><td>1109382</td><td>1752886</td><td>1554330</td><td>1300521</td><td>1130709</td><td>1907284</td><td>1363279</td><td>1525866</td><td>1647724</td></tr>\n",
       "\t<tr><td>1485531</td><td>1994927</td><td>1119299</td><td>1947979</td><td>1669191</td><td>1801213</td><td>1188104</td><td>1628980</td><td>1669295</td><td>1928238</td><td>1216675</td><td>1591896</td><td>1360959</td><td>1329341</td></tr>\n",
       "\t<tr><td>1685349</td><td>1675807</td><td>1889570</td><td>1480280</td><td>1735069</td><td>1812546</td><td>1487315</td><td>1663809</td><td>1624509</td><td>1639670</td><td>1921845</td><td>1156536</td><td>1388461</td><td>1644607</td></tr>\n",
       "\t<tr><td>1343824</td><td>1878473</td><td>1886149</td><td>1236697</td><td>1871471</td><td>1814218</td><td>1875146</td><td>1752387</td><td>1913275</td><td>1665877</td><td>1491604</td><td>1178355</td><td>1383978</td><td>1330736</td></tr>\n",
       "\t<tr><td>1610512</td><td>1232844</td><td>1181949</td><td>1518933</td><td>1841266</td><td>1976976</td><td>1764457</td><td>1972730</td><td>1968730</td><td>1945524</td><td>1228529</td><td>1582249</td><td>1503156</td><td>1718072</td></tr>\n",
       "\t<tr><td>1330403</td><td>1268673</td><td>1706751</td><td>1403759</td><td>1441351</td><td>1300836</td><td>1762096</td><td>1553585</td><td>1370984</td><td>1318669</td><td>1984027</td><td>1671279</td><td>1803169</td><td>1627508</td></tr>\n",
       "\t<tr><td>1111437</td><td>1993741</td><td>1374643</td><td>1827949</td><td>1803852</td><td>1595981</td><td>1193245</td><td>1739748</td><td>1707823</td><td>1353449</td><td>1979708</td><td>1912654</td><td>1782169</td><td>1410183</td></tr>\n",
       "\t<tr><td>1964626</td><td>1468852</td><td>1419738</td><td>1362787</td><td>1339608</td><td>1278550</td><td>1756185</td><td>1818438</td><td>1198403</td><td>1497051</td><td>1131928</td><td>1107448</td><td>1407784</td><td>1170389</td></tr>\n",
       "\t<tr><td>1929009</td><td>1541565</td><td>1810773</td><td>1779091</td><td>1326846</td><td>1223770</td><td>1773090</td><td>1630325</td><td>1145473</td><td>1851245</td><td>1850111</td><td>1887157</td><td>1259353</td><td>1725470</td></tr>\n",
       "\t<tr><td>1461570</td><td>1200280</td><td>1213993</td><td>1245931</td><td>1459383</td><td>1430465</td><td>1919423</td><td>1928416</td><td>1330509</td><td>1902816</td><td>1695126</td><td>1517184</td><td>1948108</td><td>1150882</td></tr>\n",
       "\t<tr><td>1353210</td><td>1438538</td><td>1739154</td><td>1541015</td><td>1122387</td><td>1772050</td><td>1335481</td><td>1748608</td><td>1436809</td><td>1456340</td><td>1643855</td><td>1312561</td><td>1713718</td><td>1757171</td></tr>\n",
       "\t<tr><td>1508356</td><td>1527440</td><td>1493029</td><td>1261353</td><td>1540274</td><td>1747614</td><td>1871645</td><td>1658551</td><td>1422021</td><td>1751422</td><td>1696729</td><td>1915435</td><td>1645465</td><td>1583516</td></tr>\n",
       "\t<tr><td>1776918</td><td>1734104</td><td>1269927</td><td>1204117</td><td>1848073</td><td>1129546</td><td>1139551</td><td>1883976</td><td>1999102</td><td>1559924</td><td>1905760</td><td>1129794</td><td>1988394</td><td>1467614</td></tr>\n",
       "\t<tr><td>1499269</td><td>1444576</td><td>1576367</td><td>1388924</td><td>1554813</td><td>1452911</td><td>1317983</td><td>1150783</td><td>1751389</td><td>1992996</td><td>1501879</td><td>1173694</td><td>1431705</td><td>1641866</td></tr>\n",
       "\t<tr><td>1509054</td><td>1290700</td><td>1522230</td><td>1532094</td><td>1104256</td><td>1863278</td><td>1949478</td><td>1561528</td><td>1550433</td><td>1465812</td><td>1882929</td><td>1410249</td><td>1930090</td><td>1385528</td></tr>\n",
       "\t<tr><td>1813878</td><td>1448846</td><td>1800760</td><td>1250524</td><td>1137913</td><td>1911227</td><td>1301848</td><td>1956681</td><td>1350895</td><td>1512894</td><td>1916616</td><td>1878271</td><td>1722762</td><td>1913350</td></tr>\n",
       "\t<tr><td>1584734</td><td>1110625</td><td>1868456</td><td>1751920</td><td>1233709</td><td>1920301</td><td>1185085</td><td>1124853</td><td>1498662</td><td>1210385</td><td>1234234</td><td>1287663</td><td>1908602</td><td>1403857</td></tr>\n",
       "\t<tr><td>1582720</td><td>1678622</td><td>1208496</td><td>1912040</td><td>1438549</td><td>1330014</td><td>1295877</td><td>1969163</td><td>1627262</td><td>1706080</td><td>1437088</td><td>1318546</td><td>1116792</td><td>1529233</td></tr>\n",
       "\t<tr><td>1579713</td><td>1404700</td><td>1849798</td><td>1397738</td><td>1310270</td><td>1789128</td><td>1112765</td><td>1967225</td><td>1486246</td><td>1872327</td><td>1175819</td><td>1314343</td><td>1979529</td><td>1569566</td></tr>\n",
       "\t<tr><td>1647582</td><td>1686259</td><td>1620601</td><td>1777250</td><td>1531641</td><td>1380529</td><td>1978904</td><td>1567651</td><td>1761048</td><td>1658538</td><td>1482203</td><td>1731917</td><td>1669749</td><td>1963337</td></tr>\n",
       "\t<tr><td>1295635</td><td>1149931</td><td>1601027</td><td>1340716</td><td>1729449</td><td>1567494</td><td>1990431</td><td>1575185</td><td>1267626</td><td>1274673</td><td>1709853</td><td>1815596</td><td>1965196</td><td>1646634</td></tr>\n",
       "\t<tr><td>1729921</td><td>1675204</td><td>1903907</td><td>1561839</td><td>1985692</td><td>1148621</td><td>1328133</td><td>1890633</td><td>1995304</td><td>1575533</td><td>1910216</td><td>1972021</td><td>1515366</td><td>1864553</td></tr>\n",
       "\t<tr><td>1983285</td><td>1292558</td><td>1631325</td><td>1943311</td><td>1354579</td><td>1731643</td><td>1428291</td><td>1568049</td><td>1383227</td><td>1629132</td><td>1988270</td><td>1907777</td><td>1649668</td><td>1991232</td></tr>\n",
       "\t<tr><td>1221316</td><td>1858368</td><td>1773451</td><td>1573967</td><td>1374863</td><td>1486197</td><td>1735099</td><td>1800620</td><td>1164202</td><td>1425363</td><td>1800052</td><td>1698105</td><td>1767835</td><td>1996005</td></tr>\n",
       "\t<tr><td>1877154</td><td>1540099</td><td>1332722</td><td>1273327</td><td>1625721</td><td>1983568</td><td>1251742</td><td>1592690</td><td>1350619</td><td>1520064</td><td>1185225</td><td>1465705</td><td>1110394</td><td>1125903</td></tr>\n",
       "\t<tr><td>1885081</td><td>1309769</td><td>1425527</td><td>1240465</td><td>1500594</td><td>1278272</td><td>1140598</td><td>1270585</td><td>1128711</td><td>1187207</td><td>1569665</td><td>1690920</td><td>1459243</td><td>1802211</td></tr>\n",
       "\t<tr><td>1426117</td><td>1114500</td><td>1119707</td><td>1758830</td><td>1694526</td><td>1765826</td><td>1903270</td><td>1231480</td><td>1526066</td><td>1143343</td><td>1980195</td><td>1283813</td><td>1225348</td><td>1903804</td></tr>\n",
       "\t<tr><td>1419776</td><td>1854370</td><td>1195119</td><td>1990062</td><td>1645430</td><td>1286967</td><td>1762936</td><td>1763211</td><td>1265642</td><td>1704297</td><td>1131298</td><td>1197576</td><td>1242623</td><td>1963313</td></tr>\n",
       "\t<tr><td>1605532</td><td>1141514</td><td>1613550</td><td>1181452</td><td>1541327</td><td>1156804</td><td>1568034</td><td>1357418</td><td>1443718</td><td>1390010</td><td>1202326</td><td>1100990</td><td>1850165</td><td>1183568</td></tr>\n",
       "\t<tr><td>1819239</td><td>1226057</td><td>1935991</td><td>1124400</td><td>1723493</td><td>1475985</td><td>1237704</td><td>1820856</td><td>1801430</td><td>1653384</td><td>1475715</td><td>1623388</td><td>1533494</td><td>1868612</td></tr>\n",
       "\t<tr><td>1395149</td><td>1611371</td><td>1170675</td><td>1446810</td><td>1426941</td><td>1463171</td><td>1732098</td><td>1426216</td><td>1604531</td><td>1683687</td><td>1500089</td><td>1718837</td><td>1619033</td><td>1367705</td></tr>\n",
       "\t<tr><td>1616742</td><td>1292223</td><td>1482792</td><td>1532347</td><td>1158716</td><td>1827420</td><td>1267737</td><td>1116168</td><td>1791535</td><td>1553750</td><td>1472258</td><td>1104893</td><td>1596452</td><td>1229085</td></tr>\n",
       "\t<tr><td>1618807</td><td>1510193</td><td>1876940</td><td>1443172</td><td>1425030</td><td>1868788</td><td>1720352</td><td>1671468</td><td>1534571</td><td>1271132</td><td>1430978</td><td>1529024</td><td>1563898</td><td>1604118</td></tr>\n",
       "\t<tr><td>1802132</td><td>1648498</td><td>1441386</td><td>1670280</td><td>1534888</td><td>1314824</td><td>1516621</td><td>1511460</td><td>1585465</td><td>1887714</td><td>1227303</td><td>1840898</td><td>1880804</td><td>1573117</td></tr>\n",
       "\t<tr><td>1173918</td><td>1334639</td><td>1663622</td><td>1798714</td><td>1312574</td><td>1708245</td><td>1256746</td><td>1853142</td><td>1673831</td><td>1822933</td><td>1674707</td><td>1900523</td><td>1956742</td><td>1307678</td></tr>\n",
       "\t<tr><td>1794912</td><td>1726665</td><td>1805445</td><td>1133510</td><td>1502242</td><td>1419251</td><td>1482786</td><td>1862351</td><td>1103794</td><td>1935687</td><td>1905378</td><td>1522129</td><td>1509171</td><td>1893515</td></tr>\n",
       "\t<tr><td>1320191</td><td>1446723</td><td>1218591</td><td>1122030</td><td>1971479</td><td>1563062</td><td>1274168</td><td>1571032</td><td>1433835</td><td>1483292</td><td>1290329</td><td>1475344</td><td>1931500</td><td>1668232</td></tr>\n",
       "\t<tr><td>1501744</td><td>1942942</td><td>1266657</td><td>1961923</td><td>1835983</td><td>1234040</td><td>1151409</td><td>1993136</td><td>1983569</td><td>1781016</td><td>1909119</td><td>1531212</td><td>1990412</td><td>1611730</td></tr>\n",
       "\t<tr><td>1631522</td><td>1803455</td><td>1425193</td><td>1458191</td><td>1538731</td><td>1825195</td><td>1250499</td><td>1864685</td><td>1345102</td><td>1116203</td><td>1532332</td><td>1591735</td><td>1188417</td><td>1110655</td></tr>\n",
       "\t<tr><td>1159037</td><td>1150689</td><td>1660148</td><td>1417141</td><td>1418586</td><td>1279134</td><td>1171870</td><td>1852424</td><td>1554782</td><td>1647245</td><td>1811156</td><td>1147488</td><td>1302834</td><td>1136443</td></tr>\n",
       "\t<tr><td>1811867</td><td>1485909</td><td>1974179</td><td>1157059</td><td>1786132</td><td>1399191</td><td>1826406</td><td>1326460</td><td>1231739</td><td>1469785</td><td>1849041</td><td>1560887</td><td>1349173</td><td>1162164</td></tr>\n",
       "\t<tr><td>1520591</td><td>1310777</td><td>1957713</td><td>1907326</td><td>1873544</td><td>1655483</td><td>1785986</td><td>1827503</td><td>1447457</td><td>1978374</td><td>1882532</td><td>1698698</td><td>1646508</td><td>1705322</td></tr>\n",
       "\t<tr><td>1771096</td><td>1195861</td><td>1979395</td><td>1241662</td><td>1437456</td><td>1859416</td><td>1939284</td><td>1915865</td><td>1619186</td><td>1288285</td><td>1108281</td><td>1123353</td><td>1801019</td><td>1729273</td></tr>\n",
       "\t<tr><td>1146902</td><td>1832249</td><td>1492704</td><td>1579265</td><td>1332048</td><td>1563537</td><td>1123567</td><td>1618583</td><td>1326369</td><td>1792600</td><td>1714960</td><td>1146278</td><td>1282790</td><td>1565924</td></tr>\n",
       "\t<tr><td>1134317</td><td>1163996</td><td>1891068</td><td>1853855</td><td>1708715</td><td>1197698</td><td>1803330</td><td>1590043</td><td>1516758</td><td>1171686</td><td>1262342</td><td>1647032</td><td>1706707</td><td>1850394</td></tr>\n",
       "\t<tr><td>1977749</td><td>1687136</td><td>1199490</td><td>1163092</td><td>1334864</td><td>1621989</td><td>1545621</td><td>1555554</td><td>1179331</td><td>1150089</td><td>1775787</td><td>1273834</td><td>1387428</td><td>1377341</td></tr>\n",
       "\t<tr><td>1677347</td><td>1380662</td><td>1176100</td><td>1888948</td><td>1922085</td><td>1740826</td><td>1238174</td><td>1539322</td><td>1539603</td><td>1872519</td><td>1462137</td><td>1683127</td><td>1204344</td><td>1198791</td></tr>\n",
       "\t<tr><td>1788920</td><td>1518578</td><td>1289663</td><td>1436888</td><td>1251678</td><td>1721874</td><td>1980167</td><td>1901394</td><td>1648755</td><td>1940943</td><td>1729177</td><td>1510119</td><td>1701650</td><td>1846238</td></tr>\n",
       "\t<tr><td>1775190</td><td>1498098</td><td>1198212</td><td>1881688</td><td>1750527</td><td>1523124</td><td>1587602</td><td>1504455</td><td>1282142</td><td>1881814</td><td>1673668</td><td>1994022</td><td>1204029</td><td>1853858</td></tr>\n",
       "</tbody>\n",
       "</table>\n"
      ],
      "text/latex": [
       "A data.frame: 51 × 14\n",
       "\\begin{tabular}{r|llllllllllllll}\n",
       " Y2002 & Y2003 & Y2004 & Y2005 & Y2006 & Y2007 & Y2008 & Y2009 & Y2010 & Y2011 & Y2012 & Y2013 & Y2014 & Y2015\\\\\n",
       " <int> & <int> & <int> & <int> & <int> & <int> & <int> & <int> & <int> & <int> & <int> & <int> & <int> & <int>\\\\\n",
       "\\hline\n",
       "\t 1296530 & 1317711 & 1118631 & 1492583 & 1107408 & 1440134 & 1945229 & 1944173 & 1237582 & 1440756 & 1186741 & 1852841 & 1558906 & 1916661\\\\\n",
       "\t 1170302 & 1960378 & 1818085 & 1447852 & 1861639 & 1465841 & 1551826 & 1436541 & 1629616 & 1230866 & 1512804 & 1985302 & 1580394 & 1979143\\\\\n",
       "\t 1742027 & 1968140 & 1377583 & 1782199 & 1102568 & 1109382 & 1752886 & 1554330 & 1300521 & 1130709 & 1907284 & 1363279 & 1525866 & 1647724\\\\\n",
       "\t 1485531 & 1994927 & 1119299 & 1947979 & 1669191 & 1801213 & 1188104 & 1628980 & 1669295 & 1928238 & 1216675 & 1591896 & 1360959 & 1329341\\\\\n",
       "\t 1685349 & 1675807 & 1889570 & 1480280 & 1735069 & 1812546 & 1487315 & 1663809 & 1624509 & 1639670 & 1921845 & 1156536 & 1388461 & 1644607\\\\\n",
       "\t 1343824 & 1878473 & 1886149 & 1236697 & 1871471 & 1814218 & 1875146 & 1752387 & 1913275 & 1665877 & 1491604 & 1178355 & 1383978 & 1330736\\\\\n",
       "\t 1610512 & 1232844 & 1181949 & 1518933 & 1841266 & 1976976 & 1764457 & 1972730 & 1968730 & 1945524 & 1228529 & 1582249 & 1503156 & 1718072\\\\\n",
       "\t 1330403 & 1268673 & 1706751 & 1403759 & 1441351 & 1300836 & 1762096 & 1553585 & 1370984 & 1318669 & 1984027 & 1671279 & 1803169 & 1627508\\\\\n",
       "\t 1111437 & 1993741 & 1374643 & 1827949 & 1803852 & 1595981 & 1193245 & 1739748 & 1707823 & 1353449 & 1979708 & 1912654 & 1782169 & 1410183\\\\\n",
       "\t 1964626 & 1468852 & 1419738 & 1362787 & 1339608 & 1278550 & 1756185 & 1818438 & 1198403 & 1497051 & 1131928 & 1107448 & 1407784 & 1170389\\\\\n",
       "\t 1929009 & 1541565 & 1810773 & 1779091 & 1326846 & 1223770 & 1773090 & 1630325 & 1145473 & 1851245 & 1850111 & 1887157 & 1259353 & 1725470\\\\\n",
       "\t 1461570 & 1200280 & 1213993 & 1245931 & 1459383 & 1430465 & 1919423 & 1928416 & 1330509 & 1902816 & 1695126 & 1517184 & 1948108 & 1150882\\\\\n",
       "\t 1353210 & 1438538 & 1739154 & 1541015 & 1122387 & 1772050 & 1335481 & 1748608 & 1436809 & 1456340 & 1643855 & 1312561 & 1713718 & 1757171\\\\\n",
       "\t 1508356 & 1527440 & 1493029 & 1261353 & 1540274 & 1747614 & 1871645 & 1658551 & 1422021 & 1751422 & 1696729 & 1915435 & 1645465 & 1583516\\\\\n",
       "\t 1776918 & 1734104 & 1269927 & 1204117 & 1848073 & 1129546 & 1139551 & 1883976 & 1999102 & 1559924 & 1905760 & 1129794 & 1988394 & 1467614\\\\\n",
       "\t 1499269 & 1444576 & 1576367 & 1388924 & 1554813 & 1452911 & 1317983 & 1150783 & 1751389 & 1992996 & 1501879 & 1173694 & 1431705 & 1641866\\\\\n",
       "\t 1509054 & 1290700 & 1522230 & 1532094 & 1104256 & 1863278 & 1949478 & 1561528 & 1550433 & 1465812 & 1882929 & 1410249 & 1930090 & 1385528\\\\\n",
       "\t 1813878 & 1448846 & 1800760 & 1250524 & 1137913 & 1911227 & 1301848 & 1956681 & 1350895 & 1512894 & 1916616 & 1878271 & 1722762 & 1913350\\\\\n",
       "\t 1584734 & 1110625 & 1868456 & 1751920 & 1233709 & 1920301 & 1185085 & 1124853 & 1498662 & 1210385 & 1234234 & 1287663 & 1908602 & 1403857\\\\\n",
       "\t 1582720 & 1678622 & 1208496 & 1912040 & 1438549 & 1330014 & 1295877 & 1969163 & 1627262 & 1706080 & 1437088 & 1318546 & 1116792 & 1529233\\\\\n",
       "\t 1579713 & 1404700 & 1849798 & 1397738 & 1310270 & 1789128 & 1112765 & 1967225 & 1486246 & 1872327 & 1175819 & 1314343 & 1979529 & 1569566\\\\\n",
       "\t 1647582 & 1686259 & 1620601 & 1777250 & 1531641 & 1380529 & 1978904 & 1567651 & 1761048 & 1658538 & 1482203 & 1731917 & 1669749 & 1963337\\\\\n",
       "\t 1295635 & 1149931 & 1601027 & 1340716 & 1729449 & 1567494 & 1990431 & 1575185 & 1267626 & 1274673 & 1709853 & 1815596 & 1965196 & 1646634\\\\\n",
       "\t 1729921 & 1675204 & 1903907 & 1561839 & 1985692 & 1148621 & 1328133 & 1890633 & 1995304 & 1575533 & 1910216 & 1972021 & 1515366 & 1864553\\\\\n",
       "\t 1983285 & 1292558 & 1631325 & 1943311 & 1354579 & 1731643 & 1428291 & 1568049 & 1383227 & 1629132 & 1988270 & 1907777 & 1649668 & 1991232\\\\\n",
       "\t 1221316 & 1858368 & 1773451 & 1573967 & 1374863 & 1486197 & 1735099 & 1800620 & 1164202 & 1425363 & 1800052 & 1698105 & 1767835 & 1996005\\\\\n",
       "\t 1877154 & 1540099 & 1332722 & 1273327 & 1625721 & 1983568 & 1251742 & 1592690 & 1350619 & 1520064 & 1185225 & 1465705 & 1110394 & 1125903\\\\\n",
       "\t 1885081 & 1309769 & 1425527 & 1240465 & 1500594 & 1278272 & 1140598 & 1270585 & 1128711 & 1187207 & 1569665 & 1690920 & 1459243 & 1802211\\\\\n",
       "\t 1426117 & 1114500 & 1119707 & 1758830 & 1694526 & 1765826 & 1903270 & 1231480 & 1526066 & 1143343 & 1980195 & 1283813 & 1225348 & 1903804\\\\\n",
       "\t 1419776 & 1854370 & 1195119 & 1990062 & 1645430 & 1286967 & 1762936 & 1763211 & 1265642 & 1704297 & 1131298 & 1197576 & 1242623 & 1963313\\\\\n",
       "\t 1605532 & 1141514 & 1613550 & 1181452 & 1541327 & 1156804 & 1568034 & 1357418 & 1443718 & 1390010 & 1202326 & 1100990 & 1850165 & 1183568\\\\\n",
       "\t 1819239 & 1226057 & 1935991 & 1124400 & 1723493 & 1475985 & 1237704 & 1820856 & 1801430 & 1653384 & 1475715 & 1623388 & 1533494 & 1868612\\\\\n",
       "\t 1395149 & 1611371 & 1170675 & 1446810 & 1426941 & 1463171 & 1732098 & 1426216 & 1604531 & 1683687 & 1500089 & 1718837 & 1619033 & 1367705\\\\\n",
       "\t 1616742 & 1292223 & 1482792 & 1532347 & 1158716 & 1827420 & 1267737 & 1116168 & 1791535 & 1553750 & 1472258 & 1104893 & 1596452 & 1229085\\\\\n",
       "\t 1618807 & 1510193 & 1876940 & 1443172 & 1425030 & 1868788 & 1720352 & 1671468 & 1534571 & 1271132 & 1430978 & 1529024 & 1563898 & 1604118\\\\\n",
       "\t 1802132 & 1648498 & 1441386 & 1670280 & 1534888 & 1314824 & 1516621 & 1511460 & 1585465 & 1887714 & 1227303 & 1840898 & 1880804 & 1573117\\\\\n",
       "\t 1173918 & 1334639 & 1663622 & 1798714 & 1312574 & 1708245 & 1256746 & 1853142 & 1673831 & 1822933 & 1674707 & 1900523 & 1956742 & 1307678\\\\\n",
       "\t 1794912 & 1726665 & 1805445 & 1133510 & 1502242 & 1419251 & 1482786 & 1862351 & 1103794 & 1935687 & 1905378 & 1522129 & 1509171 & 1893515\\\\\n",
       "\t 1320191 & 1446723 & 1218591 & 1122030 & 1971479 & 1563062 & 1274168 & 1571032 & 1433835 & 1483292 & 1290329 & 1475344 & 1931500 & 1668232\\\\\n",
       "\t 1501744 & 1942942 & 1266657 & 1961923 & 1835983 & 1234040 & 1151409 & 1993136 & 1983569 & 1781016 & 1909119 & 1531212 & 1990412 & 1611730\\\\\n",
       "\t 1631522 & 1803455 & 1425193 & 1458191 & 1538731 & 1825195 & 1250499 & 1864685 & 1345102 & 1116203 & 1532332 & 1591735 & 1188417 & 1110655\\\\\n",
       "\t 1159037 & 1150689 & 1660148 & 1417141 & 1418586 & 1279134 & 1171870 & 1852424 & 1554782 & 1647245 & 1811156 & 1147488 & 1302834 & 1136443\\\\\n",
       "\t 1811867 & 1485909 & 1974179 & 1157059 & 1786132 & 1399191 & 1826406 & 1326460 & 1231739 & 1469785 & 1849041 & 1560887 & 1349173 & 1162164\\\\\n",
       "\t 1520591 & 1310777 & 1957713 & 1907326 & 1873544 & 1655483 & 1785986 & 1827503 & 1447457 & 1978374 & 1882532 & 1698698 & 1646508 & 1705322\\\\\n",
       "\t 1771096 & 1195861 & 1979395 & 1241662 & 1437456 & 1859416 & 1939284 & 1915865 & 1619186 & 1288285 & 1108281 & 1123353 & 1801019 & 1729273\\\\\n",
       "\t 1146902 & 1832249 & 1492704 & 1579265 & 1332048 & 1563537 & 1123567 & 1618583 & 1326369 & 1792600 & 1714960 & 1146278 & 1282790 & 1565924\\\\\n",
       "\t 1134317 & 1163996 & 1891068 & 1853855 & 1708715 & 1197698 & 1803330 & 1590043 & 1516758 & 1171686 & 1262342 & 1647032 & 1706707 & 1850394\\\\\n",
       "\t 1977749 & 1687136 & 1199490 & 1163092 & 1334864 & 1621989 & 1545621 & 1555554 & 1179331 & 1150089 & 1775787 & 1273834 & 1387428 & 1377341\\\\\n",
       "\t 1677347 & 1380662 & 1176100 & 1888948 & 1922085 & 1740826 & 1238174 & 1539322 & 1539603 & 1872519 & 1462137 & 1683127 & 1204344 & 1198791\\\\\n",
       "\t 1788920 & 1518578 & 1289663 & 1436888 & 1251678 & 1721874 & 1980167 & 1901394 & 1648755 & 1940943 & 1729177 & 1510119 & 1701650 & 1846238\\\\\n",
       "\t 1775190 & 1498098 & 1198212 & 1881688 & 1750527 & 1523124 & 1587602 & 1504455 & 1282142 & 1881814 & 1673668 & 1994022 & 1204029 & 1853858\\\\\n",
       "\\end{tabular}\n"
      ],
      "text/markdown": [
       "\n",
       "A data.frame: 51 × 14\n",
       "\n",
       "| Y2002 &lt;int&gt; | Y2003 &lt;int&gt; | Y2004 &lt;int&gt; | Y2005 &lt;int&gt; | Y2006 &lt;int&gt; | Y2007 &lt;int&gt; | Y2008 &lt;int&gt; | Y2009 &lt;int&gt; | Y2010 &lt;int&gt; | Y2011 &lt;int&gt; | Y2012 &lt;int&gt; | Y2013 &lt;int&gt; | Y2014 &lt;int&gt; | Y2015 &lt;int&gt; |\n",
       "|---|---|---|---|---|---|---|---|---|---|---|---|---|---|\n",
       "| 1296530 | 1317711 | 1118631 | 1492583 | 1107408 | 1440134 | 1945229 | 1944173 | 1237582 | 1440756 | 1186741 | 1852841 | 1558906 | 1916661 |\n",
       "| 1170302 | 1960378 | 1818085 | 1447852 | 1861639 | 1465841 | 1551826 | 1436541 | 1629616 | 1230866 | 1512804 | 1985302 | 1580394 | 1979143 |\n",
       "| 1742027 | 1968140 | 1377583 | 1782199 | 1102568 | 1109382 | 1752886 | 1554330 | 1300521 | 1130709 | 1907284 | 1363279 | 1525866 | 1647724 |\n",
       "| 1485531 | 1994927 | 1119299 | 1947979 | 1669191 | 1801213 | 1188104 | 1628980 | 1669295 | 1928238 | 1216675 | 1591896 | 1360959 | 1329341 |\n",
       "| 1685349 | 1675807 | 1889570 | 1480280 | 1735069 | 1812546 | 1487315 | 1663809 | 1624509 | 1639670 | 1921845 | 1156536 | 1388461 | 1644607 |\n",
       "| 1343824 | 1878473 | 1886149 | 1236697 | 1871471 | 1814218 | 1875146 | 1752387 | 1913275 | 1665877 | 1491604 | 1178355 | 1383978 | 1330736 |\n",
       "| 1610512 | 1232844 | 1181949 | 1518933 | 1841266 | 1976976 | 1764457 | 1972730 | 1968730 | 1945524 | 1228529 | 1582249 | 1503156 | 1718072 |\n",
       "| 1330403 | 1268673 | 1706751 | 1403759 | 1441351 | 1300836 | 1762096 | 1553585 | 1370984 | 1318669 | 1984027 | 1671279 | 1803169 | 1627508 |\n",
       "| 1111437 | 1993741 | 1374643 | 1827949 | 1803852 | 1595981 | 1193245 | 1739748 | 1707823 | 1353449 | 1979708 | 1912654 | 1782169 | 1410183 |\n",
       "| 1964626 | 1468852 | 1419738 | 1362787 | 1339608 | 1278550 | 1756185 | 1818438 | 1198403 | 1497051 | 1131928 | 1107448 | 1407784 | 1170389 |\n",
       "| 1929009 | 1541565 | 1810773 | 1779091 | 1326846 | 1223770 | 1773090 | 1630325 | 1145473 | 1851245 | 1850111 | 1887157 | 1259353 | 1725470 |\n",
       "| 1461570 | 1200280 | 1213993 | 1245931 | 1459383 | 1430465 | 1919423 | 1928416 | 1330509 | 1902816 | 1695126 | 1517184 | 1948108 | 1150882 |\n",
       "| 1353210 | 1438538 | 1739154 | 1541015 | 1122387 | 1772050 | 1335481 | 1748608 | 1436809 | 1456340 | 1643855 | 1312561 | 1713718 | 1757171 |\n",
       "| 1508356 | 1527440 | 1493029 | 1261353 | 1540274 | 1747614 | 1871645 | 1658551 | 1422021 | 1751422 | 1696729 | 1915435 | 1645465 | 1583516 |\n",
       "| 1776918 | 1734104 | 1269927 | 1204117 | 1848073 | 1129546 | 1139551 | 1883976 | 1999102 | 1559924 | 1905760 | 1129794 | 1988394 | 1467614 |\n",
       "| 1499269 | 1444576 | 1576367 | 1388924 | 1554813 | 1452911 | 1317983 | 1150783 | 1751389 | 1992996 | 1501879 | 1173694 | 1431705 | 1641866 |\n",
       "| 1509054 | 1290700 | 1522230 | 1532094 | 1104256 | 1863278 | 1949478 | 1561528 | 1550433 | 1465812 | 1882929 | 1410249 | 1930090 | 1385528 |\n",
       "| 1813878 | 1448846 | 1800760 | 1250524 | 1137913 | 1911227 | 1301848 | 1956681 | 1350895 | 1512894 | 1916616 | 1878271 | 1722762 | 1913350 |\n",
       "| 1584734 | 1110625 | 1868456 | 1751920 | 1233709 | 1920301 | 1185085 | 1124853 | 1498662 | 1210385 | 1234234 | 1287663 | 1908602 | 1403857 |\n",
       "| 1582720 | 1678622 | 1208496 | 1912040 | 1438549 | 1330014 | 1295877 | 1969163 | 1627262 | 1706080 | 1437088 | 1318546 | 1116792 | 1529233 |\n",
       "| 1579713 | 1404700 | 1849798 | 1397738 | 1310270 | 1789128 | 1112765 | 1967225 | 1486246 | 1872327 | 1175819 | 1314343 | 1979529 | 1569566 |\n",
       "| 1647582 | 1686259 | 1620601 | 1777250 | 1531641 | 1380529 | 1978904 | 1567651 | 1761048 | 1658538 | 1482203 | 1731917 | 1669749 | 1963337 |\n",
       "| 1295635 | 1149931 | 1601027 | 1340716 | 1729449 | 1567494 | 1990431 | 1575185 | 1267626 | 1274673 | 1709853 | 1815596 | 1965196 | 1646634 |\n",
       "| 1729921 | 1675204 | 1903907 | 1561839 | 1985692 | 1148621 | 1328133 | 1890633 | 1995304 | 1575533 | 1910216 | 1972021 | 1515366 | 1864553 |\n",
       "| 1983285 | 1292558 | 1631325 | 1943311 | 1354579 | 1731643 | 1428291 | 1568049 | 1383227 | 1629132 | 1988270 | 1907777 | 1649668 | 1991232 |\n",
       "| 1221316 | 1858368 | 1773451 | 1573967 | 1374863 | 1486197 | 1735099 | 1800620 | 1164202 | 1425363 | 1800052 | 1698105 | 1767835 | 1996005 |\n",
       "| 1877154 | 1540099 | 1332722 | 1273327 | 1625721 | 1983568 | 1251742 | 1592690 | 1350619 | 1520064 | 1185225 | 1465705 | 1110394 | 1125903 |\n",
       "| 1885081 | 1309769 | 1425527 | 1240465 | 1500594 | 1278272 | 1140598 | 1270585 | 1128711 | 1187207 | 1569665 | 1690920 | 1459243 | 1802211 |\n",
       "| 1426117 | 1114500 | 1119707 | 1758830 | 1694526 | 1765826 | 1903270 | 1231480 | 1526066 | 1143343 | 1980195 | 1283813 | 1225348 | 1903804 |\n",
       "| 1419776 | 1854370 | 1195119 | 1990062 | 1645430 | 1286967 | 1762936 | 1763211 | 1265642 | 1704297 | 1131298 | 1197576 | 1242623 | 1963313 |\n",
       "| 1605532 | 1141514 | 1613550 | 1181452 | 1541327 | 1156804 | 1568034 | 1357418 | 1443718 | 1390010 | 1202326 | 1100990 | 1850165 | 1183568 |\n",
       "| 1819239 | 1226057 | 1935991 | 1124400 | 1723493 | 1475985 | 1237704 | 1820856 | 1801430 | 1653384 | 1475715 | 1623388 | 1533494 | 1868612 |\n",
       "| 1395149 | 1611371 | 1170675 | 1446810 | 1426941 | 1463171 | 1732098 | 1426216 | 1604531 | 1683687 | 1500089 | 1718837 | 1619033 | 1367705 |\n",
       "| 1616742 | 1292223 | 1482792 | 1532347 | 1158716 | 1827420 | 1267737 | 1116168 | 1791535 | 1553750 | 1472258 | 1104893 | 1596452 | 1229085 |\n",
       "| 1618807 | 1510193 | 1876940 | 1443172 | 1425030 | 1868788 | 1720352 | 1671468 | 1534571 | 1271132 | 1430978 | 1529024 | 1563898 | 1604118 |\n",
       "| 1802132 | 1648498 | 1441386 | 1670280 | 1534888 | 1314824 | 1516621 | 1511460 | 1585465 | 1887714 | 1227303 | 1840898 | 1880804 | 1573117 |\n",
       "| 1173918 | 1334639 | 1663622 | 1798714 | 1312574 | 1708245 | 1256746 | 1853142 | 1673831 | 1822933 | 1674707 | 1900523 | 1956742 | 1307678 |\n",
       "| 1794912 | 1726665 | 1805445 | 1133510 | 1502242 | 1419251 | 1482786 | 1862351 | 1103794 | 1935687 | 1905378 | 1522129 | 1509171 | 1893515 |\n",
       "| 1320191 | 1446723 | 1218591 | 1122030 | 1971479 | 1563062 | 1274168 | 1571032 | 1433835 | 1483292 | 1290329 | 1475344 | 1931500 | 1668232 |\n",
       "| 1501744 | 1942942 | 1266657 | 1961923 | 1835983 | 1234040 | 1151409 | 1993136 | 1983569 | 1781016 | 1909119 | 1531212 | 1990412 | 1611730 |\n",
       "| 1631522 | 1803455 | 1425193 | 1458191 | 1538731 | 1825195 | 1250499 | 1864685 | 1345102 | 1116203 | 1532332 | 1591735 | 1188417 | 1110655 |\n",
       "| 1159037 | 1150689 | 1660148 | 1417141 | 1418586 | 1279134 | 1171870 | 1852424 | 1554782 | 1647245 | 1811156 | 1147488 | 1302834 | 1136443 |\n",
       "| 1811867 | 1485909 | 1974179 | 1157059 | 1786132 | 1399191 | 1826406 | 1326460 | 1231739 | 1469785 | 1849041 | 1560887 | 1349173 | 1162164 |\n",
       "| 1520591 | 1310777 | 1957713 | 1907326 | 1873544 | 1655483 | 1785986 | 1827503 | 1447457 | 1978374 | 1882532 | 1698698 | 1646508 | 1705322 |\n",
       "| 1771096 | 1195861 | 1979395 | 1241662 | 1437456 | 1859416 | 1939284 | 1915865 | 1619186 | 1288285 | 1108281 | 1123353 | 1801019 | 1729273 |\n",
       "| 1146902 | 1832249 | 1492704 | 1579265 | 1332048 | 1563537 | 1123567 | 1618583 | 1326369 | 1792600 | 1714960 | 1146278 | 1282790 | 1565924 |\n",
       "| 1134317 | 1163996 | 1891068 | 1853855 | 1708715 | 1197698 | 1803330 | 1590043 | 1516758 | 1171686 | 1262342 | 1647032 | 1706707 | 1850394 |\n",
       "| 1977749 | 1687136 | 1199490 | 1163092 | 1334864 | 1621989 | 1545621 | 1555554 | 1179331 | 1150089 | 1775787 | 1273834 | 1387428 | 1377341 |\n",
       "| 1677347 | 1380662 | 1176100 | 1888948 | 1922085 | 1740826 | 1238174 | 1539322 | 1539603 | 1872519 | 1462137 | 1683127 | 1204344 | 1198791 |\n",
       "| 1788920 | 1518578 | 1289663 | 1436888 | 1251678 | 1721874 | 1980167 | 1901394 | 1648755 | 1940943 | 1729177 | 1510119 | 1701650 | 1846238 |\n",
       "| 1775190 | 1498098 | 1198212 | 1881688 | 1750527 | 1523124 | 1587602 | 1504455 | 1282142 | 1881814 | 1673668 | 1994022 | 1204029 | 1853858 |\n",
       "\n"
      ],
      "text/plain": [
       "   Y2002   Y2003   Y2004   Y2005   Y2006   Y2007   Y2008   Y2009   Y2010  \n",
       "1  1296530 1317711 1118631 1492583 1107408 1440134 1945229 1944173 1237582\n",
       "2  1170302 1960378 1818085 1447852 1861639 1465841 1551826 1436541 1629616\n",
       "3  1742027 1968140 1377583 1782199 1102568 1109382 1752886 1554330 1300521\n",
       "4  1485531 1994927 1119299 1947979 1669191 1801213 1188104 1628980 1669295\n",
       "5  1685349 1675807 1889570 1480280 1735069 1812546 1487315 1663809 1624509\n",
       "6  1343824 1878473 1886149 1236697 1871471 1814218 1875146 1752387 1913275\n",
       "7  1610512 1232844 1181949 1518933 1841266 1976976 1764457 1972730 1968730\n",
       "8  1330403 1268673 1706751 1403759 1441351 1300836 1762096 1553585 1370984\n",
       "9  1111437 1993741 1374643 1827949 1803852 1595981 1193245 1739748 1707823\n",
       "10 1964626 1468852 1419738 1362787 1339608 1278550 1756185 1818438 1198403\n",
       "11 1929009 1541565 1810773 1779091 1326846 1223770 1773090 1630325 1145473\n",
       "12 1461570 1200280 1213993 1245931 1459383 1430465 1919423 1928416 1330509\n",
       "13 1353210 1438538 1739154 1541015 1122387 1772050 1335481 1748608 1436809\n",
       "14 1508356 1527440 1493029 1261353 1540274 1747614 1871645 1658551 1422021\n",
       "15 1776918 1734104 1269927 1204117 1848073 1129546 1139551 1883976 1999102\n",
       "16 1499269 1444576 1576367 1388924 1554813 1452911 1317983 1150783 1751389\n",
       "17 1509054 1290700 1522230 1532094 1104256 1863278 1949478 1561528 1550433\n",
       "18 1813878 1448846 1800760 1250524 1137913 1911227 1301848 1956681 1350895\n",
       "19 1584734 1110625 1868456 1751920 1233709 1920301 1185085 1124853 1498662\n",
       "20 1582720 1678622 1208496 1912040 1438549 1330014 1295877 1969163 1627262\n",
       "21 1579713 1404700 1849798 1397738 1310270 1789128 1112765 1967225 1486246\n",
       "22 1647582 1686259 1620601 1777250 1531641 1380529 1978904 1567651 1761048\n",
       "23 1295635 1149931 1601027 1340716 1729449 1567494 1990431 1575185 1267626\n",
       "24 1729921 1675204 1903907 1561839 1985692 1148621 1328133 1890633 1995304\n",
       "25 1983285 1292558 1631325 1943311 1354579 1731643 1428291 1568049 1383227\n",
       "26 1221316 1858368 1773451 1573967 1374863 1486197 1735099 1800620 1164202\n",
       "27 1877154 1540099 1332722 1273327 1625721 1983568 1251742 1592690 1350619\n",
       "28 1885081 1309769 1425527 1240465 1500594 1278272 1140598 1270585 1128711\n",
       "29 1426117 1114500 1119707 1758830 1694526 1765826 1903270 1231480 1526066\n",
       "30 1419776 1854370 1195119 1990062 1645430 1286967 1762936 1763211 1265642\n",
       "31 1605532 1141514 1613550 1181452 1541327 1156804 1568034 1357418 1443718\n",
       "32 1819239 1226057 1935991 1124400 1723493 1475985 1237704 1820856 1801430\n",
       "33 1395149 1611371 1170675 1446810 1426941 1463171 1732098 1426216 1604531\n",
       "34 1616742 1292223 1482792 1532347 1158716 1827420 1267737 1116168 1791535\n",
       "35 1618807 1510193 1876940 1443172 1425030 1868788 1720352 1671468 1534571\n",
       "36 1802132 1648498 1441386 1670280 1534888 1314824 1516621 1511460 1585465\n",
       "37 1173918 1334639 1663622 1798714 1312574 1708245 1256746 1853142 1673831\n",
       "38 1794912 1726665 1805445 1133510 1502242 1419251 1482786 1862351 1103794\n",
       "39 1320191 1446723 1218591 1122030 1971479 1563062 1274168 1571032 1433835\n",
       "40 1501744 1942942 1266657 1961923 1835983 1234040 1151409 1993136 1983569\n",
       "41 1631522 1803455 1425193 1458191 1538731 1825195 1250499 1864685 1345102\n",
       "42 1159037 1150689 1660148 1417141 1418586 1279134 1171870 1852424 1554782\n",
       "43 1811867 1485909 1974179 1157059 1786132 1399191 1826406 1326460 1231739\n",
       "44 1520591 1310777 1957713 1907326 1873544 1655483 1785986 1827503 1447457\n",
       "45 1771096 1195861 1979395 1241662 1437456 1859416 1939284 1915865 1619186\n",
       "46 1146902 1832249 1492704 1579265 1332048 1563537 1123567 1618583 1326369\n",
       "47 1134317 1163996 1891068 1853855 1708715 1197698 1803330 1590043 1516758\n",
       "48 1977749 1687136 1199490 1163092 1334864 1621989 1545621 1555554 1179331\n",
       "49 1677347 1380662 1176100 1888948 1922085 1740826 1238174 1539322 1539603\n",
       "50 1788920 1518578 1289663 1436888 1251678 1721874 1980167 1901394 1648755\n",
       "51 1775190 1498098 1198212 1881688 1750527 1523124 1587602 1504455 1282142\n",
       "   Y2011   Y2012   Y2013   Y2014   Y2015  \n",
       "1  1440756 1186741 1852841 1558906 1916661\n",
       "2  1230866 1512804 1985302 1580394 1979143\n",
       "3  1130709 1907284 1363279 1525866 1647724\n",
       "4  1928238 1216675 1591896 1360959 1329341\n",
       "5  1639670 1921845 1156536 1388461 1644607\n",
       "6  1665877 1491604 1178355 1383978 1330736\n",
       "7  1945524 1228529 1582249 1503156 1718072\n",
       "8  1318669 1984027 1671279 1803169 1627508\n",
       "9  1353449 1979708 1912654 1782169 1410183\n",
       "10 1497051 1131928 1107448 1407784 1170389\n",
       "11 1851245 1850111 1887157 1259353 1725470\n",
       "12 1902816 1695126 1517184 1948108 1150882\n",
       "13 1456340 1643855 1312561 1713718 1757171\n",
       "14 1751422 1696729 1915435 1645465 1583516\n",
       "15 1559924 1905760 1129794 1988394 1467614\n",
       "16 1992996 1501879 1173694 1431705 1641866\n",
       "17 1465812 1882929 1410249 1930090 1385528\n",
       "18 1512894 1916616 1878271 1722762 1913350\n",
       "19 1210385 1234234 1287663 1908602 1403857\n",
       "20 1706080 1437088 1318546 1116792 1529233\n",
       "21 1872327 1175819 1314343 1979529 1569566\n",
       "22 1658538 1482203 1731917 1669749 1963337\n",
       "23 1274673 1709853 1815596 1965196 1646634\n",
       "24 1575533 1910216 1972021 1515366 1864553\n",
       "25 1629132 1988270 1907777 1649668 1991232\n",
       "26 1425363 1800052 1698105 1767835 1996005\n",
       "27 1520064 1185225 1465705 1110394 1125903\n",
       "28 1187207 1569665 1690920 1459243 1802211\n",
       "29 1143343 1980195 1283813 1225348 1903804\n",
       "30 1704297 1131298 1197576 1242623 1963313\n",
       "31 1390010 1202326 1100990 1850165 1183568\n",
       "32 1653384 1475715 1623388 1533494 1868612\n",
       "33 1683687 1500089 1718837 1619033 1367705\n",
       "34 1553750 1472258 1104893 1596452 1229085\n",
       "35 1271132 1430978 1529024 1563898 1604118\n",
       "36 1887714 1227303 1840898 1880804 1573117\n",
       "37 1822933 1674707 1900523 1956742 1307678\n",
       "38 1935687 1905378 1522129 1509171 1893515\n",
       "39 1483292 1290329 1475344 1931500 1668232\n",
       "40 1781016 1909119 1531212 1990412 1611730\n",
       "41 1116203 1532332 1591735 1188417 1110655\n",
       "42 1647245 1811156 1147488 1302834 1136443\n",
       "43 1469785 1849041 1560887 1349173 1162164\n",
       "44 1978374 1882532 1698698 1646508 1705322\n",
       "45 1288285 1108281 1123353 1801019 1729273\n",
       "46 1792600 1714960 1146278 1282790 1565924\n",
       "47 1171686 1262342 1647032 1706707 1850394\n",
       "48 1150089 1775787 1273834 1387428 1377341\n",
       "49 1872519 1462137 1683127 1204344 1198791\n",
       "50 1940943 1729177 1510119 1701650 1846238\n",
       "51 1881814 1673668 1994022 1204029 1853858"
      ]
     },
     "metadata": {},
     "output_type": "display_data"
    }
   ],
   "source": [
    "numdata = mydata[sapply(mydata,is.numeric)]  # sapply 对每一列进行判断 是不是numeric,如果是就返回\n",
    "numdata"
   ]
  },
  {
   "cell_type": "markdown",
   "metadata": {},
   "source": [
    "Second, the summarise_all function calculates summary statistics for all the columns in a data frame"
   ]
  },
  {
   "cell_type": "code",
   "execution_count": 75,
   "metadata": {},
   "outputs": [
    {
     "name": "stderr",
     "output_type": "stream",
     "text": [
      "Your code contains a unicode char which cannot be displayed in your\n",
      "current locale and R will silently convert it to an escaped form when the\n",
      "R kernel executes this code. This can lead to subtle errors if you use\n",
      "such chars to do comparisons. For more information, please see\n",
      "https://github.com/IRkernel/repr/wiki/Problems-with-unicode-on-windows"
     ]
    },
    {
     "data": {
      "text/html": [
       "<table>\n",
       "<caption>A data.frame: 1 × 42</caption>\n",
       "<thead>\n",
       "\t<tr><th scope=col>Y2002_n</th><th scope=col>Y2003_n</th><th scope=col>Y2004_n</th><th scope=col>Y2005_n</th><th scope=col>Y2006_n</th><th scope=col>Y2007_n</th><th scope=col>Y2008_n</th><th scope=col>Y2009_n</th><th scope=col>Y2010_n</th><th scope=col>Y2011_n</th><th scope=col>...</th><th scope=col>Y2006_median</th><th scope=col>Y2007_median</th><th scope=col>Y2008_median</th><th scope=col>Y2009_median</th><th scope=col>Y2010_median</th><th scope=col>Y2011_median</th><th scope=col>Y2012_median</th><th scope=col>Y2013_median</th><th scope=col>Y2014_median</th><th scope=col>Y2015_median</th></tr>\n",
       "\t<tr><th scope=col>&lt;int&gt;</th><th scope=col>&lt;int&gt;</th><th scope=col>&lt;int&gt;</th><th scope=col>&lt;int&gt;</th><th scope=col>&lt;int&gt;</th><th scope=col>&lt;int&gt;</th><th scope=col>&lt;int&gt;</th><th scope=col>&lt;int&gt;</th><th scope=col>&lt;int&gt;</th><th scope=col>&lt;int&gt;</th><th scope=col>...</th><th scope=col>&lt;int&gt;</th><th scope=col>&lt;int&gt;</th><th scope=col>&lt;int&gt;</th><th scope=col>&lt;int&gt;</th><th scope=col>&lt;int&gt;</th><th scope=col>&lt;int&gt;</th><th scope=col>&lt;int&gt;</th><th scope=col>&lt;int&gt;</th><th scope=col>&lt;int&gt;</th><th scope=col>&lt;int&gt;</th></tr>\n",
       "</thead>\n",
       "<tbody>\n",
       "\t<tr><td>51</td><td>51</td><td>51</td><td>51</td><td>51</td><td>51</td><td>51</td><td>51</td><td>51</td><td>51</td><td>...</td><td>1531641</td><td>1563062</td><td>1545621</td><td>1658551</td><td>1498662</td><td>1575533</td><td>1643855</td><td>1531212</td><td>1580394</td><td>1627508</td></tr>\n",
       "</tbody>\n",
       "</table>\n"
      ],
      "text/latex": [
       "A data.frame: 1 × 42\n",
       "\\begin{tabular}{r|llllllllllllllllllllllllllllllllllllllllll}\n",
       " Y2002\\_n & Y2003\\_n & Y2004\\_n & Y2005\\_n & Y2006\\_n & Y2007\\_n & Y2008\\_n & Y2009\\_n & Y2010\\_n & Y2011\\_n & Y2012\\_n & Y2013\\_n & Y2014\\_n & Y2015\\_n & Y2002\\_mean & Y2003\\_mean & Y2004\\_mean & Y2005\\_mean & Y2006\\_mean & Y2007\\_mean & Y2008\\_mean & Y2009\\_mean & Y2010\\_mean & Y2011\\_mean & Y2012\\_mean & Y2013\\_mean & Y2014\\_mean & Y2015\\_mean & Y2002\\_median & Y2003\\_median & Y2004\\_median & Y2005\\_median & Y2006\\_median & Y2007\\_median & Y2008\\_median & Y2009\\_median & Y2010\\_median & Y2011\\_median & Y2012\\_median & Y2013\\_median & Y2014\\_median & Y2015\\_median\\\\\n",
       " <int> & <int> & <int> & <int> & <int> & <int> & <int> & <int> & <int> & <int> & <int> & <int> & <int> & <int> & <dbl> & <dbl> & <dbl> & <dbl> & <dbl> & <dbl> & <dbl> & <dbl> & <dbl> & <dbl> & <dbl> & <dbl> & <dbl> & <dbl> & <int> & <int> & <int> & <int> & <int> & <int> & <int> & <int> & <int> & <int> & <int> & <int> & <int> & <int>\\\\\n",
       "\\hline\n",
       "\t 51 & 51 & 51 & 51 & 51 & 51 & 51 & 51 & 51 & 51 & 51 & 51 & 51 & 51 & 1566034 & 1509193 & 1540555 & 1522064 & 1530969 & 1553219 & 1538398 & 1658519 & 1504108 & 1574968 & 1591135 & 1530078 & 1583360 & 1588297 & 1584734 & 1485909 & 1522230 & 1480280 & 1531641 & 1563062 & 1545621 & 1658551 & 1498662 & 1575533 & 1643855 & 1531212 & 1580394 & 1627508\\\\\n",
       "\\end{tabular}\n"
      ],
      "text/markdown": [
       "\n",
       "A data.frame: 1 × 42\n",
       "\n",
       "| Y2002_n &lt;int&gt; | Y2003_n &lt;int&gt; | Y2004_n &lt;int&gt; | Y2005_n &lt;int&gt; | Y2006_n &lt;int&gt; | Y2007_n &lt;int&gt; | Y2008_n &lt;int&gt; | Y2009_n &lt;int&gt; | Y2010_n &lt;int&gt; | Y2011_n &lt;int&gt; | ... ... | Y2006_median &lt;int&gt; | Y2007_median &lt;int&gt; | Y2008_median &lt;int&gt; | Y2009_median &lt;int&gt; | Y2010_median &lt;int&gt; | Y2011_median &lt;int&gt; | Y2012_median &lt;int&gt; | Y2013_median &lt;int&gt; | Y2014_median &lt;int&gt; | Y2015_median &lt;int&gt; |\n",
       "|---|---|---|---|---|---|---|---|---|---|---|---|---|---|---|---|---|---|---|---|---|\n",
       "| 51 | 51 | 51 | 51 | 51 | 51 | 51 | 51 | 51 | 51 | ... | 1531641 | 1563062 | 1545621 | 1658551 | 1498662 | 1575533 | 1643855 | 1531212 | 1580394 | 1627508 |\n",
       "\n"
      ],
      "text/plain": [
       "  Y2002_n Y2003_n Y2004_n Y2005_n Y2006_n Y2007_n Y2008_n Y2009_n Y2010_n\n",
       "1 51      51      51      51      51      51      51      51      51     \n",
       "  Y2011_n ... Y2006_median Y2007_median Y2008_median Y2009_median Y2010_median\n",
       "1 51      ... 1531641      1563062      1545621      1658551      1498662     \n",
       "  Y2011_median Y2012_median Y2013_median Y2014_median Y2015_median\n",
       "1 1575533      1643855      1531212      1580394      1627508     "
      ]
     },
     "metadata": {},
     "output_type": "display_data"
    }
   ],
   "source": [
    "summarise_all(numdata, funs(n(),mean,median))  # 对所有列进行计算"
   ]
  },
  {
   "cell_type": "markdown",
   "metadata": {},
   "source": [
    "#### arrange() function  排序"
   ]
  },
  {
   "cell_type": "markdown",
   "metadata": {},
   "source": [
    "To sort data. If sort in descending order, use desc(x)."
   ]
  },
  {
   "cell_type": "markdown",
   "metadata": {},
   "source": [
    "Sort Data by Multiple Variables"
   ]
  },
  {
   "cell_type": "code",
   "execution_count": 21,
   "metadata": {
    "collapsed": true
   },
   "outputs": [
    {
     "name": "stderr",
     "output_type": "stream",
     "text": [
      "Your code contains a unicode char which cannot be displayed in your\n",
      "current locale and R will silently convert it to an escaped form when the\n",
      "R kernel executes this code. This can lead to subtle errors if you use\n",
      "such chars to do comparisons. For more information, please see\n",
      "https://github.com/IRkernel/repr/wiki/Problems-with-unicode-on-windows"
     ]
    },
    {
     "data": {
      "text/html": [
       "<table>\n",
       "<caption>A data.frame: 51 × 16</caption>\n",
       "<thead>\n",
       "\t<tr><th scope=col>Index</th><th scope=col>State</th><th scope=col>Y2002</th><th scope=col>Y2003</th><th scope=col>Y2004</th><th scope=col>Y2005</th><th scope=col>Y2006</th><th scope=col>Y2007</th><th scope=col>Y2008</th><th scope=col>Y2009</th><th scope=col>Y2010</th><th scope=col>Y2011</th><th scope=col>Y2012</th><th scope=col>Y2013</th><th scope=col>Y2014</th><th scope=col>Y2015</th></tr>\n",
       "\t<tr><th scope=col>&lt;fct&gt;</th><th scope=col>&lt;fct&gt;</th><th scope=col>&lt;int&gt;</th><th scope=col>&lt;int&gt;</th><th scope=col>&lt;int&gt;</th><th scope=col>&lt;int&gt;</th><th scope=col>&lt;int&gt;</th><th scope=col>&lt;int&gt;</th><th scope=col>&lt;int&gt;</th><th scope=col>&lt;int&gt;</th><th scope=col>&lt;int&gt;</th><th scope=col>&lt;int&gt;</th><th scope=col>&lt;int&gt;</th><th scope=col>&lt;int&gt;</th><th scope=col>&lt;int&gt;</th><th scope=col>&lt;int&gt;</th></tr>\n",
       "</thead>\n",
       "<tbody>\n",
       "\t<tr><td>A</td><td>Arizona             </td><td>1742027</td><td>1968140</td><td>1377583</td><td>1782199</td><td>1102568</td><td>1109382</td><td>1752886</td><td>1554330</td><td>1300521</td><td>1130709</td><td>1907284</td><td>1363279</td><td>1525866</td><td>1647724</td></tr>\n",
       "\t<tr><td>A</td><td>Alaska              </td><td>1170302</td><td>1960378</td><td>1818085</td><td>1447852</td><td>1861639</td><td>1465841</td><td>1551826</td><td>1436541</td><td>1629616</td><td>1230866</td><td>1512804</td><td>1985302</td><td>1580394</td><td>1979143</td></tr>\n",
       "\t<tr><td>A</td><td>Alabama             </td><td>1296530</td><td>1317711</td><td>1118631</td><td>1492583</td><td>1107408</td><td>1440134</td><td>1945229</td><td>1944173</td><td>1237582</td><td>1440756</td><td>1186741</td><td>1852841</td><td>1558906</td><td>1916661</td></tr>\n",
       "\t<tr><td>A</td><td>Arkansas            </td><td>1485531</td><td>1994927</td><td>1119299</td><td>1947979</td><td>1669191</td><td>1801213</td><td>1188104</td><td>1628980</td><td>1669295</td><td>1928238</td><td>1216675</td><td>1591896</td><td>1360959</td><td>1329341</td></tr>\n",
       "\t<tr><td>C</td><td>California          </td><td>1685349</td><td>1675807</td><td>1889570</td><td>1480280</td><td>1735069</td><td>1812546</td><td>1487315</td><td>1663809</td><td>1624509</td><td>1639670</td><td>1921845</td><td>1156536</td><td>1388461</td><td>1644607</td></tr>\n",
       "\t<tr><td>C</td><td>Colorado            </td><td>1343824</td><td>1878473</td><td>1886149</td><td>1236697</td><td>1871471</td><td>1814218</td><td>1875146</td><td>1752387</td><td>1913275</td><td>1665877</td><td>1491604</td><td>1178355</td><td>1383978</td><td>1330736</td></tr>\n",
       "\t<tr><td>C</td><td>Connecticut         </td><td>1610512</td><td>1232844</td><td>1181949</td><td>1518933</td><td>1841266</td><td>1976976</td><td>1764457</td><td>1972730</td><td>1968730</td><td>1945524</td><td>1228529</td><td>1582249</td><td>1503156</td><td>1718072</td></tr>\n",
       "\t<tr><td>D</td><td>Delaware            </td><td>1330403</td><td>1268673</td><td>1706751</td><td>1403759</td><td>1441351</td><td>1300836</td><td>1762096</td><td>1553585</td><td>1370984</td><td>1318669</td><td>1984027</td><td>1671279</td><td>1803169</td><td>1627508</td></tr>\n",
       "\t<tr><td>D</td><td>District of Columbia</td><td>1111437</td><td>1993741</td><td>1374643</td><td>1827949</td><td>1803852</td><td>1595981</td><td>1193245</td><td>1739748</td><td>1707823</td><td>1353449</td><td>1979708</td><td>1912654</td><td>1782169</td><td>1410183</td></tr>\n",
       "\t<tr><td>F</td><td>Florida             </td><td>1964626</td><td>1468852</td><td>1419738</td><td>1362787</td><td>1339608</td><td>1278550</td><td>1756185</td><td>1818438</td><td>1198403</td><td>1497051</td><td>1131928</td><td>1107448</td><td>1407784</td><td>1170389</td></tr>\n",
       "\t<tr><td>G</td><td>Georgia             </td><td>1929009</td><td>1541565</td><td>1810773</td><td>1779091</td><td>1326846</td><td>1223770</td><td>1773090</td><td>1630325</td><td>1145473</td><td>1851245</td><td>1850111</td><td>1887157</td><td>1259353</td><td>1725470</td></tr>\n",
       "\t<tr><td>H</td><td>Hawaii              </td><td>1461570</td><td>1200280</td><td>1213993</td><td>1245931</td><td>1459383</td><td>1430465</td><td>1919423</td><td>1928416</td><td>1330509</td><td>1902816</td><td>1695126</td><td>1517184</td><td>1948108</td><td>1150882</td></tr>\n",
       "\t<tr><td>I</td><td>Idaho               </td><td>1353210</td><td>1438538</td><td>1739154</td><td>1541015</td><td>1122387</td><td>1772050</td><td>1335481</td><td>1748608</td><td>1436809</td><td>1456340</td><td>1643855</td><td>1312561</td><td>1713718</td><td>1757171</td></tr>\n",
       "\t<tr><td>I</td><td>Indiana             </td><td>1776918</td><td>1734104</td><td>1269927</td><td>1204117</td><td>1848073</td><td>1129546</td><td>1139551</td><td>1883976</td><td>1999102</td><td>1559924</td><td>1905760</td><td>1129794</td><td>1988394</td><td>1467614</td></tr>\n",
       "\t<tr><td>I</td><td>Illinois            </td><td>1508356</td><td>1527440</td><td>1493029</td><td>1261353</td><td>1540274</td><td>1747614</td><td>1871645</td><td>1658551</td><td>1422021</td><td>1751422</td><td>1696729</td><td>1915435</td><td>1645465</td><td>1583516</td></tr>\n",
       "\t<tr><td>I</td><td>Iowa                </td><td>1499269</td><td>1444576</td><td>1576367</td><td>1388924</td><td>1554813</td><td>1452911</td><td>1317983</td><td>1150783</td><td>1751389</td><td>1992996</td><td>1501879</td><td>1173694</td><td>1431705</td><td>1641866</td></tr>\n",
       "\t<tr><td>K</td><td>Kansas              </td><td>1509054</td><td>1290700</td><td>1522230</td><td>1532094</td><td>1104256</td><td>1863278</td><td>1949478</td><td>1561528</td><td>1550433</td><td>1465812</td><td>1882929</td><td>1410249</td><td>1930090</td><td>1385528</td></tr>\n",
       "\t<tr><td>K</td><td>Kentucky            </td><td>1813878</td><td>1448846</td><td>1800760</td><td>1250524</td><td>1137913</td><td>1911227</td><td>1301848</td><td>1956681</td><td>1350895</td><td>1512894</td><td>1916616</td><td>1878271</td><td>1722762</td><td>1913350</td></tr>\n",
       "\t<tr><td>L</td><td>Louisiana           </td><td>1584734</td><td>1110625</td><td>1868456</td><td>1751920</td><td>1233709</td><td>1920301</td><td>1185085</td><td>1124853</td><td>1498662</td><td>1210385</td><td>1234234</td><td>1287663</td><td>1908602</td><td>1403857</td></tr>\n",
       "\t<tr><td>M</td><td>Michigan            </td><td>1295635</td><td>1149931</td><td>1601027</td><td>1340716</td><td>1729449</td><td>1567494</td><td>1990431</td><td>1575185</td><td>1267626</td><td>1274673</td><td>1709853</td><td>1815596</td><td>1965196</td><td>1646634</td></tr>\n",
       "\t<tr><td>M</td><td>Missouri            </td><td>1221316</td><td>1858368</td><td>1773451</td><td>1573967</td><td>1374863</td><td>1486197</td><td>1735099</td><td>1800620</td><td>1164202</td><td>1425363</td><td>1800052</td><td>1698105</td><td>1767835</td><td>1996005</td></tr>\n",
       "\t<tr><td>M</td><td>Montana             </td><td>1877154</td><td>1540099</td><td>1332722</td><td>1273327</td><td>1625721</td><td>1983568</td><td>1251742</td><td>1592690</td><td>1350619</td><td>1520064</td><td>1185225</td><td>1465705</td><td>1110394</td><td>1125903</td></tr>\n",
       "\t<tr><td>M</td><td>Minnesota           </td><td>1729921</td><td>1675204</td><td>1903907</td><td>1561839</td><td>1985692</td><td>1148621</td><td>1328133</td><td>1890633</td><td>1995304</td><td>1575533</td><td>1910216</td><td>1972021</td><td>1515366</td><td>1864553</td></tr>\n",
       "\t<tr><td>M</td><td>Mississippi         </td><td>1983285</td><td>1292558</td><td>1631325</td><td>1943311</td><td>1354579</td><td>1731643</td><td>1428291</td><td>1568049</td><td>1383227</td><td>1629132</td><td>1988270</td><td>1907777</td><td>1649668</td><td>1991232</td></tr>\n",
       "\t<tr><td>M</td><td>Massachusetts       </td><td>1647582</td><td>1686259</td><td>1620601</td><td>1777250</td><td>1531641</td><td>1380529</td><td>1978904</td><td>1567651</td><td>1761048</td><td>1658538</td><td>1482203</td><td>1731917</td><td>1669749</td><td>1963337</td></tr>\n",
       "\t<tr><td>M</td><td>Maine               </td><td>1582720</td><td>1678622</td><td>1208496</td><td>1912040</td><td>1438549</td><td>1330014</td><td>1295877</td><td>1969163</td><td>1627262</td><td>1706080</td><td>1437088</td><td>1318546</td><td>1116792</td><td>1529233</td></tr>\n",
       "\t<tr><td>M</td><td>Maryland            </td><td>1579713</td><td>1404700</td><td>1849798</td><td>1397738</td><td>1310270</td><td>1789128</td><td>1112765</td><td>1967225</td><td>1486246</td><td>1872327</td><td>1175819</td><td>1314343</td><td>1979529</td><td>1569566</td></tr>\n",
       "\t<tr><td>N</td><td>Nevada              </td><td>1426117</td><td>1114500</td><td>1119707</td><td>1758830</td><td>1694526</td><td>1765826</td><td>1903270</td><td>1231480</td><td>1526066</td><td>1143343</td><td>1980195</td><td>1283813</td><td>1225348</td><td>1903804</td></tr>\n",
       "\t<tr><td>N</td><td>Nebraska            </td><td>1885081</td><td>1309769</td><td>1425527</td><td>1240465</td><td>1500594</td><td>1278272</td><td>1140598</td><td>1270585</td><td>1128711</td><td>1187207</td><td>1569665</td><td>1690920</td><td>1459243</td><td>1802211</td></tr>\n",
       "\t<tr><td>N</td><td>North Dakota        </td><td>1618807</td><td>1510193</td><td>1876940</td><td>1443172</td><td>1425030</td><td>1868788</td><td>1720352</td><td>1671468</td><td>1534571</td><td>1271132</td><td>1430978</td><td>1529024</td><td>1563898</td><td>1604118</td></tr>\n",
       "\t<tr><td>N</td><td>New Jersey          </td><td>1605532</td><td>1141514</td><td>1613550</td><td>1181452</td><td>1541327</td><td>1156804</td><td>1568034</td><td>1357418</td><td>1443718</td><td>1390010</td><td>1202326</td><td>1100990</td><td>1850165</td><td>1183568</td></tr>\n",
       "\t<tr><td>N</td><td>North Carolina      </td><td>1616742</td><td>1292223</td><td>1482792</td><td>1532347</td><td>1158716</td><td>1827420</td><td>1267737</td><td>1116168</td><td>1791535</td><td>1553750</td><td>1472258</td><td>1104893</td><td>1596452</td><td>1229085</td></tr>\n",
       "\t<tr><td>N</td><td>New Mexico          </td><td>1819239</td><td>1226057</td><td>1935991</td><td>1124400</td><td>1723493</td><td>1475985</td><td>1237704</td><td>1820856</td><td>1801430</td><td>1653384</td><td>1475715</td><td>1623388</td><td>1533494</td><td>1868612</td></tr>\n",
       "\t<tr><td>N</td><td>New York            </td><td>1395149</td><td>1611371</td><td>1170675</td><td>1446810</td><td>1426941</td><td>1463171</td><td>1732098</td><td>1426216</td><td>1604531</td><td>1683687</td><td>1500089</td><td>1718837</td><td>1619033</td><td>1367705</td></tr>\n",
       "\t<tr><td>N</td><td>New Hampshire       </td><td>1419776</td><td>1854370</td><td>1195119</td><td>1990062</td><td>1645430</td><td>1286967</td><td>1762936</td><td>1763211</td><td>1265642</td><td>1704297</td><td>1131298</td><td>1197576</td><td>1242623</td><td>1963313</td></tr>\n",
       "\t<tr><td>O</td><td>Oklahoma            </td><td>1173918</td><td>1334639</td><td>1663622</td><td>1798714</td><td>1312574</td><td>1708245</td><td>1256746</td><td>1853142</td><td>1673831</td><td>1822933</td><td>1674707</td><td>1900523</td><td>1956742</td><td>1307678</td></tr>\n",
       "\t<tr><td>O</td><td>Ohio                </td><td>1802132</td><td>1648498</td><td>1441386</td><td>1670280</td><td>1534888</td><td>1314824</td><td>1516621</td><td>1511460</td><td>1585465</td><td>1887714</td><td>1227303</td><td>1840898</td><td>1880804</td><td>1573117</td></tr>\n",
       "\t<tr><td>O</td><td>Oregon              </td><td>1794912</td><td>1726665</td><td>1805445</td><td>1133510</td><td>1502242</td><td>1419251</td><td>1482786</td><td>1862351</td><td>1103794</td><td>1935687</td><td>1905378</td><td>1522129</td><td>1509171</td><td>1893515</td></tr>\n",
       "\t<tr><td>P</td><td>Pennsylvania        </td><td>1320191</td><td>1446723</td><td>1218591</td><td>1122030</td><td>1971479</td><td>1563062</td><td>1274168</td><td>1571032</td><td>1433835</td><td>1483292</td><td>1290329</td><td>1475344</td><td>1931500</td><td>1668232</td></tr>\n",
       "\t<tr><td>R</td><td>Rhode Island        </td><td>1501744</td><td>1942942</td><td>1266657</td><td>1961923</td><td>1835983</td><td>1234040</td><td>1151409</td><td>1993136</td><td>1983569</td><td>1781016</td><td>1909119</td><td>1531212</td><td>1990412</td><td>1611730</td></tr>\n",
       "\t<tr><td>S</td><td>South Carolina      </td><td>1631522</td><td>1803455</td><td>1425193</td><td>1458191</td><td>1538731</td><td>1825195</td><td>1250499</td><td>1864685</td><td>1345102</td><td>1116203</td><td>1532332</td><td>1591735</td><td>1188417</td><td>1110655</td></tr>\n",
       "\t<tr><td>S</td><td>South Dakota        </td><td>1159037</td><td>1150689</td><td>1660148</td><td>1417141</td><td>1418586</td><td>1279134</td><td>1171870</td><td>1852424</td><td>1554782</td><td>1647245</td><td>1811156</td><td>1147488</td><td>1302834</td><td>1136443</td></tr>\n",
       "\t<tr><td>T</td><td>Tennessee           </td><td>1811867</td><td>1485909</td><td>1974179</td><td>1157059</td><td>1786132</td><td>1399191</td><td>1826406</td><td>1326460</td><td>1231739</td><td>1469785</td><td>1849041</td><td>1560887</td><td>1349173</td><td>1162164</td></tr>\n",
       "\t<tr><td>T</td><td>Texas               </td><td>1520591</td><td>1310777</td><td>1957713</td><td>1907326</td><td>1873544</td><td>1655483</td><td>1785986</td><td>1827503</td><td>1447457</td><td>1978374</td><td>1882532</td><td>1698698</td><td>1646508</td><td>1705322</td></tr>\n",
       "\t<tr><td>U</td><td>Utah                </td><td>1771096</td><td>1195861</td><td>1979395</td><td>1241662</td><td>1437456</td><td>1859416</td><td>1939284</td><td>1915865</td><td>1619186</td><td>1288285</td><td>1108281</td><td>1123353</td><td>1801019</td><td>1729273</td></tr>\n",
       "\t<tr><td>V</td><td>Virginia            </td><td>1134317</td><td>1163996</td><td>1891068</td><td>1853855</td><td>1708715</td><td>1197698</td><td>1803330</td><td>1590043</td><td>1516758</td><td>1171686</td><td>1262342</td><td>1647032</td><td>1706707</td><td>1850394</td></tr>\n",
       "\t<tr><td>V</td><td>Vermont             </td><td>1146902</td><td>1832249</td><td>1492704</td><td>1579265</td><td>1332048</td><td>1563537</td><td>1123567</td><td>1618583</td><td>1326369</td><td>1792600</td><td>1714960</td><td>1146278</td><td>1282790</td><td>1565924</td></tr>\n",
       "\t<tr><td>W</td><td>Washington          </td><td>1977749</td><td>1687136</td><td>1199490</td><td>1163092</td><td>1334864</td><td>1621989</td><td>1545621</td><td>1555554</td><td>1179331</td><td>1150089</td><td>1775787</td><td>1273834</td><td>1387428</td><td>1377341</td></tr>\n",
       "\t<tr><td>W</td><td>West Virginia       </td><td>1677347</td><td>1380662</td><td>1176100</td><td>1888948</td><td>1922085</td><td>1740826</td><td>1238174</td><td>1539322</td><td>1539603</td><td>1872519</td><td>1462137</td><td>1683127</td><td>1204344</td><td>1198791</td></tr>\n",
       "\t<tr><td>W</td><td>Wyoming             </td><td>1775190</td><td>1498098</td><td>1198212</td><td>1881688</td><td>1750527</td><td>1523124</td><td>1587602</td><td>1504455</td><td>1282142</td><td>1881814</td><td>1673668</td><td>1994022</td><td>1204029</td><td>1853858</td></tr>\n",
       "\t<tr><td>W</td><td>Wisconsin           </td><td>1788920</td><td>1518578</td><td>1289663</td><td>1436888</td><td>1251678</td><td>1721874</td><td>1980167</td><td>1901394</td><td>1648755</td><td>1940943</td><td>1729177</td><td>1510119</td><td>1701650</td><td>1846238</td></tr>\n",
       "</tbody>\n",
       "</table>\n"
      ],
      "text/latex": [
       "A data.frame: 51 × 16\n",
       "\\begin{tabular}{r|llllllllllllllll}\n",
       " Index & State & Y2002 & Y2003 & Y2004 & Y2005 & Y2006 & Y2007 & Y2008 & Y2009 & Y2010 & Y2011 & Y2012 & Y2013 & Y2014 & Y2015\\\\\n",
       " <fct> & <fct> & <int> & <int> & <int> & <int> & <int> & <int> & <int> & <int> & <int> & <int> & <int> & <int> & <int> & <int>\\\\\n",
       "\\hline\n",
       "\t A & Arizona              & 1742027 & 1968140 & 1377583 & 1782199 & 1102568 & 1109382 & 1752886 & 1554330 & 1300521 & 1130709 & 1907284 & 1363279 & 1525866 & 1647724\\\\\n",
       "\t A & Alaska               & 1170302 & 1960378 & 1818085 & 1447852 & 1861639 & 1465841 & 1551826 & 1436541 & 1629616 & 1230866 & 1512804 & 1985302 & 1580394 & 1979143\\\\\n",
       "\t A & Alabama              & 1296530 & 1317711 & 1118631 & 1492583 & 1107408 & 1440134 & 1945229 & 1944173 & 1237582 & 1440756 & 1186741 & 1852841 & 1558906 & 1916661\\\\\n",
       "\t A & Arkansas             & 1485531 & 1994927 & 1119299 & 1947979 & 1669191 & 1801213 & 1188104 & 1628980 & 1669295 & 1928238 & 1216675 & 1591896 & 1360959 & 1329341\\\\\n",
       "\t C & California           & 1685349 & 1675807 & 1889570 & 1480280 & 1735069 & 1812546 & 1487315 & 1663809 & 1624509 & 1639670 & 1921845 & 1156536 & 1388461 & 1644607\\\\\n",
       "\t C & Colorado             & 1343824 & 1878473 & 1886149 & 1236697 & 1871471 & 1814218 & 1875146 & 1752387 & 1913275 & 1665877 & 1491604 & 1178355 & 1383978 & 1330736\\\\\n",
       "\t C & Connecticut          & 1610512 & 1232844 & 1181949 & 1518933 & 1841266 & 1976976 & 1764457 & 1972730 & 1968730 & 1945524 & 1228529 & 1582249 & 1503156 & 1718072\\\\\n",
       "\t D & Delaware             & 1330403 & 1268673 & 1706751 & 1403759 & 1441351 & 1300836 & 1762096 & 1553585 & 1370984 & 1318669 & 1984027 & 1671279 & 1803169 & 1627508\\\\\n",
       "\t D & District of Columbia & 1111437 & 1993741 & 1374643 & 1827949 & 1803852 & 1595981 & 1193245 & 1739748 & 1707823 & 1353449 & 1979708 & 1912654 & 1782169 & 1410183\\\\\n",
       "\t F & Florida              & 1964626 & 1468852 & 1419738 & 1362787 & 1339608 & 1278550 & 1756185 & 1818438 & 1198403 & 1497051 & 1131928 & 1107448 & 1407784 & 1170389\\\\\n",
       "\t G & Georgia              & 1929009 & 1541565 & 1810773 & 1779091 & 1326846 & 1223770 & 1773090 & 1630325 & 1145473 & 1851245 & 1850111 & 1887157 & 1259353 & 1725470\\\\\n",
       "\t H & Hawaii               & 1461570 & 1200280 & 1213993 & 1245931 & 1459383 & 1430465 & 1919423 & 1928416 & 1330509 & 1902816 & 1695126 & 1517184 & 1948108 & 1150882\\\\\n",
       "\t I & Idaho                & 1353210 & 1438538 & 1739154 & 1541015 & 1122387 & 1772050 & 1335481 & 1748608 & 1436809 & 1456340 & 1643855 & 1312561 & 1713718 & 1757171\\\\\n",
       "\t I & Indiana              & 1776918 & 1734104 & 1269927 & 1204117 & 1848073 & 1129546 & 1139551 & 1883976 & 1999102 & 1559924 & 1905760 & 1129794 & 1988394 & 1467614\\\\\n",
       "\t I & Illinois             & 1508356 & 1527440 & 1493029 & 1261353 & 1540274 & 1747614 & 1871645 & 1658551 & 1422021 & 1751422 & 1696729 & 1915435 & 1645465 & 1583516\\\\\n",
       "\t I & Iowa                 & 1499269 & 1444576 & 1576367 & 1388924 & 1554813 & 1452911 & 1317983 & 1150783 & 1751389 & 1992996 & 1501879 & 1173694 & 1431705 & 1641866\\\\\n",
       "\t K & Kansas               & 1509054 & 1290700 & 1522230 & 1532094 & 1104256 & 1863278 & 1949478 & 1561528 & 1550433 & 1465812 & 1882929 & 1410249 & 1930090 & 1385528\\\\\n",
       "\t K & Kentucky             & 1813878 & 1448846 & 1800760 & 1250524 & 1137913 & 1911227 & 1301848 & 1956681 & 1350895 & 1512894 & 1916616 & 1878271 & 1722762 & 1913350\\\\\n",
       "\t L & Louisiana            & 1584734 & 1110625 & 1868456 & 1751920 & 1233709 & 1920301 & 1185085 & 1124853 & 1498662 & 1210385 & 1234234 & 1287663 & 1908602 & 1403857\\\\\n",
       "\t M & Michigan             & 1295635 & 1149931 & 1601027 & 1340716 & 1729449 & 1567494 & 1990431 & 1575185 & 1267626 & 1274673 & 1709853 & 1815596 & 1965196 & 1646634\\\\\n",
       "\t M & Missouri             & 1221316 & 1858368 & 1773451 & 1573967 & 1374863 & 1486197 & 1735099 & 1800620 & 1164202 & 1425363 & 1800052 & 1698105 & 1767835 & 1996005\\\\\n",
       "\t M & Montana              & 1877154 & 1540099 & 1332722 & 1273327 & 1625721 & 1983568 & 1251742 & 1592690 & 1350619 & 1520064 & 1185225 & 1465705 & 1110394 & 1125903\\\\\n",
       "\t M & Minnesota            & 1729921 & 1675204 & 1903907 & 1561839 & 1985692 & 1148621 & 1328133 & 1890633 & 1995304 & 1575533 & 1910216 & 1972021 & 1515366 & 1864553\\\\\n",
       "\t M & Mississippi          & 1983285 & 1292558 & 1631325 & 1943311 & 1354579 & 1731643 & 1428291 & 1568049 & 1383227 & 1629132 & 1988270 & 1907777 & 1649668 & 1991232\\\\\n",
       "\t M & Massachusetts        & 1647582 & 1686259 & 1620601 & 1777250 & 1531641 & 1380529 & 1978904 & 1567651 & 1761048 & 1658538 & 1482203 & 1731917 & 1669749 & 1963337\\\\\n",
       "\t M & Maine                & 1582720 & 1678622 & 1208496 & 1912040 & 1438549 & 1330014 & 1295877 & 1969163 & 1627262 & 1706080 & 1437088 & 1318546 & 1116792 & 1529233\\\\\n",
       "\t M & Maryland             & 1579713 & 1404700 & 1849798 & 1397738 & 1310270 & 1789128 & 1112765 & 1967225 & 1486246 & 1872327 & 1175819 & 1314343 & 1979529 & 1569566\\\\\n",
       "\t N & Nevada               & 1426117 & 1114500 & 1119707 & 1758830 & 1694526 & 1765826 & 1903270 & 1231480 & 1526066 & 1143343 & 1980195 & 1283813 & 1225348 & 1903804\\\\\n",
       "\t N & Nebraska             & 1885081 & 1309769 & 1425527 & 1240465 & 1500594 & 1278272 & 1140598 & 1270585 & 1128711 & 1187207 & 1569665 & 1690920 & 1459243 & 1802211\\\\\n",
       "\t N & North Dakota         & 1618807 & 1510193 & 1876940 & 1443172 & 1425030 & 1868788 & 1720352 & 1671468 & 1534571 & 1271132 & 1430978 & 1529024 & 1563898 & 1604118\\\\\n",
       "\t N & New Jersey           & 1605532 & 1141514 & 1613550 & 1181452 & 1541327 & 1156804 & 1568034 & 1357418 & 1443718 & 1390010 & 1202326 & 1100990 & 1850165 & 1183568\\\\\n",
       "\t N & North Carolina       & 1616742 & 1292223 & 1482792 & 1532347 & 1158716 & 1827420 & 1267737 & 1116168 & 1791535 & 1553750 & 1472258 & 1104893 & 1596452 & 1229085\\\\\n",
       "\t N & New Mexico           & 1819239 & 1226057 & 1935991 & 1124400 & 1723493 & 1475985 & 1237704 & 1820856 & 1801430 & 1653384 & 1475715 & 1623388 & 1533494 & 1868612\\\\\n",
       "\t N & New York             & 1395149 & 1611371 & 1170675 & 1446810 & 1426941 & 1463171 & 1732098 & 1426216 & 1604531 & 1683687 & 1500089 & 1718837 & 1619033 & 1367705\\\\\n",
       "\t N & New Hampshire        & 1419776 & 1854370 & 1195119 & 1990062 & 1645430 & 1286967 & 1762936 & 1763211 & 1265642 & 1704297 & 1131298 & 1197576 & 1242623 & 1963313\\\\\n",
       "\t O & Oklahoma             & 1173918 & 1334639 & 1663622 & 1798714 & 1312574 & 1708245 & 1256746 & 1853142 & 1673831 & 1822933 & 1674707 & 1900523 & 1956742 & 1307678\\\\\n",
       "\t O & Ohio                 & 1802132 & 1648498 & 1441386 & 1670280 & 1534888 & 1314824 & 1516621 & 1511460 & 1585465 & 1887714 & 1227303 & 1840898 & 1880804 & 1573117\\\\\n",
       "\t O & Oregon               & 1794912 & 1726665 & 1805445 & 1133510 & 1502242 & 1419251 & 1482786 & 1862351 & 1103794 & 1935687 & 1905378 & 1522129 & 1509171 & 1893515\\\\\n",
       "\t P & Pennsylvania         & 1320191 & 1446723 & 1218591 & 1122030 & 1971479 & 1563062 & 1274168 & 1571032 & 1433835 & 1483292 & 1290329 & 1475344 & 1931500 & 1668232\\\\\n",
       "\t R & Rhode Island         & 1501744 & 1942942 & 1266657 & 1961923 & 1835983 & 1234040 & 1151409 & 1993136 & 1983569 & 1781016 & 1909119 & 1531212 & 1990412 & 1611730\\\\\n",
       "\t S & South Carolina       & 1631522 & 1803455 & 1425193 & 1458191 & 1538731 & 1825195 & 1250499 & 1864685 & 1345102 & 1116203 & 1532332 & 1591735 & 1188417 & 1110655\\\\\n",
       "\t S & South Dakota         & 1159037 & 1150689 & 1660148 & 1417141 & 1418586 & 1279134 & 1171870 & 1852424 & 1554782 & 1647245 & 1811156 & 1147488 & 1302834 & 1136443\\\\\n",
       "\t T & Tennessee            & 1811867 & 1485909 & 1974179 & 1157059 & 1786132 & 1399191 & 1826406 & 1326460 & 1231739 & 1469785 & 1849041 & 1560887 & 1349173 & 1162164\\\\\n",
       "\t T & Texas                & 1520591 & 1310777 & 1957713 & 1907326 & 1873544 & 1655483 & 1785986 & 1827503 & 1447457 & 1978374 & 1882532 & 1698698 & 1646508 & 1705322\\\\\n",
       "\t U & Utah                 & 1771096 & 1195861 & 1979395 & 1241662 & 1437456 & 1859416 & 1939284 & 1915865 & 1619186 & 1288285 & 1108281 & 1123353 & 1801019 & 1729273\\\\\n",
       "\t V & Virginia             & 1134317 & 1163996 & 1891068 & 1853855 & 1708715 & 1197698 & 1803330 & 1590043 & 1516758 & 1171686 & 1262342 & 1647032 & 1706707 & 1850394\\\\\n",
       "\t V & Vermont              & 1146902 & 1832249 & 1492704 & 1579265 & 1332048 & 1563537 & 1123567 & 1618583 & 1326369 & 1792600 & 1714960 & 1146278 & 1282790 & 1565924\\\\\n",
       "\t W & Washington           & 1977749 & 1687136 & 1199490 & 1163092 & 1334864 & 1621989 & 1545621 & 1555554 & 1179331 & 1150089 & 1775787 & 1273834 & 1387428 & 1377341\\\\\n",
       "\t W & West Virginia        & 1677347 & 1380662 & 1176100 & 1888948 & 1922085 & 1740826 & 1238174 & 1539322 & 1539603 & 1872519 & 1462137 & 1683127 & 1204344 & 1198791\\\\\n",
       "\t W & Wyoming              & 1775190 & 1498098 & 1198212 & 1881688 & 1750527 & 1523124 & 1587602 & 1504455 & 1282142 & 1881814 & 1673668 & 1994022 & 1204029 & 1853858\\\\\n",
       "\t W & Wisconsin            & 1788920 & 1518578 & 1289663 & 1436888 & 1251678 & 1721874 & 1980167 & 1901394 & 1648755 & 1940943 & 1729177 & 1510119 & 1701650 & 1846238\\\\\n",
       "\\end{tabular}\n"
      ],
      "text/markdown": [
       "\n",
       "A data.frame: 51 × 16\n",
       "\n",
       "| Index &lt;fct&gt; | State &lt;fct&gt; | Y2002 &lt;int&gt; | Y2003 &lt;int&gt; | Y2004 &lt;int&gt; | Y2005 &lt;int&gt; | Y2006 &lt;int&gt; | Y2007 &lt;int&gt; | Y2008 &lt;int&gt; | Y2009 &lt;int&gt; | Y2010 &lt;int&gt; | Y2011 &lt;int&gt; | Y2012 &lt;int&gt; | Y2013 &lt;int&gt; | Y2014 &lt;int&gt; | Y2015 &lt;int&gt; |\n",
       "|---|---|---|---|---|---|---|---|---|---|---|---|---|---|---|---|\n",
       "| A | Arizona              | 1742027 | 1968140 | 1377583 | 1782199 | 1102568 | 1109382 | 1752886 | 1554330 | 1300521 | 1130709 | 1907284 | 1363279 | 1525866 | 1647724 |\n",
       "| A | Alaska               | 1170302 | 1960378 | 1818085 | 1447852 | 1861639 | 1465841 | 1551826 | 1436541 | 1629616 | 1230866 | 1512804 | 1985302 | 1580394 | 1979143 |\n",
       "| A | Alabama              | 1296530 | 1317711 | 1118631 | 1492583 | 1107408 | 1440134 | 1945229 | 1944173 | 1237582 | 1440756 | 1186741 | 1852841 | 1558906 | 1916661 |\n",
       "| A | Arkansas             | 1485531 | 1994927 | 1119299 | 1947979 | 1669191 | 1801213 | 1188104 | 1628980 | 1669295 | 1928238 | 1216675 | 1591896 | 1360959 | 1329341 |\n",
       "| C | California           | 1685349 | 1675807 | 1889570 | 1480280 | 1735069 | 1812546 | 1487315 | 1663809 | 1624509 | 1639670 | 1921845 | 1156536 | 1388461 | 1644607 |\n",
       "| C | Colorado             | 1343824 | 1878473 | 1886149 | 1236697 | 1871471 | 1814218 | 1875146 | 1752387 | 1913275 | 1665877 | 1491604 | 1178355 | 1383978 | 1330736 |\n",
       "| C | Connecticut          | 1610512 | 1232844 | 1181949 | 1518933 | 1841266 | 1976976 | 1764457 | 1972730 | 1968730 | 1945524 | 1228529 | 1582249 | 1503156 | 1718072 |\n",
       "| D | Delaware             | 1330403 | 1268673 | 1706751 | 1403759 | 1441351 | 1300836 | 1762096 | 1553585 | 1370984 | 1318669 | 1984027 | 1671279 | 1803169 | 1627508 |\n",
       "| D | District of Columbia | 1111437 | 1993741 | 1374643 | 1827949 | 1803852 | 1595981 | 1193245 | 1739748 | 1707823 | 1353449 | 1979708 | 1912654 | 1782169 | 1410183 |\n",
       "| F | Florida              | 1964626 | 1468852 | 1419738 | 1362787 | 1339608 | 1278550 | 1756185 | 1818438 | 1198403 | 1497051 | 1131928 | 1107448 | 1407784 | 1170389 |\n",
       "| G | Georgia              | 1929009 | 1541565 | 1810773 | 1779091 | 1326846 | 1223770 | 1773090 | 1630325 | 1145473 | 1851245 | 1850111 | 1887157 | 1259353 | 1725470 |\n",
       "| H | Hawaii               | 1461570 | 1200280 | 1213993 | 1245931 | 1459383 | 1430465 | 1919423 | 1928416 | 1330509 | 1902816 | 1695126 | 1517184 | 1948108 | 1150882 |\n",
       "| I | Idaho                | 1353210 | 1438538 | 1739154 | 1541015 | 1122387 | 1772050 | 1335481 | 1748608 | 1436809 | 1456340 | 1643855 | 1312561 | 1713718 | 1757171 |\n",
       "| I | Indiana              | 1776918 | 1734104 | 1269927 | 1204117 | 1848073 | 1129546 | 1139551 | 1883976 | 1999102 | 1559924 | 1905760 | 1129794 | 1988394 | 1467614 |\n",
       "| I | Illinois             | 1508356 | 1527440 | 1493029 | 1261353 | 1540274 | 1747614 | 1871645 | 1658551 | 1422021 | 1751422 | 1696729 | 1915435 | 1645465 | 1583516 |\n",
       "| I | Iowa                 | 1499269 | 1444576 | 1576367 | 1388924 | 1554813 | 1452911 | 1317983 | 1150783 | 1751389 | 1992996 | 1501879 | 1173694 | 1431705 | 1641866 |\n",
       "| K | Kansas               | 1509054 | 1290700 | 1522230 | 1532094 | 1104256 | 1863278 | 1949478 | 1561528 | 1550433 | 1465812 | 1882929 | 1410249 | 1930090 | 1385528 |\n",
       "| K | Kentucky             | 1813878 | 1448846 | 1800760 | 1250524 | 1137913 | 1911227 | 1301848 | 1956681 | 1350895 | 1512894 | 1916616 | 1878271 | 1722762 | 1913350 |\n",
       "| L | Louisiana            | 1584734 | 1110625 | 1868456 | 1751920 | 1233709 | 1920301 | 1185085 | 1124853 | 1498662 | 1210385 | 1234234 | 1287663 | 1908602 | 1403857 |\n",
       "| M | Michigan             | 1295635 | 1149931 | 1601027 | 1340716 | 1729449 | 1567494 | 1990431 | 1575185 | 1267626 | 1274673 | 1709853 | 1815596 | 1965196 | 1646634 |\n",
       "| M | Missouri             | 1221316 | 1858368 | 1773451 | 1573967 | 1374863 | 1486197 | 1735099 | 1800620 | 1164202 | 1425363 | 1800052 | 1698105 | 1767835 | 1996005 |\n",
       "| M | Montana              | 1877154 | 1540099 | 1332722 | 1273327 | 1625721 | 1983568 | 1251742 | 1592690 | 1350619 | 1520064 | 1185225 | 1465705 | 1110394 | 1125903 |\n",
       "| M | Minnesota            | 1729921 | 1675204 | 1903907 | 1561839 | 1985692 | 1148621 | 1328133 | 1890633 | 1995304 | 1575533 | 1910216 | 1972021 | 1515366 | 1864553 |\n",
       "| M | Mississippi          | 1983285 | 1292558 | 1631325 | 1943311 | 1354579 | 1731643 | 1428291 | 1568049 | 1383227 | 1629132 | 1988270 | 1907777 | 1649668 | 1991232 |\n",
       "| M | Massachusetts        | 1647582 | 1686259 | 1620601 | 1777250 | 1531641 | 1380529 | 1978904 | 1567651 | 1761048 | 1658538 | 1482203 | 1731917 | 1669749 | 1963337 |\n",
       "| M | Maine                | 1582720 | 1678622 | 1208496 | 1912040 | 1438549 | 1330014 | 1295877 | 1969163 | 1627262 | 1706080 | 1437088 | 1318546 | 1116792 | 1529233 |\n",
       "| M | Maryland             | 1579713 | 1404700 | 1849798 | 1397738 | 1310270 | 1789128 | 1112765 | 1967225 | 1486246 | 1872327 | 1175819 | 1314343 | 1979529 | 1569566 |\n",
       "| N | Nevada               | 1426117 | 1114500 | 1119707 | 1758830 | 1694526 | 1765826 | 1903270 | 1231480 | 1526066 | 1143343 | 1980195 | 1283813 | 1225348 | 1903804 |\n",
       "| N | Nebraska             | 1885081 | 1309769 | 1425527 | 1240465 | 1500594 | 1278272 | 1140598 | 1270585 | 1128711 | 1187207 | 1569665 | 1690920 | 1459243 | 1802211 |\n",
       "| N | North Dakota         | 1618807 | 1510193 | 1876940 | 1443172 | 1425030 | 1868788 | 1720352 | 1671468 | 1534571 | 1271132 | 1430978 | 1529024 | 1563898 | 1604118 |\n",
       "| N | New Jersey           | 1605532 | 1141514 | 1613550 | 1181452 | 1541327 | 1156804 | 1568034 | 1357418 | 1443718 | 1390010 | 1202326 | 1100990 | 1850165 | 1183568 |\n",
       "| N | North Carolina       | 1616742 | 1292223 | 1482792 | 1532347 | 1158716 | 1827420 | 1267737 | 1116168 | 1791535 | 1553750 | 1472258 | 1104893 | 1596452 | 1229085 |\n",
       "| N | New Mexico           | 1819239 | 1226057 | 1935991 | 1124400 | 1723493 | 1475985 | 1237704 | 1820856 | 1801430 | 1653384 | 1475715 | 1623388 | 1533494 | 1868612 |\n",
       "| N | New York             | 1395149 | 1611371 | 1170675 | 1446810 | 1426941 | 1463171 | 1732098 | 1426216 | 1604531 | 1683687 | 1500089 | 1718837 | 1619033 | 1367705 |\n",
       "| N | New Hampshire        | 1419776 | 1854370 | 1195119 | 1990062 | 1645430 | 1286967 | 1762936 | 1763211 | 1265642 | 1704297 | 1131298 | 1197576 | 1242623 | 1963313 |\n",
       "| O | Oklahoma             | 1173918 | 1334639 | 1663622 | 1798714 | 1312574 | 1708245 | 1256746 | 1853142 | 1673831 | 1822933 | 1674707 | 1900523 | 1956742 | 1307678 |\n",
       "| O | Ohio                 | 1802132 | 1648498 | 1441386 | 1670280 | 1534888 | 1314824 | 1516621 | 1511460 | 1585465 | 1887714 | 1227303 | 1840898 | 1880804 | 1573117 |\n",
       "| O | Oregon               | 1794912 | 1726665 | 1805445 | 1133510 | 1502242 | 1419251 | 1482786 | 1862351 | 1103794 | 1935687 | 1905378 | 1522129 | 1509171 | 1893515 |\n",
       "| P | Pennsylvania         | 1320191 | 1446723 | 1218591 | 1122030 | 1971479 | 1563062 | 1274168 | 1571032 | 1433835 | 1483292 | 1290329 | 1475344 | 1931500 | 1668232 |\n",
       "| R | Rhode Island         | 1501744 | 1942942 | 1266657 | 1961923 | 1835983 | 1234040 | 1151409 | 1993136 | 1983569 | 1781016 | 1909119 | 1531212 | 1990412 | 1611730 |\n",
       "| S | South Carolina       | 1631522 | 1803455 | 1425193 | 1458191 | 1538731 | 1825195 | 1250499 | 1864685 | 1345102 | 1116203 | 1532332 | 1591735 | 1188417 | 1110655 |\n",
       "| S | South Dakota         | 1159037 | 1150689 | 1660148 | 1417141 | 1418586 | 1279134 | 1171870 | 1852424 | 1554782 | 1647245 | 1811156 | 1147488 | 1302834 | 1136443 |\n",
       "| T | Tennessee            | 1811867 | 1485909 | 1974179 | 1157059 | 1786132 | 1399191 | 1826406 | 1326460 | 1231739 | 1469785 | 1849041 | 1560887 | 1349173 | 1162164 |\n",
       "| T | Texas                | 1520591 | 1310777 | 1957713 | 1907326 | 1873544 | 1655483 | 1785986 | 1827503 | 1447457 | 1978374 | 1882532 | 1698698 | 1646508 | 1705322 |\n",
       "| U | Utah                 | 1771096 | 1195861 | 1979395 | 1241662 | 1437456 | 1859416 | 1939284 | 1915865 | 1619186 | 1288285 | 1108281 | 1123353 | 1801019 | 1729273 |\n",
       "| V | Virginia             | 1134317 | 1163996 | 1891068 | 1853855 | 1708715 | 1197698 | 1803330 | 1590043 | 1516758 | 1171686 | 1262342 | 1647032 | 1706707 | 1850394 |\n",
       "| V | Vermont              | 1146902 | 1832249 | 1492704 | 1579265 | 1332048 | 1563537 | 1123567 | 1618583 | 1326369 | 1792600 | 1714960 | 1146278 | 1282790 | 1565924 |\n",
       "| W | Washington           | 1977749 | 1687136 | 1199490 | 1163092 | 1334864 | 1621989 | 1545621 | 1555554 | 1179331 | 1150089 | 1775787 | 1273834 | 1387428 | 1377341 |\n",
       "| W | West Virginia        | 1677347 | 1380662 | 1176100 | 1888948 | 1922085 | 1740826 | 1238174 | 1539322 | 1539603 | 1872519 | 1462137 | 1683127 | 1204344 | 1198791 |\n",
       "| W | Wyoming              | 1775190 | 1498098 | 1198212 | 1881688 | 1750527 | 1523124 | 1587602 | 1504455 | 1282142 | 1881814 | 1673668 | 1994022 | 1204029 | 1853858 |\n",
       "| W | Wisconsin            | 1788920 | 1518578 | 1289663 | 1436888 | 1251678 | 1721874 | 1980167 | 1901394 | 1648755 | 1940943 | 1729177 | 1510119 | 1701650 | 1846238 |\n",
       "\n"
      ],
      "text/plain": [
       "   Index State                Y2002   Y2003   Y2004   Y2005   Y2006   Y2007  \n",
       "1  A     Arizona              1742027 1968140 1377583 1782199 1102568 1109382\n",
       "2  A     Alaska               1170302 1960378 1818085 1447852 1861639 1465841\n",
       "3  A     Alabama              1296530 1317711 1118631 1492583 1107408 1440134\n",
       "4  A     Arkansas             1485531 1994927 1119299 1947979 1669191 1801213\n",
       "5  C     California           1685349 1675807 1889570 1480280 1735069 1812546\n",
       "6  C     Colorado             1343824 1878473 1886149 1236697 1871471 1814218\n",
       "7  C     Connecticut          1610512 1232844 1181949 1518933 1841266 1976976\n",
       "8  D     Delaware             1330403 1268673 1706751 1403759 1441351 1300836\n",
       "9  D     District of Columbia 1111437 1993741 1374643 1827949 1803852 1595981\n",
       "10 F     Florida              1964626 1468852 1419738 1362787 1339608 1278550\n",
       "11 G     Georgia              1929009 1541565 1810773 1779091 1326846 1223770\n",
       "12 H     Hawaii               1461570 1200280 1213993 1245931 1459383 1430465\n",
       "13 I     Idaho                1353210 1438538 1739154 1541015 1122387 1772050\n",
       "14 I     Indiana              1776918 1734104 1269927 1204117 1848073 1129546\n",
       "15 I     Illinois             1508356 1527440 1493029 1261353 1540274 1747614\n",
       "16 I     Iowa                 1499269 1444576 1576367 1388924 1554813 1452911\n",
       "17 K     Kansas               1509054 1290700 1522230 1532094 1104256 1863278\n",
       "18 K     Kentucky             1813878 1448846 1800760 1250524 1137913 1911227\n",
       "19 L     Louisiana            1584734 1110625 1868456 1751920 1233709 1920301\n",
       "20 M     Michigan             1295635 1149931 1601027 1340716 1729449 1567494\n",
       "21 M     Missouri             1221316 1858368 1773451 1573967 1374863 1486197\n",
       "22 M     Montana              1877154 1540099 1332722 1273327 1625721 1983568\n",
       "23 M     Minnesota            1729921 1675204 1903907 1561839 1985692 1148621\n",
       "24 M     Mississippi          1983285 1292558 1631325 1943311 1354579 1731643\n",
       "25 M     Massachusetts        1647582 1686259 1620601 1777250 1531641 1380529\n",
       "26 M     Maine                1582720 1678622 1208496 1912040 1438549 1330014\n",
       "27 M     Maryland             1579713 1404700 1849798 1397738 1310270 1789128\n",
       "28 N     Nevada               1426117 1114500 1119707 1758830 1694526 1765826\n",
       "29 N     Nebraska             1885081 1309769 1425527 1240465 1500594 1278272\n",
       "30 N     North Dakota         1618807 1510193 1876940 1443172 1425030 1868788\n",
       "31 N     New Jersey           1605532 1141514 1613550 1181452 1541327 1156804\n",
       "32 N     North Carolina       1616742 1292223 1482792 1532347 1158716 1827420\n",
       "33 N     New Mexico           1819239 1226057 1935991 1124400 1723493 1475985\n",
       "34 N     New York             1395149 1611371 1170675 1446810 1426941 1463171\n",
       "35 N     New Hampshire        1419776 1854370 1195119 1990062 1645430 1286967\n",
       "36 O     Oklahoma             1173918 1334639 1663622 1798714 1312574 1708245\n",
       "37 O     Ohio                 1802132 1648498 1441386 1670280 1534888 1314824\n",
       "38 O     Oregon               1794912 1726665 1805445 1133510 1502242 1419251\n",
       "39 P     Pennsylvania         1320191 1446723 1218591 1122030 1971479 1563062\n",
       "40 R     Rhode Island         1501744 1942942 1266657 1961923 1835983 1234040\n",
       "41 S     South Carolina       1631522 1803455 1425193 1458191 1538731 1825195\n",
       "42 S     South Dakota         1159037 1150689 1660148 1417141 1418586 1279134\n",
       "43 T     Tennessee            1811867 1485909 1974179 1157059 1786132 1399191\n",
       "44 T     Texas                1520591 1310777 1957713 1907326 1873544 1655483\n",
       "45 U     Utah                 1771096 1195861 1979395 1241662 1437456 1859416\n",
       "46 V     Virginia             1134317 1163996 1891068 1853855 1708715 1197698\n",
       "47 V     Vermont              1146902 1832249 1492704 1579265 1332048 1563537\n",
       "48 W     Washington           1977749 1687136 1199490 1163092 1334864 1621989\n",
       "49 W     West Virginia        1677347 1380662 1176100 1888948 1922085 1740826\n",
       "50 W     Wyoming              1775190 1498098 1198212 1881688 1750527 1523124\n",
       "51 W     Wisconsin            1788920 1518578 1289663 1436888 1251678 1721874\n",
       "   Y2008   Y2009   Y2010   Y2011   Y2012   Y2013   Y2014   Y2015  \n",
       "1  1752886 1554330 1300521 1130709 1907284 1363279 1525866 1647724\n",
       "2  1551826 1436541 1629616 1230866 1512804 1985302 1580394 1979143\n",
       "3  1945229 1944173 1237582 1440756 1186741 1852841 1558906 1916661\n",
       "4  1188104 1628980 1669295 1928238 1216675 1591896 1360959 1329341\n",
       "5  1487315 1663809 1624509 1639670 1921845 1156536 1388461 1644607\n",
       "6  1875146 1752387 1913275 1665877 1491604 1178355 1383978 1330736\n",
       "7  1764457 1972730 1968730 1945524 1228529 1582249 1503156 1718072\n",
       "8  1762096 1553585 1370984 1318669 1984027 1671279 1803169 1627508\n",
       "9  1193245 1739748 1707823 1353449 1979708 1912654 1782169 1410183\n",
       "10 1756185 1818438 1198403 1497051 1131928 1107448 1407784 1170389\n",
       "11 1773090 1630325 1145473 1851245 1850111 1887157 1259353 1725470\n",
       "12 1919423 1928416 1330509 1902816 1695126 1517184 1948108 1150882\n",
       "13 1335481 1748608 1436809 1456340 1643855 1312561 1713718 1757171\n",
       "14 1139551 1883976 1999102 1559924 1905760 1129794 1988394 1467614\n",
       "15 1871645 1658551 1422021 1751422 1696729 1915435 1645465 1583516\n",
       "16 1317983 1150783 1751389 1992996 1501879 1173694 1431705 1641866\n",
       "17 1949478 1561528 1550433 1465812 1882929 1410249 1930090 1385528\n",
       "18 1301848 1956681 1350895 1512894 1916616 1878271 1722762 1913350\n",
       "19 1185085 1124853 1498662 1210385 1234234 1287663 1908602 1403857\n",
       "20 1990431 1575185 1267626 1274673 1709853 1815596 1965196 1646634\n",
       "21 1735099 1800620 1164202 1425363 1800052 1698105 1767835 1996005\n",
       "22 1251742 1592690 1350619 1520064 1185225 1465705 1110394 1125903\n",
       "23 1328133 1890633 1995304 1575533 1910216 1972021 1515366 1864553\n",
       "24 1428291 1568049 1383227 1629132 1988270 1907777 1649668 1991232\n",
       "25 1978904 1567651 1761048 1658538 1482203 1731917 1669749 1963337\n",
       "26 1295877 1969163 1627262 1706080 1437088 1318546 1116792 1529233\n",
       "27 1112765 1967225 1486246 1872327 1175819 1314343 1979529 1569566\n",
       "28 1903270 1231480 1526066 1143343 1980195 1283813 1225348 1903804\n",
       "29 1140598 1270585 1128711 1187207 1569665 1690920 1459243 1802211\n",
       "30 1720352 1671468 1534571 1271132 1430978 1529024 1563898 1604118\n",
       "31 1568034 1357418 1443718 1390010 1202326 1100990 1850165 1183568\n",
       "32 1267737 1116168 1791535 1553750 1472258 1104893 1596452 1229085\n",
       "33 1237704 1820856 1801430 1653384 1475715 1623388 1533494 1868612\n",
       "34 1732098 1426216 1604531 1683687 1500089 1718837 1619033 1367705\n",
       "35 1762936 1763211 1265642 1704297 1131298 1197576 1242623 1963313\n",
       "36 1256746 1853142 1673831 1822933 1674707 1900523 1956742 1307678\n",
       "37 1516621 1511460 1585465 1887714 1227303 1840898 1880804 1573117\n",
       "38 1482786 1862351 1103794 1935687 1905378 1522129 1509171 1893515\n",
       "39 1274168 1571032 1433835 1483292 1290329 1475344 1931500 1668232\n",
       "40 1151409 1993136 1983569 1781016 1909119 1531212 1990412 1611730\n",
       "41 1250499 1864685 1345102 1116203 1532332 1591735 1188417 1110655\n",
       "42 1171870 1852424 1554782 1647245 1811156 1147488 1302834 1136443\n",
       "43 1826406 1326460 1231739 1469785 1849041 1560887 1349173 1162164\n",
       "44 1785986 1827503 1447457 1978374 1882532 1698698 1646508 1705322\n",
       "45 1939284 1915865 1619186 1288285 1108281 1123353 1801019 1729273\n",
       "46 1803330 1590043 1516758 1171686 1262342 1647032 1706707 1850394\n",
       "47 1123567 1618583 1326369 1792600 1714960 1146278 1282790 1565924\n",
       "48 1545621 1555554 1179331 1150089 1775787 1273834 1387428 1377341\n",
       "49 1238174 1539322 1539603 1872519 1462137 1683127 1204344 1198791\n",
       "50 1587602 1504455 1282142 1881814 1673668 1994022 1204029 1853858\n",
       "51 1980167 1901394 1648755 1940943 1729177 1510119 1701650 1846238"
      ]
     },
     "metadata": {},
     "output_type": "display_data"
    },
    {
     "data": {
      "text/html": [
       "<table>\n",
       "<caption>A data.frame: 51 × 16</caption>\n",
       "<thead>\n",
       "\t<tr><th scope=col>Index</th><th scope=col>State</th><th scope=col>Y2002</th><th scope=col>Y2003</th><th scope=col>Y2004</th><th scope=col>Y2005</th><th scope=col>Y2006</th><th scope=col>Y2007</th><th scope=col>Y2008</th><th scope=col>Y2009</th><th scope=col>Y2010</th><th scope=col>Y2011</th><th scope=col>Y2012</th><th scope=col>Y2013</th><th scope=col>Y2014</th><th scope=col>Y2015</th></tr>\n",
       "\t<tr><th scope=col>&lt;fct&gt;</th><th scope=col>&lt;fct&gt;</th><th scope=col>&lt;int&gt;</th><th scope=col>&lt;int&gt;</th><th scope=col>&lt;int&gt;</th><th scope=col>&lt;int&gt;</th><th scope=col>&lt;int&gt;</th><th scope=col>&lt;int&gt;</th><th scope=col>&lt;int&gt;</th><th scope=col>&lt;int&gt;</th><th scope=col>&lt;int&gt;</th><th scope=col>&lt;int&gt;</th><th scope=col>&lt;int&gt;</th><th scope=col>&lt;int&gt;</th><th scope=col>&lt;int&gt;</th><th scope=col>&lt;int&gt;</th></tr>\n",
       "</thead>\n",
       "<tbody>\n",
       "\t<tr><td>W</td><td>Washington          </td><td>1977749</td><td>1687136</td><td>1199490</td><td>1163092</td><td>1334864</td><td>1621989</td><td>1545621</td><td>1555554</td><td>1179331</td><td>1150089</td><td>1775787</td><td>1273834</td><td>1387428</td><td>1377341</td></tr>\n",
       "\t<tr><td>W</td><td>West Virginia       </td><td>1677347</td><td>1380662</td><td>1176100</td><td>1888948</td><td>1922085</td><td>1740826</td><td>1238174</td><td>1539322</td><td>1539603</td><td>1872519</td><td>1462137</td><td>1683127</td><td>1204344</td><td>1198791</td></tr>\n",
       "\t<tr><td>W</td><td>Wyoming             </td><td>1775190</td><td>1498098</td><td>1198212</td><td>1881688</td><td>1750527</td><td>1523124</td><td>1587602</td><td>1504455</td><td>1282142</td><td>1881814</td><td>1673668</td><td>1994022</td><td>1204029</td><td>1853858</td></tr>\n",
       "\t<tr><td>W</td><td>Wisconsin           </td><td>1788920</td><td>1518578</td><td>1289663</td><td>1436888</td><td>1251678</td><td>1721874</td><td>1980167</td><td>1901394</td><td>1648755</td><td>1940943</td><td>1729177</td><td>1510119</td><td>1701650</td><td>1846238</td></tr>\n",
       "\t<tr><td>V</td><td>Virginia            </td><td>1134317</td><td>1163996</td><td>1891068</td><td>1853855</td><td>1708715</td><td>1197698</td><td>1803330</td><td>1590043</td><td>1516758</td><td>1171686</td><td>1262342</td><td>1647032</td><td>1706707</td><td>1850394</td></tr>\n",
       "\t<tr><td>V</td><td>Vermont             </td><td>1146902</td><td>1832249</td><td>1492704</td><td>1579265</td><td>1332048</td><td>1563537</td><td>1123567</td><td>1618583</td><td>1326369</td><td>1792600</td><td>1714960</td><td>1146278</td><td>1282790</td><td>1565924</td></tr>\n",
       "\t<tr><td>U</td><td>Utah                </td><td>1771096</td><td>1195861</td><td>1979395</td><td>1241662</td><td>1437456</td><td>1859416</td><td>1939284</td><td>1915865</td><td>1619186</td><td>1288285</td><td>1108281</td><td>1123353</td><td>1801019</td><td>1729273</td></tr>\n",
       "\t<tr><td>T</td><td>Tennessee           </td><td>1811867</td><td>1485909</td><td>1974179</td><td>1157059</td><td>1786132</td><td>1399191</td><td>1826406</td><td>1326460</td><td>1231739</td><td>1469785</td><td>1849041</td><td>1560887</td><td>1349173</td><td>1162164</td></tr>\n",
       "\t<tr><td>T</td><td>Texas               </td><td>1520591</td><td>1310777</td><td>1957713</td><td>1907326</td><td>1873544</td><td>1655483</td><td>1785986</td><td>1827503</td><td>1447457</td><td>1978374</td><td>1882532</td><td>1698698</td><td>1646508</td><td>1705322</td></tr>\n",
       "\t<tr><td>S</td><td>South Carolina      </td><td>1631522</td><td>1803455</td><td>1425193</td><td>1458191</td><td>1538731</td><td>1825195</td><td>1250499</td><td>1864685</td><td>1345102</td><td>1116203</td><td>1532332</td><td>1591735</td><td>1188417</td><td>1110655</td></tr>\n",
       "\t<tr><td>S</td><td>South Dakota        </td><td>1159037</td><td>1150689</td><td>1660148</td><td>1417141</td><td>1418586</td><td>1279134</td><td>1171870</td><td>1852424</td><td>1554782</td><td>1647245</td><td>1811156</td><td>1147488</td><td>1302834</td><td>1136443</td></tr>\n",
       "\t<tr><td>R</td><td>Rhode Island        </td><td>1501744</td><td>1942942</td><td>1266657</td><td>1961923</td><td>1835983</td><td>1234040</td><td>1151409</td><td>1993136</td><td>1983569</td><td>1781016</td><td>1909119</td><td>1531212</td><td>1990412</td><td>1611730</td></tr>\n",
       "\t<tr><td>P</td><td>Pennsylvania        </td><td>1320191</td><td>1446723</td><td>1218591</td><td>1122030</td><td>1971479</td><td>1563062</td><td>1274168</td><td>1571032</td><td>1433835</td><td>1483292</td><td>1290329</td><td>1475344</td><td>1931500</td><td>1668232</td></tr>\n",
       "\t<tr><td>O</td><td>Oklahoma            </td><td>1173918</td><td>1334639</td><td>1663622</td><td>1798714</td><td>1312574</td><td>1708245</td><td>1256746</td><td>1853142</td><td>1673831</td><td>1822933</td><td>1674707</td><td>1900523</td><td>1956742</td><td>1307678</td></tr>\n",
       "\t<tr><td>O</td><td>Ohio                </td><td>1802132</td><td>1648498</td><td>1441386</td><td>1670280</td><td>1534888</td><td>1314824</td><td>1516621</td><td>1511460</td><td>1585465</td><td>1887714</td><td>1227303</td><td>1840898</td><td>1880804</td><td>1573117</td></tr>\n",
       "\t<tr><td>O</td><td>Oregon              </td><td>1794912</td><td>1726665</td><td>1805445</td><td>1133510</td><td>1502242</td><td>1419251</td><td>1482786</td><td>1862351</td><td>1103794</td><td>1935687</td><td>1905378</td><td>1522129</td><td>1509171</td><td>1893515</td></tr>\n",
       "\t<tr><td>N</td><td>Nevada              </td><td>1426117</td><td>1114500</td><td>1119707</td><td>1758830</td><td>1694526</td><td>1765826</td><td>1903270</td><td>1231480</td><td>1526066</td><td>1143343</td><td>1980195</td><td>1283813</td><td>1225348</td><td>1903804</td></tr>\n",
       "\t<tr><td>N</td><td>Nebraska            </td><td>1885081</td><td>1309769</td><td>1425527</td><td>1240465</td><td>1500594</td><td>1278272</td><td>1140598</td><td>1270585</td><td>1128711</td><td>1187207</td><td>1569665</td><td>1690920</td><td>1459243</td><td>1802211</td></tr>\n",
       "\t<tr><td>N</td><td>North Dakota        </td><td>1618807</td><td>1510193</td><td>1876940</td><td>1443172</td><td>1425030</td><td>1868788</td><td>1720352</td><td>1671468</td><td>1534571</td><td>1271132</td><td>1430978</td><td>1529024</td><td>1563898</td><td>1604118</td></tr>\n",
       "\t<tr><td>N</td><td>New Jersey          </td><td>1605532</td><td>1141514</td><td>1613550</td><td>1181452</td><td>1541327</td><td>1156804</td><td>1568034</td><td>1357418</td><td>1443718</td><td>1390010</td><td>1202326</td><td>1100990</td><td>1850165</td><td>1183568</td></tr>\n",
       "\t<tr><td>N</td><td>North Carolina      </td><td>1616742</td><td>1292223</td><td>1482792</td><td>1532347</td><td>1158716</td><td>1827420</td><td>1267737</td><td>1116168</td><td>1791535</td><td>1553750</td><td>1472258</td><td>1104893</td><td>1596452</td><td>1229085</td></tr>\n",
       "\t<tr><td>N</td><td>New Mexico          </td><td>1819239</td><td>1226057</td><td>1935991</td><td>1124400</td><td>1723493</td><td>1475985</td><td>1237704</td><td>1820856</td><td>1801430</td><td>1653384</td><td>1475715</td><td>1623388</td><td>1533494</td><td>1868612</td></tr>\n",
       "\t<tr><td>N</td><td>New York            </td><td>1395149</td><td>1611371</td><td>1170675</td><td>1446810</td><td>1426941</td><td>1463171</td><td>1732098</td><td>1426216</td><td>1604531</td><td>1683687</td><td>1500089</td><td>1718837</td><td>1619033</td><td>1367705</td></tr>\n",
       "\t<tr><td>N</td><td>New Hampshire       </td><td>1419776</td><td>1854370</td><td>1195119</td><td>1990062</td><td>1645430</td><td>1286967</td><td>1762936</td><td>1763211</td><td>1265642</td><td>1704297</td><td>1131298</td><td>1197576</td><td>1242623</td><td>1963313</td></tr>\n",
       "\t<tr><td>M</td><td>Michigan            </td><td>1295635</td><td>1149931</td><td>1601027</td><td>1340716</td><td>1729449</td><td>1567494</td><td>1990431</td><td>1575185</td><td>1267626</td><td>1274673</td><td>1709853</td><td>1815596</td><td>1965196</td><td>1646634</td></tr>\n",
       "\t<tr><td>M</td><td>Missouri            </td><td>1221316</td><td>1858368</td><td>1773451</td><td>1573967</td><td>1374863</td><td>1486197</td><td>1735099</td><td>1800620</td><td>1164202</td><td>1425363</td><td>1800052</td><td>1698105</td><td>1767835</td><td>1996005</td></tr>\n",
       "\t<tr><td>M</td><td>Montana             </td><td>1877154</td><td>1540099</td><td>1332722</td><td>1273327</td><td>1625721</td><td>1983568</td><td>1251742</td><td>1592690</td><td>1350619</td><td>1520064</td><td>1185225</td><td>1465705</td><td>1110394</td><td>1125903</td></tr>\n",
       "\t<tr><td>M</td><td>Minnesota           </td><td>1729921</td><td>1675204</td><td>1903907</td><td>1561839</td><td>1985692</td><td>1148621</td><td>1328133</td><td>1890633</td><td>1995304</td><td>1575533</td><td>1910216</td><td>1972021</td><td>1515366</td><td>1864553</td></tr>\n",
       "\t<tr><td>M</td><td>Mississippi         </td><td>1983285</td><td>1292558</td><td>1631325</td><td>1943311</td><td>1354579</td><td>1731643</td><td>1428291</td><td>1568049</td><td>1383227</td><td>1629132</td><td>1988270</td><td>1907777</td><td>1649668</td><td>1991232</td></tr>\n",
       "\t<tr><td>M</td><td>Massachusetts       </td><td>1647582</td><td>1686259</td><td>1620601</td><td>1777250</td><td>1531641</td><td>1380529</td><td>1978904</td><td>1567651</td><td>1761048</td><td>1658538</td><td>1482203</td><td>1731917</td><td>1669749</td><td>1963337</td></tr>\n",
       "\t<tr><td>M</td><td>Maine               </td><td>1582720</td><td>1678622</td><td>1208496</td><td>1912040</td><td>1438549</td><td>1330014</td><td>1295877</td><td>1969163</td><td>1627262</td><td>1706080</td><td>1437088</td><td>1318546</td><td>1116792</td><td>1529233</td></tr>\n",
       "\t<tr><td>M</td><td>Maryland            </td><td>1579713</td><td>1404700</td><td>1849798</td><td>1397738</td><td>1310270</td><td>1789128</td><td>1112765</td><td>1967225</td><td>1486246</td><td>1872327</td><td>1175819</td><td>1314343</td><td>1979529</td><td>1569566</td></tr>\n",
       "\t<tr><td>L</td><td>Louisiana           </td><td>1584734</td><td>1110625</td><td>1868456</td><td>1751920</td><td>1233709</td><td>1920301</td><td>1185085</td><td>1124853</td><td>1498662</td><td>1210385</td><td>1234234</td><td>1287663</td><td>1908602</td><td>1403857</td></tr>\n",
       "\t<tr><td>K</td><td>Kansas              </td><td>1509054</td><td>1290700</td><td>1522230</td><td>1532094</td><td>1104256</td><td>1863278</td><td>1949478</td><td>1561528</td><td>1550433</td><td>1465812</td><td>1882929</td><td>1410249</td><td>1930090</td><td>1385528</td></tr>\n",
       "\t<tr><td>K</td><td>Kentucky            </td><td>1813878</td><td>1448846</td><td>1800760</td><td>1250524</td><td>1137913</td><td>1911227</td><td>1301848</td><td>1956681</td><td>1350895</td><td>1512894</td><td>1916616</td><td>1878271</td><td>1722762</td><td>1913350</td></tr>\n",
       "\t<tr><td>I</td><td>Idaho               </td><td>1353210</td><td>1438538</td><td>1739154</td><td>1541015</td><td>1122387</td><td>1772050</td><td>1335481</td><td>1748608</td><td>1436809</td><td>1456340</td><td>1643855</td><td>1312561</td><td>1713718</td><td>1757171</td></tr>\n",
       "\t<tr><td>I</td><td>Indiana             </td><td>1776918</td><td>1734104</td><td>1269927</td><td>1204117</td><td>1848073</td><td>1129546</td><td>1139551</td><td>1883976</td><td>1999102</td><td>1559924</td><td>1905760</td><td>1129794</td><td>1988394</td><td>1467614</td></tr>\n",
       "\t<tr><td>I</td><td>Illinois            </td><td>1508356</td><td>1527440</td><td>1493029</td><td>1261353</td><td>1540274</td><td>1747614</td><td>1871645</td><td>1658551</td><td>1422021</td><td>1751422</td><td>1696729</td><td>1915435</td><td>1645465</td><td>1583516</td></tr>\n",
       "\t<tr><td>I</td><td>Iowa                </td><td>1499269</td><td>1444576</td><td>1576367</td><td>1388924</td><td>1554813</td><td>1452911</td><td>1317983</td><td>1150783</td><td>1751389</td><td>1992996</td><td>1501879</td><td>1173694</td><td>1431705</td><td>1641866</td></tr>\n",
       "\t<tr><td>H</td><td>Hawaii              </td><td>1461570</td><td>1200280</td><td>1213993</td><td>1245931</td><td>1459383</td><td>1430465</td><td>1919423</td><td>1928416</td><td>1330509</td><td>1902816</td><td>1695126</td><td>1517184</td><td>1948108</td><td>1150882</td></tr>\n",
       "\t<tr><td>G</td><td>Georgia             </td><td>1929009</td><td>1541565</td><td>1810773</td><td>1779091</td><td>1326846</td><td>1223770</td><td>1773090</td><td>1630325</td><td>1145473</td><td>1851245</td><td>1850111</td><td>1887157</td><td>1259353</td><td>1725470</td></tr>\n",
       "\t<tr><td>F</td><td>Florida             </td><td>1964626</td><td>1468852</td><td>1419738</td><td>1362787</td><td>1339608</td><td>1278550</td><td>1756185</td><td>1818438</td><td>1198403</td><td>1497051</td><td>1131928</td><td>1107448</td><td>1407784</td><td>1170389</td></tr>\n",
       "\t<tr><td>D</td><td>Delaware            </td><td>1330403</td><td>1268673</td><td>1706751</td><td>1403759</td><td>1441351</td><td>1300836</td><td>1762096</td><td>1553585</td><td>1370984</td><td>1318669</td><td>1984027</td><td>1671279</td><td>1803169</td><td>1627508</td></tr>\n",
       "\t<tr><td>D</td><td>District of Columbia</td><td>1111437</td><td>1993741</td><td>1374643</td><td>1827949</td><td>1803852</td><td>1595981</td><td>1193245</td><td>1739748</td><td>1707823</td><td>1353449</td><td>1979708</td><td>1912654</td><td>1782169</td><td>1410183</td></tr>\n",
       "\t<tr><td>C</td><td>California          </td><td>1685349</td><td>1675807</td><td>1889570</td><td>1480280</td><td>1735069</td><td>1812546</td><td>1487315</td><td>1663809</td><td>1624509</td><td>1639670</td><td>1921845</td><td>1156536</td><td>1388461</td><td>1644607</td></tr>\n",
       "\t<tr><td>C</td><td>Colorado            </td><td>1343824</td><td>1878473</td><td>1886149</td><td>1236697</td><td>1871471</td><td>1814218</td><td>1875146</td><td>1752387</td><td>1913275</td><td>1665877</td><td>1491604</td><td>1178355</td><td>1383978</td><td>1330736</td></tr>\n",
       "\t<tr><td>C</td><td>Connecticut         </td><td>1610512</td><td>1232844</td><td>1181949</td><td>1518933</td><td>1841266</td><td>1976976</td><td>1764457</td><td>1972730</td><td>1968730</td><td>1945524</td><td>1228529</td><td>1582249</td><td>1503156</td><td>1718072</td></tr>\n",
       "\t<tr><td>A</td><td>Arizona             </td><td>1742027</td><td>1968140</td><td>1377583</td><td>1782199</td><td>1102568</td><td>1109382</td><td>1752886</td><td>1554330</td><td>1300521</td><td>1130709</td><td>1907284</td><td>1363279</td><td>1525866</td><td>1647724</td></tr>\n",
       "\t<tr><td>A</td><td>Alaska              </td><td>1170302</td><td>1960378</td><td>1818085</td><td>1447852</td><td>1861639</td><td>1465841</td><td>1551826</td><td>1436541</td><td>1629616</td><td>1230866</td><td>1512804</td><td>1985302</td><td>1580394</td><td>1979143</td></tr>\n",
       "\t<tr><td>A</td><td>Alabama             </td><td>1296530</td><td>1317711</td><td>1118631</td><td>1492583</td><td>1107408</td><td>1440134</td><td>1945229</td><td>1944173</td><td>1237582</td><td>1440756</td><td>1186741</td><td>1852841</td><td>1558906</td><td>1916661</td></tr>\n",
       "\t<tr><td>A</td><td>Arkansas            </td><td>1485531</td><td>1994927</td><td>1119299</td><td>1947979</td><td>1669191</td><td>1801213</td><td>1188104</td><td>1628980</td><td>1669295</td><td>1928238</td><td>1216675</td><td>1591896</td><td>1360959</td><td>1329341</td></tr>\n",
       "</tbody>\n",
       "</table>\n"
      ],
      "text/latex": [
       "A data.frame: 51 × 16\n",
       "\\begin{tabular}{r|llllllllllllllll}\n",
       " Index & State & Y2002 & Y2003 & Y2004 & Y2005 & Y2006 & Y2007 & Y2008 & Y2009 & Y2010 & Y2011 & Y2012 & Y2013 & Y2014 & Y2015\\\\\n",
       " <fct> & <fct> & <int> & <int> & <int> & <int> & <int> & <int> & <int> & <int> & <int> & <int> & <int> & <int> & <int> & <int>\\\\\n",
       "\\hline\n",
       "\t W & Washington           & 1977749 & 1687136 & 1199490 & 1163092 & 1334864 & 1621989 & 1545621 & 1555554 & 1179331 & 1150089 & 1775787 & 1273834 & 1387428 & 1377341\\\\\n",
       "\t W & West Virginia        & 1677347 & 1380662 & 1176100 & 1888948 & 1922085 & 1740826 & 1238174 & 1539322 & 1539603 & 1872519 & 1462137 & 1683127 & 1204344 & 1198791\\\\\n",
       "\t W & Wyoming              & 1775190 & 1498098 & 1198212 & 1881688 & 1750527 & 1523124 & 1587602 & 1504455 & 1282142 & 1881814 & 1673668 & 1994022 & 1204029 & 1853858\\\\\n",
       "\t W & Wisconsin            & 1788920 & 1518578 & 1289663 & 1436888 & 1251678 & 1721874 & 1980167 & 1901394 & 1648755 & 1940943 & 1729177 & 1510119 & 1701650 & 1846238\\\\\n",
       "\t V & Virginia             & 1134317 & 1163996 & 1891068 & 1853855 & 1708715 & 1197698 & 1803330 & 1590043 & 1516758 & 1171686 & 1262342 & 1647032 & 1706707 & 1850394\\\\\n",
       "\t V & Vermont              & 1146902 & 1832249 & 1492704 & 1579265 & 1332048 & 1563537 & 1123567 & 1618583 & 1326369 & 1792600 & 1714960 & 1146278 & 1282790 & 1565924\\\\\n",
       "\t U & Utah                 & 1771096 & 1195861 & 1979395 & 1241662 & 1437456 & 1859416 & 1939284 & 1915865 & 1619186 & 1288285 & 1108281 & 1123353 & 1801019 & 1729273\\\\\n",
       "\t T & Tennessee            & 1811867 & 1485909 & 1974179 & 1157059 & 1786132 & 1399191 & 1826406 & 1326460 & 1231739 & 1469785 & 1849041 & 1560887 & 1349173 & 1162164\\\\\n",
       "\t T & Texas                & 1520591 & 1310777 & 1957713 & 1907326 & 1873544 & 1655483 & 1785986 & 1827503 & 1447457 & 1978374 & 1882532 & 1698698 & 1646508 & 1705322\\\\\n",
       "\t S & South Carolina       & 1631522 & 1803455 & 1425193 & 1458191 & 1538731 & 1825195 & 1250499 & 1864685 & 1345102 & 1116203 & 1532332 & 1591735 & 1188417 & 1110655\\\\\n",
       "\t S & South Dakota         & 1159037 & 1150689 & 1660148 & 1417141 & 1418586 & 1279134 & 1171870 & 1852424 & 1554782 & 1647245 & 1811156 & 1147488 & 1302834 & 1136443\\\\\n",
       "\t R & Rhode Island         & 1501744 & 1942942 & 1266657 & 1961923 & 1835983 & 1234040 & 1151409 & 1993136 & 1983569 & 1781016 & 1909119 & 1531212 & 1990412 & 1611730\\\\\n",
       "\t P & Pennsylvania         & 1320191 & 1446723 & 1218591 & 1122030 & 1971479 & 1563062 & 1274168 & 1571032 & 1433835 & 1483292 & 1290329 & 1475344 & 1931500 & 1668232\\\\\n",
       "\t O & Oklahoma             & 1173918 & 1334639 & 1663622 & 1798714 & 1312574 & 1708245 & 1256746 & 1853142 & 1673831 & 1822933 & 1674707 & 1900523 & 1956742 & 1307678\\\\\n",
       "\t O & Ohio                 & 1802132 & 1648498 & 1441386 & 1670280 & 1534888 & 1314824 & 1516621 & 1511460 & 1585465 & 1887714 & 1227303 & 1840898 & 1880804 & 1573117\\\\\n",
       "\t O & Oregon               & 1794912 & 1726665 & 1805445 & 1133510 & 1502242 & 1419251 & 1482786 & 1862351 & 1103794 & 1935687 & 1905378 & 1522129 & 1509171 & 1893515\\\\\n",
       "\t N & Nevada               & 1426117 & 1114500 & 1119707 & 1758830 & 1694526 & 1765826 & 1903270 & 1231480 & 1526066 & 1143343 & 1980195 & 1283813 & 1225348 & 1903804\\\\\n",
       "\t N & Nebraska             & 1885081 & 1309769 & 1425527 & 1240465 & 1500594 & 1278272 & 1140598 & 1270585 & 1128711 & 1187207 & 1569665 & 1690920 & 1459243 & 1802211\\\\\n",
       "\t N & North Dakota         & 1618807 & 1510193 & 1876940 & 1443172 & 1425030 & 1868788 & 1720352 & 1671468 & 1534571 & 1271132 & 1430978 & 1529024 & 1563898 & 1604118\\\\\n",
       "\t N & New Jersey           & 1605532 & 1141514 & 1613550 & 1181452 & 1541327 & 1156804 & 1568034 & 1357418 & 1443718 & 1390010 & 1202326 & 1100990 & 1850165 & 1183568\\\\\n",
       "\t N & North Carolina       & 1616742 & 1292223 & 1482792 & 1532347 & 1158716 & 1827420 & 1267737 & 1116168 & 1791535 & 1553750 & 1472258 & 1104893 & 1596452 & 1229085\\\\\n",
       "\t N & New Mexico           & 1819239 & 1226057 & 1935991 & 1124400 & 1723493 & 1475985 & 1237704 & 1820856 & 1801430 & 1653384 & 1475715 & 1623388 & 1533494 & 1868612\\\\\n",
       "\t N & New York             & 1395149 & 1611371 & 1170675 & 1446810 & 1426941 & 1463171 & 1732098 & 1426216 & 1604531 & 1683687 & 1500089 & 1718837 & 1619033 & 1367705\\\\\n",
       "\t N & New Hampshire        & 1419776 & 1854370 & 1195119 & 1990062 & 1645430 & 1286967 & 1762936 & 1763211 & 1265642 & 1704297 & 1131298 & 1197576 & 1242623 & 1963313\\\\\n",
       "\t M & Michigan             & 1295635 & 1149931 & 1601027 & 1340716 & 1729449 & 1567494 & 1990431 & 1575185 & 1267626 & 1274673 & 1709853 & 1815596 & 1965196 & 1646634\\\\\n",
       "\t M & Missouri             & 1221316 & 1858368 & 1773451 & 1573967 & 1374863 & 1486197 & 1735099 & 1800620 & 1164202 & 1425363 & 1800052 & 1698105 & 1767835 & 1996005\\\\\n",
       "\t M & Montana              & 1877154 & 1540099 & 1332722 & 1273327 & 1625721 & 1983568 & 1251742 & 1592690 & 1350619 & 1520064 & 1185225 & 1465705 & 1110394 & 1125903\\\\\n",
       "\t M & Minnesota            & 1729921 & 1675204 & 1903907 & 1561839 & 1985692 & 1148621 & 1328133 & 1890633 & 1995304 & 1575533 & 1910216 & 1972021 & 1515366 & 1864553\\\\\n",
       "\t M & Mississippi          & 1983285 & 1292558 & 1631325 & 1943311 & 1354579 & 1731643 & 1428291 & 1568049 & 1383227 & 1629132 & 1988270 & 1907777 & 1649668 & 1991232\\\\\n",
       "\t M & Massachusetts        & 1647582 & 1686259 & 1620601 & 1777250 & 1531641 & 1380529 & 1978904 & 1567651 & 1761048 & 1658538 & 1482203 & 1731917 & 1669749 & 1963337\\\\\n",
       "\t M & Maine                & 1582720 & 1678622 & 1208496 & 1912040 & 1438549 & 1330014 & 1295877 & 1969163 & 1627262 & 1706080 & 1437088 & 1318546 & 1116792 & 1529233\\\\\n",
       "\t M & Maryland             & 1579713 & 1404700 & 1849798 & 1397738 & 1310270 & 1789128 & 1112765 & 1967225 & 1486246 & 1872327 & 1175819 & 1314343 & 1979529 & 1569566\\\\\n",
       "\t L & Louisiana            & 1584734 & 1110625 & 1868456 & 1751920 & 1233709 & 1920301 & 1185085 & 1124853 & 1498662 & 1210385 & 1234234 & 1287663 & 1908602 & 1403857\\\\\n",
       "\t K & Kansas               & 1509054 & 1290700 & 1522230 & 1532094 & 1104256 & 1863278 & 1949478 & 1561528 & 1550433 & 1465812 & 1882929 & 1410249 & 1930090 & 1385528\\\\\n",
       "\t K & Kentucky             & 1813878 & 1448846 & 1800760 & 1250524 & 1137913 & 1911227 & 1301848 & 1956681 & 1350895 & 1512894 & 1916616 & 1878271 & 1722762 & 1913350\\\\\n",
       "\t I & Idaho                & 1353210 & 1438538 & 1739154 & 1541015 & 1122387 & 1772050 & 1335481 & 1748608 & 1436809 & 1456340 & 1643855 & 1312561 & 1713718 & 1757171\\\\\n",
       "\t I & Indiana              & 1776918 & 1734104 & 1269927 & 1204117 & 1848073 & 1129546 & 1139551 & 1883976 & 1999102 & 1559924 & 1905760 & 1129794 & 1988394 & 1467614\\\\\n",
       "\t I & Illinois             & 1508356 & 1527440 & 1493029 & 1261353 & 1540274 & 1747614 & 1871645 & 1658551 & 1422021 & 1751422 & 1696729 & 1915435 & 1645465 & 1583516\\\\\n",
       "\t I & Iowa                 & 1499269 & 1444576 & 1576367 & 1388924 & 1554813 & 1452911 & 1317983 & 1150783 & 1751389 & 1992996 & 1501879 & 1173694 & 1431705 & 1641866\\\\\n",
       "\t H & Hawaii               & 1461570 & 1200280 & 1213993 & 1245931 & 1459383 & 1430465 & 1919423 & 1928416 & 1330509 & 1902816 & 1695126 & 1517184 & 1948108 & 1150882\\\\\n",
       "\t G & Georgia              & 1929009 & 1541565 & 1810773 & 1779091 & 1326846 & 1223770 & 1773090 & 1630325 & 1145473 & 1851245 & 1850111 & 1887157 & 1259353 & 1725470\\\\\n",
       "\t F & Florida              & 1964626 & 1468852 & 1419738 & 1362787 & 1339608 & 1278550 & 1756185 & 1818438 & 1198403 & 1497051 & 1131928 & 1107448 & 1407784 & 1170389\\\\\n",
       "\t D & Delaware             & 1330403 & 1268673 & 1706751 & 1403759 & 1441351 & 1300836 & 1762096 & 1553585 & 1370984 & 1318669 & 1984027 & 1671279 & 1803169 & 1627508\\\\\n",
       "\t D & District of Columbia & 1111437 & 1993741 & 1374643 & 1827949 & 1803852 & 1595981 & 1193245 & 1739748 & 1707823 & 1353449 & 1979708 & 1912654 & 1782169 & 1410183\\\\\n",
       "\t C & California           & 1685349 & 1675807 & 1889570 & 1480280 & 1735069 & 1812546 & 1487315 & 1663809 & 1624509 & 1639670 & 1921845 & 1156536 & 1388461 & 1644607\\\\\n",
       "\t C & Colorado             & 1343824 & 1878473 & 1886149 & 1236697 & 1871471 & 1814218 & 1875146 & 1752387 & 1913275 & 1665877 & 1491604 & 1178355 & 1383978 & 1330736\\\\\n",
       "\t C & Connecticut          & 1610512 & 1232844 & 1181949 & 1518933 & 1841266 & 1976976 & 1764457 & 1972730 & 1968730 & 1945524 & 1228529 & 1582249 & 1503156 & 1718072\\\\\n",
       "\t A & Arizona              & 1742027 & 1968140 & 1377583 & 1782199 & 1102568 & 1109382 & 1752886 & 1554330 & 1300521 & 1130709 & 1907284 & 1363279 & 1525866 & 1647724\\\\\n",
       "\t A & Alaska               & 1170302 & 1960378 & 1818085 & 1447852 & 1861639 & 1465841 & 1551826 & 1436541 & 1629616 & 1230866 & 1512804 & 1985302 & 1580394 & 1979143\\\\\n",
       "\t A & Alabama              & 1296530 & 1317711 & 1118631 & 1492583 & 1107408 & 1440134 & 1945229 & 1944173 & 1237582 & 1440756 & 1186741 & 1852841 & 1558906 & 1916661\\\\\n",
       "\t A & Arkansas             & 1485531 & 1994927 & 1119299 & 1947979 & 1669191 & 1801213 & 1188104 & 1628980 & 1669295 & 1928238 & 1216675 & 1591896 & 1360959 & 1329341\\\\\n",
       "\\end{tabular}\n"
      ],
      "text/markdown": [
       "\n",
       "A data.frame: 51 × 16\n",
       "\n",
       "| Index &lt;fct&gt; | State &lt;fct&gt; | Y2002 &lt;int&gt; | Y2003 &lt;int&gt; | Y2004 &lt;int&gt; | Y2005 &lt;int&gt; | Y2006 &lt;int&gt; | Y2007 &lt;int&gt; | Y2008 &lt;int&gt; | Y2009 &lt;int&gt; | Y2010 &lt;int&gt; | Y2011 &lt;int&gt; | Y2012 &lt;int&gt; | Y2013 &lt;int&gt; | Y2014 &lt;int&gt; | Y2015 &lt;int&gt; |\n",
       "|---|---|---|---|---|---|---|---|---|---|---|---|---|---|---|---|\n",
       "| W | Washington           | 1977749 | 1687136 | 1199490 | 1163092 | 1334864 | 1621989 | 1545621 | 1555554 | 1179331 | 1150089 | 1775787 | 1273834 | 1387428 | 1377341 |\n",
       "| W | West Virginia        | 1677347 | 1380662 | 1176100 | 1888948 | 1922085 | 1740826 | 1238174 | 1539322 | 1539603 | 1872519 | 1462137 | 1683127 | 1204344 | 1198791 |\n",
       "| W | Wyoming              | 1775190 | 1498098 | 1198212 | 1881688 | 1750527 | 1523124 | 1587602 | 1504455 | 1282142 | 1881814 | 1673668 | 1994022 | 1204029 | 1853858 |\n",
       "| W | Wisconsin            | 1788920 | 1518578 | 1289663 | 1436888 | 1251678 | 1721874 | 1980167 | 1901394 | 1648755 | 1940943 | 1729177 | 1510119 | 1701650 | 1846238 |\n",
       "| V | Virginia             | 1134317 | 1163996 | 1891068 | 1853855 | 1708715 | 1197698 | 1803330 | 1590043 | 1516758 | 1171686 | 1262342 | 1647032 | 1706707 | 1850394 |\n",
       "| V | Vermont              | 1146902 | 1832249 | 1492704 | 1579265 | 1332048 | 1563537 | 1123567 | 1618583 | 1326369 | 1792600 | 1714960 | 1146278 | 1282790 | 1565924 |\n",
       "| U | Utah                 | 1771096 | 1195861 | 1979395 | 1241662 | 1437456 | 1859416 | 1939284 | 1915865 | 1619186 | 1288285 | 1108281 | 1123353 | 1801019 | 1729273 |\n",
       "| T | Tennessee            | 1811867 | 1485909 | 1974179 | 1157059 | 1786132 | 1399191 | 1826406 | 1326460 | 1231739 | 1469785 | 1849041 | 1560887 | 1349173 | 1162164 |\n",
       "| T | Texas                | 1520591 | 1310777 | 1957713 | 1907326 | 1873544 | 1655483 | 1785986 | 1827503 | 1447457 | 1978374 | 1882532 | 1698698 | 1646508 | 1705322 |\n",
       "| S | South Carolina       | 1631522 | 1803455 | 1425193 | 1458191 | 1538731 | 1825195 | 1250499 | 1864685 | 1345102 | 1116203 | 1532332 | 1591735 | 1188417 | 1110655 |\n",
       "| S | South Dakota         | 1159037 | 1150689 | 1660148 | 1417141 | 1418586 | 1279134 | 1171870 | 1852424 | 1554782 | 1647245 | 1811156 | 1147488 | 1302834 | 1136443 |\n",
       "| R | Rhode Island         | 1501744 | 1942942 | 1266657 | 1961923 | 1835983 | 1234040 | 1151409 | 1993136 | 1983569 | 1781016 | 1909119 | 1531212 | 1990412 | 1611730 |\n",
       "| P | Pennsylvania         | 1320191 | 1446723 | 1218591 | 1122030 | 1971479 | 1563062 | 1274168 | 1571032 | 1433835 | 1483292 | 1290329 | 1475344 | 1931500 | 1668232 |\n",
       "| O | Oklahoma             | 1173918 | 1334639 | 1663622 | 1798714 | 1312574 | 1708245 | 1256746 | 1853142 | 1673831 | 1822933 | 1674707 | 1900523 | 1956742 | 1307678 |\n",
       "| O | Ohio                 | 1802132 | 1648498 | 1441386 | 1670280 | 1534888 | 1314824 | 1516621 | 1511460 | 1585465 | 1887714 | 1227303 | 1840898 | 1880804 | 1573117 |\n",
       "| O | Oregon               | 1794912 | 1726665 | 1805445 | 1133510 | 1502242 | 1419251 | 1482786 | 1862351 | 1103794 | 1935687 | 1905378 | 1522129 | 1509171 | 1893515 |\n",
       "| N | Nevada               | 1426117 | 1114500 | 1119707 | 1758830 | 1694526 | 1765826 | 1903270 | 1231480 | 1526066 | 1143343 | 1980195 | 1283813 | 1225348 | 1903804 |\n",
       "| N | Nebraska             | 1885081 | 1309769 | 1425527 | 1240465 | 1500594 | 1278272 | 1140598 | 1270585 | 1128711 | 1187207 | 1569665 | 1690920 | 1459243 | 1802211 |\n",
       "| N | North Dakota         | 1618807 | 1510193 | 1876940 | 1443172 | 1425030 | 1868788 | 1720352 | 1671468 | 1534571 | 1271132 | 1430978 | 1529024 | 1563898 | 1604118 |\n",
       "| N | New Jersey           | 1605532 | 1141514 | 1613550 | 1181452 | 1541327 | 1156804 | 1568034 | 1357418 | 1443718 | 1390010 | 1202326 | 1100990 | 1850165 | 1183568 |\n",
       "| N | North Carolina       | 1616742 | 1292223 | 1482792 | 1532347 | 1158716 | 1827420 | 1267737 | 1116168 | 1791535 | 1553750 | 1472258 | 1104893 | 1596452 | 1229085 |\n",
       "| N | New Mexico           | 1819239 | 1226057 | 1935991 | 1124400 | 1723493 | 1475985 | 1237704 | 1820856 | 1801430 | 1653384 | 1475715 | 1623388 | 1533494 | 1868612 |\n",
       "| N | New York             | 1395149 | 1611371 | 1170675 | 1446810 | 1426941 | 1463171 | 1732098 | 1426216 | 1604531 | 1683687 | 1500089 | 1718837 | 1619033 | 1367705 |\n",
       "| N | New Hampshire        | 1419776 | 1854370 | 1195119 | 1990062 | 1645430 | 1286967 | 1762936 | 1763211 | 1265642 | 1704297 | 1131298 | 1197576 | 1242623 | 1963313 |\n",
       "| M | Michigan             | 1295635 | 1149931 | 1601027 | 1340716 | 1729449 | 1567494 | 1990431 | 1575185 | 1267626 | 1274673 | 1709853 | 1815596 | 1965196 | 1646634 |\n",
       "| M | Missouri             | 1221316 | 1858368 | 1773451 | 1573967 | 1374863 | 1486197 | 1735099 | 1800620 | 1164202 | 1425363 | 1800052 | 1698105 | 1767835 | 1996005 |\n",
       "| M | Montana              | 1877154 | 1540099 | 1332722 | 1273327 | 1625721 | 1983568 | 1251742 | 1592690 | 1350619 | 1520064 | 1185225 | 1465705 | 1110394 | 1125903 |\n",
       "| M | Minnesota            | 1729921 | 1675204 | 1903907 | 1561839 | 1985692 | 1148621 | 1328133 | 1890633 | 1995304 | 1575533 | 1910216 | 1972021 | 1515366 | 1864553 |\n",
       "| M | Mississippi          | 1983285 | 1292558 | 1631325 | 1943311 | 1354579 | 1731643 | 1428291 | 1568049 | 1383227 | 1629132 | 1988270 | 1907777 | 1649668 | 1991232 |\n",
       "| M | Massachusetts        | 1647582 | 1686259 | 1620601 | 1777250 | 1531641 | 1380529 | 1978904 | 1567651 | 1761048 | 1658538 | 1482203 | 1731917 | 1669749 | 1963337 |\n",
       "| M | Maine                | 1582720 | 1678622 | 1208496 | 1912040 | 1438549 | 1330014 | 1295877 | 1969163 | 1627262 | 1706080 | 1437088 | 1318546 | 1116792 | 1529233 |\n",
       "| M | Maryland             | 1579713 | 1404700 | 1849798 | 1397738 | 1310270 | 1789128 | 1112765 | 1967225 | 1486246 | 1872327 | 1175819 | 1314343 | 1979529 | 1569566 |\n",
       "| L | Louisiana            | 1584734 | 1110625 | 1868456 | 1751920 | 1233709 | 1920301 | 1185085 | 1124853 | 1498662 | 1210385 | 1234234 | 1287663 | 1908602 | 1403857 |\n",
       "| K | Kansas               | 1509054 | 1290700 | 1522230 | 1532094 | 1104256 | 1863278 | 1949478 | 1561528 | 1550433 | 1465812 | 1882929 | 1410249 | 1930090 | 1385528 |\n",
       "| K | Kentucky             | 1813878 | 1448846 | 1800760 | 1250524 | 1137913 | 1911227 | 1301848 | 1956681 | 1350895 | 1512894 | 1916616 | 1878271 | 1722762 | 1913350 |\n",
       "| I | Idaho                | 1353210 | 1438538 | 1739154 | 1541015 | 1122387 | 1772050 | 1335481 | 1748608 | 1436809 | 1456340 | 1643855 | 1312561 | 1713718 | 1757171 |\n",
       "| I | Indiana              | 1776918 | 1734104 | 1269927 | 1204117 | 1848073 | 1129546 | 1139551 | 1883976 | 1999102 | 1559924 | 1905760 | 1129794 | 1988394 | 1467614 |\n",
       "| I | Illinois             | 1508356 | 1527440 | 1493029 | 1261353 | 1540274 | 1747614 | 1871645 | 1658551 | 1422021 | 1751422 | 1696729 | 1915435 | 1645465 | 1583516 |\n",
       "| I | Iowa                 | 1499269 | 1444576 | 1576367 | 1388924 | 1554813 | 1452911 | 1317983 | 1150783 | 1751389 | 1992996 | 1501879 | 1173694 | 1431705 | 1641866 |\n",
       "| H | Hawaii               | 1461570 | 1200280 | 1213993 | 1245931 | 1459383 | 1430465 | 1919423 | 1928416 | 1330509 | 1902816 | 1695126 | 1517184 | 1948108 | 1150882 |\n",
       "| G | Georgia              | 1929009 | 1541565 | 1810773 | 1779091 | 1326846 | 1223770 | 1773090 | 1630325 | 1145473 | 1851245 | 1850111 | 1887157 | 1259353 | 1725470 |\n",
       "| F | Florida              | 1964626 | 1468852 | 1419738 | 1362787 | 1339608 | 1278550 | 1756185 | 1818438 | 1198403 | 1497051 | 1131928 | 1107448 | 1407784 | 1170389 |\n",
       "| D | Delaware             | 1330403 | 1268673 | 1706751 | 1403759 | 1441351 | 1300836 | 1762096 | 1553585 | 1370984 | 1318669 | 1984027 | 1671279 | 1803169 | 1627508 |\n",
       "| D | District of Columbia | 1111437 | 1993741 | 1374643 | 1827949 | 1803852 | 1595981 | 1193245 | 1739748 | 1707823 | 1353449 | 1979708 | 1912654 | 1782169 | 1410183 |\n",
       "| C | California           | 1685349 | 1675807 | 1889570 | 1480280 | 1735069 | 1812546 | 1487315 | 1663809 | 1624509 | 1639670 | 1921845 | 1156536 | 1388461 | 1644607 |\n",
       "| C | Colorado             | 1343824 | 1878473 | 1886149 | 1236697 | 1871471 | 1814218 | 1875146 | 1752387 | 1913275 | 1665877 | 1491604 | 1178355 | 1383978 | 1330736 |\n",
       "| C | Connecticut          | 1610512 | 1232844 | 1181949 | 1518933 | 1841266 | 1976976 | 1764457 | 1972730 | 1968730 | 1945524 | 1228529 | 1582249 | 1503156 | 1718072 |\n",
       "| A | Arizona              | 1742027 | 1968140 | 1377583 | 1782199 | 1102568 | 1109382 | 1752886 | 1554330 | 1300521 | 1130709 | 1907284 | 1363279 | 1525866 | 1647724 |\n",
       "| A | Alaska               | 1170302 | 1960378 | 1818085 | 1447852 | 1861639 | 1465841 | 1551826 | 1436541 | 1629616 | 1230866 | 1512804 | 1985302 | 1580394 | 1979143 |\n",
       "| A | Alabama              | 1296530 | 1317711 | 1118631 | 1492583 | 1107408 | 1440134 | 1945229 | 1944173 | 1237582 | 1440756 | 1186741 | 1852841 | 1558906 | 1916661 |\n",
       "| A | Arkansas             | 1485531 | 1994927 | 1119299 | 1947979 | 1669191 | 1801213 | 1188104 | 1628980 | 1669295 | 1928238 | 1216675 | 1591896 | 1360959 | 1329341 |\n",
       "\n"
      ],
      "text/plain": [
       "   Index State                Y2002   Y2003   Y2004   Y2005   Y2006   Y2007  \n",
       "1  W     Washington           1977749 1687136 1199490 1163092 1334864 1621989\n",
       "2  W     West Virginia        1677347 1380662 1176100 1888948 1922085 1740826\n",
       "3  W     Wyoming              1775190 1498098 1198212 1881688 1750527 1523124\n",
       "4  W     Wisconsin            1788920 1518578 1289663 1436888 1251678 1721874\n",
       "5  V     Virginia             1134317 1163996 1891068 1853855 1708715 1197698\n",
       "6  V     Vermont              1146902 1832249 1492704 1579265 1332048 1563537\n",
       "7  U     Utah                 1771096 1195861 1979395 1241662 1437456 1859416\n",
       "8  T     Tennessee            1811867 1485909 1974179 1157059 1786132 1399191\n",
       "9  T     Texas                1520591 1310777 1957713 1907326 1873544 1655483\n",
       "10 S     South Carolina       1631522 1803455 1425193 1458191 1538731 1825195\n",
       "11 S     South Dakota         1159037 1150689 1660148 1417141 1418586 1279134\n",
       "12 R     Rhode Island         1501744 1942942 1266657 1961923 1835983 1234040\n",
       "13 P     Pennsylvania         1320191 1446723 1218591 1122030 1971479 1563062\n",
       "14 O     Oklahoma             1173918 1334639 1663622 1798714 1312574 1708245\n",
       "15 O     Ohio                 1802132 1648498 1441386 1670280 1534888 1314824\n",
       "16 O     Oregon               1794912 1726665 1805445 1133510 1502242 1419251\n",
       "17 N     Nevada               1426117 1114500 1119707 1758830 1694526 1765826\n",
       "18 N     Nebraska             1885081 1309769 1425527 1240465 1500594 1278272\n",
       "19 N     North Dakota         1618807 1510193 1876940 1443172 1425030 1868788\n",
       "20 N     New Jersey           1605532 1141514 1613550 1181452 1541327 1156804\n",
       "21 N     North Carolina       1616742 1292223 1482792 1532347 1158716 1827420\n",
       "22 N     New Mexico           1819239 1226057 1935991 1124400 1723493 1475985\n",
       "23 N     New York             1395149 1611371 1170675 1446810 1426941 1463171\n",
       "24 N     New Hampshire        1419776 1854370 1195119 1990062 1645430 1286967\n",
       "25 M     Michigan             1295635 1149931 1601027 1340716 1729449 1567494\n",
       "26 M     Missouri             1221316 1858368 1773451 1573967 1374863 1486197\n",
       "27 M     Montana              1877154 1540099 1332722 1273327 1625721 1983568\n",
       "28 M     Minnesota            1729921 1675204 1903907 1561839 1985692 1148621\n",
       "29 M     Mississippi          1983285 1292558 1631325 1943311 1354579 1731643\n",
       "30 M     Massachusetts        1647582 1686259 1620601 1777250 1531641 1380529\n",
       "31 M     Maine                1582720 1678622 1208496 1912040 1438549 1330014\n",
       "32 M     Maryland             1579713 1404700 1849798 1397738 1310270 1789128\n",
       "33 L     Louisiana            1584734 1110625 1868456 1751920 1233709 1920301\n",
       "34 K     Kansas               1509054 1290700 1522230 1532094 1104256 1863278\n",
       "35 K     Kentucky             1813878 1448846 1800760 1250524 1137913 1911227\n",
       "36 I     Idaho                1353210 1438538 1739154 1541015 1122387 1772050\n",
       "37 I     Indiana              1776918 1734104 1269927 1204117 1848073 1129546\n",
       "38 I     Illinois             1508356 1527440 1493029 1261353 1540274 1747614\n",
       "39 I     Iowa                 1499269 1444576 1576367 1388924 1554813 1452911\n",
       "40 H     Hawaii               1461570 1200280 1213993 1245931 1459383 1430465\n",
       "41 G     Georgia              1929009 1541565 1810773 1779091 1326846 1223770\n",
       "42 F     Florida              1964626 1468852 1419738 1362787 1339608 1278550\n",
       "43 D     Delaware             1330403 1268673 1706751 1403759 1441351 1300836\n",
       "44 D     District of Columbia 1111437 1993741 1374643 1827949 1803852 1595981\n",
       "45 C     California           1685349 1675807 1889570 1480280 1735069 1812546\n",
       "46 C     Colorado             1343824 1878473 1886149 1236697 1871471 1814218\n",
       "47 C     Connecticut          1610512 1232844 1181949 1518933 1841266 1976976\n",
       "48 A     Arizona              1742027 1968140 1377583 1782199 1102568 1109382\n",
       "49 A     Alaska               1170302 1960378 1818085 1447852 1861639 1465841\n",
       "50 A     Alabama              1296530 1317711 1118631 1492583 1107408 1440134\n",
       "51 A     Arkansas             1485531 1994927 1119299 1947979 1669191 1801213\n",
       "   Y2008   Y2009   Y2010   Y2011   Y2012   Y2013   Y2014   Y2015  \n",
       "1  1545621 1555554 1179331 1150089 1775787 1273834 1387428 1377341\n",
       "2  1238174 1539322 1539603 1872519 1462137 1683127 1204344 1198791\n",
       "3  1587602 1504455 1282142 1881814 1673668 1994022 1204029 1853858\n",
       "4  1980167 1901394 1648755 1940943 1729177 1510119 1701650 1846238\n",
       "5  1803330 1590043 1516758 1171686 1262342 1647032 1706707 1850394\n",
       "6  1123567 1618583 1326369 1792600 1714960 1146278 1282790 1565924\n",
       "7  1939284 1915865 1619186 1288285 1108281 1123353 1801019 1729273\n",
       "8  1826406 1326460 1231739 1469785 1849041 1560887 1349173 1162164\n",
       "9  1785986 1827503 1447457 1978374 1882532 1698698 1646508 1705322\n",
       "10 1250499 1864685 1345102 1116203 1532332 1591735 1188417 1110655\n",
       "11 1171870 1852424 1554782 1647245 1811156 1147488 1302834 1136443\n",
       "12 1151409 1993136 1983569 1781016 1909119 1531212 1990412 1611730\n",
       "13 1274168 1571032 1433835 1483292 1290329 1475344 1931500 1668232\n",
       "14 1256746 1853142 1673831 1822933 1674707 1900523 1956742 1307678\n",
       "15 1516621 1511460 1585465 1887714 1227303 1840898 1880804 1573117\n",
       "16 1482786 1862351 1103794 1935687 1905378 1522129 1509171 1893515\n",
       "17 1903270 1231480 1526066 1143343 1980195 1283813 1225348 1903804\n",
       "18 1140598 1270585 1128711 1187207 1569665 1690920 1459243 1802211\n",
       "19 1720352 1671468 1534571 1271132 1430978 1529024 1563898 1604118\n",
       "20 1568034 1357418 1443718 1390010 1202326 1100990 1850165 1183568\n",
       "21 1267737 1116168 1791535 1553750 1472258 1104893 1596452 1229085\n",
       "22 1237704 1820856 1801430 1653384 1475715 1623388 1533494 1868612\n",
       "23 1732098 1426216 1604531 1683687 1500089 1718837 1619033 1367705\n",
       "24 1762936 1763211 1265642 1704297 1131298 1197576 1242623 1963313\n",
       "25 1990431 1575185 1267626 1274673 1709853 1815596 1965196 1646634\n",
       "26 1735099 1800620 1164202 1425363 1800052 1698105 1767835 1996005\n",
       "27 1251742 1592690 1350619 1520064 1185225 1465705 1110394 1125903\n",
       "28 1328133 1890633 1995304 1575533 1910216 1972021 1515366 1864553\n",
       "29 1428291 1568049 1383227 1629132 1988270 1907777 1649668 1991232\n",
       "30 1978904 1567651 1761048 1658538 1482203 1731917 1669749 1963337\n",
       "31 1295877 1969163 1627262 1706080 1437088 1318546 1116792 1529233\n",
       "32 1112765 1967225 1486246 1872327 1175819 1314343 1979529 1569566\n",
       "33 1185085 1124853 1498662 1210385 1234234 1287663 1908602 1403857\n",
       "34 1949478 1561528 1550433 1465812 1882929 1410249 1930090 1385528\n",
       "35 1301848 1956681 1350895 1512894 1916616 1878271 1722762 1913350\n",
       "36 1335481 1748608 1436809 1456340 1643855 1312561 1713718 1757171\n",
       "37 1139551 1883976 1999102 1559924 1905760 1129794 1988394 1467614\n",
       "38 1871645 1658551 1422021 1751422 1696729 1915435 1645465 1583516\n",
       "39 1317983 1150783 1751389 1992996 1501879 1173694 1431705 1641866\n",
       "40 1919423 1928416 1330509 1902816 1695126 1517184 1948108 1150882\n",
       "41 1773090 1630325 1145473 1851245 1850111 1887157 1259353 1725470\n",
       "42 1756185 1818438 1198403 1497051 1131928 1107448 1407784 1170389\n",
       "43 1762096 1553585 1370984 1318669 1984027 1671279 1803169 1627508\n",
       "44 1193245 1739748 1707823 1353449 1979708 1912654 1782169 1410183\n",
       "45 1487315 1663809 1624509 1639670 1921845 1156536 1388461 1644607\n",
       "46 1875146 1752387 1913275 1665877 1491604 1178355 1383978 1330736\n",
       "47 1764457 1972730 1968730 1945524 1228529 1582249 1503156 1718072\n",
       "48 1752886 1554330 1300521 1130709 1907284 1363279 1525866 1647724\n",
       "49 1551826 1436541 1629616 1230866 1512804 1985302 1580394 1979143\n",
       "50 1945229 1944173 1237582 1440756 1186741 1852841 1558906 1916661\n",
       "51 1188104 1628980 1669295 1928238 1216675 1591896 1360959 1329341"
      ]
     },
     "metadata": {},
     "output_type": "display_data"
    }
   ],
   "source": [
    "arrange(mydata, Index, Y2011) #；排序 递增顺序\n",
    "arrange(mydata, desc(Index), Y2011)  # desc 递减"
   ]
  },
  {
   "cell_type": "markdown",
   "metadata": {},
   "source": [
    "#### Pipe Operator %>%  递进操作"
   ]
  },
  {
   "cell_type": "markdown",
   "metadata": {},
   "source": [
    "It is important to understand the pipe (%>%) operator before knowing the other functions of dplyr package. dplyr utilizes pipe operator from another package (magrittr). It allows you to write sub-queries like we do it in sql."
   ]
  },
  {
   "cell_type": "markdown",
   "metadata": {},
   "source": [
    "Note : All the functions in dplyr package can be used without the pipe operator. The question arises \"Why to use pipe operator %>%\". The answer is it lets to wrap multiple functions together with the use of %>%."
   ]
  },
  {
   "cell_type": "markdown",
   "metadata": {},
   "source": [
    "Syntax:"
   ]
  },
  {
   "cell_type": "markdown",
   "metadata": {},
   "source": [
    "filter(data_frame, variable == value)  对行进行操作 \n",
    "or  \n",
    "data_frame %>% filter(variable == value)  对data_frame直接进行递进操作"
   ]
  },
  {
   "cell_type": "code",
   "execution_count": null,
   "metadata": {},
   "outputs": [],
   "source": []
  },
  {
   "cell_type": "markdown",
   "metadata": {},
   "source": [
    "The code below demonstrates the usage of pipe %>% operator. In this example, we are selecting 10 random observations of two variables \"Index\" \"State\" from the data frame \"mydata\"."
   ]
  },
  {
   "cell_type": "markdown",
   "metadata": {},
   "source": [
    "dt = sample_n(select(mydata, Index, State),10)  \n",
    "or   # 两者作用相等，但是更加的简洁\n",
    "dt = mydata %>% select(Index, State) %>% sample_n(10)  "
   ]
  },
  {
   "cell_type": "markdown",
   "metadata": {},
   "source": [
    "#### group_by() function"
   ]
  },
  {
   "cell_type": "markdown",
   "metadata": {},
   "source": [
    "#### Summarise Data by Categorical Variable"
   ]
  },
  {
   "cell_type": "markdown",
   "metadata": {},
   "source": [
    "We are calculating count and mean of variables Y2011 and Y2012 by variable Index."
   ]
  },
  {
   "cell_type": "code",
   "execution_count": 77,
   "metadata": {},
   "outputs": [
    {
     "name": "stderr",
     "output_type": "stream",
     "text": [
      "Your code contains a unicode char which cannot be displayed in your\n",
      "current locale and R will silently convert it to an escaped form when the\n",
      "R kernel executes this code. This can lead to subtle errors if you use\n",
      "such chars to do comparisons. For more information, please see\n",
      "https://github.com/IRkernel/repr/wiki/Problems-with-unicode-on-windows"
     ]
    }
   ],
   "source": [
    "t = summarise_at(group_by(mydata, Index), vars(Y2011, Y2012), funs(n(), mean(., na.rm = TRUE)))  # 更下面的代码一样，\n",
    "                                                                                                  #但是下面的更加的而简洁，"
   ]
  },
  {
   "cell_type": "code",
   "execution_count": 23,
   "metadata": {
    "collapsed": true
   },
   "outputs": [
    {
     "name": "stderr",
     "output_type": "stream",
     "text": [
      "Your code contains a unicode char which cannot be displayed in your\n",
      "current locale and R will silently convert it to an escaped form when the\n",
      "R kernel executes this code. This can lead to subtle errors if you use\n",
      "such chars to do comparisons. For more information, please see\n",
      "https://github.com/IRkernel/repr/wiki/Problems-with-unicode-on-windows"
     ]
    },
    {
     "data": {
      "text/html": [
       "<table>\n",
       "<caption>A tibble: 19 × 11</caption>\n",
       "<thead>\n",
       "\t<tr><th scope=col>Index</th><th scope=col>Y2011_n</th><th scope=col>Y2012_n</th><th scope=col>Y2013_n</th><th scope=col>Y2014_n</th><th scope=col>Y2015_n</th><th scope=col>Y2011_mean</th><th scope=col>Y2012_mean</th><th scope=col>Y2013_mean</th><th scope=col>Y2014_mean</th><th scope=col>Y2015_mean</th></tr>\n",
       "\t<tr><th scope=col>&lt;fct&gt;</th><th scope=col>&lt;int&gt;</th><th scope=col>&lt;int&gt;</th><th scope=col>&lt;int&gt;</th><th scope=col>&lt;int&gt;</th><th scope=col>&lt;int&gt;</th><th scope=col>&lt;dbl&gt;</th><th scope=col>&lt;dbl&gt;</th><th scope=col>&lt;dbl&gt;</th><th scope=col>&lt;dbl&gt;</th><th scope=col>&lt;dbl&gt;</th></tr>\n",
       "</thead>\n",
       "<tbody>\n",
       "\t<tr><td>A</td><td>4</td><td>4</td><td>4</td><td>4</td><td>4</td><td>1432642</td><td>1455876</td><td>1698330</td><td>1506531</td><td>1718217</td></tr>\n",
       "\t<tr><td>C</td><td>3</td><td>3</td><td>3</td><td>3</td><td>3</td><td>1750357</td><td>1547326</td><td>1305713</td><td>1425198</td><td>1564472</td></tr>\n",
       "\t<tr><td>D</td><td>2</td><td>2</td><td>2</td><td>2</td><td>2</td><td>1336059</td><td>1981868</td><td>1791967</td><td>1792669</td><td>1518846</td></tr>\n",
       "\t<tr><td>F</td><td>1</td><td>1</td><td>1</td><td>1</td><td>1</td><td>1497051</td><td>1131928</td><td>1107448</td><td>1407784</td><td>1170389</td></tr>\n",
       "\t<tr><td>G</td><td>1</td><td>1</td><td>1</td><td>1</td><td>1</td><td>1851245</td><td>1850111</td><td>1887157</td><td>1259353</td><td>1725470</td></tr>\n",
       "\t<tr><td>H</td><td>1</td><td>1</td><td>1</td><td>1</td><td>1</td><td>1902816</td><td>1695126</td><td>1517184</td><td>1948108</td><td>1150882</td></tr>\n",
       "\t<tr><td>I</td><td>4</td><td>4</td><td>4</td><td>4</td><td>4</td><td>1690171</td><td>1687056</td><td>1382871</td><td>1694821</td><td>1612542</td></tr>\n",
       "\t<tr><td>K</td><td>2</td><td>2</td><td>2</td><td>2</td><td>2</td><td>1489353</td><td>1899773</td><td>1644260</td><td>1826426</td><td>1649439</td></tr>\n",
       "\t<tr><td>L</td><td>1</td><td>1</td><td>1</td><td>1</td><td>1</td><td>1210385</td><td>1234234</td><td>1287663</td><td>1908602</td><td>1403857</td></tr>\n",
       "\t<tr><td>M</td><td>8</td><td>8</td><td>8</td><td>8</td><td>8</td><td>1582714</td><td>1586091</td><td>1653001</td><td>1596816</td><td>1710808</td></tr>\n",
       "\t<tr><td>N</td><td>8</td><td>8</td><td>8</td><td>8</td><td>8</td><td>1448351</td><td>1470316</td><td>1406180</td><td>1511282</td><td>1615302</td></tr>\n",
       "\t<tr><td>O</td><td>3</td><td>3</td><td>3</td><td>3</td><td>3</td><td>1882111</td><td>1602463</td><td>1754517</td><td>1782239</td><td>1591437</td></tr>\n",
       "\t<tr><td>P</td><td>1</td><td>1</td><td>1</td><td>1</td><td>1</td><td>1483292</td><td>1290329</td><td>1475344</td><td>1931500</td><td>1668232</td></tr>\n",
       "\t<tr><td>R</td><td>1</td><td>1</td><td>1</td><td>1</td><td>1</td><td>1781016</td><td>1909119</td><td>1531212</td><td>1990412</td><td>1611730</td></tr>\n",
       "\t<tr><td>S</td><td>2</td><td>2</td><td>2</td><td>2</td><td>2</td><td>1381724</td><td>1671744</td><td>1369612</td><td>1245626</td><td>1123549</td></tr>\n",
       "\t<tr><td>T</td><td>2</td><td>2</td><td>2</td><td>2</td><td>2</td><td>1724080</td><td>1865787</td><td>1629793</td><td>1497841</td><td>1433743</td></tr>\n",
       "\t<tr><td>U</td><td>1</td><td>1</td><td>1</td><td>1</td><td>1</td><td>1288285</td><td>1108281</td><td>1123353</td><td>1801019</td><td>1729273</td></tr>\n",
       "\t<tr><td>V</td><td>2</td><td>2</td><td>2</td><td>2</td><td>2</td><td>1482143</td><td>1488651</td><td>1396655</td><td>1494749</td><td>1708159</td></tr>\n",
       "\t<tr><td>W</td><td>4</td><td>4</td><td>4</td><td>4</td><td>4</td><td>1711341</td><td>1660192</td><td>1615276</td><td>1374363</td><td>1569057</td></tr>\n",
       "</tbody>\n",
       "</table>\n"
      ],
      "text/latex": [
       "A tibble: 19 × 11\n",
       "\\begin{tabular}{r|lllllllllll}\n",
       " Index & Y2011\\_n & Y2012\\_n & Y2013\\_n & Y2014\\_n & Y2015\\_n & Y2011\\_mean & Y2012\\_mean & Y2013\\_mean & Y2014\\_mean & Y2015\\_mean\\\\\n",
       " <fct> & <int> & <int> & <int> & <int> & <int> & <dbl> & <dbl> & <dbl> & <dbl> & <dbl>\\\\\n",
       "\\hline\n",
       "\t A & 4 & 4 & 4 & 4 & 4 & 1432642 & 1455876 & 1698330 & 1506531 & 1718217\\\\\n",
       "\t C & 3 & 3 & 3 & 3 & 3 & 1750357 & 1547326 & 1305713 & 1425198 & 1564472\\\\\n",
       "\t D & 2 & 2 & 2 & 2 & 2 & 1336059 & 1981868 & 1791967 & 1792669 & 1518846\\\\\n",
       "\t F & 1 & 1 & 1 & 1 & 1 & 1497051 & 1131928 & 1107448 & 1407784 & 1170389\\\\\n",
       "\t G & 1 & 1 & 1 & 1 & 1 & 1851245 & 1850111 & 1887157 & 1259353 & 1725470\\\\\n",
       "\t H & 1 & 1 & 1 & 1 & 1 & 1902816 & 1695126 & 1517184 & 1948108 & 1150882\\\\\n",
       "\t I & 4 & 4 & 4 & 4 & 4 & 1690171 & 1687056 & 1382871 & 1694821 & 1612542\\\\\n",
       "\t K & 2 & 2 & 2 & 2 & 2 & 1489353 & 1899773 & 1644260 & 1826426 & 1649439\\\\\n",
       "\t L & 1 & 1 & 1 & 1 & 1 & 1210385 & 1234234 & 1287663 & 1908602 & 1403857\\\\\n",
       "\t M & 8 & 8 & 8 & 8 & 8 & 1582714 & 1586091 & 1653001 & 1596816 & 1710808\\\\\n",
       "\t N & 8 & 8 & 8 & 8 & 8 & 1448351 & 1470316 & 1406180 & 1511282 & 1615302\\\\\n",
       "\t O & 3 & 3 & 3 & 3 & 3 & 1882111 & 1602463 & 1754517 & 1782239 & 1591437\\\\\n",
       "\t P & 1 & 1 & 1 & 1 & 1 & 1483292 & 1290329 & 1475344 & 1931500 & 1668232\\\\\n",
       "\t R & 1 & 1 & 1 & 1 & 1 & 1781016 & 1909119 & 1531212 & 1990412 & 1611730\\\\\n",
       "\t S & 2 & 2 & 2 & 2 & 2 & 1381724 & 1671744 & 1369612 & 1245626 & 1123549\\\\\n",
       "\t T & 2 & 2 & 2 & 2 & 2 & 1724080 & 1865787 & 1629793 & 1497841 & 1433743\\\\\n",
       "\t U & 1 & 1 & 1 & 1 & 1 & 1288285 & 1108281 & 1123353 & 1801019 & 1729273\\\\\n",
       "\t V & 2 & 2 & 2 & 2 & 2 & 1482143 & 1488651 & 1396655 & 1494749 & 1708159\\\\\n",
       "\t W & 4 & 4 & 4 & 4 & 4 & 1711341 & 1660192 & 1615276 & 1374363 & 1569057\\\\\n",
       "\\end{tabular}\n"
      ],
      "text/markdown": [
       "\n",
       "A tibble: 19 × 11\n",
       "\n",
       "| Index &lt;fct&gt; | Y2011_n &lt;int&gt; | Y2012_n &lt;int&gt; | Y2013_n &lt;int&gt; | Y2014_n &lt;int&gt; | Y2015_n &lt;int&gt; | Y2011_mean &lt;dbl&gt; | Y2012_mean &lt;dbl&gt; | Y2013_mean &lt;dbl&gt; | Y2014_mean &lt;dbl&gt; | Y2015_mean &lt;dbl&gt; |\n",
       "|---|---|---|---|---|---|---|---|---|---|---|\n",
       "| A | 4 | 4 | 4 | 4 | 4 | 1432642 | 1455876 | 1698330 | 1506531 | 1718217 |\n",
       "| C | 3 | 3 | 3 | 3 | 3 | 1750357 | 1547326 | 1305713 | 1425198 | 1564472 |\n",
       "| D | 2 | 2 | 2 | 2 | 2 | 1336059 | 1981868 | 1791967 | 1792669 | 1518846 |\n",
       "| F | 1 | 1 | 1 | 1 | 1 | 1497051 | 1131928 | 1107448 | 1407784 | 1170389 |\n",
       "| G | 1 | 1 | 1 | 1 | 1 | 1851245 | 1850111 | 1887157 | 1259353 | 1725470 |\n",
       "| H | 1 | 1 | 1 | 1 | 1 | 1902816 | 1695126 | 1517184 | 1948108 | 1150882 |\n",
       "| I | 4 | 4 | 4 | 4 | 4 | 1690171 | 1687056 | 1382871 | 1694821 | 1612542 |\n",
       "| K | 2 | 2 | 2 | 2 | 2 | 1489353 | 1899773 | 1644260 | 1826426 | 1649439 |\n",
       "| L | 1 | 1 | 1 | 1 | 1 | 1210385 | 1234234 | 1287663 | 1908602 | 1403857 |\n",
       "| M | 8 | 8 | 8 | 8 | 8 | 1582714 | 1586091 | 1653001 | 1596816 | 1710808 |\n",
       "| N | 8 | 8 | 8 | 8 | 8 | 1448351 | 1470316 | 1406180 | 1511282 | 1615302 |\n",
       "| O | 3 | 3 | 3 | 3 | 3 | 1882111 | 1602463 | 1754517 | 1782239 | 1591437 |\n",
       "| P | 1 | 1 | 1 | 1 | 1 | 1483292 | 1290329 | 1475344 | 1931500 | 1668232 |\n",
       "| R | 1 | 1 | 1 | 1 | 1 | 1781016 | 1909119 | 1531212 | 1990412 | 1611730 |\n",
       "| S | 2 | 2 | 2 | 2 | 2 | 1381724 | 1671744 | 1369612 | 1245626 | 1123549 |\n",
       "| T | 2 | 2 | 2 | 2 | 2 | 1724080 | 1865787 | 1629793 | 1497841 | 1433743 |\n",
       "| U | 1 | 1 | 1 | 1 | 1 | 1288285 | 1108281 | 1123353 | 1801019 | 1729273 |\n",
       "| V | 2 | 2 | 2 | 2 | 2 | 1482143 | 1488651 | 1396655 | 1494749 | 1708159 |\n",
       "| W | 4 | 4 | 4 | 4 | 4 | 1711341 | 1660192 | 1615276 | 1374363 | 1569057 |\n",
       "\n"
      ],
      "text/plain": [
       "   Index Y2011_n Y2012_n Y2013_n Y2014_n Y2015_n Y2011_mean Y2012_mean\n",
       "1  A     4       4       4       4       4       1432642    1455876   \n",
       "2  C     3       3       3       3       3       1750357    1547326   \n",
       "3  D     2       2       2       2       2       1336059    1981868   \n",
       "4  F     1       1       1       1       1       1497051    1131928   \n",
       "5  G     1       1       1       1       1       1851245    1850111   \n",
       "6  H     1       1       1       1       1       1902816    1695126   \n",
       "7  I     4       4       4       4       4       1690171    1687056   \n",
       "8  K     2       2       2       2       2       1489353    1899773   \n",
       "9  L     1       1       1       1       1       1210385    1234234   \n",
       "10 M     8       8       8       8       8       1582714    1586091   \n",
       "11 N     8       8       8       8       8       1448351    1470316   \n",
       "12 O     3       3       3       3       3       1882111    1602463   \n",
       "13 P     1       1       1       1       1       1483292    1290329   \n",
       "14 R     1       1       1       1       1       1781016    1909119   \n",
       "15 S     2       2       2       2       2       1381724    1671744   \n",
       "16 T     2       2       2       2       2       1724080    1865787   \n",
       "17 U     1       1       1       1       1       1288285    1108281   \n",
       "18 V     2       2       2       2       2       1482143    1488651   \n",
       "19 W     4       4       4       4       4       1711341    1660192   \n",
       "   Y2013_mean Y2014_mean Y2015_mean\n",
       "1  1698330    1506531    1718217   \n",
       "2  1305713    1425198    1564472   \n",
       "3  1791967    1792669    1518846   \n",
       "4  1107448    1407784    1170389   \n",
       "5  1887157    1259353    1725470   \n",
       "6  1517184    1948108    1150882   \n",
       "7  1382871    1694821    1612542   \n",
       "8  1644260    1826426    1649439   \n",
       "9  1287663    1908602    1403857   \n",
       "10 1653001    1596816    1710808   \n",
       "11 1406180    1511282    1615302   \n",
       "12 1754517    1782239    1591437   \n",
       "13 1475344    1931500    1668232   \n",
       "14 1531212    1990412    1611730   \n",
       "15 1369612    1245626    1123549   \n",
       "16 1629793    1497841    1433743   \n",
       "17 1123353    1801019    1729273   \n",
       "18 1396655    1494749    1708159   \n",
       "19 1615276    1374363    1569057   "
      ]
     },
     "metadata": {},
     "output_type": "display_data"
    }
   ],
   "source": [
    "t = mydata %>%                       # 魔法方法  #当换行的时候 递进操作符号  写在行的末尾  直接一串全部写完\n",
    "    group_by(Index) %>%\n",
    "    summarise_at(vars(Y2011:Y2015), funs(n(), mean(., na.rm = TRUE)))  #求个数 mean  #  na.rm = TRUE  剔除掉无法识别的数据\n",
    "t"
   ]
  },
  {
   "cell_type": "code",
   "execution_count": 9,
   "metadata": {},
   "outputs": [
    {
     "data": {
      "text/html": [
       "<table>\n",
       "<caption>A data.frame: 4 × 2</caption>\n",
       "<thead>\n",
       "\t<tr><th scope=col>Index</th><th scope=col>Y2005</th></tr>\n",
       "\t<tr><th scope=col>&lt;fct&gt;</th><th scope=col>&lt;int&gt;</th></tr>\n",
       "</thead>\n",
       "<tbody>\n",
       "\t<tr><td>A</td><td>1492583</td></tr>\n",
       "\t<tr><td>A</td><td>1447852</td></tr>\n",
       "\t<tr><td>A</td><td>1782199</td></tr>\n",
       "\t<tr><td>A</td><td>1947979</td></tr>\n",
       "</tbody>\n",
       "</table>\n"
      ],
      "text/latex": [
       "A data.frame: 4 × 2\n",
       "\\begin{tabular}{r|ll}\n",
       " Index & Y2005\\\\\n",
       " <fct> & <int>\\\\\n",
       "\\hline\n",
       "\t A & 1492583\\\\\n",
       "\t A & 1447852\\\\\n",
       "\t A & 1782199\\\\\n",
       "\t A & 1947979\\\\\n",
       "\\end{tabular}\n"
      ],
      "text/markdown": [
       "\n",
       "A data.frame: 4 × 2\n",
       "\n",
       "| Index &lt;fct&gt; | Y2005 &lt;int&gt; |\n",
       "|---|---|\n",
       "| A | 1492583 |\n",
       "| A | 1447852 |\n",
       "| A | 1782199 |\n",
       "| A | 1947979 |\n",
       "\n"
      ],
      "text/plain": [
       "  Index Y2005  \n",
       "1 A     1492583\n",
       "2 A     1447852\n",
       "3 A     1782199\n",
       "4 A     1947979"
      ]
     },
     "metadata": {},
     "output_type": "display_data"
    }
   ],
   "source": [
    "t = mydata %>%\n",
    "    filter(Index == 'A')%>%\n",
    "    select(Index,Y2005)\n",
    "t"
   ]
  },
  {
   "cell_type": "markdown",
   "metadata": {},
   "source": [
    "#### Summarize, Group and Sort Together"
   ]
  },
  {
   "cell_type": "markdown",
   "metadata": {},
   "source": [
    "we are computing mean of variables Y2014 and Y2015 by variable Index. Then sort the result by calculated mean variable Y2015."
   ]
  },
  {
   "cell_type": "code",
   "execution_count": 79,
   "metadata": {},
   "outputs": [],
   "source": [
    "#\n",
    "t = mydata %>%  \n",
    "  group_by(Index)%>%\n",
    "  summarise(Mean_2014 = mean(Y2014, na.rm=TRUE),Mean_2015 = mean(Y2015, na.rm=TRUE)) %>%\n",
    "  arrange(desc(Mean_2015))"
   ]
  },
  {
   "cell_type": "code",
   "execution_count": null,
   "metadata": {},
   "outputs": [],
   "source": [
    "#\n",
    "t = mydata %>%  \n",
    "  group_by(Index)%>%\n",
    "  summarise(Mean_2014 = mean(Y2014, na.rm=TRUE),  #  na.rm = TRUE  剔除掉无法识别的数据\n",
    "            Mean_2015 = mean(Y2015, na.rm=TRUE)) %>%\n",
    "  mutate(Var = Mean_2014 + Mean_2015)%>%\n",
    "  arrange(desc(Mean_2015))   #降序排列"
   ]
  },
  {
   "cell_type": "code",
   "execution_count": null,
   "metadata": {},
   "outputs": [],
   "source": [
    "#练习   mysql  和 R直接之间的转换"
   ]
  },
  {
   "cell_type": "code",
   "execution_count": null,
   "metadata": {},
   "outputs": [],
   "source": [
    "select average(Y2014),average(Y20150),average(Y2014)+average(Y2015)\n",
    "from mydata\n",
    "group by Index\n",
    "order by 2,desc"
   ]
  },
  {
   "cell_type": "code",
   "execution_count": 8,
   "metadata": {},
   "outputs": [
    {
     "name": "stderr",
     "output_type": "stream",
     "text": [
      "Your code contains a unicode char which cannot be displayed in your\n",
      "current locale and R will silently convert it to an escaped form when the\n",
      "R kernel executes this code. This can lead to subtle errors if you use\n",
      "such chars to do comparisons. For more information, please see\n",
      "https://github.com/IRkernel/repr/wiki/Problems-with-unicode-on-windows"
     ]
    },
    {
     "data": {
      "text/html": [
       "<table>\n",
       "<caption>A data.frame: 10 × 2</caption>\n",
       "<thead>\n",
       "\t<tr><th scope=col>Index</th><th scope=col>State</th></tr>\n",
       "\t<tr><th scope=col>&lt;fct&gt;</th><th scope=col>&lt;fct&gt;</th></tr>\n",
       "</thead>\n",
       "<tbody>\n",
       "\t<tr><td>M</td><td>Montana     </td></tr>\n",
       "\t<tr><td>N</td><td>New Jersey  </td></tr>\n",
       "\t<tr><td>A</td><td>Alabama     </td></tr>\n",
       "\t<tr><td>S</td><td>South Dakota</td></tr>\n",
       "\t<tr><td>U</td><td>Utah        </td></tr>\n",
       "\t<tr><td>O</td><td>Oklahoma    </td></tr>\n",
       "\t<tr><td>M</td><td>Maryland    </td></tr>\n",
       "\t<tr><td>N</td><td>New York    </td></tr>\n",
       "\t<tr><td>M</td><td>Maine       </td></tr>\n",
       "\t<tr><td>N</td><td>North Dakota</td></tr>\n",
       "</tbody>\n",
       "</table>\n"
      ],
      "text/latex": [
       "A data.frame: 10 × 2\n",
       "\\begin{tabular}{r|ll}\n",
       " Index & State\\\\\n",
       " <fct> & <fct>\\\\\n",
       "\\hline\n",
       "\t M & Montana     \\\\\n",
       "\t N & New Jersey  \\\\\n",
       "\t A & Alabama     \\\\\n",
       "\t S & South Dakota\\\\\n",
       "\t U & Utah        \\\\\n",
       "\t O & Oklahoma    \\\\\n",
       "\t M & Maryland    \\\\\n",
       "\t N & New York    \\\\\n",
       "\t M & Maine       \\\\\n",
       "\t N & North Dakota\\\\\n",
       "\\end{tabular}\n"
      ],
      "text/markdown": [
       "\n",
       "A data.frame: 10 × 2\n",
       "\n",
       "| Index &lt;fct&gt; | State &lt;fct&gt; |\n",
       "|---|---|\n",
       "| M | Montana      |\n",
       "| N | New Jersey   |\n",
       "| A | Alabama      |\n",
       "| S | South Dakota |\n",
       "| U | Utah         |\n",
       "| O | Oklahoma     |\n",
       "| M | Maryland     |\n",
       "| N | New York     |\n",
       "| M | Maine        |\n",
       "| N | North Dakota |\n",
       "\n"
      ],
      "text/plain": [
       "   Index State       \n",
       "1  M     Montana     \n",
       "2  N     New Jersey  \n",
       "3  A     Alabama     \n",
       "4  S     South Dakota\n",
       "5  U     Utah        \n",
       "6  O     Oklahoma    \n",
       "7  M     Maryland    \n",
       "8  N     New York    \n",
       "9  M     Maine       \n",
       "10 N     North Dakota"
      ]
     },
     "metadata": {},
     "output_type": "display_data"
    }
   ],
   "source": [
    "mydata %>%                # 选择两列之后，前10行\n",
    "    select(Index,State) %>%\n",
    "    sample_n(10)"
   ]
  },
  {
   "cell_type": "markdown",
   "metadata": {},
   "source": [
    "#### mutate() function  创建新的变量"
   ]
  },
  {
   "cell_type": "markdown",
   "metadata": {},
   "source": [
    "Creates new variables"
   ]
  },
  {
   "cell_type": "markdown",
   "metadata": {},
   "source": [
    "#### Create a new variable"
   ]
  },
  {
   "cell_type": "code",
   "execution_count": 80,
   "metadata": {},
   "outputs": [],
   "source": [
    "mydata1 = mutate(mydata, change=Y2015/Y2014)"
   ]
  },
  {
   "cell_type": "markdown",
   "metadata": {},
   "source": [
    "#### Cumulative Income of 'Index' variable"
   ]
  },
  {
   "cell_type": "markdown",
   "metadata": {},
   "source": [
    "The cumsum function calculates cumulative sum of a variable. With mutate function, we insert a new variable called 'Total' which contains values of cumulative income of variable Index."
   ]
  },
  {
   "cell_type": "code",
   "execution_count": 81,
   "metadata": {},
   "outputs": [],
   "source": [
    "out2 = mydata %>% \n",
    "  group_by(Index) %>% \n",
    "  mutate(Total=cumsum(Y2015)) %>%  #添加一列  累计求和\n",
    "  select(Index, Y2015, Total)  #选择3列"
   ]
  },
  {
   "cell_type": "markdown",
   "metadata": {},
   "source": [
    "#### join() function"
   ]
  },
  {
   "cell_type": "markdown",
   "metadata": {},
   "source": [
    "Join two datasets"
   ]
  },
  {
   "cell_type": "markdown",
   "metadata": {},
   "source": [
    "inner_join(x, y, by = )    by 后面跟相同的一列\n",
    "\n",
    "left_join(x, y, by = )  \n",
    "right_join(x, y, by = )  \n",
    "full_join(x, y, by = )  \n",
    "semi_join(x, y, by = )  \n",
    "anti_join(x, y, by = )  "
   ]
  },
  {
   "cell_type": "markdown",
   "metadata": {},
   "source": [
    "#### Common rows in both the tables"
   ]
  },
  {
   "cell_type": "code",
   "execution_count": 11,
   "metadata": {},
   "outputs": [
    {
     "data": {
      "text/html": [
       "<table>\n",
       "<caption>A data.frame: 5 × 5</caption>\n",
       "<thead>\n",
       "\t<tr><th scope=col>ID</th><th scope=col>w</th><th scope=col>x</th><th scope=col>y</th><th scope=col>z</th></tr>\n",
       "\t<tr><th scope=col>&lt;dbl&gt;</th><th scope=col>&lt;fct&gt;</th><th scope=col>&lt;dbl&gt;</th><th scope=col>&lt;dbl&gt;</th><th scope=col>&lt;fct&gt;</th></tr>\n",
       "</thead>\n",
       "<tbody>\n",
       "\t<tr><td>1</td><td>a</td><td>1</td><td> 2.1183354</td><td>a</td></tr>\n",
       "\t<tr><td>2</td><td>b</td><td>1</td><td> 0.1073889</td><td>b</td></tr>\n",
       "\t<tr><td>3</td><td>c</td><td>0</td><td>-0.8755723</td><td>c</td></tr>\n",
       "\t<tr><td>4</td><td>d</td><td>0</td><td> 1.8575866</td><td>d</td></tr>\n",
       "\t<tr><td>5</td><td>e</td><td>1</td><td>-0.4889237</td><td>e</td></tr>\n",
       "</tbody>\n",
       "</table>\n"
      ],
      "text/latex": [
       "A data.frame: 5 × 5\n",
       "\\begin{tabular}{r|lllll}\n",
       " ID & w & x & y & z\\\\\n",
       " <dbl> & <fct> & <dbl> & <dbl> & <fct>\\\\\n",
       "\\hline\n",
       "\t 1 & a & 1 &  2.1183354 & a\\\\\n",
       "\t 2 & b & 1 &  0.1073889 & b\\\\\n",
       "\t 3 & c & 0 & -0.8755723 & c\\\\\n",
       "\t 4 & d & 0 &  1.8575866 & d\\\\\n",
       "\t 5 & e & 1 & -0.4889237 & e\\\\\n",
       "\\end{tabular}\n"
      ],
      "text/markdown": [
       "\n",
       "A data.frame: 5 × 5\n",
       "\n",
       "| ID &lt;dbl&gt; | w &lt;fct&gt; | x &lt;dbl&gt; | y &lt;dbl&gt; | z &lt;fct&gt; |\n",
       "|---|---|---|---|---|\n",
       "| 1 | a | 1 |  2.1183354 | a |\n",
       "| 2 | b | 1 |  0.1073889 | b |\n",
       "| 3 | c | 0 | -0.8755723 | c |\n",
       "| 4 | d | 0 |  1.8575866 | d |\n",
       "| 5 | e | 1 | -0.4889237 | e |\n",
       "\n"
      ],
      "text/plain": [
       "  ID w x y          z\n",
       "1 1  a 1  2.1183354 a\n",
       "2 2  b 1  0.1073889 b\n",
       "3 3  c 0 -0.8755723 c\n",
       "4 4  d 0  1.8575866 d\n",
       "5 5  e 1 -0.4889237 e"
      ]
     },
     "metadata": {},
     "output_type": "display_data"
    },
    {
     "data": {
      "text/html": [
       "<table>\n",
       "<caption>A data.frame: 5 × 5</caption>\n",
       "<thead>\n",
       "\t<tr><th scope=col>ID</th><th scope=col>a</th><th scope=col>b</th><th scope=col>c</th><th scope=col>d</th></tr>\n",
       "\t<tr><th scope=col>&lt;dbl&gt;</th><th scope=col>&lt;fct&gt;</th><th scope=col>&lt;dbl&gt;</th><th scope=col>&lt;dbl&gt;</th><th scope=col>&lt;fct&gt;</th></tr>\n",
       "</thead>\n",
       "<tbody>\n",
       "\t<tr><td>1</td><td>z</td><td>1</td><td>-1.07946526</td><td>b</td></tr>\n",
       "\t<tr><td>7</td><td>b</td><td>2</td><td>-0.05954807</td><td>c</td></tr>\n",
       "\t<tr><td>3</td><td>k</td><td>3</td><td>-0.04198275</td><td>d</td></tr>\n",
       "\t<tr><td>6</td><td>d</td><td>0</td><td> 0.83161504</td><td>e</td></tr>\n",
       "\t<tr><td>8</td><td>l</td><td>4</td><td>-1.18265073</td><td>f</td></tr>\n",
       "</tbody>\n",
       "</table>\n"
      ],
      "text/latex": [
       "A data.frame: 5 × 5\n",
       "\\begin{tabular}{r|lllll}\n",
       " ID & a & b & c & d\\\\\n",
       " <dbl> & <fct> & <dbl> & <dbl> & <fct>\\\\\n",
       "\\hline\n",
       "\t 1 & z & 1 & -1.07946526 & b\\\\\n",
       "\t 7 & b & 2 & -0.05954807 & c\\\\\n",
       "\t 3 & k & 3 & -0.04198275 & d\\\\\n",
       "\t 6 & d & 0 &  0.83161504 & e\\\\\n",
       "\t 8 & l & 4 & -1.18265073 & f\\\\\n",
       "\\end{tabular}\n"
      ],
      "text/markdown": [
       "\n",
       "A data.frame: 5 × 5\n",
       "\n",
       "| ID &lt;dbl&gt; | a &lt;fct&gt; | b &lt;dbl&gt; | c &lt;dbl&gt; | d &lt;fct&gt; |\n",
       "|---|---|---|---|---|\n",
       "| 1 | z | 1 | -1.07946526 | b |\n",
       "| 7 | b | 2 | -0.05954807 | c |\n",
       "| 3 | k | 3 | -0.04198275 | d |\n",
       "| 6 | d | 0 |  0.83161504 | e |\n",
       "| 8 | l | 4 | -1.18265073 | f |\n",
       "\n"
      ],
      "text/plain": [
       "  ID a b c           d\n",
       "1 1  z 1 -1.07946526 b\n",
       "2 7  b 2 -0.05954807 c\n",
       "3 3  k 3 -0.04198275 d\n",
       "4 6  d 0  0.83161504 e\n",
       "5 8  l 4 -1.18265073 f"
      ]
     },
     "metadata": {},
     "output_type": "display_data"
    }
   ],
   "source": [
    "df1 = data.frame(ID = c(1, 2, 3, 4, 5)，\n",
    "                 w = c('a', 'b', 'c', 'd', 'e'),\n",
    "                 x = c(1, 1, 0, 0, 1),\n",
    "                 y=rnorm(5),\n",
    "                 z=letters[1:5])\n",
    "df1\n",
    "df2 = data.frame(ID = c(1, 7, 3, 6, 8),\n",
    "                 a = c('z', 'b', 'k', 'd', 'l'),\n",
    "                 b = c(1, 2, 3, 0, 4),\n",
    "                 c =rnorm(5),\n",
    "                 d =letters[2:6])\n",
    "df2"
   ]
  },
  {
   "cell_type": "code",
   "execution_count": 13,
   "metadata": {},
   "outputs": [
    {
     "data": {
      "text/html": [
       "<table>\n",
       "<caption>A data.frame: 2 × 9</caption>\n",
       "<thead>\n",
       "\t<tr><th scope=col>ID</th><th scope=col>w</th><th scope=col>x</th><th scope=col>y</th><th scope=col>z</th><th scope=col>a</th><th scope=col>b</th><th scope=col>c</th><th scope=col>d</th></tr>\n",
       "\t<tr><th scope=col>&lt;dbl&gt;</th><th scope=col>&lt;fct&gt;</th><th scope=col>&lt;dbl&gt;</th><th scope=col>&lt;dbl&gt;</th><th scope=col>&lt;fct&gt;</th><th scope=col>&lt;fct&gt;</th><th scope=col>&lt;dbl&gt;</th><th scope=col>&lt;dbl&gt;</th><th scope=col>&lt;fct&gt;</th></tr>\n",
       "</thead>\n",
       "<tbody>\n",
       "\t<tr><td>1</td><td>a</td><td>1</td><td> 2.1183354</td><td>a</td><td>z</td><td>1</td><td>-1.07946526</td><td>b</td></tr>\n",
       "\t<tr><td>3</td><td>c</td><td>0</td><td>-0.8755723</td><td>c</td><td>k</td><td>3</td><td>-0.04198275</td><td>d</td></tr>\n",
       "</tbody>\n",
       "</table>\n"
      ],
      "text/latex": [
       "A data.frame: 2 × 9\n",
       "\\begin{tabular}{r|lllllllll}\n",
       " ID & w & x & y & z & a & b & c & d\\\\\n",
       " <dbl> & <fct> & <dbl> & <dbl> & <fct> & <fct> & <dbl> & <dbl> & <fct>\\\\\n",
       "\\hline\n",
       "\t 1 & a & 1 &  2.1183354 & a & z & 1 & -1.07946526 & b\\\\\n",
       "\t 3 & c & 0 & -0.8755723 & c & k & 3 & -0.04198275 & d\\\\\n",
       "\\end{tabular}\n"
      ],
      "text/markdown": [
       "\n",
       "A data.frame: 2 × 9\n",
       "\n",
       "| ID &lt;dbl&gt; | w &lt;fct&gt; | x &lt;dbl&gt; | y &lt;dbl&gt; | z &lt;fct&gt; | a &lt;fct&gt; | b &lt;dbl&gt; | c &lt;dbl&gt; | d &lt;fct&gt; |\n",
       "|---|---|---|---|---|---|---|---|---|\n",
       "| 1 | a | 1 |  2.1183354 | a | z | 1 | -1.07946526 | b |\n",
       "| 3 | c | 0 | -0.8755723 | c | k | 3 | -0.04198275 | d |\n",
       "\n"
      ],
      "text/plain": [
       "  ID w x y          z a b c           d\n",
       "1 1  a 1  2.1183354 a z 1 -1.07946526 b\n",
       "2 3  c 0 -0.8755723 c k 3 -0.04198275 d"
      ]
     },
     "metadata": {},
     "output_type": "display_data"
    },
    {
     "data": {
      "text/html": [
       "<table>\n",
       "<caption>A data.frame: 5 × 9</caption>\n",
       "<thead>\n",
       "\t<tr><th scope=col>ID</th><th scope=col>w</th><th scope=col>x</th><th scope=col>y</th><th scope=col>z</th><th scope=col>a</th><th scope=col>b</th><th scope=col>c</th><th scope=col>d</th></tr>\n",
       "\t<tr><th scope=col>&lt;dbl&gt;</th><th scope=col>&lt;fct&gt;</th><th scope=col>&lt;dbl&gt;</th><th scope=col>&lt;dbl&gt;</th><th scope=col>&lt;fct&gt;</th><th scope=col>&lt;fct&gt;</th><th scope=col>&lt;dbl&gt;</th><th scope=col>&lt;dbl&gt;</th><th scope=col>&lt;fct&gt;</th></tr>\n",
       "</thead>\n",
       "<tbody>\n",
       "\t<tr><td>1</td><td>a</td><td>1</td><td> 2.1183354</td><td>a</td><td>z </td><td> 1</td><td>-1.07946526</td><td>b </td></tr>\n",
       "\t<tr><td>2</td><td>b</td><td>1</td><td> 0.1073889</td><td>b</td><td>NA</td><td>NA</td><td>         NA</td><td>NA</td></tr>\n",
       "\t<tr><td>3</td><td>c</td><td>0</td><td>-0.8755723</td><td>c</td><td>k </td><td> 3</td><td>-0.04198275</td><td>d </td></tr>\n",
       "\t<tr><td>4</td><td>d</td><td>0</td><td> 1.8575866</td><td>d</td><td>NA</td><td>NA</td><td>         NA</td><td>NA</td></tr>\n",
       "\t<tr><td>5</td><td>e</td><td>1</td><td>-0.4889237</td><td>e</td><td>NA</td><td>NA</td><td>         NA</td><td>NA</td></tr>\n",
       "</tbody>\n",
       "</table>\n"
      ],
      "text/latex": [
       "A data.frame: 5 × 9\n",
       "\\begin{tabular}{r|lllllllll}\n",
       " ID & w & x & y & z & a & b & c & d\\\\\n",
       " <dbl> & <fct> & <dbl> & <dbl> & <fct> & <fct> & <dbl> & <dbl> & <fct>\\\\\n",
       "\\hline\n",
       "\t 1 & a & 1 &  2.1183354 & a & z  &  1 & -1.07946526 & b \\\\\n",
       "\t 2 & b & 1 &  0.1073889 & b & NA & NA &          NA & NA\\\\\n",
       "\t 3 & c & 0 & -0.8755723 & c & k  &  3 & -0.04198275 & d \\\\\n",
       "\t 4 & d & 0 &  1.8575866 & d & NA & NA &          NA & NA\\\\\n",
       "\t 5 & e & 1 & -0.4889237 & e & NA & NA &          NA & NA\\\\\n",
       "\\end{tabular}\n"
      ],
      "text/markdown": [
       "\n",
       "A data.frame: 5 × 9\n",
       "\n",
       "| ID &lt;dbl&gt; | w &lt;fct&gt; | x &lt;dbl&gt; | y &lt;dbl&gt; | z &lt;fct&gt; | a &lt;fct&gt; | b &lt;dbl&gt; | c &lt;dbl&gt; | d &lt;fct&gt; |\n",
       "|---|---|---|---|---|---|---|---|---|\n",
       "| 1 | a | 1 |  2.1183354 | a | z  |  1 | -1.07946526 | b  |\n",
       "| 2 | b | 1 |  0.1073889 | b | NA | NA |          NA | NA |\n",
       "| 3 | c | 0 | -0.8755723 | c | k  |  3 | -0.04198275 | d  |\n",
       "| 4 | d | 0 |  1.8575866 | d | NA | NA |          NA | NA |\n",
       "| 5 | e | 1 | -0.4889237 | e | NA | NA |          NA | NA |\n",
       "\n"
      ],
      "text/plain": [
       "  ID w x y          z a  b  c           d \n",
       "1 1  a 1  2.1183354 a z   1 -1.07946526 b \n",
       "2 2  b 1  0.1073889 b NA NA          NA NA\n",
       "3 3  c 0 -0.8755723 c k   3 -0.04198275 d \n",
       "4 4  d 0  1.8575866 d NA NA          NA NA\n",
       "5 5  e 1 -0.4889237 e NA NA          NA NA"
      ]
     },
     "metadata": {},
     "output_type": "display_data"
    }
   ],
   "source": [
    "df3 = inner_join(df1, df2, by = \"ID\")\n",
    "df3\n",
    "df4 = left_join(df1, df2, by = \"ID\")  #df1 中的全部返回\n",
    "df4"
   ]
  },
  {
   "cell_type": "markdown",
   "metadata": {},
   "source": [
    "#### IF ELSE Statement"
   ]
  },
  {
   "cell_type": "markdown",
   "metadata": {},
   "source": [
    "if_else(condition, true, false, missing = NULL)  "
   ]
  },
  {
   "cell_type": "code",
   "execution_count": 14,
   "metadata": {},
   "outputs": [
    {
     "name": "stderr",
     "output_type": "stream",
     "text": [
      "Your code contains a unicode char which cannot be displayed in your\n",
      "current locale and R will silently convert it to an escaped form when the\n",
      "R kernel executes this code. This can lead to subtle errors if you use\n",
      "such chars to do comparisons. For more information, please see\n",
      "https://github.com/IRkernel/repr/wiki/Problems-with-unicode-on-windows"
     ]
    },
    {
     "data": {
      "text/html": [
       "<ol class=list-inline>\n",
       "\t<li>'negative'</li>\n",
       "\t<li>'positive'</li>\n",
       "\t<li>'missing value'</li>\n",
       "</ol>\n"
      ],
      "text/latex": [
       "\\begin{enumerate*}\n",
       "\\item 'negative'\n",
       "\\item 'positive'\n",
       "\\item 'missing value'\n",
       "\\end{enumerate*}\n"
      ],
      "text/markdown": [
       "1. 'negative'\n",
       "2. 'positive'\n",
       "3. 'missing value'\n",
       "\n",
       "\n"
      ],
      "text/plain": [
       "[1] \"negative\"      \"positive\"      \"missing value\""
      ]
     },
     "metadata": {},
     "output_type": "display_data"
    }
   ],
   "source": [
    "df <- c(-10,2, NA)\n",
    "if_else(df < 0, \"negative\", \"positive\", missing = \"missing value\") # 满足的话返回一个值，不满足的话返回一个值，如果missing 就打印missing value"
   ]
  },
  {
   "cell_type": "markdown",
   "metadata": {},
   "source": [
    "#### Create a new variable with IF_ELSE"
   ]
  },
  {
   "cell_type": "markdown",
   "metadata": {},
   "source": [
    "If a value is less than 5, add it to 1 and if it is greater than or equal to 5, add it to 2. Otherwise 0."
   ]
  },
  {
   "cell_type": "code",
   "execution_count": 15,
   "metadata": {},
   "outputs": [
    {
     "data": {
      "text/html": [
       "<table>\n",
       "<caption>A data.frame: 4 × 2</caption>\n",
       "<thead>\n",
       "\t<tr><th scope=col>x</th><th scope=col>newvar</th></tr>\n",
       "\t<tr><th scope=col>&lt;dbl&gt;</th><th scope=col>&lt;dbl&gt;</th></tr>\n",
       "</thead>\n",
       "<tbody>\n",
       "\t<tr><td> 1</td><td>2</td></tr>\n",
       "\t<tr><td> 5</td><td>7</td></tr>\n",
       "\t<tr><td> 6</td><td>8</td></tr>\n",
       "\t<tr><td>NA</td><td>0</td></tr>\n",
       "</tbody>\n",
       "</table>\n"
      ],
      "text/latex": [
       "A data.frame: 4 × 2\n",
       "\\begin{tabular}{r|ll}\n",
       " x & newvar\\\\\n",
       " <dbl> & <dbl>\\\\\n",
       "\\hline\n",
       "\t  1 & 2\\\\\n",
       "\t  5 & 7\\\\\n",
       "\t  6 & 8\\\\\n",
       "\t NA & 0\\\\\n",
       "\\end{tabular}\n"
      ],
      "text/markdown": [
       "\n",
       "A data.frame: 4 × 2\n",
       "\n",
       "| x &lt;dbl&gt; | newvar &lt;dbl&gt; |\n",
       "|---|---|\n",
       "|  1 | 2 |\n",
       "|  5 | 7 |\n",
       "|  6 | 8 |\n",
       "| NA | 0 |\n",
       "\n"
      ],
      "text/plain": [
       "  x  newvar\n",
       "1  1 2     \n",
       "2  5 7     \n",
       "3  6 8     \n",
       "4 NA 0     "
      ]
     },
     "metadata": {},
     "output_type": "display_data"
    }
   ],
   "source": [
    "df =data.frame(x = c(1,5,6,NA))\n",
    "\n",
    "df %>% mutate(newvar=if_else(x<5, x+1, x+2,0))"
   ]
  },
  {
   "cell_type": "markdown",
   "metadata": {},
   "source": [
    "#### SQL-Style CASE WHEN Statement"
   ]
  },
  {
   "cell_type": "code",
   "execution_count": 86,
   "metadata": {},
   "outputs": [
    {
     "name": "stderr",
     "output_type": "stream",
     "text": [
      "Your code contains a unicode char which cannot be displayed in your\n",
      "current locale and R will silently convert it to an escaped form when the\n",
      "R kernel executes this code. This can lead to subtle errors if you use\n",
      "such chars to do comparisons. For more information, please see\n",
      "https://github.com/IRkernel/repr/wiki/Problems-with-unicode-on-windows"
     ]
    },
    {
     "data": {
      "text/html": [
       "<table>\n",
       "<caption>A data.frame: 4 × 2</caption>\n",
       "<thead>\n",
       "\t<tr><th scope=col>x</th><th scope=col>flag</th></tr>\n",
       "\t<tr><th scope=col>&lt;dbl&gt;</th><th scope=col>&lt;chr&gt;</th></tr>\n",
       "</thead>\n",
       "<tbody>\n",
       "\t<tr><td> 1</td><td>I am one    </td></tr>\n",
       "\t<tr><td> 5</td><td>Others      </td></tr>\n",
       "\t<tr><td> 6</td><td>Others      </td></tr>\n",
       "\t<tr><td>NA</td><td>I am missing</td></tr>\n",
       "</tbody>\n",
       "</table>\n"
      ],
      "text/latex": [
       "A data.frame: 4 × 2\n",
       "\\begin{tabular}{r|ll}\n",
       " x & flag\\\\\n",
       " <dbl> & <chr>\\\\\n",
       "\\hline\n",
       "\t  1 & I am one    \\\\\n",
       "\t  5 & Others      \\\\\n",
       "\t  6 & Others      \\\\\n",
       "\t NA & I am missing\\\\\n",
       "\\end{tabular}\n"
      ],
      "text/markdown": [
       "\n",
       "A data.frame: 4 × 2\n",
       "\n",
       "| x &lt;dbl&gt; | flag &lt;chr&gt; |\n",
       "|---|---|\n",
       "|  1 | I am one     |\n",
       "|  5 | Others       |\n",
       "|  6 | Others       |\n",
       "| NA | I am missing |\n",
       "\n"
      ],
      "text/plain": [
       "  x  flag        \n",
       "1  1 I am one    \n",
       "2  5 Others      \n",
       "3  6 Others      \n",
       "4 NA I am missing"
      ]
     },
     "metadata": {},
     "output_type": "display_data"
    }
   ],
   "source": [
    "df %>% mutate(flag = case_when(is.na(x) ~ \"I am missing\",    # mutate 创建新的变量\n",
    "                                x == 1 ~ \"I am one\",\n",
    "                                x == 2 ~ \"I am two\",\n",
    "                                x == 3 ~ \"I am three\",\n",
    "                                TRUE ~ \"Others\"))"
   ]
  },
  {
   "cell_type": "markdown",
   "metadata": {},
   "source": [
    "#### Automate Model Building   自动化模型的建立"
   ]
  },
  {
   "cell_type": "markdown",
   "metadata": {},
   "source": [
    "This example explains the advanced usage of do() function. In this example, we are building linear regression model for each level of a categorical variable. There are 3 levels in variable cyl of dataset mtcars.  \n",
    "本示例说明do（）函数的高级用法。 在此示例中，我们正在为分类变量的每个级别构建线性回归模型。 数据集mtcars的变量cyl中有3个级别"
   ]
  },
  {
   "cell_type": "code",
   "execution_count": 18,
   "metadata": {},
   "outputs": [
    {
     "data": {
      "text/html": [
       "3"
      ],
      "text/latex": [
       "3"
      ],
      "text/markdown": [
       "3"
      ],
      "text/plain": [
       "[1] 3"
      ]
     },
     "metadata": {},
     "output_type": "display_data"
    }
   ],
   "source": [
    "length(unique(mtcars$cyl))"
   ]
  },
  {
   "cell_type": "code",
   "execution_count": 20,
   "metadata": {
    "scrolled": true
   },
   "outputs": [
    {
     "name": "stderr",
     "output_type": "stream",
     "text": [
      "Your code contains a unicode char which cannot be displayed in your\n",
      "current locale and R will silently convert it to an escaped form when the\n",
      "R kernel executes this code. This can lead to subtle errors if you use\n",
      "such chars to do comparisons. For more information, please see\n",
      "https://github.com/IRkernel/repr/wiki/Problems-with-unicode-on-windows"
     ]
    },
    {
     "data": {
      "text/html": [
       "<table>\n",
       "<caption>A tibble: 3 × 1</caption>\n",
       "<thead>\n",
       "\t<tr><th scope=col>rsq</th></tr>\n",
       "\t<tr><th scope=col>&lt;dbl&gt;</th></tr>\n",
       "</thead>\n",
       "<tbody>\n",
       "\t<tr><td>0.64840514</td></tr>\n",
       "\t<tr><td>0.01062604</td></tr>\n",
       "\t<tr><td>0.27015777</td></tr>\n",
       "</tbody>\n",
       "</table>\n"
      ],
      "text/latex": [
       "A tibble: 3 × 1\n",
       "\\begin{tabular}{r|l}\n",
       " rsq\\\\\n",
       " <dbl>\\\\\n",
       "\\hline\n",
       "\t 0.64840514\\\\\n",
       "\t 0.01062604\\\\\n",
       "\t 0.27015777\\\\\n",
       "\\end{tabular}\n"
      ],
      "text/markdown": [
       "\n",
       "A tibble: 3 × 1\n",
       "\n",
       "| rsq &lt;dbl&gt; |\n",
       "|---|\n",
       "| 0.64840514 |\n",
       "| 0.01062604 |\n",
       "| 0.27015777 |\n",
       "\n"
      ],
      "text/plain": [
       "  rsq       \n",
       "1 0.64840514\n",
       "2 0.01062604\n",
       "3 0.27015777"
      ]
     },
     "metadata": {},
     "output_type": "display_data"
    },
    {
     "data": {
      "text/html": [
       "<table>\n",
       "<caption>A rowwise_df: 6 × 5</caption>\n",
       "<thead>\n",
       "\t<tr><th scope=col>var</th><th scope=col>Estimate</th><th scope=col>Std..Error</th><th scope=col>t.value</th><th scope=col>Pr...t..</th></tr>\n",
       "\t<tr><th scope=col>&lt;fct&gt;</th><th scope=col>&lt;dbl&gt;</th><th scope=col>&lt;dbl&gt;</th><th scope=col>&lt;dbl&gt;</th><th scope=col>&lt;dbl&gt;</th></tr>\n",
       "</thead>\n",
       "<tbody>\n",
       "\t<tr><td>(Intercept)</td><td>40.871955322</td><td>3.589605400</td><td>11.3861973</td><td>1.202715e-06</td></tr>\n",
       "\t<tr><td>disp       </td><td>-0.135141815</td><td>0.033171608</td><td>-4.0740206</td><td>2.782827e-03</td></tr>\n",
       "\t<tr><td>(Intercept)</td><td>19.081987419</td><td>2.913992892</td><td> 6.5483988</td><td>1.243968e-03</td></tr>\n",
       "\t<tr><td>disp       </td><td> 0.003605119</td><td>0.015557115</td><td> 0.2317344</td><td>8.259297e-01</td></tr>\n",
       "\t<tr><td>(Intercept)</td><td>22.032798914</td><td>3.345241115</td><td> 6.5863112</td><td>2.588765e-05</td></tr>\n",
       "\t<tr><td>disp       </td><td>-0.019634095</td><td>0.009315926</td><td>-2.1075838</td><td>5.677488e-02</td></tr>\n",
       "</tbody>\n",
       "</table>\n"
      ],
      "text/latex": [
       "A rowwise_df: 6 × 5\n",
       "\\begin{tabular}{r|lllll}\n",
       " var & Estimate & Std..Error & t.value & Pr...t..\\\\\n",
       " <fct> & <dbl> & <dbl> & <dbl> & <dbl>\\\\\n",
       "\\hline\n",
       "\t (Intercept) & 40.871955322 & 3.589605400 & 11.3861973 & 1.202715e-06\\\\\n",
       "\t disp        & -0.135141815 & 0.033171608 & -4.0740206 & 2.782827e-03\\\\\n",
       "\t (Intercept) & 19.081987419 & 2.913992892 &  6.5483988 & 1.243968e-03\\\\\n",
       "\t disp        &  0.003605119 & 0.015557115 &  0.2317344 & 8.259297e-01\\\\\n",
       "\t (Intercept) & 22.032798914 & 3.345241115 &  6.5863112 & 2.588765e-05\\\\\n",
       "\t disp        & -0.019634095 & 0.009315926 & -2.1075838 & 5.677488e-02\\\\\n",
       "\\end{tabular}\n"
      ],
      "text/markdown": [
       "\n",
       "A rowwise_df: 6 × 5\n",
       "\n",
       "| var &lt;fct&gt; | Estimate &lt;dbl&gt; | Std..Error &lt;dbl&gt; | t.value &lt;dbl&gt; | Pr...t.. &lt;dbl&gt; |\n",
       "|---|---|---|---|---|\n",
       "| (Intercept) | 40.871955322 | 3.589605400 | 11.3861973 | 1.202715e-06 |\n",
       "| disp        | -0.135141815 | 0.033171608 | -4.0740206 | 2.782827e-03 |\n",
       "| (Intercept) | 19.081987419 | 2.913992892 |  6.5483988 | 1.243968e-03 |\n",
       "| disp        |  0.003605119 | 0.015557115 |  0.2317344 | 8.259297e-01 |\n",
       "| (Intercept) | 22.032798914 | 3.345241115 |  6.5863112 | 2.588765e-05 |\n",
       "| disp        | -0.019634095 | 0.009315926 | -2.1075838 | 5.677488e-02 |\n",
       "\n"
      ],
      "text/plain": [
       "  var         Estimate     Std..Error  t.value    Pr...t..    \n",
       "1 (Intercept) 40.871955322 3.589605400 11.3861973 1.202715e-06\n",
       "2 disp        -0.135141815 0.033171608 -4.0740206 2.782827e-03\n",
       "3 (Intercept) 19.081987419 2.913992892  6.5483988 1.243968e-03\n",
       "4 disp         0.003605119 0.015557115  0.2317344 8.259297e-01\n",
       "5 (Intercept) 22.032798914 3.345241115  6.5863112 2.588765e-05\n",
       "6 disp        -0.019634095 0.009315926 -2.1075838 5.677488e-02"
      ]
     },
     "metadata": {},
     "output_type": "display_data"
    }
   ],
   "source": [
    "by_cyl <- group_by(mtcars, cyl)  #分组\n",
    "\n",
    "models <- by_cyl %>% do(mod = lm(mpg ~ disp, data = .)) # 这一行是固定写法     lm 就是线性回归模型 mpg ==y   disp==x\n",
    "  \n",
    "summarise(models, rsq = summary(mod)$r.squared)\n",
    "\n",
    "models %>% do(data.frame(\n",
    "    \n",
    "var = names(coef(.$mod)),\n",
    "                 \n",
    "coef(summary(.$mod)))\n",
    ")"
   ]
  },
  {
   "cell_type": "code",
   "execution_count": 21,
   "metadata": {},
   "outputs": [
    {
     "data": {
      "text/html": [
       "<ol class=list-inline>\n",
       "\t<li>'grouped_df'</li>\n",
       "\t<li>'tbl_df'</li>\n",
       "\t<li>'tbl'</li>\n",
       "\t<li>'data.frame'</li>\n",
       "</ol>\n"
      ],
      "text/latex": [
       "\\begin{enumerate*}\n",
       "\\item 'grouped\\_df'\n",
       "\\item 'tbl\\_df'\n",
       "\\item 'tbl'\n",
       "\\item 'data.frame'\n",
       "\\end{enumerate*}\n"
      ],
      "text/markdown": [
       "1. 'grouped_df'\n",
       "2. 'tbl_df'\n",
       "3. 'tbl'\n",
       "4. 'data.frame'\n",
       "\n",
       "\n"
      ],
      "text/plain": [
       "[1] \"grouped_df\" \"tbl_df\"     \"tbl\"        \"data.frame\""
      ]
     },
     "metadata": {},
     "output_type": "display_data"
    }
   ],
   "source": [
    "class(by_cyl)"
   ]
  },
  {
   "cell_type": "code",
   "execution_count": null,
   "metadata": {},
   "outputs": [],
   "source": [
    "通过看别人的code, 然后进行模仿，不断地练手"
   ]
  },
  {
   "cell_type": "markdown",
   "metadata": {},
   "source": [
    "### ggplot2 "
   ]
  },
  {
   "cell_type": "markdown",
   "metadata": {},
   "source": [
    "The ggplot2 package offers a powerful graphics language for creating elegant and complex plots. Its popularity in the R community has exploded in recent years. Ggplot2 allows you to create graphs that represent both univariate and multivariate numerical and categorical data in a straightforward manner. Grouping can be represented by color, symbol, size, and transparency. The creation of trellis plots (i.e., conditioning) is relatively simple.\n",
    "\n",
    "ggplot2软件包提供了强大的图形语言，可用于创建优雅而复杂的绘图。 近年来，它在R社区中的知名度激增。 Ggplot2允许您以直接方式创建表示单变量和多变量数值和分类数据的图形。 分组可以用颜色，符号，大小和透明度表示。 格状图的创建（即条件处理）相对简单"
   ]
  },
  {
   "cell_type": "markdown",
   "metadata": {},
   "source": [
    "#### Basic syntax"
   ]
  },
  {
   "cell_type": "markdown",
   "metadata": {},
   "source": [
    "The basic idea: independently specify plot building blocks and combine them to create just about any kind of graphical display you want. Building blocks of a graph include:\n",
    "\n",
    "* data aesthetic mapping\n",
    "* geometric object\n",
    "* statistical transformations\n",
    "* scales\n",
    "* coordinate system\n",
    "* position adjustments\n",
    "* faceting"
   ]
  },
  {
   "cell_type": "markdown",
   "metadata": {},
   "source": [
    "#### ggplot examples"
   ]
  },
  {
   "cell_type": "code",
   "execution_count": 26,
   "metadata": {
    "collapsed": true
   },
   "outputs": [
    {
     "data": {
      "text/html": [
       "<table>\n",
       "<caption>A data.frame: 32 × 11</caption>\n",
       "<thead>\n",
       "\t<tr><th></th><th scope=col>mpg</th><th scope=col>cyl</th><th scope=col>disp</th><th scope=col>hp</th><th scope=col>drat</th><th scope=col>wt</th><th scope=col>qsec</th><th scope=col>vs</th><th scope=col>am</th><th scope=col>gear</th><th scope=col>carb</th></tr>\n",
       "\t<tr><th></th><th scope=col>&lt;dbl&gt;</th><th scope=col>&lt;dbl&gt;</th><th scope=col>&lt;dbl&gt;</th><th scope=col>&lt;dbl&gt;</th><th scope=col>&lt;dbl&gt;</th><th scope=col>&lt;dbl&gt;</th><th scope=col>&lt;dbl&gt;</th><th scope=col>&lt;dbl&gt;</th><th scope=col>&lt;dbl&gt;</th><th scope=col>&lt;dbl&gt;</th><th scope=col>&lt;dbl&gt;</th></tr>\n",
       "</thead>\n",
       "<tbody>\n",
       "\t<tr><th scope=row>Mazda RX4</th><td>21.0</td><td>6</td><td>160.0</td><td>110</td><td>3.90</td><td>2.620</td><td>16.46</td><td>0</td><td>1</td><td>4</td><td>4</td></tr>\n",
       "\t<tr><th scope=row>Mazda RX4 Wag</th><td>21.0</td><td>6</td><td>160.0</td><td>110</td><td>3.90</td><td>2.875</td><td>17.02</td><td>0</td><td>1</td><td>4</td><td>4</td></tr>\n",
       "\t<tr><th scope=row>Datsun 710</th><td>22.8</td><td>4</td><td>108.0</td><td> 93</td><td>3.85</td><td>2.320</td><td>18.61</td><td>1</td><td>1</td><td>4</td><td>1</td></tr>\n",
       "\t<tr><th scope=row>Hornet 4 Drive</th><td>21.4</td><td>6</td><td>258.0</td><td>110</td><td>3.08</td><td>3.215</td><td>19.44</td><td>1</td><td>0</td><td>3</td><td>1</td></tr>\n",
       "\t<tr><th scope=row>Hornet Sportabout</th><td>18.7</td><td>8</td><td>360.0</td><td>175</td><td>3.15</td><td>3.440</td><td>17.02</td><td>0</td><td>0</td><td>3</td><td>2</td></tr>\n",
       "\t<tr><th scope=row>Valiant</th><td>18.1</td><td>6</td><td>225.0</td><td>105</td><td>2.76</td><td>3.460</td><td>20.22</td><td>1</td><td>0</td><td>3</td><td>1</td></tr>\n",
       "\t<tr><th scope=row>Duster 360</th><td>14.3</td><td>8</td><td>360.0</td><td>245</td><td>3.21</td><td>3.570</td><td>15.84</td><td>0</td><td>0</td><td>3</td><td>4</td></tr>\n",
       "\t<tr><th scope=row>Merc 240D</th><td>24.4</td><td>4</td><td>146.7</td><td> 62</td><td>3.69</td><td>3.190</td><td>20.00</td><td>1</td><td>0</td><td>4</td><td>2</td></tr>\n",
       "\t<tr><th scope=row>Merc 230</th><td>22.8</td><td>4</td><td>140.8</td><td> 95</td><td>3.92</td><td>3.150</td><td>22.90</td><td>1</td><td>0</td><td>4</td><td>2</td></tr>\n",
       "\t<tr><th scope=row>Merc 280</th><td>19.2</td><td>6</td><td>167.6</td><td>123</td><td>3.92</td><td>3.440</td><td>18.30</td><td>1</td><td>0</td><td>4</td><td>4</td></tr>\n",
       "\t<tr><th scope=row>Merc 280C</th><td>17.8</td><td>6</td><td>167.6</td><td>123</td><td>3.92</td><td>3.440</td><td>18.90</td><td>1</td><td>0</td><td>4</td><td>4</td></tr>\n",
       "\t<tr><th scope=row>Merc 450SE</th><td>16.4</td><td>8</td><td>275.8</td><td>180</td><td>3.07</td><td>4.070</td><td>17.40</td><td>0</td><td>0</td><td>3</td><td>3</td></tr>\n",
       "\t<tr><th scope=row>Merc 450SL</th><td>17.3</td><td>8</td><td>275.8</td><td>180</td><td>3.07</td><td>3.730</td><td>17.60</td><td>0</td><td>0</td><td>3</td><td>3</td></tr>\n",
       "\t<tr><th scope=row>Merc 450SLC</th><td>15.2</td><td>8</td><td>275.8</td><td>180</td><td>3.07</td><td>3.780</td><td>18.00</td><td>0</td><td>0</td><td>3</td><td>3</td></tr>\n",
       "\t<tr><th scope=row>Cadillac Fleetwood</th><td>10.4</td><td>8</td><td>472.0</td><td>205</td><td>2.93</td><td>5.250</td><td>17.98</td><td>0</td><td>0</td><td>3</td><td>4</td></tr>\n",
       "\t<tr><th scope=row>Lincoln Continental</th><td>10.4</td><td>8</td><td>460.0</td><td>215</td><td>3.00</td><td>5.424</td><td>17.82</td><td>0</td><td>0</td><td>3</td><td>4</td></tr>\n",
       "\t<tr><th scope=row>Chrysler Imperial</th><td>14.7</td><td>8</td><td>440.0</td><td>230</td><td>3.23</td><td>5.345</td><td>17.42</td><td>0</td><td>0</td><td>3</td><td>4</td></tr>\n",
       "\t<tr><th scope=row>Fiat 128</th><td>32.4</td><td>4</td><td> 78.7</td><td> 66</td><td>4.08</td><td>2.200</td><td>19.47</td><td>1</td><td>1</td><td>4</td><td>1</td></tr>\n",
       "\t<tr><th scope=row>Honda Civic</th><td>30.4</td><td>4</td><td> 75.7</td><td> 52</td><td>4.93</td><td>1.615</td><td>18.52</td><td>1</td><td>1</td><td>4</td><td>2</td></tr>\n",
       "\t<tr><th scope=row>Toyota Corolla</th><td>33.9</td><td>4</td><td> 71.1</td><td> 65</td><td>4.22</td><td>1.835</td><td>19.90</td><td>1</td><td>1</td><td>4</td><td>1</td></tr>\n",
       "\t<tr><th scope=row>Toyota Corona</th><td>21.5</td><td>4</td><td>120.1</td><td> 97</td><td>3.70</td><td>2.465</td><td>20.01</td><td>1</td><td>0</td><td>3</td><td>1</td></tr>\n",
       "\t<tr><th scope=row>Dodge Challenger</th><td>15.5</td><td>8</td><td>318.0</td><td>150</td><td>2.76</td><td>3.520</td><td>16.87</td><td>0</td><td>0</td><td>3</td><td>2</td></tr>\n",
       "\t<tr><th scope=row>AMC Javelin</th><td>15.2</td><td>8</td><td>304.0</td><td>150</td><td>3.15</td><td>3.435</td><td>17.30</td><td>0</td><td>0</td><td>3</td><td>2</td></tr>\n",
       "\t<tr><th scope=row>Camaro Z28</th><td>13.3</td><td>8</td><td>350.0</td><td>245</td><td>3.73</td><td>3.840</td><td>15.41</td><td>0</td><td>0</td><td>3</td><td>4</td></tr>\n",
       "\t<tr><th scope=row>Pontiac Firebird</th><td>19.2</td><td>8</td><td>400.0</td><td>175</td><td>3.08</td><td>3.845</td><td>17.05</td><td>0</td><td>0</td><td>3</td><td>2</td></tr>\n",
       "\t<tr><th scope=row>Fiat X1-9</th><td>27.3</td><td>4</td><td> 79.0</td><td> 66</td><td>4.08</td><td>1.935</td><td>18.90</td><td>1</td><td>1</td><td>4</td><td>1</td></tr>\n",
       "\t<tr><th scope=row>Porsche 914-2</th><td>26.0</td><td>4</td><td>120.3</td><td> 91</td><td>4.43</td><td>2.140</td><td>16.70</td><td>0</td><td>1</td><td>5</td><td>2</td></tr>\n",
       "\t<tr><th scope=row>Lotus Europa</th><td>30.4</td><td>4</td><td> 95.1</td><td>113</td><td>3.77</td><td>1.513</td><td>16.90</td><td>1</td><td>1</td><td>5</td><td>2</td></tr>\n",
       "\t<tr><th scope=row>Ford Pantera L</th><td>15.8</td><td>8</td><td>351.0</td><td>264</td><td>4.22</td><td>3.170</td><td>14.50</td><td>0</td><td>1</td><td>5</td><td>4</td></tr>\n",
       "\t<tr><th scope=row>Ferrari Dino</th><td>19.7</td><td>6</td><td>145.0</td><td>175</td><td>3.62</td><td>2.770</td><td>15.50</td><td>0</td><td>1</td><td>5</td><td>6</td></tr>\n",
       "\t<tr><th scope=row>Maserati Bora</th><td>15.0</td><td>8</td><td>301.0</td><td>335</td><td>3.54</td><td>3.570</td><td>14.60</td><td>0</td><td>1</td><td>5</td><td>8</td></tr>\n",
       "\t<tr><th scope=row>Volvo 142E</th><td>21.4</td><td>4</td><td>121.0</td><td>109</td><td>4.11</td><td>2.780</td><td>18.60</td><td>1</td><td>1</td><td>4</td><td>2</td></tr>\n",
       "</tbody>\n",
       "</table>\n"
      ],
      "text/latex": [
       "A data.frame: 32 × 11\n",
       "\\begin{tabular}{r|lllllllllll}\n",
       "  & mpg & cyl & disp & hp & drat & wt & qsec & vs & am & gear & carb\\\\\n",
       "  & <dbl> & <dbl> & <dbl> & <dbl> & <dbl> & <dbl> & <dbl> & <dbl> & <dbl> & <dbl> & <dbl>\\\\\n",
       "\\hline\n",
       "\tMazda RX4 & 21.0 & 6 & 160.0 & 110 & 3.90 & 2.620 & 16.46 & 0 & 1 & 4 & 4\\\\\n",
       "\tMazda RX4 Wag & 21.0 & 6 & 160.0 & 110 & 3.90 & 2.875 & 17.02 & 0 & 1 & 4 & 4\\\\\n",
       "\tDatsun 710 & 22.8 & 4 & 108.0 &  93 & 3.85 & 2.320 & 18.61 & 1 & 1 & 4 & 1\\\\\n",
       "\tHornet 4 Drive & 21.4 & 6 & 258.0 & 110 & 3.08 & 3.215 & 19.44 & 1 & 0 & 3 & 1\\\\\n",
       "\tHornet Sportabout & 18.7 & 8 & 360.0 & 175 & 3.15 & 3.440 & 17.02 & 0 & 0 & 3 & 2\\\\\n",
       "\tValiant & 18.1 & 6 & 225.0 & 105 & 2.76 & 3.460 & 20.22 & 1 & 0 & 3 & 1\\\\\n",
       "\tDuster 360 & 14.3 & 8 & 360.0 & 245 & 3.21 & 3.570 & 15.84 & 0 & 0 & 3 & 4\\\\\n",
       "\tMerc 240D & 24.4 & 4 & 146.7 &  62 & 3.69 & 3.190 & 20.00 & 1 & 0 & 4 & 2\\\\\n",
       "\tMerc 230 & 22.8 & 4 & 140.8 &  95 & 3.92 & 3.150 & 22.90 & 1 & 0 & 4 & 2\\\\\n",
       "\tMerc 280 & 19.2 & 6 & 167.6 & 123 & 3.92 & 3.440 & 18.30 & 1 & 0 & 4 & 4\\\\\n",
       "\tMerc 280C & 17.8 & 6 & 167.6 & 123 & 3.92 & 3.440 & 18.90 & 1 & 0 & 4 & 4\\\\\n",
       "\tMerc 450SE & 16.4 & 8 & 275.8 & 180 & 3.07 & 4.070 & 17.40 & 0 & 0 & 3 & 3\\\\\n",
       "\tMerc 450SL & 17.3 & 8 & 275.8 & 180 & 3.07 & 3.730 & 17.60 & 0 & 0 & 3 & 3\\\\\n",
       "\tMerc 450SLC & 15.2 & 8 & 275.8 & 180 & 3.07 & 3.780 & 18.00 & 0 & 0 & 3 & 3\\\\\n",
       "\tCadillac Fleetwood & 10.4 & 8 & 472.0 & 205 & 2.93 & 5.250 & 17.98 & 0 & 0 & 3 & 4\\\\\n",
       "\tLincoln Continental & 10.4 & 8 & 460.0 & 215 & 3.00 & 5.424 & 17.82 & 0 & 0 & 3 & 4\\\\\n",
       "\tChrysler Imperial & 14.7 & 8 & 440.0 & 230 & 3.23 & 5.345 & 17.42 & 0 & 0 & 3 & 4\\\\\n",
       "\tFiat 128 & 32.4 & 4 &  78.7 &  66 & 4.08 & 2.200 & 19.47 & 1 & 1 & 4 & 1\\\\\n",
       "\tHonda Civic & 30.4 & 4 &  75.7 &  52 & 4.93 & 1.615 & 18.52 & 1 & 1 & 4 & 2\\\\\n",
       "\tToyota Corolla & 33.9 & 4 &  71.1 &  65 & 4.22 & 1.835 & 19.90 & 1 & 1 & 4 & 1\\\\\n",
       "\tToyota Corona & 21.5 & 4 & 120.1 &  97 & 3.70 & 2.465 & 20.01 & 1 & 0 & 3 & 1\\\\\n",
       "\tDodge Challenger & 15.5 & 8 & 318.0 & 150 & 2.76 & 3.520 & 16.87 & 0 & 0 & 3 & 2\\\\\n",
       "\tAMC Javelin & 15.2 & 8 & 304.0 & 150 & 3.15 & 3.435 & 17.30 & 0 & 0 & 3 & 2\\\\\n",
       "\tCamaro Z28 & 13.3 & 8 & 350.0 & 245 & 3.73 & 3.840 & 15.41 & 0 & 0 & 3 & 4\\\\\n",
       "\tPontiac Firebird & 19.2 & 8 & 400.0 & 175 & 3.08 & 3.845 & 17.05 & 0 & 0 & 3 & 2\\\\\n",
       "\tFiat X1-9 & 27.3 & 4 &  79.0 &  66 & 4.08 & 1.935 & 18.90 & 1 & 1 & 4 & 1\\\\\n",
       "\tPorsche 914-2 & 26.0 & 4 & 120.3 &  91 & 4.43 & 2.140 & 16.70 & 0 & 1 & 5 & 2\\\\\n",
       "\tLotus Europa & 30.4 & 4 &  95.1 & 113 & 3.77 & 1.513 & 16.90 & 1 & 1 & 5 & 2\\\\\n",
       "\tFord Pantera L & 15.8 & 8 & 351.0 & 264 & 4.22 & 3.170 & 14.50 & 0 & 1 & 5 & 4\\\\\n",
       "\tFerrari Dino & 19.7 & 6 & 145.0 & 175 & 3.62 & 2.770 & 15.50 & 0 & 1 & 5 & 6\\\\\n",
       "\tMaserati Bora & 15.0 & 8 & 301.0 & 335 & 3.54 & 3.570 & 14.60 & 0 & 1 & 5 & 8\\\\\n",
       "\tVolvo 142E & 21.4 & 4 & 121.0 & 109 & 4.11 & 2.780 & 18.60 & 1 & 1 & 4 & 2\\\\\n",
       "\\end{tabular}\n"
      ],
      "text/markdown": [
       "\n",
       "A data.frame: 32 × 11\n",
       "\n",
       "| <!--/--> | mpg &lt;dbl&gt; | cyl &lt;dbl&gt; | disp &lt;dbl&gt; | hp &lt;dbl&gt; | drat &lt;dbl&gt; | wt &lt;dbl&gt; | qsec &lt;dbl&gt; | vs &lt;dbl&gt; | am &lt;dbl&gt; | gear &lt;dbl&gt; | carb &lt;dbl&gt; |\n",
       "|---|---|---|---|---|---|---|---|---|---|---|---|\n",
       "| Mazda RX4 | 21.0 | 6 | 160.0 | 110 | 3.90 | 2.620 | 16.46 | 0 | 1 | 4 | 4 |\n",
       "| Mazda RX4 Wag | 21.0 | 6 | 160.0 | 110 | 3.90 | 2.875 | 17.02 | 0 | 1 | 4 | 4 |\n",
       "| Datsun 710 | 22.8 | 4 | 108.0 |  93 | 3.85 | 2.320 | 18.61 | 1 | 1 | 4 | 1 |\n",
       "| Hornet 4 Drive | 21.4 | 6 | 258.0 | 110 | 3.08 | 3.215 | 19.44 | 1 | 0 | 3 | 1 |\n",
       "| Hornet Sportabout | 18.7 | 8 | 360.0 | 175 | 3.15 | 3.440 | 17.02 | 0 | 0 | 3 | 2 |\n",
       "| Valiant | 18.1 | 6 | 225.0 | 105 | 2.76 | 3.460 | 20.22 | 1 | 0 | 3 | 1 |\n",
       "| Duster 360 | 14.3 | 8 | 360.0 | 245 | 3.21 | 3.570 | 15.84 | 0 | 0 | 3 | 4 |\n",
       "| Merc 240D | 24.4 | 4 | 146.7 |  62 | 3.69 | 3.190 | 20.00 | 1 | 0 | 4 | 2 |\n",
       "| Merc 230 | 22.8 | 4 | 140.8 |  95 | 3.92 | 3.150 | 22.90 | 1 | 0 | 4 | 2 |\n",
       "| Merc 280 | 19.2 | 6 | 167.6 | 123 | 3.92 | 3.440 | 18.30 | 1 | 0 | 4 | 4 |\n",
       "| Merc 280C | 17.8 | 6 | 167.6 | 123 | 3.92 | 3.440 | 18.90 | 1 | 0 | 4 | 4 |\n",
       "| Merc 450SE | 16.4 | 8 | 275.8 | 180 | 3.07 | 4.070 | 17.40 | 0 | 0 | 3 | 3 |\n",
       "| Merc 450SL | 17.3 | 8 | 275.8 | 180 | 3.07 | 3.730 | 17.60 | 0 | 0 | 3 | 3 |\n",
       "| Merc 450SLC | 15.2 | 8 | 275.8 | 180 | 3.07 | 3.780 | 18.00 | 0 | 0 | 3 | 3 |\n",
       "| Cadillac Fleetwood | 10.4 | 8 | 472.0 | 205 | 2.93 | 5.250 | 17.98 | 0 | 0 | 3 | 4 |\n",
       "| Lincoln Continental | 10.4 | 8 | 460.0 | 215 | 3.00 | 5.424 | 17.82 | 0 | 0 | 3 | 4 |\n",
       "| Chrysler Imperial | 14.7 | 8 | 440.0 | 230 | 3.23 | 5.345 | 17.42 | 0 | 0 | 3 | 4 |\n",
       "| Fiat 128 | 32.4 | 4 |  78.7 |  66 | 4.08 | 2.200 | 19.47 | 1 | 1 | 4 | 1 |\n",
       "| Honda Civic | 30.4 | 4 |  75.7 |  52 | 4.93 | 1.615 | 18.52 | 1 | 1 | 4 | 2 |\n",
       "| Toyota Corolla | 33.9 | 4 |  71.1 |  65 | 4.22 | 1.835 | 19.90 | 1 | 1 | 4 | 1 |\n",
       "| Toyota Corona | 21.5 | 4 | 120.1 |  97 | 3.70 | 2.465 | 20.01 | 1 | 0 | 3 | 1 |\n",
       "| Dodge Challenger | 15.5 | 8 | 318.0 | 150 | 2.76 | 3.520 | 16.87 | 0 | 0 | 3 | 2 |\n",
       "| AMC Javelin | 15.2 | 8 | 304.0 | 150 | 3.15 | 3.435 | 17.30 | 0 | 0 | 3 | 2 |\n",
       "| Camaro Z28 | 13.3 | 8 | 350.0 | 245 | 3.73 | 3.840 | 15.41 | 0 | 0 | 3 | 4 |\n",
       "| Pontiac Firebird | 19.2 | 8 | 400.0 | 175 | 3.08 | 3.845 | 17.05 | 0 | 0 | 3 | 2 |\n",
       "| Fiat X1-9 | 27.3 | 4 |  79.0 |  66 | 4.08 | 1.935 | 18.90 | 1 | 1 | 4 | 1 |\n",
       "| Porsche 914-2 | 26.0 | 4 | 120.3 |  91 | 4.43 | 2.140 | 16.70 | 0 | 1 | 5 | 2 |\n",
       "| Lotus Europa | 30.4 | 4 |  95.1 | 113 | 3.77 | 1.513 | 16.90 | 1 | 1 | 5 | 2 |\n",
       "| Ford Pantera L | 15.8 | 8 | 351.0 | 264 | 4.22 | 3.170 | 14.50 | 0 | 1 | 5 | 4 |\n",
       "| Ferrari Dino | 19.7 | 6 | 145.0 | 175 | 3.62 | 2.770 | 15.50 | 0 | 1 | 5 | 6 |\n",
       "| Maserati Bora | 15.0 | 8 | 301.0 | 335 | 3.54 | 3.570 | 14.60 | 0 | 1 | 5 | 8 |\n",
       "| Volvo 142E | 21.4 | 4 | 121.0 | 109 | 4.11 | 2.780 | 18.60 | 1 | 1 | 4 | 2 |\n",
       "\n"
      ],
      "text/plain": [
       "                    mpg  cyl disp  hp  drat wt    qsec  vs am gear carb\n",
       "Mazda RX4           21.0 6   160.0 110 3.90 2.620 16.46 0  1  4    4   \n",
       "Mazda RX4 Wag       21.0 6   160.0 110 3.90 2.875 17.02 0  1  4    4   \n",
       "Datsun 710          22.8 4   108.0  93 3.85 2.320 18.61 1  1  4    1   \n",
       "Hornet 4 Drive      21.4 6   258.0 110 3.08 3.215 19.44 1  0  3    1   \n",
       "Hornet Sportabout   18.7 8   360.0 175 3.15 3.440 17.02 0  0  3    2   \n",
       "Valiant             18.1 6   225.0 105 2.76 3.460 20.22 1  0  3    1   \n",
       "Duster 360          14.3 8   360.0 245 3.21 3.570 15.84 0  0  3    4   \n",
       "Merc 240D           24.4 4   146.7  62 3.69 3.190 20.00 1  0  4    2   \n",
       "Merc 230            22.8 4   140.8  95 3.92 3.150 22.90 1  0  4    2   \n",
       "Merc 280            19.2 6   167.6 123 3.92 3.440 18.30 1  0  4    4   \n",
       "Merc 280C           17.8 6   167.6 123 3.92 3.440 18.90 1  0  4    4   \n",
       "Merc 450SE          16.4 8   275.8 180 3.07 4.070 17.40 0  0  3    3   \n",
       "Merc 450SL          17.3 8   275.8 180 3.07 3.730 17.60 0  0  3    3   \n",
       "Merc 450SLC         15.2 8   275.8 180 3.07 3.780 18.00 0  0  3    3   \n",
       "Cadillac Fleetwood  10.4 8   472.0 205 2.93 5.250 17.98 0  0  3    4   \n",
       "Lincoln Continental 10.4 8   460.0 215 3.00 5.424 17.82 0  0  3    4   \n",
       "Chrysler Imperial   14.7 8   440.0 230 3.23 5.345 17.42 0  0  3    4   \n",
       "Fiat 128            32.4 4    78.7  66 4.08 2.200 19.47 1  1  4    1   \n",
       "Honda Civic         30.4 4    75.7  52 4.93 1.615 18.52 1  1  4    2   \n",
       "Toyota Corolla      33.9 4    71.1  65 4.22 1.835 19.90 1  1  4    1   \n",
       "Toyota Corona       21.5 4   120.1  97 3.70 2.465 20.01 1  0  3    1   \n",
       "Dodge Challenger    15.5 8   318.0 150 2.76 3.520 16.87 0  0  3    2   \n",
       "AMC Javelin         15.2 8   304.0 150 3.15 3.435 17.30 0  0  3    2   \n",
       "Camaro Z28          13.3 8   350.0 245 3.73 3.840 15.41 0  0  3    4   \n",
       "Pontiac Firebird    19.2 8   400.0 175 3.08 3.845 17.05 0  0  3    2   \n",
       "Fiat X1-9           27.3 4    79.0  66 4.08 1.935 18.90 1  1  4    1   \n",
       "Porsche 914-2       26.0 4   120.3  91 4.43 2.140 16.70 0  1  5    2   \n",
       "Lotus Europa        30.4 4    95.1 113 3.77 1.513 16.90 1  1  5    2   \n",
       "Ford Pantera L      15.8 8   351.0 264 4.22 3.170 14.50 0  1  5    4   \n",
       "Ferrari Dino        19.7 6   145.0 175 3.62 2.770 15.50 0  1  5    6   \n",
       "Maserati Bora       15.0 8   301.0 335 3.54 3.570 14.60 0  1  5    8   \n",
       "Volvo 142E          21.4 4   121.0 109 4.11 2.780 18.60 1  1  4    2   "
      ]
     },
     "metadata": {},
     "output_type": "display_data"
    },
    {
     "name": "stderr",
     "output_type": "stream",
     "text": [
      "Warning message in file(file, \"rt\"):\n",
      "\"cannot open file 'landdata-states.csv': No such file or directory\""
     ]
    },
    {
     "ename": "ERROR",
     "evalue": "Error in file(file, \"rt\"): cannot open the connection\n",
     "output_type": "error",
     "traceback": [
      "Error in file(file, \"rt\"): cannot open the connection\nTraceback:\n",
      "1. read.csv(\"landdata-states.csv\")",
      "2. read.table(file = file, header = header, sep = sep, quote = quote, \n .     dec = dec, fill = fill, comment.char = comment.char, ...)",
      "3. file(file, \"rt\")"
     ]
    }
   ],
   "source": [
    "require(dplyr)\n",
    "require(ggplot2)\n",
    "options(repr.plot.width=10, repr.plot.height=8)\n",
    "mtcars\n",
    "housing <- read.csv(\"landdata-states.csv\")"
   ]
  },
  {
   "cell_type": "markdown",
   "metadata": {},
   "source": [
    "__Histogram__"
   ]
  },
  {
   "cell_type": "code",
   "execution_count": 91,
   "metadata": {},
   "outputs": [],
   "source": [
    "library(ggplot2)\n",
    "library(dplyr)"
   ]
  },
  {
   "cell_type": "code",
   "execution_count": 27,
   "metadata": {
    "collapsed": true
   },
   "outputs": [
    {
     "data": {
      "text/html": [
       "<table>\n",
       "<caption>A data.frame: 6 × 11</caption>\n",
       "<thead>\n",
       "\t<tr><th></th><th scope=col>mpg</th><th scope=col>cyl</th><th scope=col>disp</th><th scope=col>hp</th><th scope=col>drat</th><th scope=col>wt</th><th scope=col>qsec</th><th scope=col>vs</th><th scope=col>am</th><th scope=col>gear</th><th scope=col>carb</th></tr>\n",
       "\t<tr><th></th><th scope=col>&lt;dbl&gt;</th><th scope=col>&lt;dbl&gt;</th><th scope=col>&lt;dbl&gt;</th><th scope=col>&lt;dbl&gt;</th><th scope=col>&lt;dbl&gt;</th><th scope=col>&lt;dbl&gt;</th><th scope=col>&lt;dbl&gt;</th><th scope=col>&lt;dbl&gt;</th><th scope=col>&lt;dbl&gt;</th><th scope=col>&lt;dbl&gt;</th><th scope=col>&lt;dbl&gt;</th></tr>\n",
       "</thead>\n",
       "<tbody>\n",
       "\t<tr><th scope=row>Mazda RX4</th><td>21.0</td><td>6</td><td>160</td><td>110</td><td>3.90</td><td>2.620</td><td>16.46</td><td>0</td><td>1</td><td>4</td><td>4</td></tr>\n",
       "\t<tr><th scope=row>Mazda RX4 Wag</th><td>21.0</td><td>6</td><td>160</td><td>110</td><td>3.90</td><td>2.875</td><td>17.02</td><td>0</td><td>1</td><td>4</td><td>4</td></tr>\n",
       "\t<tr><th scope=row>Datsun 710</th><td>22.8</td><td>4</td><td>108</td><td> 93</td><td>3.85</td><td>2.320</td><td>18.61</td><td>1</td><td>1</td><td>4</td><td>1</td></tr>\n",
       "\t<tr><th scope=row>Hornet 4 Drive</th><td>21.4</td><td>6</td><td>258</td><td>110</td><td>3.08</td><td>3.215</td><td>19.44</td><td>1</td><td>0</td><td>3</td><td>1</td></tr>\n",
       "\t<tr><th scope=row>Hornet Sportabout</th><td>18.7</td><td>8</td><td>360</td><td>175</td><td>3.15</td><td>3.440</td><td>17.02</td><td>0</td><td>0</td><td>3</td><td>2</td></tr>\n",
       "\t<tr><th scope=row>Valiant</th><td>18.1</td><td>6</td><td>225</td><td>105</td><td>2.76</td><td>3.460</td><td>20.22</td><td>1</td><td>0</td><td>3</td><td>1</td></tr>\n",
       "</tbody>\n",
       "</table>\n"
      ],
      "text/latex": [
       "A data.frame: 6 × 11\n",
       "\\begin{tabular}{r|lllllllllll}\n",
       "  & mpg & cyl & disp & hp & drat & wt & qsec & vs & am & gear & carb\\\\\n",
       "  & <dbl> & <dbl> & <dbl> & <dbl> & <dbl> & <dbl> & <dbl> & <dbl> & <dbl> & <dbl> & <dbl>\\\\\n",
       "\\hline\n",
       "\tMazda RX4 & 21.0 & 6 & 160 & 110 & 3.90 & 2.620 & 16.46 & 0 & 1 & 4 & 4\\\\\n",
       "\tMazda RX4 Wag & 21.0 & 6 & 160 & 110 & 3.90 & 2.875 & 17.02 & 0 & 1 & 4 & 4\\\\\n",
       "\tDatsun 710 & 22.8 & 4 & 108 &  93 & 3.85 & 2.320 & 18.61 & 1 & 1 & 4 & 1\\\\\n",
       "\tHornet 4 Drive & 21.4 & 6 & 258 & 110 & 3.08 & 3.215 & 19.44 & 1 & 0 & 3 & 1\\\\\n",
       "\tHornet Sportabout & 18.7 & 8 & 360 & 175 & 3.15 & 3.440 & 17.02 & 0 & 0 & 3 & 2\\\\\n",
       "\tValiant & 18.1 & 6 & 225 & 105 & 2.76 & 3.460 & 20.22 & 1 & 0 & 3 & 1\\\\\n",
       "\\end{tabular}\n"
      ],
      "text/markdown": [
       "\n",
       "A data.frame: 6 × 11\n",
       "\n",
       "| <!--/--> | mpg &lt;dbl&gt; | cyl &lt;dbl&gt; | disp &lt;dbl&gt; | hp &lt;dbl&gt; | drat &lt;dbl&gt; | wt &lt;dbl&gt; | qsec &lt;dbl&gt; | vs &lt;dbl&gt; | am &lt;dbl&gt; | gear &lt;dbl&gt; | carb &lt;dbl&gt; |\n",
       "|---|---|---|---|---|---|---|---|---|---|---|---|\n",
       "| Mazda RX4 | 21.0 | 6 | 160 | 110 | 3.90 | 2.620 | 16.46 | 0 | 1 | 4 | 4 |\n",
       "| Mazda RX4 Wag | 21.0 | 6 | 160 | 110 | 3.90 | 2.875 | 17.02 | 0 | 1 | 4 | 4 |\n",
       "| Datsun 710 | 22.8 | 4 | 108 |  93 | 3.85 | 2.320 | 18.61 | 1 | 1 | 4 | 1 |\n",
       "| Hornet 4 Drive | 21.4 | 6 | 258 | 110 | 3.08 | 3.215 | 19.44 | 1 | 0 | 3 | 1 |\n",
       "| Hornet Sportabout | 18.7 | 8 | 360 | 175 | 3.15 | 3.440 | 17.02 | 0 | 0 | 3 | 2 |\n",
       "| Valiant | 18.1 | 6 | 225 | 105 | 2.76 | 3.460 | 20.22 | 1 | 0 | 3 | 1 |\n",
       "\n"
      ],
      "text/plain": [
       "                  mpg  cyl disp hp  drat wt    qsec  vs am gear carb\n",
       "Mazda RX4         21.0 6   160  110 3.90 2.620 16.46 0  1  4    4   \n",
       "Mazda RX4 Wag     21.0 6   160  110 3.90 2.875 17.02 0  1  4    4   \n",
       "Datsun 710        22.8 4   108   93 3.85 2.320 18.61 1  1  4    1   \n",
       "Hornet 4 Drive    21.4 6   258  110 3.08 3.215 19.44 1  0  3    1   \n",
       "Hornet Sportabout 18.7 8   360  175 3.15 3.440 17.02 0  0  3    2   \n",
       "Valiant           18.1 6   225  105 2.76 3.460 20.22 1  0  3    1   "
      ]
     },
     "metadata": {},
     "output_type": "display_data"
    }
   ],
   "source": [
    "head(mtcars)"
   ]
  },
  {
   "cell_type": "code",
   "execution_count": 30,
   "metadata": {},
   "outputs": [
    {
     "ename": "ERROR",
     "evalue": "Error in hist.default(mtcars): 'x' must be numeric\n",
     "output_type": "error",
     "traceback": [
      "Error in hist.default(mtcars): 'x' must be numeric\nTraceback:\n",
      "1. hist(mtcars)",
      "2. hist.default(mtcars)",
      "3. stop(\"'x' must be numeric\")"
     ]
    }
   ],
   "source": [
    "hist(mtcars)"
   ]
  },
  {
   "cell_type": "code",
   "execution_count": 94,
   "metadata": {},
   "outputs": [
    {
     "ename": "ERROR",
     "evalue": "Error in ggplot(housing, aes(x = Home.Value)): object 'housing' not found\n",
     "output_type": "error",
     "traceback": [
      "Error in ggplot(housing, aes(x = Home.Value)): object 'housing' not found\nTraceback:\n",
      "1. ggplot(housing, aes(x = Home.Value))"
     ]
    }
   ],
   "source": [
    "ggplot(housing, aes(x = Home.Value)) +\n",
    "  geom_histogram()"
   ]
  },
  {
   "cell_type": "markdown",
   "metadata": {},
   "source": [
    "with grouping (fill/color)"
   ]
  },
  {
   "cell_type": "code",
   "execution_count": 96,
   "metadata": {},
   "outputs": [
    {
     "ename": "ERROR",
     "evalue": "Error in ggplot(housing, aes(x = Home.Value, fill = region)): object 'housing' not found\n",
     "output_type": "error",
     "traceback": [
      "Error in ggplot(housing, aes(x = Home.Value, fill = region)): object 'housing' not found\nTraceback:\n",
      "1. ggplot(housing, aes(x = Home.Value, fill = region))"
     ]
    }
   ],
   "source": [
    "ggplot(housing, aes(x = Home.Value, fill = region)) +   #fill进行内部填充颜色  color 对边框进行加颜色\n",
    "  geom_histogram(bins = 20) # bins = 20 指的是有多少个竖条"
   ]
  },
  {
   "cell_type": "markdown",
   "metadata": {},
   "source": [
    "__Point plot__"
   ]
  },
  {
   "cell_type": "code",
   "execution_count": 31,
   "metadata": {
    "scrolled": true
   },
   "outputs": [
    {
     "ename": "ERROR",
     "evalue": "Error in eval(lhs, parent, parent): object 'housing' not found\n",
     "output_type": "error",
     "traceback": [
      "Error in eval(lhs, parent, parent): object 'housing' not found\nTraceback:\n",
      "1. housing %>% filter(State %in% c(\"MA\", \"TX\")) %>% ggplot(aes(x = Date, \n .     y = Home.Value, color = State))",
      "2. eval(lhs, parent, parent)",
      "3. eval(lhs, parent, parent)"
     ]
    }
   ],
   "source": [
    "#跟下面的代码效果一样\n",
    "housing %>%\n",
    "    filter(State %in% c(\"MA\", \"TX\"))%>%\n",
    "    ggplot(aes(x=Date, y=Home.Value, color=State)) + \n",
    "    geom_point()"
   ]
  },
  {
   "cell_type": "code",
   "execution_count": 40,
   "metadata": {
    "scrolled": true
   },
   "outputs": [
    {
     "data": {
      "image/png": "[encoded data removed]",
      "text/plain": [
       "plot without title"
      ]
     },
     "metadata": {
      "image/png": {
       "height": 480,
       "width": 600
      },
      "text/plain": {
       "height": 480,
       "width": 600
      }
     },
     "output_type": "display_data"
    }
   ],
   "source": [
    "ggplot(filter(housing, State %in% c(\"MA\", \"TX\")),\n",
    "       aes(x=Date, y=Home.Value, color=State))+   #出现color 就代表分组  会涂成不同的颜色\n",
    "  geom_point()"
   ]
  },
  {
   "cell_type": "code",
   "execution_count": 42,
   "metadata": {
    "scrolled": true
   },
   "outputs": [
    {
     "data": {
      "image/png": "[encoded data removed]",
      "text/plain": [
       "plot without title"
      ]
     },
     "metadata": {
      "image/png": {
       "height": 480,
       "width": 600
      },
      "text/plain": {
       "height": 480,
       "width": 600
      }
     },
     "output_type": "display_data"
    }
   ],
   "source": [
    "housing  %>% \n",
    "  arrange(Land.Value)  %>%  #先做了一个排序 然后 递进操作连接到ggplot2  \n",
    "  ggplot(aes(x = Structure.Cost, y =  Home.Value, color = region)) +  #分别x y 轴进行命名\n",
    "     geom_point() # 散点图"
   ]
  },
  {
   "cell_type": "markdown",
   "metadata": {},
   "source": [
    "__Line plot__"
   ]
  },
  {
   "cell_type": "code",
   "execution_count": 46,
   "metadata": {},
   "outputs": [
    {
     "data": {
      "image/png": "[encoded data removed]",
      "text/plain": [
       "plot without title"
      ]
     },
     "metadata": {
      "image/png": {
       "height": 480,
       "width": 600
      },
      "text/plain": {
       "height": 480,
       "width": 600
      }
     },
     "output_type": "display_data"
    }
   ],
   "source": [
    "housing  %>% \n",
    "   ggplot(aes(x= Date, y = Home.Value, color = region)) +\n",
    "      geom_line()    # 折线图"
   ]
  },
  {
   "cell_type": "markdown",
   "metadata": {},
   "source": [
    "__Smooth curve__"
   ]
  },
  {
   "cell_type": "code",
   "execution_count": 48,
   "metadata": {
    "scrolled": true
   },
   "outputs": [
    {
     "name": "stderr",
     "output_type": "stream",
     "text": [
      "`geom_smooth()` using method = 'gam' and formula 'y ~ s(x, bs = \"cs\")'\n",
      "\n"
     ]
    },
    {
     "data": {
      "image/png": "[encoded data removed]",
      "text/plain": [
       "plot without title"
      ]
     },
     "metadata": {
      "image/png": {
       "height": 480,
       "width": 600
      },
      "text/plain": {
       "height": 480,
       "width": 600
      }
     },
     "output_type": "display_data"
    }
   ],
   "source": [
    "housing  %>% \n",
    "   ggplot(aes(x= Date, y = Home.Value, color = region)) +\n",
    "      geom_smooth()  # 拟合"
   ]
  },
  {
   "cell_type": "markdown",
   "metadata": {},
   "source": [
    "__Facet wrap__ (seperate plots)"
   ]
  },
  {
   "cell_type": "code",
   "execution_count": 50,
   "metadata": {
    "scrolled": true
   },
   "outputs": [
    {
     "name": "stderr",
     "output_type": "stream",
     "text": [
      "`geom_smooth()` using method = 'gam' and formula 'y ~ s(x, bs = \"cs\")'\n",
      "\n"
     ]
    },
    {
     "data": {
      "image/png": "[encoded data removed]",
      "text/plain": [
       "plot without title"
      ]
     },
     "metadata": {
      "image/png": {
       "height": 480,
       "width": 600
      },
      "text/plain": {
       "height": 480,
       "width": 600
      }
     },
     "output_type": "display_data"
    }
   ],
   "source": [
    "housing  %>% \n",
    "   ggplot(aes(x= Date, y = Home.Value)) +\n",
    "      geom_smooth() +   # 拟合图\n",
    "      facet_wrap(~region)  # 分成5个小图进行分组"
   ]
  },
  {
   "cell_type": "markdown",
   "metadata": {},
   "source": [
    "## Project introduction"
   ]
  },
  {
   "cell_type": "markdown",
   "metadata": {},
   "source": [
    "We will look at project sample notebooks via separate Rmarkdown/notebook"
   ]
  }
 ],
 "metadata": {
  "kernelspec": {
   "display_name": "R",
   "language": "R",
   "name": "ir"
  },
  "language_info": {
   "codemirror_mode": "r",
   "file_extension": ".r",
   "mimetype": "text/x-r-source",
   "name": "R",
   "pygments_lexer": "r",
   "version": "3.6.1"
  }
 },
 "nbformat": 4,
 "nbformat_minor": 2
}
