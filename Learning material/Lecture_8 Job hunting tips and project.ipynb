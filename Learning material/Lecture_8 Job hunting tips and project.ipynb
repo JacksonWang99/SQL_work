{
 "cells": [
  {
   "cell_type": "markdown",
   "metadata": {},
   "source": [
    "# Lecture 8 - Job hunting tips and project"
   ]
  },
  {
   "cell_type": "markdown",
   "metadata": {},
   "source": [
    "1. Job hunting tips\n",
    "2. Project"
   ]
  },
  {
   "cell_type": "markdown",
   "metadata": {},
   "source": [
    "### Job hunting tips"
   ]
  },
  {
   "cell_type": "markdown",
   "metadata": {},
   "source": [
    "#### Alwasy get well prepared"
   ]
  },
  {
   "cell_type": "code",
   "execution_count": 1,
   "metadata": {
    "collapsed": true
   },
   "outputs": [
    {
     "name": "stderr",
     "output_type": "stream",
     "text": [
      "Your code contains a unicode char which cannot be displayed in your\n",
      "current locale and R will silently convert it to an escaped form when the\n",
      "R kernel executes this code. This can lead to subtle errors if you use\n",
      "such chars to do comparisons. For more information, please see\n",
      "https://github.com/IRkernel/repr/wiki/Problems-with-unicode-on-windows"
     ]
    },
    {
     "ename": "ERROR",
     "evalue": "Error in parse(text = x, srcfile = src): <text>:1:21: unexpected '>'\n1: Tableau (BA) <U+6570>\n                        ^\n",
     "output_type": "error",
     "traceback": [
      "Error in parse(text = x, srcfile = src): <text>:1:21: unexpected '>'\n1: Tableau (BA) <U+6570>\n                        ^\nTraceback:\n"
     ]
    }
   ],
   "source": [
    "Tableau (BA) 数据可视化  假期自学 掌握基本用法"
   ]
  },
  {
   "cell_type": "markdown",
   "metadata": {},
   "source": [
    "* Technical skills ready for technical interview - SQL, R, Python, Tableau (BA) 数据可视化, sometimes SAS\n",
    "* Past project experience to demonstrate how you have solved similar analytics problem  把你的项目经历编成一个小故事，然后面试的时候可以讲出来。\n",
    "* Your internship & competition and other experience\n",
    "* Your education backgound is important but is less likely to be the key success driver 教育背景在简历中不是最主要的东西，而是掌握的能力。"
   ]
  },
  {
   "cell_type": "markdown",
   "metadata": {},
   "source": [
    "#### Read a job description  最重要的，你的工作是做什么的"
   ]
  },
  {
   "cell_type": "markdown",
   "metadata": {},
   "source": [
    "Most importantly, identify the key problem that the hiring manager/company want to solve"
   ]
  },
  {
   "cell_type": "code",
   "execution_count": null,
   "metadata": {},
   "outputs": [],
   "source": [
    "简历里呈现的是细节信息，重要的是读懂这个工作是干什么的，这个工作是要解决什么问题，可以直接去询问HR"
   ]
  },
  {
   "cell_type": "markdown",
   "metadata": {},
   "source": [
    "* Data manipulation/summary/reporting  数据处理/摘要/报告\n",
    "* Database administration/management 数据库管理/管理\n",
    "* Visualisation/dashboard  可视化/仪表板\n",
    "* Modelling  建模\n",
    "* Insights/recommendation  见解/推荐"
   ]
  },
  {
   "cell_type": "markdown",
   "metadata": {},
   "source": [
    "#### Use of cover letter    最重要的"
   ]
  },
  {
   "cell_type": "code",
   "execution_count": 2,
   "metadata": {
    "collapsed": true
   },
   "outputs": [
    {
     "name": "stderr",
     "output_type": "stream",
     "text": [
      "Your code contains a unicode char which cannot be displayed in your\n",
      "current locale and R will silently convert it to an escaped form when the\n",
      "R kernel executes this code. This can lead to subtle errors if you use\n",
      "such chars to do comparisons. For more information, please see\n",
      "https://github.com/IRkernel/repr/wiki/Problems-with-unicode-on-windows"
     ]
    },
    {
     "ename": "ERROR",
     "evalue": "Error in parse(text = x, srcfile = src): <text>:1:1: unexpected '<'\n1: <\n    ^\n",
     "output_type": "error",
     "traceback": [
      "Error in parse(text = x, srcfile = src): <text>:1:1: unexpected '<'\n1: <\n    ^\nTraceback:\n"
     ]
    }
   ],
   "source": [
    "目的：1.我有什么skill 2.我之前做过什么东西，有什么经验 3.我为什么能够解决这个问题，为什么能够解决你的工作需求\n",
    "cover letter 写出具体的你从事的工作，讲故事"
   ]
  },
  {
   "cell_type": "markdown",
   "metadata": {},
   "source": [
    "* A cover letter is a document that serves as an introduction to your résumé.  求职信是一份文件，可作为您的简历的简介。\n",
    "* The main role of a cover letter is to introduce yourself to the employer. It also aims to show them that you are the right person for their business. 求职信的主要作用是向雇主介绍自己。 它还旨在向他们表明您是他们业务的合适人选\n",
    "* Your cover letter should encourage the employer to read your résumé. It should outline your qualifications, experience, and positive work traits that are relevant to the job.  您的求职信应鼓励雇主阅读您的简历。 它应该概述您的资格，经验和与工作相关的积极工作特征。\n",
    "* A well-written cover letter also shows that you have strong written communication skills.*一封写得很好的求职信也表明您具有较强的书面沟通能力。"
   ]
  },
  {
   "cell_type": "markdown",
   "metadata": {},
   "source": [
    "__what to include in the cover letter?__"
   ]
  },
  {
   "cell_type": "markdown",
   "metadata": {},
   "source": [
    "* Briefly introduce yourself and why you want this job  介绍自己以及你为什么要做这个工作。\n",
    "* Give specific use cases, experience and past projects/work that show how you can solve the key problem  展示你的故事，具体的内容\n",
    "* Be positive and firm that you will be one of the strong fits 自信，积极坚定的态度\n",
    "* Only give more details in the CV "
   ]
  },
  {
   "cell_type": "code",
   "execution_count": 5,
   "metadata": {
    "collapsed": true
   },
   "outputs": [
    {
     "name": "stderr",
     "output_type": "stream",
     "text": [
      "Your code contains a unicode char which cannot be displayed in your\n",
      "current locale and R will silently convert it to an escaped form when the\n",
      "R kernel executes this code. This can lead to subtle errors if you use\n",
      "such chars to do comparisons. For more information, please see\n",
      "https://github.com/IRkernel/repr/wiki/Problems-with-unicode-on-windows"
     ]
    },
    {
     "ename": "ERROR",
     "evalue": "Error in parse(text = x, srcfile = src): <text>:1:1: unexpected '<'\n1: <\n    ^\n",
     "output_type": "error",
     "traceback": [
      "Error in parse(text = x, srcfile = src): <text>:1:1: unexpected '<'\n1: <\n    ^\nTraceback:\n"
     ]
    }
   ],
   "source": [
    "主动打电话\n",
    "我很感兴趣这个工作，为什么可以胜任 1，  2，  3，   "
   ]
  },
  {
   "cell_type": "markdown",
   "metadata": {},
   "source": [
    "#### Starting application with a phone call  电话面试，前期的找工作尽可能的多利用电话来练习，锻炼锻炼"
   ]
  },
  {
   "cell_type": "code",
   "execution_count": 4,
   "metadata": {
    "collapsed": true
   },
   "outputs": [
    {
     "name": "stderr",
     "output_type": "stream",
     "text": [
      "Your code contains a unicode char which cannot be displayed in your\n",
      "current locale and R will silently convert it to an escaped form when the\n",
      "R kernel executes this code. This can lead to subtle errors if you use\n",
      "such chars to do comparisons. For more information, please see\n",
      "https://github.com/IRkernel/repr/wiki/Problems-with-unicode-on-windows"
     ]
    },
    {
     "ename": "ERROR",
     "evalue": "Error in parse(text = x, srcfile = src): <text>:1:1: unexpected '<'\n1: <\n    ^\n",
     "output_type": "error",
     "traceback": [
      "Error in parse(text = x, srcfile = src): <text>:1:1: unexpected '<'\n1: <\n    ^\nTraceback:\n"
     ]
    }
   ],
   "source": [
    "问 介绍一下你自己，以前有什么经历  ->往这个方向套 The main role of a cover letter is to introduce yourself to the employer. It also aims to \n",
    "show them that you are the right person for their business.  求职信的主要作用是向雇主介绍自己。 它还旨在向他们表明您是他们业务的合适人选"
   ]
  },
  {
   "cell_type": "markdown",
   "metadata": {},
   "source": [
    "* Actively express your interest & enthusiasm to impress积极表达您的兴趣和热情来打动您\n",
    "* Talk about yourself and why you are a strong fit*谈论自己以及为什么自己很适合\n",
    "* More effective communication than a silent CV (one of too many they receive)*比无声简历更有效的沟通（他们收到的太多信息之一）\n",
    "* More practice, be confident and well prepared before your call*打电话之前多做点练习，自信并做好充分的准备\n",
    "* It's a good oral communication practice. Leverage it!*这是一种良好的口头交流习惯。 利用它！"
   ]
  },
  {
   "cell_type": "markdown",
   "metadata": {},
   "source": [
    "#### Use of hunting agents 积极使用猎头"
   ]
  },
  {
   "cell_type": "markdown",
   "metadata": {},
   "source": [
    "* They have more job opportunities that you might not be aware of\n",
    "* They can give great advices of what you should do and want to do\n",
    "* They can pass your CV to the hiring managers via they network\n",
    "* Stay in touch with agents. Constantly update with them"
   ]
  },
  {
   "cell_type": "markdown",
   "metadata": {},
   "source": [
    "#### Ask for feedback"
   ]
  },
  {
   "cell_type": "markdown",
   "metadata": {},
   "source": [
    "Doesn't matter how you have submitted an application, alwasy chase up and ask for feedback! "
   ]
  },
  {
   "cell_type": "code",
   "execution_count": null,
   "metadata": {},
   "outputs": [],
   "source": [
    "去询问什么理由，得知道为什么会失败，要反馈"
   ]
  },
  {
   "cell_type": "markdown",
   "metadata": {},
   "source": [
    "* What do they think of you?\n",
    "* Why you are not selected for this role? \n",
    "* How did you compare with the competing candidates? "
   ]
  },
  {
   "cell_type": "markdown",
   "metadata": {},
   "source": [
    "#### Networking"
   ]
  },
  {
   "cell_type": "markdown",
   "metadata": {},
   "source": [
    "Network opens new opportunities for job referals!"
   ]
  },
  {
   "cell_type": "code",
   "execution_count": null,
   "metadata": {},
   "outputs": [],
   "source": [
    "创建 一个 Linkedin page  一定要重视"
   ]
  },
  {
   "cell_type": "code",
   "execution_count": null,
   "metadata": {},
   "outputs": [],
   "source": [
    "积极参加他们公司组织的活动，跟这些专业的人士建立联系"
   ]
  },
  {
   "cell_type": "markdown",
   "metadata": {},
   "source": [
    "* Have a good Linkedin page as a good summary of yourself\n",
    "* Connect with people via all channels, e.g. seminars, courses, the hiring manager/recruters that you worked with, etc. \n",
    "* Actively talk to people and let them know that your are looking for opportunities\n",
    "* Always try to sell yourself; Be humble. "
   ]
  },
  {
   "cell_type": "markdown",
   "metadata": {},
   "source": [
    "#### An efficient job application process"
   ]
  },
  {
   "cell_type": "markdown",
   "metadata": {},
   "source": [
    "1. Get to know the opportunity 了解这个工作，这个工作要解决的核心问题是什么\n",
    "2. Aquire as much details as possible; Understand the key problem they are trying to solve.\n",
    "3. Build your use cases - why you can solve this problem? what experience & skills do you have?  技术面试就是重复你的 cover letter,有准备的讲自己的故事\n",
    "4. Express your interest - better with a brave phone call, or at least a cover letter   coverletter是说明你具体怎么解决这个工作所面临的问题\n",
    "5. Your CV is not the the only thing - it's only a small part of it 简历只是给一些基本的信息\n",
    "6. Follow up for opportunity for face-to-face/phone call conversation  \n",
    "7. It's OK to fail. Always ask for feedback or why so.  寻求反馈，为什么失败，原因\n",
    "8. Prepare better on top of all the failures in the past"
   ]
  },
  {
   "cell_type": "code",
   "execution_count": null,
   "metadata": {},
   "outputs": [],
   "source": [
    "upwork  工作网站\n",
    "visual.cv 一个简历网站，有模板"
   ]
  }
 ],
 "metadata": {
  "kernelspec": {
   "display_name": "R",
   "language": "R",
   "name": "ir"
  },
  "language_info": {
   "codemirror_mode": "r",
   "file_extension": ".r",
   "mimetype": "text/x-r-source",
   "name": "R",
   "pygments_lexer": "r",
   "version": "3.6.1"
  }
 },
 "nbformat": 4,
 "nbformat_minor": 2
}
